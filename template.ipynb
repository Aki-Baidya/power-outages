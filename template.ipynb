{
 "cells": [
  {
   "cell_type": "markdown",
   "metadata": {},
   "source": [
    "# Power Outage Durations\n",
    "\n",
    "**Name(s)**: Aki Baidya and Dhruv Sehgal\n",
    "\n",
    "**Website Link**: https://aki-baidya.github.io/power-outages/"
   ]
  },
  {
   "cell_type": "code",
   "execution_count": 233,
   "metadata": {
    "ExecuteTime": {
     "end_time": "2019-10-31T23:36:28.652554Z",
     "start_time": "2019-10-31T23:36:27.180520Z"
    }
   },
   "outputs": [],
   "source": [
    "import pandas as pd\n",
    "import numpy as np\n",
    "from pathlib import Path\n",
    "from scipy.stats import chi2_contingency\n",
    "\n",
    "import plotly.express as px\n",
    "pd.options.plotting.backend = 'plotly'\n",
    "\n",
    "# from dsc80_utils import * # Feel free to uncomment and use this."
   ]
  },
  {
   "cell_type": "markdown",
   "metadata": {},
   "source": [
    "## Step 1: Introduction"
   ]
  },
  {
   "cell_type": "code",
   "execution_count": 234,
   "metadata": {},
   "outputs": [
    {
     "data": {
      "text/html": [
       "<div>\n",
       "<style scoped>\n",
       "    .dataframe tbody tr th:only-of-type {\n",
       "        vertical-align: middle;\n",
       "    }\n",
       "\n",
       "    .dataframe tbody tr th {\n",
       "        vertical-align: top;\n",
       "    }\n",
       "\n",
       "    .dataframe thead th {\n",
       "        text-align: right;\n",
       "    }\n",
       "</style>\n",
       "<table border=\"1\" class=\"dataframe\">\n",
       "  <thead>\n",
       "    <tr style=\"text-align: right;\">\n",
       "      <th></th>\n",
       "      <th>YEAR</th>\n",
       "      <th>MONTH</th>\n",
       "      <th>U.S._STATE</th>\n",
       "      <th>POSTAL.CODE</th>\n",
       "      <th>NERC.REGION</th>\n",
       "      <th>CLIMATE.REGION</th>\n",
       "      <th>ANOMALY.LEVEL</th>\n",
       "      <th>CLIMATE.CATEGORY</th>\n",
       "      <th>OUTAGE.START.DATE</th>\n",
       "      <th>OUTAGE.START.TIME</th>\n",
       "      <th>OUTAGE.RESTORATION.DATE</th>\n",
       "      <th>OUTAGE.RESTORATION.TIME</th>\n",
       "      <th>CAUSE.CATEGORY</th>\n",
       "      <th>CAUSE.CATEGORY.DETAIL</th>\n",
       "      <th>HURRICANE.NAMES</th>\n",
       "      <th>OUTAGE.DURATION</th>\n",
       "      <th>DEMAND.LOSS.MW</th>\n",
       "      <th>CUSTOMERS.AFFECTED</th>\n",
       "      <th>RES.PRICE</th>\n",
       "      <th>COM.PRICE</th>\n",
       "      <th>IND.PRICE</th>\n",
       "      <th>TOTAL.PRICE</th>\n",
       "      <th>RES.SALES</th>\n",
       "      <th>COM.SALES</th>\n",
       "      <th>IND.SALES</th>\n",
       "      <th>TOTAL.SALES</th>\n",
       "      <th>RES.PERCEN</th>\n",
       "      <th>COM.PERCEN</th>\n",
       "      <th>IND.PERCEN</th>\n",
       "      <th>RES.CUSTOMERS</th>\n",
       "      <th>COM.CUSTOMERS</th>\n",
       "      <th>IND.CUSTOMERS</th>\n",
       "      <th>TOTAL.CUSTOMERS</th>\n",
       "      <th>RES.CUST.PCT</th>\n",
       "      <th>COM.CUST.PCT</th>\n",
       "      <th>IND.CUST.PCT</th>\n",
       "      <th>PC.REALGSP.STATE</th>\n",
       "      <th>PC.REALGSP.USA</th>\n",
       "      <th>PC.REALGSP.REL</th>\n",
       "      <th>PC.REALGSP.CHANGE</th>\n",
       "      <th>UTIL.REALGSP</th>\n",
       "      <th>TOTAL.REALGSP</th>\n",
       "      <th>UTIL.CONTRI</th>\n",
       "      <th>PI.UTIL.OFUSA</th>\n",
       "      <th>POPULATION</th>\n",
       "      <th>POPPCT_URBAN</th>\n",
       "      <th>POPPCT_UC</th>\n",
       "      <th>POPDEN_URBAN</th>\n",
       "      <th>POPDEN_UC</th>\n",
       "      <th>POPDEN_RURAL</th>\n",
       "      <th>AREAPCT_URBAN</th>\n",
       "      <th>AREAPCT_UC</th>\n",
       "      <th>PCT_LAND</th>\n",
       "      <th>PCT_WATER_TOT</th>\n",
       "      <th>PCT_WATER_INLAND</th>\n",
       "    </tr>\n",
       "  </thead>\n",
       "  <tbody>\n",
       "    <tr>\n",
       "      <th>1</th>\n",
       "      <td>2011.0</td>\n",
       "      <td>7.0</td>\n",
       "      <td>Minnesota</td>\n",
       "      <td>MN</td>\n",
       "      <td>MRO</td>\n",
       "      <td>East North Central</td>\n",
       "      <td>-0.3</td>\n",
       "      <td>normal</td>\n",
       "      <td>2011-07-01 00:00:00</td>\n",
       "      <td>17:00:00</td>\n",
       "      <td>2011-07-03 00:00:00</td>\n",
       "      <td>20:00:00</td>\n",
       "      <td>severe weather</td>\n",
       "      <td>NaN</td>\n",
       "      <td>NaN</td>\n",
       "      <td>3060</td>\n",
       "      <td>NaN</td>\n",
       "      <td>70000.0</td>\n",
       "      <td>11.6</td>\n",
       "      <td>9.18</td>\n",
       "      <td>6.81</td>\n",
       "      <td>9.28</td>\n",
       "      <td>2332915</td>\n",
       "      <td>2114774</td>\n",
       "      <td>2113291</td>\n",
       "      <td>6562520</td>\n",
       "      <td>35.549073</td>\n",
       "      <td>32.225029</td>\n",
       "      <td>32.202431</td>\n",
       "      <td>2308736.0</td>\n",
       "      <td>276286.0</td>\n",
       "      <td>10673.0</td>\n",
       "      <td>2595696.0</td>\n",
       "      <td>88.944776</td>\n",
       "      <td>10.644005</td>\n",
       "      <td>0.411181</td>\n",
       "      <td>51268</td>\n",
       "      <td>47586</td>\n",
       "      <td>1.077376</td>\n",
       "      <td>1.6</td>\n",
       "      <td>4802</td>\n",
       "      <td>274182</td>\n",
       "      <td>1.751391</td>\n",
       "      <td>2.2</td>\n",
       "      <td>5348119.0</td>\n",
       "      <td>73.27</td>\n",
       "      <td>15.28</td>\n",
       "      <td>2279</td>\n",
       "      <td>1700.5</td>\n",
       "      <td>18.2</td>\n",
       "      <td>2.14</td>\n",
       "      <td>0.6</td>\n",
       "      <td>91.592666</td>\n",
       "      <td>8.407334</td>\n",
       "      <td>5.478743</td>\n",
       "    </tr>\n",
       "    <tr>\n",
       "      <th>2</th>\n",
       "      <td>2014.0</td>\n",
       "      <td>5.0</td>\n",
       "      <td>Minnesota</td>\n",
       "      <td>MN</td>\n",
       "      <td>MRO</td>\n",
       "      <td>East North Central</td>\n",
       "      <td>-0.1</td>\n",
       "      <td>normal</td>\n",
       "      <td>2014-05-11 00:00:00</td>\n",
       "      <td>18:38:00</td>\n",
       "      <td>2014-05-11 00:00:00</td>\n",
       "      <td>18:39:00</td>\n",
       "      <td>intentional attack</td>\n",
       "      <td>vandalism</td>\n",
       "      <td>NaN</td>\n",
       "      <td>1</td>\n",
       "      <td>NaN</td>\n",
       "      <td>NaN</td>\n",
       "      <td>12.12</td>\n",
       "      <td>9.71</td>\n",
       "      <td>6.49</td>\n",
       "      <td>9.28</td>\n",
       "      <td>1586986</td>\n",
       "      <td>1807756</td>\n",
       "      <td>1887927</td>\n",
       "      <td>5284231</td>\n",
       "      <td>30.032487</td>\n",
       "      <td>34.210389</td>\n",
       "      <td>35.727564</td>\n",
       "      <td>2345860.0</td>\n",
       "      <td>284978.0</td>\n",
       "      <td>9898.0</td>\n",
       "      <td>2640737.0</td>\n",
       "      <td>88.833534</td>\n",
       "      <td>10.791609</td>\n",
       "      <td>0.37482</td>\n",
       "      <td>53499</td>\n",
       "      <td>49091</td>\n",
       "      <td>1.089792</td>\n",
       "      <td>1.9</td>\n",
       "      <td>5226</td>\n",
       "      <td>291955</td>\n",
       "      <td>1.790002</td>\n",
       "      <td>2.2</td>\n",
       "      <td>5457125.0</td>\n",
       "      <td>73.27</td>\n",
       "      <td>15.28</td>\n",
       "      <td>2279</td>\n",
       "      <td>1700.5</td>\n",
       "      <td>18.2</td>\n",
       "      <td>2.14</td>\n",
       "      <td>0.6</td>\n",
       "      <td>91.592666</td>\n",
       "      <td>8.407334</td>\n",
       "      <td>5.478743</td>\n",
       "    </tr>\n",
       "    <tr>\n",
       "      <th>3</th>\n",
       "      <td>2010.0</td>\n",
       "      <td>10.0</td>\n",
       "      <td>Minnesota</td>\n",
       "      <td>MN</td>\n",
       "      <td>MRO</td>\n",
       "      <td>East North Central</td>\n",
       "      <td>-1.5</td>\n",
       "      <td>cold</td>\n",
       "      <td>2010-10-26 00:00:00</td>\n",
       "      <td>20:00:00</td>\n",
       "      <td>2010-10-28 00:00:00</td>\n",
       "      <td>22:00:00</td>\n",
       "      <td>severe weather</td>\n",
       "      <td>heavy wind</td>\n",
       "      <td>NaN</td>\n",
       "      <td>3000</td>\n",
       "      <td>NaN</td>\n",
       "      <td>70000.0</td>\n",
       "      <td>10.87</td>\n",
       "      <td>8.19</td>\n",
       "      <td>6.07</td>\n",
       "      <td>8.15</td>\n",
       "      <td>1467293</td>\n",
       "      <td>1801683</td>\n",
       "      <td>1951295</td>\n",
       "      <td>5222116</td>\n",
       "      <td>28.097672</td>\n",
       "      <td>34.501015</td>\n",
       "      <td>37.365983</td>\n",
       "      <td>2300291.0</td>\n",
       "      <td>276463.0</td>\n",
       "      <td>10150.0</td>\n",
       "      <td>2586905.0</td>\n",
       "      <td>88.920583</td>\n",
       "      <td>10.687018</td>\n",
       "      <td>0.392361</td>\n",
       "      <td>50447</td>\n",
       "      <td>47287</td>\n",
       "      <td>1.066826</td>\n",
       "      <td>2.7</td>\n",
       "      <td>4571</td>\n",
       "      <td>267895</td>\n",
       "      <td>1.706266</td>\n",
       "      <td>2.1</td>\n",
       "      <td>5310903.0</td>\n",
       "      <td>73.27</td>\n",
       "      <td>15.28</td>\n",
       "      <td>2279</td>\n",
       "      <td>1700.5</td>\n",
       "      <td>18.2</td>\n",
       "      <td>2.14</td>\n",
       "      <td>0.6</td>\n",
       "      <td>91.592666</td>\n",
       "      <td>8.407334</td>\n",
       "      <td>5.478743</td>\n",
       "    </tr>\n",
       "    <tr>\n",
       "      <th>4</th>\n",
       "      <td>2012.0</td>\n",
       "      <td>6.0</td>\n",
       "      <td>Minnesota</td>\n",
       "      <td>MN</td>\n",
       "      <td>MRO</td>\n",
       "      <td>East North Central</td>\n",
       "      <td>-0.1</td>\n",
       "      <td>normal</td>\n",
       "      <td>2012-06-19 00:00:00</td>\n",
       "      <td>04:30:00</td>\n",
       "      <td>2012-06-20 00:00:00</td>\n",
       "      <td>23:00:00</td>\n",
       "      <td>severe weather</td>\n",
       "      <td>thunderstorm</td>\n",
       "      <td>NaN</td>\n",
       "      <td>2550</td>\n",
       "      <td>NaN</td>\n",
       "      <td>68200.0</td>\n",
       "      <td>11.79</td>\n",
       "      <td>9.25</td>\n",
       "      <td>6.71</td>\n",
       "      <td>9.19</td>\n",
       "      <td>1851519</td>\n",
       "      <td>1941174</td>\n",
       "      <td>1993026</td>\n",
       "      <td>5787064</td>\n",
       "      <td>31.994099</td>\n",
       "      <td>33.54333</td>\n",
       "      <td>34.439329</td>\n",
       "      <td>2317336.0</td>\n",
       "      <td>278466.0</td>\n",
       "      <td>11010.0</td>\n",
       "      <td>2606813.0</td>\n",
       "      <td>88.895368</td>\n",
       "      <td>10.682239</td>\n",
       "      <td>0.422355</td>\n",
       "      <td>51598</td>\n",
       "      <td>48156</td>\n",
       "      <td>1.071476</td>\n",
       "      <td>0.6</td>\n",
       "      <td>5364</td>\n",
       "      <td>277627</td>\n",
       "      <td>1.932089</td>\n",
       "      <td>2.2</td>\n",
       "      <td>5380443.0</td>\n",
       "      <td>73.27</td>\n",
       "      <td>15.28</td>\n",
       "      <td>2279</td>\n",
       "      <td>1700.5</td>\n",
       "      <td>18.2</td>\n",
       "      <td>2.14</td>\n",
       "      <td>0.6</td>\n",
       "      <td>91.592666</td>\n",
       "      <td>8.407334</td>\n",
       "      <td>5.478743</td>\n",
       "    </tr>\n",
       "    <tr>\n",
       "      <th>5</th>\n",
       "      <td>2015.0</td>\n",
       "      <td>7.0</td>\n",
       "      <td>Minnesota</td>\n",
       "      <td>MN</td>\n",
       "      <td>MRO</td>\n",
       "      <td>East North Central</td>\n",
       "      <td>1.2</td>\n",
       "      <td>warm</td>\n",
       "      <td>2015-07-18 00:00:00</td>\n",
       "      <td>02:00:00</td>\n",
       "      <td>2015-07-19 00:00:00</td>\n",
       "      <td>07:00:00</td>\n",
       "      <td>severe weather</td>\n",
       "      <td>NaN</td>\n",
       "      <td>NaN</td>\n",
       "      <td>1740</td>\n",
       "      <td>250</td>\n",
       "      <td>250000.0</td>\n",
       "      <td>13.07</td>\n",
       "      <td>10.16</td>\n",
       "      <td>7.74</td>\n",
       "      <td>10.43</td>\n",
       "      <td>2028875</td>\n",
       "      <td>2161612</td>\n",
       "      <td>1777937</td>\n",
       "      <td>5970339</td>\n",
       "      <td>33.982576</td>\n",
       "      <td>36.20585</td>\n",
       "      <td>29.779498</td>\n",
       "      <td>2374674.0</td>\n",
       "      <td>289044.0</td>\n",
       "      <td>9812.0</td>\n",
       "      <td>2673531.0</td>\n",
       "      <td>88.821637</td>\n",
       "      <td>10.81132</td>\n",
       "      <td>0.367005</td>\n",
       "      <td>54431</td>\n",
       "      <td>49844</td>\n",
       "      <td>1.092027</td>\n",
       "      <td>1.7</td>\n",
       "      <td>4873</td>\n",
       "      <td>292023</td>\n",
       "      <td>1.668704</td>\n",
       "      <td>2.2</td>\n",
       "      <td>5489594.0</td>\n",
       "      <td>73.27</td>\n",
       "      <td>15.28</td>\n",
       "      <td>2279</td>\n",
       "      <td>1700.5</td>\n",
       "      <td>18.2</td>\n",
       "      <td>2.14</td>\n",
       "      <td>0.6</td>\n",
       "      <td>91.592666</td>\n",
       "      <td>8.407334</td>\n",
       "      <td>5.478743</td>\n",
       "    </tr>\n",
       "  </tbody>\n",
       "</table>\n",
       "</div>"
      ],
      "text/plain": [
       "     YEAR  MONTH U.S._STATE POSTAL.CODE NERC.REGION      CLIMATE.REGION  \\\n",
       "1  2011.0    7.0  Minnesota          MN         MRO  East North Central   \n",
       "2  2014.0    5.0  Minnesota          MN         MRO  East North Central   \n",
       "3  2010.0   10.0  Minnesota          MN         MRO  East North Central   \n",
       "4  2012.0    6.0  Minnesota          MN         MRO  East North Central   \n",
       "5  2015.0    7.0  Minnesota          MN         MRO  East North Central   \n",
       "\n",
       "  ANOMALY.LEVEL CLIMATE.CATEGORY    OUTAGE.START.DATE OUTAGE.START.TIME  \\\n",
       "1          -0.3           normal  2011-07-01 00:00:00          17:00:00   \n",
       "2          -0.1           normal  2014-05-11 00:00:00          18:38:00   \n",
       "3          -1.5             cold  2010-10-26 00:00:00          20:00:00   \n",
       "4          -0.1           normal  2012-06-19 00:00:00          04:30:00   \n",
       "5           1.2             warm  2015-07-18 00:00:00          02:00:00   \n",
       "\n",
       "  OUTAGE.RESTORATION.DATE OUTAGE.RESTORATION.TIME      CAUSE.CATEGORY  \\\n",
       "1     2011-07-03 00:00:00                20:00:00      severe weather   \n",
       "2     2014-05-11 00:00:00                18:39:00  intentional attack   \n",
       "3     2010-10-28 00:00:00                22:00:00      severe weather   \n",
       "4     2012-06-20 00:00:00                23:00:00      severe weather   \n",
       "5     2015-07-19 00:00:00                07:00:00      severe weather   \n",
       "\n",
       "  CAUSE.CATEGORY.DETAIL HURRICANE.NAMES OUTAGE.DURATION DEMAND.LOSS.MW  \\\n",
       "1                   NaN             NaN            3060            NaN   \n",
       "2             vandalism             NaN               1            NaN   \n",
       "3            heavy wind             NaN            3000            NaN   \n",
       "4          thunderstorm             NaN            2550            NaN   \n",
       "5                   NaN             NaN            1740            250   \n",
       "\n",
       "   CUSTOMERS.AFFECTED RES.PRICE COM.PRICE IND.PRICE TOTAL.PRICE RES.SALES  \\\n",
       "1             70000.0      11.6      9.18      6.81        9.28   2332915   \n",
       "2                 NaN     12.12      9.71      6.49        9.28   1586986   \n",
       "3             70000.0     10.87      8.19      6.07        8.15   1467293   \n",
       "4             68200.0     11.79      9.25      6.71        9.19   1851519   \n",
       "5            250000.0     13.07     10.16      7.74       10.43   2028875   \n",
       "\n",
       "  COM.SALES IND.SALES TOTAL.SALES RES.PERCEN COM.PERCEN IND.PERCEN  \\\n",
       "1   2114774   2113291     6562520  35.549073  32.225029  32.202431   \n",
       "2   1807756   1887927     5284231  30.032487  34.210389  35.727564   \n",
       "3   1801683   1951295     5222116  28.097672  34.501015  37.365983   \n",
       "4   1941174   1993026     5787064  31.994099   33.54333  34.439329   \n",
       "5   2161612   1777937     5970339  33.982576   36.20585  29.779498   \n",
       "\n",
       "   RES.CUSTOMERS  COM.CUSTOMERS  IND.CUSTOMERS  TOTAL.CUSTOMERS RES.CUST.PCT  \\\n",
       "1      2308736.0       276286.0        10673.0        2595696.0    88.944776   \n",
       "2      2345860.0       284978.0         9898.0        2640737.0    88.833534   \n",
       "3      2300291.0       276463.0        10150.0        2586905.0    88.920583   \n",
       "4      2317336.0       278466.0        11010.0        2606813.0    88.895368   \n",
       "5      2374674.0       289044.0         9812.0        2673531.0    88.821637   \n",
       "\n",
       "  COM.CUST.PCT IND.CUST.PCT PC.REALGSP.STATE PC.REALGSP.USA PC.REALGSP.REL  \\\n",
       "1    10.644005     0.411181            51268          47586       1.077376   \n",
       "2    10.791609      0.37482            53499          49091       1.089792   \n",
       "3    10.687018     0.392361            50447          47287       1.066826   \n",
       "4    10.682239     0.422355            51598          48156       1.071476   \n",
       "5     10.81132     0.367005            54431          49844       1.092027   \n",
       "\n",
       "  PC.REALGSP.CHANGE UTIL.REALGSP TOTAL.REALGSP UTIL.CONTRI PI.UTIL.OFUSA  \\\n",
       "1               1.6         4802        274182    1.751391           2.2   \n",
       "2               1.9         5226        291955    1.790002           2.2   \n",
       "3               2.7         4571        267895    1.706266           2.1   \n",
       "4               0.6         5364        277627    1.932089           2.2   \n",
       "5               1.7         4873        292023    1.668704           2.2   \n",
       "\n",
       "   POPULATION POPPCT_URBAN POPPCT_UC POPDEN_URBAN POPDEN_UC POPDEN_RURAL  \\\n",
       "1   5348119.0        73.27     15.28         2279    1700.5         18.2   \n",
       "2   5457125.0        73.27     15.28         2279    1700.5         18.2   \n",
       "3   5310903.0        73.27     15.28         2279    1700.5         18.2   \n",
       "4   5380443.0        73.27     15.28         2279    1700.5         18.2   \n",
       "5   5489594.0        73.27     15.28         2279    1700.5         18.2   \n",
       "\n",
       "  AREAPCT_URBAN AREAPCT_UC   PCT_LAND PCT_WATER_TOT PCT_WATER_INLAND  \n",
       "1          2.14        0.6  91.592666      8.407334         5.478743  \n",
       "2          2.14        0.6  91.592666      8.407334         5.478743  \n",
       "3          2.14        0.6  91.592666      8.407334         5.478743  \n",
       "4          2.14        0.6  91.592666      8.407334         5.478743  \n",
       "5          2.14        0.6  91.592666      8.407334         5.478743  "
      ]
     },
     "metadata": {},
     "output_type": "display_data"
    }
   ],
   "source": [
    "pd.set_option('display.max_columns', None) # to see all columns\n",
    "\n",
    "# loading in the dataset\n",
    "# we first changed the extension from .xlsx.xls to .xlsx\n",
    "try:\n",
    "    unclean_df = pd.read_excel('outage.xlsx', header=5) # omitting the rows above since they are not part of the data\n",
    "    unclean_df = unclean_df.drop(0) # to remove the row that talks about the format of some data columns\n",
    "    unclean_df = unclean_df.drop(columns=unclean_df.columns[:2]) # removing the 'variables' and 'OBS' columns\n",
    "\n",
    "except FileNotFoundError:\n",
    "    print('Error: \\'outage.xlsx\\' not found.')\n",
    "display(unclean_df.head())"
   ]
  },
  {
   "cell_type": "markdown",
   "metadata": {},
   "source": [
    "## Step 2: Data Cleaning and Exploratory Data Analysis"
   ]
  },
  {
   "cell_type": "code",
   "execution_count": 235,
   "metadata": {},
   "outputs": [
    {
     "data": {
      "text/html": [
       "<div>\n",
       "<style scoped>\n",
       "    .dataframe tbody tr th:only-of-type {\n",
       "        vertical-align: middle;\n",
       "    }\n",
       "\n",
       "    .dataframe tbody tr th {\n",
       "        vertical-align: top;\n",
       "    }\n",
       "\n",
       "    .dataframe thead th {\n",
       "        text-align: right;\n",
       "    }\n",
       "</style>\n",
       "<table border=\"1\" class=\"dataframe\">\n",
       "  <thead>\n",
       "    <tr style=\"text-align: right;\">\n",
       "      <th></th>\n",
       "      <th>U.S._STATE</th>\n",
       "      <th>NERC.REGION</th>\n",
       "      <th>CLIMATE.REGION</th>\n",
       "      <th>OUTAGE.START.DATE</th>\n",
       "      <th>OUTAGE.START.TIME</th>\n",
       "      <th>OUTAGE.RESTORATION.DATE</th>\n",
       "      <th>OUTAGE.RESTORATION.TIME</th>\n",
       "      <th>CAUSE.CATEGORY</th>\n",
       "      <th>OUTAGE.DURATION</th>\n",
       "      <th>RES.PERCEN</th>\n",
       "      <th>COM.PERCEN</th>\n",
       "      <th>IND.PERCEN</th>\n",
       "      <th>PC.REALGSP.REL</th>\n",
       "      <th>POPPCT_URBAN</th>\n",
       "    </tr>\n",
       "  </thead>\n",
       "  <tbody>\n",
       "    <tr>\n",
       "      <th>1</th>\n",
       "      <td>Minnesota</td>\n",
       "      <td>MRO</td>\n",
       "      <td>East North Central</td>\n",
       "      <td>2011-07-01 00:00:00</td>\n",
       "      <td>17:00:00</td>\n",
       "      <td>2011-07-03 00:00:00</td>\n",
       "      <td>20:00:00</td>\n",
       "      <td>severe weather</td>\n",
       "      <td>3060</td>\n",
       "      <td>35.549073</td>\n",
       "      <td>32.225029</td>\n",
       "      <td>32.202431</td>\n",
       "      <td>1.077376</td>\n",
       "      <td>73.27</td>\n",
       "    </tr>\n",
       "    <tr>\n",
       "      <th>2</th>\n",
       "      <td>Minnesota</td>\n",
       "      <td>MRO</td>\n",
       "      <td>East North Central</td>\n",
       "      <td>2014-05-11 00:00:00</td>\n",
       "      <td>18:38:00</td>\n",
       "      <td>2014-05-11 00:00:00</td>\n",
       "      <td>18:39:00</td>\n",
       "      <td>intentional attack</td>\n",
       "      <td>1</td>\n",
       "      <td>30.032487</td>\n",
       "      <td>34.210389</td>\n",
       "      <td>35.727564</td>\n",
       "      <td>1.089792</td>\n",
       "      <td>73.27</td>\n",
       "    </tr>\n",
       "    <tr>\n",
       "      <th>3</th>\n",
       "      <td>Minnesota</td>\n",
       "      <td>MRO</td>\n",
       "      <td>East North Central</td>\n",
       "      <td>2010-10-26 00:00:00</td>\n",
       "      <td>20:00:00</td>\n",
       "      <td>2010-10-28 00:00:00</td>\n",
       "      <td>22:00:00</td>\n",
       "      <td>severe weather</td>\n",
       "      <td>3000</td>\n",
       "      <td>28.097672</td>\n",
       "      <td>34.501015</td>\n",
       "      <td>37.365983</td>\n",
       "      <td>1.066826</td>\n",
       "      <td>73.27</td>\n",
       "    </tr>\n",
       "    <tr>\n",
       "      <th>4</th>\n",
       "      <td>Minnesota</td>\n",
       "      <td>MRO</td>\n",
       "      <td>East North Central</td>\n",
       "      <td>2012-06-19 00:00:00</td>\n",
       "      <td>04:30:00</td>\n",
       "      <td>2012-06-20 00:00:00</td>\n",
       "      <td>23:00:00</td>\n",
       "      <td>severe weather</td>\n",
       "      <td>2550</td>\n",
       "      <td>31.994099</td>\n",
       "      <td>33.54333</td>\n",
       "      <td>34.439329</td>\n",
       "      <td>1.071476</td>\n",
       "      <td>73.27</td>\n",
       "    </tr>\n",
       "    <tr>\n",
       "      <th>5</th>\n",
       "      <td>Minnesota</td>\n",
       "      <td>MRO</td>\n",
       "      <td>East North Central</td>\n",
       "      <td>2015-07-18 00:00:00</td>\n",
       "      <td>02:00:00</td>\n",
       "      <td>2015-07-19 00:00:00</td>\n",
       "      <td>07:00:00</td>\n",
       "      <td>severe weather</td>\n",
       "      <td>1740</td>\n",
       "      <td>33.982576</td>\n",
       "      <td>36.20585</td>\n",
       "      <td>29.779498</td>\n",
       "      <td>1.092027</td>\n",
       "      <td>73.27</td>\n",
       "    </tr>\n",
       "  </tbody>\n",
       "</table>\n",
       "</div>"
      ],
      "text/plain": [
       "  U.S._STATE NERC.REGION      CLIMATE.REGION    OUTAGE.START.DATE  \\\n",
       "1  Minnesota         MRO  East North Central  2011-07-01 00:00:00   \n",
       "2  Minnesota         MRO  East North Central  2014-05-11 00:00:00   \n",
       "3  Minnesota         MRO  East North Central  2010-10-26 00:00:00   \n",
       "4  Minnesota         MRO  East North Central  2012-06-19 00:00:00   \n",
       "5  Minnesota         MRO  East North Central  2015-07-18 00:00:00   \n",
       "\n",
       "  OUTAGE.START.TIME OUTAGE.RESTORATION.DATE OUTAGE.RESTORATION.TIME  \\\n",
       "1          17:00:00     2011-07-03 00:00:00                20:00:00   \n",
       "2          18:38:00     2014-05-11 00:00:00                18:39:00   \n",
       "3          20:00:00     2010-10-28 00:00:00                22:00:00   \n",
       "4          04:30:00     2012-06-20 00:00:00                23:00:00   \n",
       "5          02:00:00     2015-07-19 00:00:00                07:00:00   \n",
       "\n",
       "       CAUSE.CATEGORY OUTAGE.DURATION RES.PERCEN COM.PERCEN IND.PERCEN  \\\n",
       "1      severe weather            3060  35.549073  32.225029  32.202431   \n",
       "2  intentional attack               1  30.032487  34.210389  35.727564   \n",
       "3      severe weather            3000  28.097672  34.501015  37.365983   \n",
       "4      severe weather            2550  31.994099   33.54333  34.439329   \n",
       "5      severe weather            1740  33.982576   36.20585  29.779498   \n",
       "\n",
       "  PC.REALGSP.REL POPPCT_URBAN  \n",
       "1       1.077376        73.27  \n",
       "2       1.089792        73.27  \n",
       "3       1.066826        73.27  \n",
       "4       1.071476        73.27  \n",
       "5       1.092027        73.27  "
      ]
     },
     "metadata": {},
     "output_type": "display_data"
    }
   ],
   "source": [
    "df = unclean_df[['U.S._STATE', 'NERC.REGION', 'CLIMATE.REGION', 'OUTAGE.START.DATE', 'OUTAGE.START.TIME', 'OUTAGE.RESTORATION.DATE', 'OUTAGE.RESTORATION.TIME', 'CAUSE.CATEGORY', 'OUTAGE.DURATION', 'RES.PERCEN', 'COM.PERCEN', 'IND.PERCEN', 'PC.REALGSP.REL', 'POPPCT_URBAN']]\n",
    "display(df.head())"
   ]
  },
  {
   "cell_type": "code",
   "execution_count": 236,
   "metadata": {},
   "outputs": [
    {
     "name": "stderr",
     "output_type": "stream",
     "text": [
      "/var/folders/jk/ll2fwx_55klc6t5gz7x_24440000gn/T/ipykernel_63617/1239864593.py:1: SettingWithCopyWarning:\n",
      "\n",
      "\n",
      "A value is trying to be set on a copy of a slice from a DataFrame.\n",
      "Try using .loc[row_indexer,col_indexer] = value instead\n",
      "\n",
      "See the caveats in the documentation: https://pandas.pydata.org/pandas-docs/stable/user_guide/indexing.html#returning-a-view-versus-a-copy\n",
      "\n"
     ]
    }
   ],
   "source": [
    "df['OUTAGE.DURATION'] = df['OUTAGE.DURATION'].apply(lambda x: np.nan if x == 0 else x)\n",
    "df = df[df['OUTAGE.DURATION'].notna()]"
   ]
  },
  {
   "cell_type": "code",
   "execution_count": 237,
   "metadata": {},
   "outputs": [
    {
     "data": {
      "text/html": [
       "<div>\n",
       "<style scoped>\n",
       "    .dataframe tbody tr th:only-of-type {\n",
       "        vertical-align: middle;\n",
       "    }\n",
       "\n",
       "    .dataframe tbody tr th {\n",
       "        vertical-align: top;\n",
       "    }\n",
       "\n",
       "    .dataframe thead th {\n",
       "        text-align: right;\n",
       "    }\n",
       "</style>\n",
       "<table border=\"1\" class=\"dataframe\">\n",
       "  <thead>\n",
       "    <tr style=\"text-align: right;\">\n",
       "      <th></th>\n",
       "      <th>YEAR</th>\n",
       "      <th>MONTH</th>\n",
       "      <th>U.S._STATE</th>\n",
       "      <th>POSTAL.CODE</th>\n",
       "      <th>NERC.REGION</th>\n",
       "      <th>CLIMATE.REGION</th>\n",
       "      <th>ANOMALY.LEVEL</th>\n",
       "      <th>CLIMATE.CATEGORY</th>\n",
       "      <th>OUTAGE.START.DATE</th>\n",
       "      <th>OUTAGE.START.TIME</th>\n",
       "      <th>OUTAGE.RESTORATION.DATE</th>\n",
       "      <th>OUTAGE.RESTORATION.TIME</th>\n",
       "      <th>CAUSE.CATEGORY</th>\n",
       "      <th>CAUSE.CATEGORY.DETAIL</th>\n",
       "      <th>HURRICANE.NAMES</th>\n",
       "      <th>OUTAGE.DURATION</th>\n",
       "      <th>DEMAND.LOSS.MW</th>\n",
       "      <th>CUSTOMERS.AFFECTED</th>\n",
       "      <th>RES.PRICE</th>\n",
       "      <th>COM.PRICE</th>\n",
       "      <th>IND.PRICE</th>\n",
       "      <th>TOTAL.PRICE</th>\n",
       "      <th>RES.SALES</th>\n",
       "      <th>COM.SALES</th>\n",
       "      <th>IND.SALES</th>\n",
       "      <th>TOTAL.SALES</th>\n",
       "      <th>RES.PERCEN</th>\n",
       "      <th>COM.PERCEN</th>\n",
       "      <th>IND.PERCEN</th>\n",
       "      <th>RES.CUSTOMERS</th>\n",
       "      <th>COM.CUSTOMERS</th>\n",
       "      <th>IND.CUSTOMERS</th>\n",
       "      <th>TOTAL.CUSTOMERS</th>\n",
       "      <th>RES.CUST.PCT</th>\n",
       "      <th>COM.CUST.PCT</th>\n",
       "      <th>IND.CUST.PCT</th>\n",
       "      <th>PC.REALGSP.STATE</th>\n",
       "      <th>PC.REALGSP.USA</th>\n",
       "      <th>PC.REALGSP.REL</th>\n",
       "      <th>PC.REALGSP.CHANGE</th>\n",
       "      <th>UTIL.REALGSP</th>\n",
       "      <th>TOTAL.REALGSP</th>\n",
       "      <th>UTIL.CONTRI</th>\n",
       "      <th>PI.UTIL.OFUSA</th>\n",
       "      <th>POPULATION</th>\n",
       "      <th>POPPCT_URBAN</th>\n",
       "      <th>POPPCT_UC</th>\n",
       "      <th>POPDEN_URBAN</th>\n",
       "      <th>POPDEN_UC</th>\n",
       "      <th>POPDEN_RURAL</th>\n",
       "      <th>AREAPCT_URBAN</th>\n",
       "      <th>AREAPCT_UC</th>\n",
       "      <th>PCT_LAND</th>\n",
       "      <th>PCT_WATER_TOT</th>\n",
       "      <th>PCT_WATER_INLAND</th>\n",
       "    </tr>\n",
       "  </thead>\n",
       "  <tbody>\n",
       "    <tr>\n",
       "      <th>23</th>\n",
       "      <td>2015.0</td>\n",
       "      <td>7.0</td>\n",
       "      <td>Tennessee</td>\n",
       "      <td>TN</td>\n",
       "      <td>SERC</td>\n",
       "      <td>Central</td>\n",
       "      <td>1.2</td>\n",
       "      <td>warm</td>\n",
       "      <td>2015-07-30 00:00:00</td>\n",
       "      <td>13:00:00</td>\n",
       "      <td>NaN</td>\n",
       "      <td>NaN</td>\n",
       "      <td>intentional attack</td>\n",
       "      <td>vandalism</td>\n",
       "      <td>NaN</td>\n",
       "      <td>NaN</td>\n",
       "      <td>0</td>\n",
       "      <td>0.0</td>\n",
       "      <td>10.31</td>\n",
       "      <td>10.27</td>\n",
       "      <td>7.31</td>\n",
       "      <td>9.7</td>\n",
       "      <td>4285049</td>\n",
       "      <td>3322562</td>\n",
       "      <td>1891937</td>\n",
       "      <td>9499547</td>\n",
       "      <td>45.10793</td>\n",
       "      <td>34.976005</td>\n",
       "      <td>19.916076</td>\n",
       "      <td>2783058.0</td>\n",
       "      <td>476405.0</td>\n",
       "      <td>1245.0</td>\n",
       "      <td>3260708.0</td>\n",
       "      <td>85.351341</td>\n",
       "      <td>14.610477</td>\n",
       "      <td>0.038182</td>\n",
       "      <td>42457</td>\n",
       "      <td>49844</td>\n",
       "      <td>0.851798</td>\n",
       "      <td>1.2</td>\n",
       "      <td>1692</td>\n",
       "      <td>282752</td>\n",
       "      <td>0.598404</td>\n",
       "      <td>0.4</td>\n",
       "      <td>6600299.0</td>\n",
       "      <td>66.39</td>\n",
       "      <td>12.02</td>\n",
       "      <td>1450.3</td>\n",
       "      <td>1076.2</td>\n",
       "      <td>55.6</td>\n",
       "      <td>7.05</td>\n",
       "      <td>1.72</td>\n",
       "      <td>97.843109</td>\n",
       "      <td>2.156891</td>\n",
       "      <td>2.156891</td>\n",
       "    </tr>\n",
       "    <tr>\n",
       "      <th>37</th>\n",
       "      <td>2016.0</td>\n",
       "      <td>7.0</td>\n",
       "      <td>Tennessee</td>\n",
       "      <td>TN</td>\n",
       "      <td>SERC</td>\n",
       "      <td>Central</td>\n",
       "      <td>-0.3</td>\n",
       "      <td>normal</td>\n",
       "      <td>2016-07-13 00:00:00</td>\n",
       "      <td>15:00:00</td>\n",
       "      <td>NaN</td>\n",
       "      <td>NaN</td>\n",
       "      <td>system operability disruption</td>\n",
       "      <td>public appeal</td>\n",
       "      <td>NaN</td>\n",
       "      <td>NaN</td>\n",
       "      <td>NaN</td>\n",
       "      <td>NaN</td>\n",
       "      <td>NaN</td>\n",
       "      <td>NaN</td>\n",
       "      <td>NaN</td>\n",
       "      <td>NaN</td>\n",
       "      <td>NaN</td>\n",
       "      <td>NaN</td>\n",
       "      <td>NaN</td>\n",
       "      <td>NaN</td>\n",
       "      <td>NaN</td>\n",
       "      <td>NaN</td>\n",
       "      <td>NaN</td>\n",
       "      <td>2812287.0</td>\n",
       "      <td>480032.0</td>\n",
       "      <td>1193.0</td>\n",
       "      <td>3293512.0</td>\n",
       "      <td>85.388698</td>\n",
       "      <td>14.57508</td>\n",
       "      <td>0.036223</td>\n",
       "      <td>43720</td>\n",
       "      <td>50660</td>\n",
       "      <td>0.863008</td>\n",
       "      <td>3</td>\n",
       "      <td>1813</td>\n",
       "      <td>290712</td>\n",
       "      <td>0.623641</td>\n",
       "      <td>0.5</td>\n",
       "      <td>6649404.0</td>\n",
       "      <td>66.39</td>\n",
       "      <td>12.02</td>\n",
       "      <td>1450.3</td>\n",
       "      <td>1076.2</td>\n",
       "      <td>55.6</td>\n",
       "      <td>7.05</td>\n",
       "      <td>1.72</td>\n",
       "      <td>97.843109</td>\n",
       "      <td>2.156891</td>\n",
       "      <td>2.156891</td>\n",
       "    </tr>\n",
       "    <tr>\n",
       "      <th>48</th>\n",
       "      <td>2016.0</td>\n",
       "      <td>4.0</td>\n",
       "      <td>Tennessee</td>\n",
       "      <td>TN</td>\n",
       "      <td>SERC</td>\n",
       "      <td>Central</td>\n",
       "      <td>1.1</td>\n",
       "      <td>warm</td>\n",
       "      <td>2016-04-27 00:00:00</td>\n",
       "      <td>13:36:00</td>\n",
       "      <td>NaN</td>\n",
       "      <td>NaN</td>\n",
       "      <td>intentional attack</td>\n",
       "      <td>vandalism</td>\n",
       "      <td>NaN</td>\n",
       "      <td>NaN</td>\n",
       "      <td>0</td>\n",
       "      <td>0.0</td>\n",
       "      <td>10.22</td>\n",
       "      <td>9.64</td>\n",
       "      <td>5.39</td>\n",
       "      <td>8.8</td>\n",
       "      <td>2517024</td>\n",
       "      <td>2577433</td>\n",
       "      <td>1681946</td>\n",
       "      <td>6776403</td>\n",
       "      <td>37.143954</td>\n",
       "      <td>38.035415</td>\n",
       "      <td>24.820631</td>\n",
       "      <td>2812287.0</td>\n",
       "      <td>480032.0</td>\n",
       "      <td>1193.0</td>\n",
       "      <td>3293512.0</td>\n",
       "      <td>85.388698</td>\n",
       "      <td>14.57508</td>\n",
       "      <td>0.036223</td>\n",
       "      <td>43720</td>\n",
       "      <td>50660</td>\n",
       "      <td>0.863008</td>\n",
       "      <td>3</td>\n",
       "      <td>1813</td>\n",
       "      <td>290712</td>\n",
       "      <td>0.623641</td>\n",
       "      <td>0.5</td>\n",
       "      <td>6649404.0</td>\n",
       "      <td>66.39</td>\n",
       "      <td>12.02</td>\n",
       "      <td>1450.3</td>\n",
       "      <td>1076.2</td>\n",
       "      <td>55.6</td>\n",
       "      <td>7.05</td>\n",
       "      <td>1.72</td>\n",
       "      <td>97.843109</td>\n",
       "      <td>2.156891</td>\n",
       "      <td>2.156891</td>\n",
       "    </tr>\n",
       "    <tr>\n",
       "      <th>50</th>\n",
       "      <td>2014.0</td>\n",
       "      <td>6.0</td>\n",
       "      <td>Wisconsin</td>\n",
       "      <td>WI</td>\n",
       "      <td>MRO</td>\n",
       "      <td>East North Central</td>\n",
       "      <td>0</td>\n",
       "      <td>normal</td>\n",
       "      <td>2014-06-27 00:00:00</td>\n",
       "      <td>13:21:00</td>\n",
       "      <td>NaN</td>\n",
       "      <td>NaN</td>\n",
       "      <td>fuel supply emergency</td>\n",
       "      <td>Coal</td>\n",
       "      <td>NaN</td>\n",
       "      <td>NaN</td>\n",
       "      <td>NaN</td>\n",
       "      <td>NaN</td>\n",
       "      <td>14.38</td>\n",
       "      <td>11.31</td>\n",
       "      <td>7.81</td>\n",
       "      <td>10.98</td>\n",
       "      <td>1706907</td>\n",
       "      <td>2012702</td>\n",
       "      <td>2037837</td>\n",
       "      <td>5757447</td>\n",
       "      <td>29.646942</td>\n",
       "      <td>34.958238</td>\n",
       "      <td>35.394803</td>\n",
       "      <td>2631430.0</td>\n",
       "      <td>345907.0</td>\n",
       "      <td>5465.0</td>\n",
       "      <td>2982802.0</td>\n",
       "      <td>88.22007</td>\n",
       "      <td>11.596713</td>\n",
       "      <td>0.183217</td>\n",
       "      <td>46676</td>\n",
       "      <td>49091</td>\n",
       "      <td>0.950806</td>\n",
       "      <td>1.9</td>\n",
       "      <td>4680</td>\n",
       "      <td>268742</td>\n",
       "      <td>1.741447</td>\n",
       "      <td>1.9</td>\n",
       "      <td>5759432.0</td>\n",
       "      <td>70.15</td>\n",
       "      <td>14.35</td>\n",
       "      <td>2123.3</td>\n",
       "      <td>1671.5</td>\n",
       "      <td>32.5</td>\n",
       "      <td>3.47</td>\n",
       "      <td>0.9</td>\n",
       "      <td>82.689019</td>\n",
       "      <td>17.312508</td>\n",
       "      <td>3.049041</td>\n",
       "    </tr>\n",
       "    <tr>\n",
       "      <th>183</th>\n",
       "      <td>2007.0</td>\n",
       "      <td>9.0</td>\n",
       "      <td>Texas</td>\n",
       "      <td>TX</td>\n",
       "      <td>WECC</td>\n",
       "      <td>South</td>\n",
       "      <td>-0.9</td>\n",
       "      <td>cold</td>\n",
       "      <td>2007-09-06 00:00:00</td>\n",
       "      <td>20:00:00</td>\n",
       "      <td>NaN</td>\n",
       "      <td>NaN</td>\n",
       "      <td>fuel supply emergency</td>\n",
       "      <td>NaN</td>\n",
       "      <td>NaN</td>\n",
       "      <td>NaN</td>\n",
       "      <td>NaN</td>\n",
       "      <td>NaN</td>\n",
       "      <td>12.44</td>\n",
       "      <td>9.88</td>\n",
       "      <td>7.76</td>\n",
       "      <td>10.3</td>\n",
       "      <td>13316662</td>\n",
       "      <td>10376502</td>\n",
       "      <td>9494213</td>\n",
       "      <td>33193019</td>\n",
       "      <td>40.118864</td>\n",
       "      <td>31.261097</td>\n",
       "      <td>28.603042</td>\n",
       "      <td>9166849.0</td>\n",
       "      <td>1413358.0</td>\n",
       "      <td>168586.0</td>\n",
       "      <td>10748834.0</td>\n",
       "      <td>85.282264</td>\n",
       "      <td>13.148942</td>\n",
       "      <td>1.568412</td>\n",
       "      <td>49068</td>\n",
       "      <td>49126</td>\n",
       "      <td>0.998819</td>\n",
       "      <td>2.5</td>\n",
       "      <td>27695</td>\n",
       "      <td>1169399</td>\n",
       "      <td>2.368311</td>\n",
       "      <td>10.9</td>\n",
       "      <td>23831983.0</td>\n",
       "      <td>84.7</td>\n",
       "      <td>9.35</td>\n",
       "      <td>2435.3</td>\n",
       "      <td>1539.9</td>\n",
       "      <td>15.2</td>\n",
       "      <td>3.35</td>\n",
       "      <td>0.58</td>\n",
       "      <td>97.258336</td>\n",
       "      <td>2.742036</td>\n",
       "      <td>2.090873</td>\n",
       "    </tr>\n",
       "    <tr>\n",
       "      <th>193</th>\n",
       "      <td>2014.0</td>\n",
       "      <td>4.0</td>\n",
       "      <td>Texas</td>\n",
       "      <td>TX</td>\n",
       "      <td>TRE</td>\n",
       "      <td>South</td>\n",
       "      <td>-0.2</td>\n",
       "      <td>normal</td>\n",
       "      <td>2014-04-03 00:00:00</td>\n",
       "      <td>00:00:00</td>\n",
       "      <td>NaN</td>\n",
       "      <td>NaN</td>\n",
       "      <td>fuel supply emergency</td>\n",
       "      <td>Coal</td>\n",
       "      <td>NaN</td>\n",
       "      <td>NaN</td>\n",
       "      <td>NaN</td>\n",
       "      <td>NaN</td>\n",
       "      <td>12.06</td>\n",
       "      <td>8.21</td>\n",
       "      <td>5.86</td>\n",
       "      <td>8.55</td>\n",
       "      <td>8199586</td>\n",
       "      <td>10173132</td>\n",
       "      <td>9461319</td>\n",
       "      <td>27846934</td>\n",
       "      <td>29.445202</td>\n",
       "      <td>36.532323</td>\n",
       "      <td>33.976161</td>\n",
       "      <td>10138874.0</td>\n",
       "      <td>1432478.0</td>\n",
       "      <td>101641.0</td>\n",
       "      <td>11672996.0</td>\n",
       "      <td>86.857513</td>\n",
       "      <td>12.271725</td>\n",
       "      <td>0.870736</td>\n",
       "      <td>52742</td>\n",
       "      <td>49091</td>\n",
       "      <td>1.074372</td>\n",
       "      <td>2</td>\n",
       "      <td>28121</td>\n",
       "      <td>1421759</td>\n",
       "      <td>1.977902</td>\n",
       "      <td>10.9</td>\n",
       "      <td>26979078.0</td>\n",
       "      <td>84.7</td>\n",
       "      <td>9.35</td>\n",
       "      <td>2435.3</td>\n",
       "      <td>1539.9</td>\n",
       "      <td>15.2</td>\n",
       "      <td>3.35</td>\n",
       "      <td>0.58</td>\n",
       "      <td>97.258336</td>\n",
       "      <td>2.742036</td>\n",
       "      <td>2.090873</td>\n",
       "    </tr>\n",
       "    <tr>\n",
       "      <th>233</th>\n",
       "      <td>2014.0</td>\n",
       "      <td>6.0</td>\n",
       "      <td>Texas</td>\n",
       "      <td>TX</td>\n",
       "      <td>TRE</td>\n",
       "      <td>South</td>\n",
       "      <td>0</td>\n",
       "      <td>normal</td>\n",
       "      <td>2014-06-06 00:00:00</td>\n",
       "      <td>13:00:00</td>\n",
       "      <td>NaN</td>\n",
       "      <td>NaN</td>\n",
       "      <td>fuel supply emergency</td>\n",
       "      <td>Coal</td>\n",
       "      <td>NaN</td>\n",
       "      <td>NaN</td>\n",
       "      <td>NaN</td>\n",
       "      <td>NaN</td>\n",
       "      <td>12.17</td>\n",
       "      <td>8.26</td>\n",
       "      <td>6.34</td>\n",
       "      <td>9.2</td>\n",
       "      <td>12861137</td>\n",
       "      <td>12571521</td>\n",
       "      <td>9260108</td>\n",
       "      <td>34707247</td>\n",
       "      <td>37.056056</td>\n",
       "      <td>36.221602</td>\n",
       "      <td>26.680618</td>\n",
       "      <td>10138874.0</td>\n",
       "      <td>1432478.0</td>\n",
       "      <td>101641.0</td>\n",
       "      <td>11672996.0</td>\n",
       "      <td>86.857513</td>\n",
       "      <td>12.271725</td>\n",
       "      <td>0.870736</td>\n",
       "      <td>52742</td>\n",
       "      <td>49091</td>\n",
       "      <td>1.074372</td>\n",
       "      <td>2</td>\n",
       "      <td>28121</td>\n",
       "      <td>1421759</td>\n",
       "      <td>1.977902</td>\n",
       "      <td>10.9</td>\n",
       "      <td>26979078.0</td>\n",
       "      <td>84.7</td>\n",
       "      <td>9.35</td>\n",
       "      <td>2435.3</td>\n",
       "      <td>1539.9</td>\n",
       "      <td>15.2</td>\n",
       "      <td>3.35</td>\n",
       "      <td>0.58</td>\n",
       "      <td>97.258336</td>\n",
       "      <td>2.742036</td>\n",
       "      <td>2.090873</td>\n",
       "    </tr>\n",
       "    <tr>\n",
       "      <th>240</th>\n",
       "      <td>2000.0</td>\n",
       "      <td>NaN</td>\n",
       "      <td>Texas</td>\n",
       "      <td>TX</td>\n",
       "      <td>FRCC</td>\n",
       "      <td>South</td>\n",
       "      <td>NaN</td>\n",
       "      <td>NaN</td>\n",
       "      <td>NaN</td>\n",
       "      <td>NaN</td>\n",
       "      <td>NaN</td>\n",
       "      <td>NaN</td>\n",
       "      <td>equipment failure</td>\n",
       "      <td>transformer outage</td>\n",
       "      <td>NaN</td>\n",
       "      <td>NaN</td>\n",
       "      <td>46</td>\n",
       "      <td>43000.0</td>\n",
       "      <td>NaN</td>\n",
       "      <td>NaN</td>\n",
       "      <td>NaN</td>\n",
       "      <td>NaN</td>\n",
       "      <td>NaN</td>\n",
       "      <td>NaN</td>\n",
       "      <td>NaN</td>\n",
       "      <td>NaN</td>\n",
       "      <td>NaN</td>\n",
       "      <td>NaN</td>\n",
       "      <td>NaN</td>\n",
       "      <td>8023266.0</td>\n",
       "      <td>1093414.0</td>\n",
       "      <td>61280.0</td>\n",
       "      <td>9299829.0</td>\n",
       "      <td>86.273264</td>\n",
       "      <td>11.757356</td>\n",
       "      <td>0.658937</td>\n",
       "      <td>45102</td>\n",
       "      <td>44745</td>\n",
       "      <td>1.007979</td>\n",
       "      <td>1.7</td>\n",
       "      <td>30908</td>\n",
       "      <td>944631</td>\n",
       "      <td>3.271965</td>\n",
       "      <td>10.3</td>\n",
       "      <td>20944499.0</td>\n",
       "      <td>84.7</td>\n",
       "      <td>9.35</td>\n",
       "      <td>2435.3</td>\n",
       "      <td>1539.9</td>\n",
       "      <td>15.2</td>\n",
       "      <td>3.35</td>\n",
       "      <td>0.58</td>\n",
       "      <td>97.258336</td>\n",
       "      <td>2.742036</td>\n",
       "      <td>2.090873</td>\n",
       "    </tr>\n",
       "    <tr>\n",
       "      <th>283</th>\n",
       "      <td>2015.0</td>\n",
       "      <td>12.0</td>\n",
       "      <td>Texas</td>\n",
       "      <td>TX</td>\n",
       "      <td>TRE</td>\n",
       "      <td>South</td>\n",
       "      <td>2.3</td>\n",
       "      <td>warm</td>\n",
       "      <td>2015-12-26 00:00:00</td>\n",
       "      <td>19:30:00</td>\n",
       "      <td>NaN</td>\n",
       "      <td>NaN</td>\n",
       "      <td>severe weather</td>\n",
       "      <td>NaN</td>\n",
       "      <td>NaN</td>\n",
       "      <td>NaN</td>\n",
       "      <td>NaN</td>\n",
       "      <td>70000.0</td>\n",
       "      <td>11.33</td>\n",
       "      <td>7.59</td>\n",
       "      <td>5.28</td>\n",
       "      <td>8.2</td>\n",
       "      <td>9873550</td>\n",
       "      <td>10401668</td>\n",
       "      <td>8456633</td>\n",
       "      <td>28745852</td>\n",
       "      <td>34.347738</td>\n",
       "      <td>36.184935</td>\n",
       "      <td>29.41862</td>\n",
       "      <td>10318006.0</td>\n",
       "      <td>1425780.0</td>\n",
       "      <td>105936.0</td>\n",
       "      <td>11849725.0</td>\n",
       "      <td>87.073801</td>\n",
       "      <td>12.032178</td>\n",
       "      <td>0.893995</td>\n",
       "      <td>53707</td>\n",
       "      <td>49844</td>\n",
       "      <td>1.077502</td>\n",
       "      <td>1.8</td>\n",
       "      <td>31256</td>\n",
       "      <td>1488049</td>\n",
       "      <td>2.100468</td>\n",
       "      <td>11</td>\n",
       "      <td>27469114.0</td>\n",
       "      <td>84.7</td>\n",
       "      <td>9.35</td>\n",
       "      <td>2435.3</td>\n",
       "      <td>1539.9</td>\n",
       "      <td>15.2</td>\n",
       "      <td>3.35</td>\n",
       "      <td>0.58</td>\n",
       "      <td>97.258336</td>\n",
       "      <td>2.742036</td>\n",
       "      <td>2.090873</td>\n",
       "    </tr>\n",
       "    <tr>\n",
       "      <th>302</th>\n",
       "      <td>2000.0</td>\n",
       "      <td>8.0</td>\n",
       "      <td>Indiana</td>\n",
       "      <td>IN</td>\n",
       "      <td>ECAR</td>\n",
       "      <td>Central</td>\n",
       "      <td>-0.5</td>\n",
       "      <td>cold</td>\n",
       "      <td>2000-08-28 00:00:00</td>\n",
       "      <td>23:00:00</td>\n",
       "      <td>NaN</td>\n",
       "      <td>NaN</td>\n",
       "      <td>equipment failure</td>\n",
       "      <td>line fault</td>\n",
       "      <td>NaN</td>\n",
       "      <td>NaN</td>\n",
       "      <td>15</td>\n",
       "      <td>124000.0</td>\n",
       "      <td>6.97</td>\n",
       "      <td>6.02</td>\n",
       "      <td>3.94</td>\n",
       "      <td>5.39</td>\n",
       "      <td>2873955</td>\n",
       "      <td>1992006</td>\n",
       "      <td>4165333</td>\n",
       "      <td>9080103</td>\n",
       "      <td>31.651128</td>\n",
       "      <td>21.938143</td>\n",
       "      <td>45.873191</td>\n",
       "      <td>2545743.0</td>\n",
       "      <td>290737.0</td>\n",
       "      <td>19058.0</td>\n",
       "      <td>2865343.0</td>\n",
       "      <td>88.846013</td>\n",
       "      <td>10.146674</td>\n",
       "      <td>0.665121</td>\n",
       "      <td>41302</td>\n",
       "      <td>44745</td>\n",
       "      <td>0.923053</td>\n",
       "      <td>2.3</td>\n",
       "      <td>6964</td>\n",
       "      <td>251606</td>\n",
       "      <td>2.76782</td>\n",
       "      <td>2.3</td>\n",
       "      <td>6091866.0</td>\n",
       "      <td>72.44</td>\n",
       "      <td>13.27</td>\n",
       "      <td>1860</td>\n",
       "      <td>1646.9</td>\n",
       "      <td>53.7</td>\n",
       "      <td>7.05</td>\n",
       "      <td>1.46</td>\n",
       "      <td>98.369028</td>\n",
       "      <td>1.628226</td>\n",
       "      <td>0.991214</td>\n",
       "    </tr>\n",
       "  </tbody>\n",
       "</table>\n",
       "</div>"
      ],
      "text/plain": [
       "       YEAR  MONTH U.S._STATE POSTAL.CODE NERC.REGION      CLIMATE.REGION  \\\n",
       "23   2015.0    7.0  Tennessee          TN        SERC             Central   \n",
       "37   2016.0    7.0  Tennessee          TN        SERC             Central   \n",
       "48   2016.0    4.0  Tennessee          TN        SERC             Central   \n",
       "50   2014.0    6.0  Wisconsin          WI         MRO  East North Central   \n",
       "183  2007.0    9.0      Texas          TX        WECC               South   \n",
       "193  2014.0    4.0      Texas          TX         TRE               South   \n",
       "233  2014.0    6.0      Texas          TX         TRE               South   \n",
       "240  2000.0    NaN      Texas          TX        FRCC               South   \n",
       "283  2015.0   12.0      Texas          TX         TRE               South   \n",
       "302  2000.0    8.0    Indiana          IN        ECAR             Central   \n",
       "\n",
       "    ANOMALY.LEVEL CLIMATE.CATEGORY    OUTAGE.START.DATE OUTAGE.START.TIME  \\\n",
       "23            1.2             warm  2015-07-30 00:00:00          13:00:00   \n",
       "37           -0.3           normal  2016-07-13 00:00:00          15:00:00   \n",
       "48            1.1             warm  2016-04-27 00:00:00          13:36:00   \n",
       "50              0           normal  2014-06-27 00:00:00          13:21:00   \n",
       "183          -0.9             cold  2007-09-06 00:00:00          20:00:00   \n",
       "193          -0.2           normal  2014-04-03 00:00:00          00:00:00   \n",
       "233             0           normal  2014-06-06 00:00:00          13:00:00   \n",
       "240           NaN              NaN                  NaN               NaN   \n",
       "283           2.3             warm  2015-12-26 00:00:00          19:30:00   \n",
       "302          -0.5             cold  2000-08-28 00:00:00          23:00:00   \n",
       "\n",
       "    OUTAGE.RESTORATION.DATE OUTAGE.RESTORATION.TIME  \\\n",
       "23                      NaN                     NaN   \n",
       "37                      NaN                     NaN   \n",
       "48                      NaN                     NaN   \n",
       "50                      NaN                     NaN   \n",
       "183                     NaN                     NaN   \n",
       "193                     NaN                     NaN   \n",
       "233                     NaN                     NaN   \n",
       "240                     NaN                     NaN   \n",
       "283                     NaN                     NaN   \n",
       "302                     NaN                     NaN   \n",
       "\n",
       "                    CAUSE.CATEGORY CAUSE.CATEGORY.DETAIL HURRICANE.NAMES  \\\n",
       "23              intentional attack             vandalism             NaN   \n",
       "37   system operability disruption         public appeal             NaN   \n",
       "48              intentional attack             vandalism             NaN   \n",
       "50           fuel supply emergency                  Coal             NaN   \n",
       "183          fuel supply emergency                   NaN             NaN   \n",
       "193          fuel supply emergency                  Coal             NaN   \n",
       "233          fuel supply emergency                  Coal             NaN   \n",
       "240              equipment failure    transformer outage             NaN   \n",
       "283                 severe weather                   NaN             NaN   \n",
       "302              equipment failure            line fault             NaN   \n",
       "\n",
       "    OUTAGE.DURATION DEMAND.LOSS.MW  CUSTOMERS.AFFECTED RES.PRICE COM.PRICE  \\\n",
       "23              NaN              0                 0.0     10.31     10.27   \n",
       "37              NaN            NaN                 NaN       NaN       NaN   \n",
       "48              NaN              0                 0.0     10.22      9.64   \n",
       "50              NaN            NaN                 NaN     14.38     11.31   \n",
       "183             NaN            NaN                 NaN     12.44      9.88   \n",
       "193             NaN            NaN                 NaN     12.06      8.21   \n",
       "233             NaN            NaN                 NaN     12.17      8.26   \n",
       "240             NaN             46             43000.0       NaN       NaN   \n",
       "283             NaN            NaN             70000.0     11.33      7.59   \n",
       "302             NaN             15            124000.0      6.97      6.02   \n",
       "\n",
       "    IND.PRICE TOTAL.PRICE RES.SALES COM.SALES IND.SALES TOTAL.SALES  \\\n",
       "23       7.31         9.7   4285049   3322562   1891937     9499547   \n",
       "37        NaN         NaN       NaN       NaN       NaN         NaN   \n",
       "48       5.39         8.8   2517024   2577433   1681946     6776403   \n",
       "50       7.81       10.98   1706907   2012702   2037837     5757447   \n",
       "183      7.76        10.3  13316662  10376502   9494213    33193019   \n",
       "193      5.86        8.55   8199586  10173132   9461319    27846934   \n",
       "233      6.34         9.2  12861137  12571521   9260108    34707247   \n",
       "240       NaN         NaN       NaN       NaN       NaN         NaN   \n",
       "283      5.28         8.2   9873550  10401668   8456633    28745852   \n",
       "302      3.94        5.39   2873955   1992006   4165333     9080103   \n",
       "\n",
       "    RES.PERCEN COM.PERCEN IND.PERCEN  RES.CUSTOMERS  COM.CUSTOMERS  \\\n",
       "23    45.10793  34.976005  19.916076      2783058.0       476405.0   \n",
       "37         NaN        NaN        NaN      2812287.0       480032.0   \n",
       "48   37.143954  38.035415  24.820631      2812287.0       480032.0   \n",
       "50   29.646942  34.958238  35.394803      2631430.0       345907.0   \n",
       "183  40.118864  31.261097  28.603042      9166849.0      1413358.0   \n",
       "193  29.445202  36.532323  33.976161     10138874.0      1432478.0   \n",
       "233  37.056056  36.221602  26.680618     10138874.0      1432478.0   \n",
       "240        NaN        NaN        NaN      8023266.0      1093414.0   \n",
       "283  34.347738  36.184935   29.41862     10318006.0      1425780.0   \n",
       "302  31.651128  21.938143  45.873191      2545743.0       290737.0   \n",
       "\n",
       "     IND.CUSTOMERS  TOTAL.CUSTOMERS RES.CUST.PCT COM.CUST.PCT IND.CUST.PCT  \\\n",
       "23          1245.0        3260708.0    85.351341    14.610477     0.038182   \n",
       "37          1193.0        3293512.0    85.388698     14.57508     0.036223   \n",
       "48          1193.0        3293512.0    85.388698     14.57508     0.036223   \n",
       "50          5465.0        2982802.0     88.22007    11.596713     0.183217   \n",
       "183       168586.0       10748834.0    85.282264    13.148942     1.568412   \n",
       "193       101641.0       11672996.0    86.857513    12.271725     0.870736   \n",
       "233       101641.0       11672996.0    86.857513    12.271725     0.870736   \n",
       "240        61280.0        9299829.0    86.273264    11.757356     0.658937   \n",
       "283       105936.0       11849725.0    87.073801    12.032178     0.893995   \n",
       "302        19058.0        2865343.0    88.846013    10.146674     0.665121   \n",
       "\n",
       "    PC.REALGSP.STATE PC.REALGSP.USA PC.REALGSP.REL PC.REALGSP.CHANGE  \\\n",
       "23             42457          49844       0.851798               1.2   \n",
       "37             43720          50660       0.863008                 3   \n",
       "48             43720          50660       0.863008                 3   \n",
       "50             46676          49091       0.950806               1.9   \n",
       "183            49068          49126       0.998819               2.5   \n",
       "193            52742          49091       1.074372                 2   \n",
       "233            52742          49091       1.074372                 2   \n",
       "240            45102          44745       1.007979               1.7   \n",
       "283            53707          49844       1.077502               1.8   \n",
       "302            41302          44745       0.923053               2.3   \n",
       "\n",
       "    UTIL.REALGSP TOTAL.REALGSP UTIL.CONTRI PI.UTIL.OFUSA  POPULATION  \\\n",
       "23          1692        282752    0.598404           0.4   6600299.0   \n",
       "37          1813        290712    0.623641           0.5   6649404.0   \n",
       "48          1813        290712    0.623641           0.5   6649404.0   \n",
       "50          4680        268742    1.741447           1.9   5759432.0   \n",
       "183        27695       1169399    2.368311          10.9  23831983.0   \n",
       "193        28121       1421759    1.977902          10.9  26979078.0   \n",
       "233        28121       1421759    1.977902          10.9  26979078.0   \n",
       "240        30908        944631    3.271965          10.3  20944499.0   \n",
       "283        31256       1488049    2.100468            11  27469114.0   \n",
       "302         6964        251606     2.76782           2.3   6091866.0   \n",
       "\n",
       "    POPPCT_URBAN POPPCT_UC POPDEN_URBAN POPDEN_UC POPDEN_RURAL AREAPCT_URBAN  \\\n",
       "23         66.39     12.02       1450.3    1076.2         55.6          7.05   \n",
       "37         66.39     12.02       1450.3    1076.2         55.6          7.05   \n",
       "48         66.39     12.02       1450.3    1076.2         55.6          7.05   \n",
       "50         70.15     14.35       2123.3    1671.5         32.5          3.47   \n",
       "183         84.7      9.35       2435.3    1539.9         15.2          3.35   \n",
       "193         84.7      9.35       2435.3    1539.9         15.2          3.35   \n",
       "233         84.7      9.35       2435.3    1539.9         15.2          3.35   \n",
       "240         84.7      9.35       2435.3    1539.9         15.2          3.35   \n",
       "283         84.7      9.35       2435.3    1539.9         15.2          3.35   \n",
       "302        72.44     13.27         1860    1646.9         53.7          7.05   \n",
       "\n",
       "    AREAPCT_UC   PCT_LAND PCT_WATER_TOT PCT_WATER_INLAND  \n",
       "23        1.72  97.843109      2.156891         2.156891  \n",
       "37        1.72  97.843109      2.156891         2.156891  \n",
       "48        1.72  97.843109      2.156891         2.156891  \n",
       "50         0.9  82.689019     17.312508         3.049041  \n",
       "183       0.58  97.258336      2.742036         2.090873  \n",
       "193       0.58  97.258336      2.742036         2.090873  \n",
       "233       0.58  97.258336      2.742036         2.090873  \n",
       "240       0.58  97.258336      2.742036         2.090873  \n",
       "283       0.58  97.258336      2.742036         2.090873  \n",
       "302       1.46  98.369028      1.628226         0.991214  "
      ]
     },
     "execution_count": 237,
     "metadata": {},
     "output_type": "execute_result"
    }
   ],
   "source": [
    "unclean_df[unclean_df['OUTAGE.DURATION'].isna()].head(10)"
   ]
  },
  {
   "cell_type": "code",
   "execution_count": 238,
   "metadata": {
    "ExecuteTime": {
     "end_time": "2019-10-31T23:36:28.657068Z",
     "start_time": "2019-10-31T23:36:28.654650Z"
    }
   },
   "outputs": [
    {
     "data": {
      "text/plain": [
       "np.int64(0)"
      ]
     },
     "execution_count": 238,
     "metadata": {},
     "output_type": "execute_result"
    }
   ],
   "source": [
    "df['NERC.REGION'].isna().sum()\n",
    "# there are no missing values in 'NERC.REGION'"
   ]
  },
  {
   "cell_type": "code",
   "execution_count": 239,
   "metadata": {},
   "outputs": [
    {
     "data": {
      "text/html": [
       "<div>\n",
       "<style scoped>\n",
       "    .dataframe tbody tr th:only-of-type {\n",
       "        vertical-align: middle;\n",
       "    }\n",
       "\n",
       "    .dataframe tbody tr th {\n",
       "        vertical-align: top;\n",
       "    }\n",
       "\n",
       "    .dataframe thead th {\n",
       "        text-align: right;\n",
       "    }\n",
       "</style>\n",
       "<table border=\"1\" class=\"dataframe\">\n",
       "  <thead>\n",
       "    <tr style=\"text-align: right;\">\n",
       "      <th></th>\n",
       "      <th>U.S._STATE</th>\n",
       "      <th>NERC.REGION</th>\n",
       "      <th>CLIMATE.REGION</th>\n",
       "      <th>OUTAGE.START.DATE</th>\n",
       "      <th>OUTAGE.START.TIME</th>\n",
       "      <th>OUTAGE.RESTORATION.DATE</th>\n",
       "      <th>OUTAGE.RESTORATION.TIME</th>\n",
       "      <th>CAUSE.CATEGORY</th>\n",
       "      <th>OUTAGE.DURATION</th>\n",
       "      <th>RES.PERCEN</th>\n",
       "      <th>COM.PERCEN</th>\n",
       "      <th>IND.PERCEN</th>\n",
       "      <th>PC.REALGSP.REL</th>\n",
       "      <th>POPPCT_URBAN</th>\n",
       "    </tr>\n",
       "  </thead>\n",
       "  <tbody>\n",
       "    <tr>\n",
       "      <th>1516</th>\n",
       "      <td>Hawaii</td>\n",
       "      <td>HI</td>\n",
       "      <td>NaN</td>\n",
       "      <td>2008-12-26 00:00:00</td>\n",
       "      <td>18:13:00</td>\n",
       "      <td>2008-12-27 00:00:00</td>\n",
       "      <td>17:00:00</td>\n",
       "      <td>severe weather</td>\n",
       "      <td>1367.0</td>\n",
       "      <td>30.359526</td>\n",
       "      <td>32.964011</td>\n",
       "      <td>36.676462</td>\n",
       "      <td>1.04471</td>\n",
       "      <td>91.93</td>\n",
       "    </tr>\n",
       "    <tr>\n",
       "      <th>1517</th>\n",
       "      <td>Hawaii</td>\n",
       "      <td>PR</td>\n",
       "      <td>NaN</td>\n",
       "      <td>2011-05-02 00:00:00</td>\n",
       "      <td>17:06:00</td>\n",
       "      <td>2011-05-02 00:00:00</td>\n",
       "      <td>20:00:00</td>\n",
       "      <td>severe weather</td>\n",
       "      <td>174.0</td>\n",
       "      <td>29.256472</td>\n",
       "      <td>34.293692</td>\n",
       "      <td>36.449836</td>\n",
       "      <td>1.032026</td>\n",
       "      <td>91.93</td>\n",
       "    </tr>\n",
       "    <tr>\n",
       "      <th>1518</th>\n",
       "      <td>Hawaii</td>\n",
       "      <td>HECO</td>\n",
       "      <td>NaN</td>\n",
       "      <td>2006-10-15 00:00:00</td>\n",
       "      <td>07:09:00</td>\n",
       "      <td>2006-10-15 00:00:00</td>\n",
       "      <td>16:12:00</td>\n",
       "      <td>severe weather</td>\n",
       "      <td>543.0</td>\n",
       "      <td>29.754528</td>\n",
       "      <td>33.325929</td>\n",
       "      <td>36.919435</td>\n",
       "      <td>1.029626</td>\n",
       "      <td>91.93</td>\n",
       "    </tr>\n",
       "    <tr>\n",
       "      <th>1519</th>\n",
       "      <td>Hawaii</td>\n",
       "      <td>HECO</td>\n",
       "      <td>NaN</td>\n",
       "      <td>2006-06-01 00:00:00</td>\n",
       "      <td>14:12:00</td>\n",
       "      <td>2006-06-01 00:00:00</td>\n",
       "      <td>18:09:00</td>\n",
       "      <td>system operability disruption</td>\n",
       "      <td>237.0</td>\n",
       "      <td>29.775679</td>\n",
       "      <td>33.478432</td>\n",
       "      <td>36.745777</td>\n",
       "      <td>1.029626</td>\n",
       "      <td>91.93</td>\n",
       "    </tr>\n",
       "    <tr>\n",
       "      <th>1520</th>\n",
       "      <td>Hawaii</td>\n",
       "      <td>HECO</td>\n",
       "      <td>NaN</td>\n",
       "      <td>2006-10-15 00:00:00</td>\n",
       "      <td>07:09:00</td>\n",
       "      <td>2006-10-16 00:00:00</td>\n",
       "      <td>14:55:00</td>\n",
       "      <td>severe weather</td>\n",
       "      <td>1906.0</td>\n",
       "      <td>29.754528</td>\n",
       "      <td>33.325929</td>\n",
       "      <td>36.919435</td>\n",
       "      <td>1.029626</td>\n",
       "      <td>91.93</td>\n",
       "    </tr>\n",
       "  </tbody>\n",
       "</table>\n",
       "</div>"
      ],
      "text/plain": [
       "     U.S._STATE NERC.REGION CLIMATE.REGION    OUTAGE.START.DATE  \\\n",
       "1516     Hawaii          HI            NaN  2008-12-26 00:00:00   \n",
       "1517     Hawaii          PR            NaN  2011-05-02 00:00:00   \n",
       "1518     Hawaii        HECO            NaN  2006-10-15 00:00:00   \n",
       "1519     Hawaii        HECO            NaN  2006-06-01 00:00:00   \n",
       "1520     Hawaii        HECO            NaN  2006-10-15 00:00:00   \n",
       "\n",
       "     OUTAGE.START.TIME OUTAGE.RESTORATION.DATE OUTAGE.RESTORATION.TIME  \\\n",
       "1516          18:13:00     2008-12-27 00:00:00                17:00:00   \n",
       "1517          17:06:00     2011-05-02 00:00:00                20:00:00   \n",
       "1518          07:09:00     2006-10-15 00:00:00                16:12:00   \n",
       "1519          14:12:00     2006-06-01 00:00:00                18:09:00   \n",
       "1520          07:09:00     2006-10-16 00:00:00                14:55:00   \n",
       "\n",
       "                     CAUSE.CATEGORY  OUTAGE.DURATION RES.PERCEN COM.PERCEN  \\\n",
       "1516                 severe weather           1367.0  30.359526  32.964011   \n",
       "1517                 severe weather            174.0  29.256472  34.293692   \n",
       "1518                 severe weather            543.0  29.754528  33.325929   \n",
       "1519  system operability disruption            237.0  29.775679  33.478432   \n",
       "1520                 severe weather           1906.0  29.754528  33.325929   \n",
       "\n",
       "     IND.PERCEN PC.REALGSP.REL POPPCT_URBAN  \n",
       "1516  36.676462        1.04471        91.93  \n",
       "1517  36.449836       1.032026        91.93  \n",
       "1518  36.919435       1.029626        91.93  \n",
       "1519  36.745777       1.029626        91.93  \n",
       "1520  36.919435       1.029626        91.93  "
      ]
     },
     "execution_count": 239,
     "metadata": {},
     "output_type": "execute_result"
    }
   ],
   "source": [
    "df[df['CLIMATE.REGION'].isna()] # 5 rows with null values"
   ]
  },
  {
   "cell_type": "code",
   "execution_count": 240,
   "metadata": {},
   "outputs": [
    {
     "data": {
      "text/html": [
       "<div>\n",
       "<style scoped>\n",
       "    .dataframe tbody tr th:only-of-type {\n",
       "        vertical-align: middle;\n",
       "    }\n",
       "\n",
       "    .dataframe tbody tr th {\n",
       "        vertical-align: top;\n",
       "    }\n",
       "\n",
       "    .dataframe thead th {\n",
       "        text-align: right;\n",
       "    }\n",
       "</style>\n",
       "<table border=\"1\" class=\"dataframe\">\n",
       "  <thead>\n",
       "    <tr style=\"text-align: right;\">\n",
       "      <th></th>\n",
       "      <th>U.S._STATE</th>\n",
       "      <th>NERC.REGION</th>\n",
       "      <th>CLIMATE.REGION</th>\n",
       "      <th>OUTAGE.START.DATE</th>\n",
       "      <th>OUTAGE.START.TIME</th>\n",
       "      <th>OUTAGE.RESTORATION.DATE</th>\n",
       "      <th>OUTAGE.RESTORATION.TIME</th>\n",
       "      <th>CAUSE.CATEGORY</th>\n",
       "      <th>OUTAGE.DURATION</th>\n",
       "      <th>RES.PERCEN</th>\n",
       "      <th>COM.PERCEN</th>\n",
       "      <th>IND.PERCEN</th>\n",
       "      <th>PC.REALGSP.REL</th>\n",
       "      <th>POPPCT_URBAN</th>\n",
       "    </tr>\n",
       "  </thead>\n",
       "  <tbody>\n",
       "    <tr>\n",
       "      <th>1516</th>\n",
       "      <td>Hawaii</td>\n",
       "      <td>HI</td>\n",
       "      <td>NaN</td>\n",
       "      <td>2008-12-26 00:00:00</td>\n",
       "      <td>18:13:00</td>\n",
       "      <td>2008-12-27 00:00:00</td>\n",
       "      <td>17:00:00</td>\n",
       "      <td>severe weather</td>\n",
       "      <td>1367.0</td>\n",
       "      <td>30.359526</td>\n",
       "      <td>32.964011</td>\n",
       "      <td>36.676462</td>\n",
       "      <td>1.04471</td>\n",
       "      <td>91.93</td>\n",
       "    </tr>\n",
       "    <tr>\n",
       "      <th>1517</th>\n",
       "      <td>Hawaii</td>\n",
       "      <td>PR</td>\n",
       "      <td>NaN</td>\n",
       "      <td>2011-05-02 00:00:00</td>\n",
       "      <td>17:06:00</td>\n",
       "      <td>2011-05-02 00:00:00</td>\n",
       "      <td>20:00:00</td>\n",
       "      <td>severe weather</td>\n",
       "      <td>174.0</td>\n",
       "      <td>29.256472</td>\n",
       "      <td>34.293692</td>\n",
       "      <td>36.449836</td>\n",
       "      <td>1.032026</td>\n",
       "      <td>91.93</td>\n",
       "    </tr>\n",
       "    <tr>\n",
       "      <th>1518</th>\n",
       "      <td>Hawaii</td>\n",
       "      <td>HECO</td>\n",
       "      <td>NaN</td>\n",
       "      <td>2006-10-15 00:00:00</td>\n",
       "      <td>07:09:00</td>\n",
       "      <td>2006-10-15 00:00:00</td>\n",
       "      <td>16:12:00</td>\n",
       "      <td>severe weather</td>\n",
       "      <td>543.0</td>\n",
       "      <td>29.754528</td>\n",
       "      <td>33.325929</td>\n",
       "      <td>36.919435</td>\n",
       "      <td>1.029626</td>\n",
       "      <td>91.93</td>\n",
       "    </tr>\n",
       "    <tr>\n",
       "      <th>1519</th>\n",
       "      <td>Hawaii</td>\n",
       "      <td>HECO</td>\n",
       "      <td>NaN</td>\n",
       "      <td>2006-06-01 00:00:00</td>\n",
       "      <td>14:12:00</td>\n",
       "      <td>2006-06-01 00:00:00</td>\n",
       "      <td>18:09:00</td>\n",
       "      <td>system operability disruption</td>\n",
       "      <td>237.0</td>\n",
       "      <td>29.775679</td>\n",
       "      <td>33.478432</td>\n",
       "      <td>36.745777</td>\n",
       "      <td>1.029626</td>\n",
       "      <td>91.93</td>\n",
       "    </tr>\n",
       "    <tr>\n",
       "      <th>1520</th>\n",
       "      <td>Hawaii</td>\n",
       "      <td>HECO</td>\n",
       "      <td>NaN</td>\n",
       "      <td>2006-10-15 00:00:00</td>\n",
       "      <td>07:09:00</td>\n",
       "      <td>2006-10-16 00:00:00</td>\n",
       "      <td>14:55:00</td>\n",
       "      <td>severe weather</td>\n",
       "      <td>1906.0</td>\n",
       "      <td>29.754528</td>\n",
       "      <td>33.325929</td>\n",
       "      <td>36.919435</td>\n",
       "      <td>1.029626</td>\n",
       "      <td>91.93</td>\n",
       "    </tr>\n",
       "  </tbody>\n",
       "</table>\n",
       "</div>"
      ],
      "text/plain": [
       "     U.S._STATE NERC.REGION CLIMATE.REGION    OUTAGE.START.DATE  \\\n",
       "1516     Hawaii          HI            NaN  2008-12-26 00:00:00   \n",
       "1517     Hawaii          PR            NaN  2011-05-02 00:00:00   \n",
       "1518     Hawaii        HECO            NaN  2006-10-15 00:00:00   \n",
       "1519     Hawaii        HECO            NaN  2006-06-01 00:00:00   \n",
       "1520     Hawaii        HECO            NaN  2006-10-15 00:00:00   \n",
       "\n",
       "     OUTAGE.START.TIME OUTAGE.RESTORATION.DATE OUTAGE.RESTORATION.TIME  \\\n",
       "1516          18:13:00     2008-12-27 00:00:00                17:00:00   \n",
       "1517          17:06:00     2011-05-02 00:00:00                20:00:00   \n",
       "1518          07:09:00     2006-10-15 00:00:00                16:12:00   \n",
       "1519          14:12:00     2006-06-01 00:00:00                18:09:00   \n",
       "1520          07:09:00     2006-10-16 00:00:00                14:55:00   \n",
       "\n",
       "                     CAUSE.CATEGORY  OUTAGE.DURATION RES.PERCEN COM.PERCEN  \\\n",
       "1516                 severe weather           1367.0  30.359526  32.964011   \n",
       "1517                 severe weather            174.0  29.256472  34.293692   \n",
       "1518                 severe weather            543.0  29.754528  33.325929   \n",
       "1519  system operability disruption            237.0  29.775679  33.478432   \n",
       "1520                 severe weather           1906.0  29.754528  33.325929   \n",
       "\n",
       "     IND.PERCEN PC.REALGSP.REL POPPCT_URBAN  \n",
       "1516  36.676462        1.04471        91.93  \n",
       "1517  36.449836       1.032026        91.93  \n",
       "1518  36.919435       1.029626        91.93  \n",
       "1519  36.745777       1.029626        91.93  \n",
       "1520  36.919435       1.029626        91.93  "
      ]
     },
     "execution_count": 240,
     "metadata": {},
     "output_type": "execute_result"
    }
   ],
   "source": [
    "df[df['U.S._STATE'] == 'Hawaii']\n",
    "# Hawaii does not have a 'CLIMATE.REGION'"
   ]
  },
  {
   "cell_type": "code",
   "execution_count": 241,
   "metadata": {},
   "outputs": [],
   "source": [
    "pd.set_option('display.max_rows', None)"
   ]
  },
  {
   "cell_type": "code",
   "execution_count": 242,
   "metadata": {},
   "outputs": [
    {
     "data": {
      "text/plain": [
       "np.int64(0)"
      ]
     },
     "execution_count": 242,
     "metadata": {},
     "output_type": "execute_result"
    }
   ],
   "source": [
    "df['CAUSE.CATEGORY'].isna().sum()\n",
    "# all power outages have a valid cause"
   ]
  },
  {
   "cell_type": "code",
   "execution_count": 243,
   "metadata": {},
   "outputs": [
    {
     "data": {
      "text/html": [
       "<div>\n",
       "<style scoped>\n",
       "    .dataframe tbody tr th:only-of-type {\n",
       "        vertical-align: middle;\n",
       "    }\n",
       "\n",
       "    .dataframe tbody tr th {\n",
       "        vertical-align: top;\n",
       "    }\n",
       "\n",
       "    .dataframe thead th {\n",
       "        text-align: right;\n",
       "    }\n",
       "</style>\n",
       "<table border=\"1\" class=\"dataframe\">\n",
       "  <thead>\n",
       "    <tr style=\"text-align: right;\">\n",
       "      <th></th>\n",
       "      <th>U.S._STATE</th>\n",
       "      <th>NERC.REGION</th>\n",
       "      <th>CLIMATE.REGION</th>\n",
       "      <th>OUTAGE.START.DATE</th>\n",
       "      <th>OUTAGE.START.TIME</th>\n",
       "      <th>OUTAGE.RESTORATION.DATE</th>\n",
       "      <th>OUTAGE.RESTORATION.TIME</th>\n",
       "      <th>CAUSE.CATEGORY</th>\n",
       "      <th>OUTAGE.DURATION</th>\n",
       "      <th>RES.PERCEN</th>\n",
       "      <th>COM.PERCEN</th>\n",
       "      <th>IND.PERCEN</th>\n",
       "      <th>PC.REALGSP.REL</th>\n",
       "      <th>POPPCT_URBAN</th>\n",
       "    </tr>\n",
       "  </thead>\n",
       "  <tbody>\n",
       "    <tr>\n",
       "      <th>104</th>\n",
       "      <td>Michigan</td>\n",
       "      <td>RFC</td>\n",
       "      <td>East North Central</td>\n",
       "      <td>2016-07-08 00:00:00</td>\n",
       "      <td>19:00:00</td>\n",
       "      <td>2016-07-09 00:00:00</td>\n",
       "      <td>00:00:00</td>\n",
       "      <td>severe weather</td>\n",
       "      <td>300.0</td>\n",
       "      <td>NaN</td>\n",
       "      <td>NaN</td>\n",
       "      <td>NaN</td>\n",
       "      <td>0.85531</td>\n",
       "      <td>74.57</td>\n",
       "    </tr>\n",
       "    <tr>\n",
       "      <th>172</th>\n",
       "      <td>Texas</td>\n",
       "      <td>TRE</td>\n",
       "      <td>South</td>\n",
       "      <td>2016-07-05 00:00:00</td>\n",
       "      <td>02:45:00</td>\n",
       "      <td>2016-07-06 00:00:00</td>\n",
       "      <td>03:00:00</td>\n",
       "      <td>severe weather</td>\n",
       "      <td>1455.0</td>\n",
       "      <td>NaN</td>\n",
       "      <td>NaN</td>\n",
       "      <td>NaN</td>\n",
       "      <td>1.048243</td>\n",
       "      <td>84.7</td>\n",
       "    </tr>\n",
       "    <tr>\n",
       "      <th>219</th>\n",
       "      <td>Texas</td>\n",
       "      <td>TRE</td>\n",
       "      <td>South</td>\n",
       "      <td>2016-07-09 00:00:00</td>\n",
       "      <td>17:45:00</td>\n",
       "      <td>2016-07-11 00:00:00</td>\n",
       "      <td>14:00:00</td>\n",
       "      <td>severe weather</td>\n",
       "      <td>2655.0</td>\n",
       "      <td>NaN</td>\n",
       "      <td>NaN</td>\n",
       "      <td>NaN</td>\n",
       "      <td>1.048243</td>\n",
       "      <td>84.7</td>\n",
       "    </tr>\n",
       "    <tr>\n",
       "      <th>418</th>\n",
       "      <td>Washington</td>\n",
       "      <td>WECC</td>\n",
       "      <td>Northwest</td>\n",
       "      <td>2016-07-13 00:00:00</td>\n",
       "      <td>13:00:00</td>\n",
       "      <td>2016-07-13 00:00:00</td>\n",
       "      <td>13:01:00</td>\n",
       "      <td>intentional attack</td>\n",
       "      <td>1.0</td>\n",
       "      <td>NaN</td>\n",
       "      <td>NaN</td>\n",
       "      <td>NaN</td>\n",
       "      <td>1.140861</td>\n",
       "      <td>84.05</td>\n",
       "    </tr>\n",
       "    <tr>\n",
       "      <th>606</th>\n",
       "      <td>Pennsylvania</td>\n",
       "      <td>RFC</td>\n",
       "      <td>Northeast</td>\n",
       "      <td>2016-07-23 00:00:00</td>\n",
       "      <td>15:15:00</td>\n",
       "      <td>2016-07-23 00:00:00</td>\n",
       "      <td>19:53:00</td>\n",
       "      <td>system operability disruption</td>\n",
       "      <td>278.0</td>\n",
       "      <td>NaN</td>\n",
       "      <td>NaN</td>\n",
       "      <td>NaN</td>\n",
       "      <td>1.006277</td>\n",
       "      <td>78.66</td>\n",
       "    </tr>\n",
       "    <tr>\n",
       "      <th>744</th>\n",
       "      <td>North Carolina</td>\n",
       "      <td>SERC</td>\n",
       "      <td>Southeast</td>\n",
       "      <td>2016-07-08 00:00:00</td>\n",
       "      <td>20:50:00</td>\n",
       "      <td>2016-07-09 00:00:00</td>\n",
       "      <td>19:25:00</td>\n",
       "      <td>severe weather</td>\n",
       "      <td>1355.0</td>\n",
       "      <td>NaN</td>\n",
       "      <td>NaN</td>\n",
       "      <td>NaN</td>\n",
       "      <td>0.872365</td>\n",
       "      <td>66.09</td>\n",
       "    </tr>\n",
       "    <tr>\n",
       "      <th>763</th>\n",
       "      <td>North Carolina</td>\n",
       "      <td>SERC</td>\n",
       "      <td>Southeast</td>\n",
       "      <td>2016-07-07 00:00:00</td>\n",
       "      <td>05:53:00</td>\n",
       "      <td>2016-07-07 00:00:00</td>\n",
       "      <td>08:40:00</td>\n",
       "      <td>intentional attack</td>\n",
       "      <td>167.0</td>\n",
       "      <td>NaN</td>\n",
       "      <td>NaN</td>\n",
       "      <td>NaN</td>\n",
       "      <td>0.872365</td>\n",
       "      <td>66.09</td>\n",
       "    </tr>\n",
       "    <tr>\n",
       "      <th>828</th>\n",
       "      <td>Oregon</td>\n",
       "      <td>WECC</td>\n",
       "      <td>Northwest</td>\n",
       "      <td>2016-07-02 00:00:00</td>\n",
       "      <td>04:00:00</td>\n",
       "      <td>2016-07-04 00:00:00</td>\n",
       "      <td>00:40:00</td>\n",
       "      <td>intentional attack</td>\n",
       "      <td>2680.0</td>\n",
       "      <td>NaN</td>\n",
       "      <td>NaN</td>\n",
       "      <td>NaN</td>\n",
       "      <td>1.001796</td>\n",
       "      <td>81.03</td>\n",
       "    </tr>\n",
       "    <tr>\n",
       "      <th>901</th>\n",
       "      <td>Delaware</td>\n",
       "      <td>RFC</td>\n",
       "      <td>Northeast</td>\n",
       "      <td>2016-07-21 00:00:00</td>\n",
       "      <td>06:18:00</td>\n",
       "      <td>2016-07-21 00:00:00</td>\n",
       "      <td>14:45:00</td>\n",
       "      <td>intentional attack</td>\n",
       "      <td>507.0</td>\n",
       "      <td>NaN</td>\n",
       "      <td>NaN</td>\n",
       "      <td>NaN</td>\n",
       "      <td>1.254994</td>\n",
       "      <td>83.3</td>\n",
       "    </tr>\n",
       "    <tr>\n",
       "      <th>1420</th>\n",
       "      <td>Oklahoma</td>\n",
       "      <td>SPP</td>\n",
       "      <td>South</td>\n",
       "      <td>2016-07-14 00:00:00</td>\n",
       "      <td>14:44:00</td>\n",
       "      <td>2016-07-15 00:00:00</td>\n",
       "      <td>04:00:00</td>\n",
       "      <td>severe weather</td>\n",
       "      <td>796.0</td>\n",
       "      <td>NaN</td>\n",
       "      <td>NaN</td>\n",
       "      <td>NaN</td>\n",
       "      <td>0.876786</td>\n",
       "      <td>66.24</td>\n",
       "    </tr>\n",
       "    <tr>\n",
       "      <th>1521</th>\n",
       "      <td>Idaho</td>\n",
       "      <td>WECC</td>\n",
       "      <td>Northwest</td>\n",
       "      <td>2016-07-19 00:00:00</td>\n",
       "      <td>15:45:00</td>\n",
       "      <td>2016-07-19 00:00:00</td>\n",
       "      <td>19:29:00</td>\n",
       "      <td>system operability disruption</td>\n",
       "      <td>224.0</td>\n",
       "      <td>NaN</td>\n",
       "      <td>NaN</td>\n",
       "      <td>NaN</td>\n",
       "      <td>0.715673</td>\n",
       "      <td>70.58</td>\n",
       "    </tr>\n",
       "    <tr>\n",
       "      <th>1529</th>\n",
       "      <td>Idaho</td>\n",
       "      <td>WECC</td>\n",
       "      <td>Northwest</td>\n",
       "      <td>2016-07-19 00:00:00</td>\n",
       "      <td>15:45:00</td>\n",
       "      <td>2016-07-19 00:00:00</td>\n",
       "      <td>19:25:00</td>\n",
       "      <td>system operability disruption</td>\n",
       "      <td>220.0</td>\n",
       "      <td>NaN</td>\n",
       "      <td>NaN</td>\n",
       "      <td>NaN</td>\n",
       "      <td>0.715673</td>\n",
       "      <td>70.58</td>\n",
       "    </tr>\n",
       "  </tbody>\n",
       "</table>\n",
       "</div>"
      ],
      "text/plain": [
       "          U.S._STATE NERC.REGION      CLIMATE.REGION    OUTAGE.START.DATE  \\\n",
       "104         Michigan         RFC  East North Central  2016-07-08 00:00:00   \n",
       "172            Texas         TRE               South  2016-07-05 00:00:00   \n",
       "219            Texas         TRE               South  2016-07-09 00:00:00   \n",
       "418       Washington        WECC           Northwest  2016-07-13 00:00:00   \n",
       "606     Pennsylvania         RFC           Northeast  2016-07-23 00:00:00   \n",
       "744   North Carolina        SERC           Southeast  2016-07-08 00:00:00   \n",
       "763   North Carolina        SERC           Southeast  2016-07-07 00:00:00   \n",
       "828           Oregon        WECC           Northwest  2016-07-02 00:00:00   \n",
       "901         Delaware         RFC           Northeast  2016-07-21 00:00:00   \n",
       "1420        Oklahoma         SPP               South  2016-07-14 00:00:00   \n",
       "1521           Idaho        WECC           Northwest  2016-07-19 00:00:00   \n",
       "1529           Idaho        WECC           Northwest  2016-07-19 00:00:00   \n",
       "\n",
       "     OUTAGE.START.TIME OUTAGE.RESTORATION.DATE OUTAGE.RESTORATION.TIME  \\\n",
       "104           19:00:00     2016-07-09 00:00:00                00:00:00   \n",
       "172           02:45:00     2016-07-06 00:00:00                03:00:00   \n",
       "219           17:45:00     2016-07-11 00:00:00                14:00:00   \n",
       "418           13:00:00     2016-07-13 00:00:00                13:01:00   \n",
       "606           15:15:00     2016-07-23 00:00:00                19:53:00   \n",
       "744           20:50:00     2016-07-09 00:00:00                19:25:00   \n",
       "763           05:53:00     2016-07-07 00:00:00                08:40:00   \n",
       "828           04:00:00     2016-07-04 00:00:00                00:40:00   \n",
       "901           06:18:00     2016-07-21 00:00:00                14:45:00   \n",
       "1420          14:44:00     2016-07-15 00:00:00                04:00:00   \n",
       "1521          15:45:00     2016-07-19 00:00:00                19:29:00   \n",
       "1529          15:45:00     2016-07-19 00:00:00                19:25:00   \n",
       "\n",
       "                     CAUSE.CATEGORY  OUTAGE.DURATION RES.PERCEN COM.PERCEN  \\\n",
       "104                  severe weather            300.0        NaN        NaN   \n",
       "172                  severe weather           1455.0        NaN        NaN   \n",
       "219                  severe weather           2655.0        NaN        NaN   \n",
       "418              intentional attack              1.0        NaN        NaN   \n",
       "606   system operability disruption            278.0        NaN        NaN   \n",
       "744                  severe weather           1355.0        NaN        NaN   \n",
       "763              intentional attack            167.0        NaN        NaN   \n",
       "828              intentional attack           2680.0        NaN        NaN   \n",
       "901              intentional attack            507.0        NaN        NaN   \n",
       "1420                 severe weather            796.0        NaN        NaN   \n",
       "1521  system operability disruption            224.0        NaN        NaN   \n",
       "1529  system operability disruption            220.0        NaN        NaN   \n",
       "\n",
       "     IND.PERCEN PC.REALGSP.REL POPPCT_URBAN  \n",
       "104         NaN        0.85531        74.57  \n",
       "172         NaN       1.048243         84.7  \n",
       "219         NaN       1.048243         84.7  \n",
       "418         NaN       1.140861        84.05  \n",
       "606         NaN       1.006277        78.66  \n",
       "744         NaN       0.872365        66.09  \n",
       "763         NaN       0.872365        66.09  \n",
       "828         NaN       1.001796        81.03  \n",
       "901         NaN       1.254994         83.3  \n",
       "1420        NaN       0.876786        66.24  \n",
       "1521        NaN       0.715673        70.58  \n",
       "1529        NaN       0.715673        70.58  "
      ]
     },
     "execution_count": 243,
     "metadata": {},
     "output_type": "execute_result"
    }
   ],
   "source": [
    "df[df['RES.PERCEN'].isna()]"
   ]
  },
  {
   "cell_type": "code",
   "execution_count": 244,
   "metadata": {},
   "outputs": [
    {
     "data": {
      "text/plain": [
       "True"
      ]
     },
     "execution_count": 244,
     "metadata": {},
     "output_type": "execute_result"
    }
   ],
   "source": [
    "df[df['COM.PERCEN'].isna()].equals(df[df['RES.PERCEN'].isna()])"
   ]
  },
  {
   "cell_type": "code",
   "execution_count": 245,
   "metadata": {},
   "outputs": [
    {
     "data": {
      "text/plain": [
       "True"
      ]
     },
     "execution_count": 245,
     "metadata": {},
     "output_type": "execute_result"
    }
   ],
   "source": [
    "df[df['IND.PERCEN'].isna()].equals(df[df['RES.PERCEN'].isna()])\n",
    "# NaN values for percentages are across the same rows"
   ]
  },
  {
   "cell_type": "code",
   "execution_count": 246,
   "metadata": {},
   "outputs": [
    {
     "name": "stderr",
     "output_type": "stream",
     "text": [
      "/var/folders/jk/ll2fwx_55klc6t5gz7x_24440000gn/T/ipykernel_63617/1602715756.py:2: FutureWarning:\n",
      "\n",
      "Downcasting object dtype arrays on .fillna, .ffill, .bfill is deprecated and will change in a future version. Call result.infer_objects(copy=False) instead. To opt-in to the future behavior, set `pd.set_option('future.no_silent_downcasting', True)`\n",
      "\n",
      "/var/folders/jk/ll2fwx_55klc6t5gz7x_24440000gn/T/ipykernel_63617/1602715756.py:3: FutureWarning:\n",
      "\n",
      "Downcasting object dtype arrays on .fillna, .ffill, .bfill is deprecated and will change in a future version. Call result.infer_objects(copy=False) instead. To opt-in to the future behavior, set `pd.set_option('future.no_silent_downcasting', True)`\n",
      "\n",
      "/var/folders/jk/ll2fwx_55klc6t5gz7x_24440000gn/T/ipykernel_63617/1602715756.py:4: FutureWarning:\n",
      "\n",
      "Downcasting object dtype arrays on .fillna, .ffill, .bfill is deprecated and will change in a future version. Call result.infer_objects(copy=False) instead. To opt-in to the future behavior, set `pd.set_option('future.no_silent_downcasting', True)`\n",
      "\n"
     ]
    },
    {
     "data": {
      "text/html": [
       "<div>\n",
       "<style scoped>\n",
       "    .dataframe tbody tr th:only-of-type {\n",
       "        vertical-align: middle;\n",
       "    }\n",
       "\n",
       "    .dataframe tbody tr th {\n",
       "        vertical-align: top;\n",
       "    }\n",
       "\n",
       "    .dataframe thead th {\n",
       "        text-align: right;\n",
       "    }\n",
       "</style>\n",
       "<table border=\"1\" class=\"dataframe\">\n",
       "  <thead>\n",
       "    <tr style=\"text-align: right;\">\n",
       "      <th></th>\n",
       "      <th>U.S._STATE</th>\n",
       "      <th>NERC.REGION</th>\n",
       "      <th>CLIMATE.REGION</th>\n",
       "      <th>OUTAGE.START.DATE</th>\n",
       "      <th>OUTAGE.START.TIME</th>\n",
       "      <th>OUTAGE.RESTORATION.DATE</th>\n",
       "      <th>OUTAGE.RESTORATION.TIME</th>\n",
       "      <th>CAUSE.CATEGORY</th>\n",
       "      <th>OUTAGE.DURATION</th>\n",
       "      <th>RES.PERCEN</th>\n",
       "      <th>COM.PERCEN</th>\n",
       "      <th>IND.PERCEN</th>\n",
       "      <th>PC.REALGSP.REL</th>\n",
       "      <th>POPPCT_URBAN</th>\n",
       "    </tr>\n",
       "  </thead>\n",
       "  <tbody>\n",
       "    <tr>\n",
       "      <th>1</th>\n",
       "      <td>Minnesota</td>\n",
       "      <td>MRO</td>\n",
       "      <td>East North Central</td>\n",
       "      <td>2011-07-01 00:00:00</td>\n",
       "      <td>17:00:00</td>\n",
       "      <td>2011-07-03 00:00:00</td>\n",
       "      <td>20:00:00</td>\n",
       "      <td>severe weather</td>\n",
       "      <td>3060.0</td>\n",
       "      <td>35.549073</td>\n",
       "      <td>32.225029</td>\n",
       "      <td>32.202431</td>\n",
       "      <td>1.077376</td>\n",
       "      <td>73.27</td>\n",
       "    </tr>\n",
       "    <tr>\n",
       "      <th>2</th>\n",
       "      <td>Minnesota</td>\n",
       "      <td>MRO</td>\n",
       "      <td>East North Central</td>\n",
       "      <td>2014-05-11 00:00:00</td>\n",
       "      <td>18:38:00</td>\n",
       "      <td>2014-05-11 00:00:00</td>\n",
       "      <td>18:39:00</td>\n",
       "      <td>intentional attack</td>\n",
       "      <td>1.0</td>\n",
       "      <td>30.032487</td>\n",
       "      <td>34.210389</td>\n",
       "      <td>35.727564</td>\n",
       "      <td>1.089792</td>\n",
       "      <td>73.27</td>\n",
       "    </tr>\n",
       "    <tr>\n",
       "      <th>3</th>\n",
       "      <td>Minnesota</td>\n",
       "      <td>MRO</td>\n",
       "      <td>East North Central</td>\n",
       "      <td>2010-10-26 00:00:00</td>\n",
       "      <td>20:00:00</td>\n",
       "      <td>2010-10-28 00:00:00</td>\n",
       "      <td>22:00:00</td>\n",
       "      <td>severe weather</td>\n",
       "      <td>3000.0</td>\n",
       "      <td>28.097672</td>\n",
       "      <td>34.501015</td>\n",
       "      <td>37.365983</td>\n",
       "      <td>1.066826</td>\n",
       "      <td>73.27</td>\n",
       "    </tr>\n",
       "    <tr>\n",
       "      <th>4</th>\n",
       "      <td>Minnesota</td>\n",
       "      <td>MRO</td>\n",
       "      <td>East North Central</td>\n",
       "      <td>2012-06-19 00:00:00</td>\n",
       "      <td>04:30:00</td>\n",
       "      <td>2012-06-20 00:00:00</td>\n",
       "      <td>23:00:00</td>\n",
       "      <td>severe weather</td>\n",
       "      <td>2550.0</td>\n",
       "      <td>31.994099</td>\n",
       "      <td>33.543330</td>\n",
       "      <td>34.439329</td>\n",
       "      <td>1.071476</td>\n",
       "      <td>73.27</td>\n",
       "    </tr>\n",
       "    <tr>\n",
       "      <th>5</th>\n",
       "      <td>Minnesota</td>\n",
       "      <td>MRO</td>\n",
       "      <td>East North Central</td>\n",
       "      <td>2015-07-18 00:00:00</td>\n",
       "      <td>02:00:00</td>\n",
       "      <td>2015-07-19 00:00:00</td>\n",
       "      <td>07:00:00</td>\n",
       "      <td>severe weather</td>\n",
       "      <td>1740.0</td>\n",
       "      <td>33.982576</td>\n",
       "      <td>36.205850</td>\n",
       "      <td>29.779498</td>\n",
       "      <td>1.092027</td>\n",
       "      <td>73.27</td>\n",
       "    </tr>\n",
       "    <tr>\n",
       "      <th>6</th>\n",
       "      <td>Minnesota</td>\n",
       "      <td>MRO</td>\n",
       "      <td>East North Central</td>\n",
       "      <td>2010-11-13 00:00:00</td>\n",
       "      <td>15:00:00</td>\n",
       "      <td>2010-11-14 00:00:00</td>\n",
       "      <td>22:00:00</td>\n",
       "      <td>severe weather</td>\n",
       "      <td>1860.0</td>\n",
       "      <td>31.192784</td>\n",
       "      <td>33.235842</td>\n",
       "      <td>35.538160</td>\n",
       "      <td>1.066826</td>\n",
       "      <td>73.27</td>\n",
       "    </tr>\n",
       "    <tr>\n",
       "      <th>7</th>\n",
       "      <td>Minnesota</td>\n",
       "      <td>MRO</td>\n",
       "      <td>East North Central</td>\n",
       "      <td>2010-07-17 00:00:00</td>\n",
       "      <td>20:30:00</td>\n",
       "      <td>2010-07-19 00:00:00</td>\n",
       "      <td>22:00:00</td>\n",
       "      <td>severe weather</td>\n",
       "      <td>2970.0</td>\n",
       "      <td>34.314656</td>\n",
       "      <td>32.954501</td>\n",
       "      <td>32.701651</td>\n",
       "      <td>1.066826</td>\n",
       "      <td>73.27</td>\n",
       "    </tr>\n",
       "    <tr>\n",
       "      <th>8</th>\n",
       "      <td>Minnesota</td>\n",
       "      <td>MRO</td>\n",
       "      <td>East North Central</td>\n",
       "      <td>2005-06-08 00:00:00</td>\n",
       "      <td>04:00:00</td>\n",
       "      <td>2005-06-10 00:00:00</td>\n",
       "      <td>22:00:00</td>\n",
       "      <td>severe weather</td>\n",
       "      <td>3960.0</td>\n",
       "      <td>33.586173</td>\n",
       "      <td>34.515286</td>\n",
       "      <td>31.861839</td>\n",
       "      <td>1.090559</td>\n",
       "      <td>73.27</td>\n",
       "    </tr>\n",
       "    <tr>\n",
       "      <th>9</th>\n",
       "      <td>Minnesota</td>\n",
       "      <td>MRO</td>\n",
       "      <td>East North Central</td>\n",
       "      <td>2015-03-16 00:00:00</td>\n",
       "      <td>07:31:00</td>\n",
       "      <td>2015-03-16 00:00:00</td>\n",
       "      <td>10:06:00</td>\n",
       "      <td>intentional attack</td>\n",
       "      <td>155.0</td>\n",
       "      <td>32.936916</td>\n",
       "      <td>34.947243</td>\n",
       "      <td>32.071962</td>\n",
       "      <td>1.092027</td>\n",
       "      <td>73.27</td>\n",
       "    </tr>\n",
       "    <tr>\n",
       "      <th>10</th>\n",
       "      <td>Minnesota</td>\n",
       "      <td>MRO</td>\n",
       "      <td>East North Central</td>\n",
       "      <td>2013-06-21 00:00:00</td>\n",
       "      <td>17:39:00</td>\n",
       "      <td>2013-06-24 00:00:00</td>\n",
       "      <td>06:00:00</td>\n",
       "      <td>severe weather</td>\n",
       "      <td>3621.0</td>\n",
       "      <td>30.754553</td>\n",
       "      <td>34.515140</td>\n",
       "      <td>34.702296</td>\n",
       "      <td>1.084366</td>\n",
       "      <td>73.27</td>\n",
       "    </tr>\n",
       "    <tr>\n",
       "      <th>11</th>\n",
       "      <td>Minnesota</td>\n",
       "      <td>MRO</td>\n",
       "      <td>East North Central</td>\n",
       "      <td>2013-06-21 00:00:00</td>\n",
       "      <td>03:00:00</td>\n",
       "      <td>2013-06-26 00:00:00</td>\n",
       "      <td>12:00:00</td>\n",
       "      <td>severe weather</td>\n",
       "      <td>7740.0</td>\n",
       "      <td>30.754553</td>\n",
       "      <td>34.515140</td>\n",
       "      <td>34.702296</td>\n",
       "      <td>1.084366</td>\n",
       "      <td>73.27</td>\n",
       "    </tr>\n",
       "    <tr>\n",
       "      <th>12</th>\n",
       "      <td>Minnesota</td>\n",
       "      <td>MRO</td>\n",
       "      <td>East North Central</td>\n",
       "      <td>2005-09-21 00:00:00</td>\n",
       "      <td>19:00:00</td>\n",
       "      <td>2005-09-27 00:00:00</td>\n",
       "      <td>23:00:00</td>\n",
       "      <td>severe weather</td>\n",
       "      <td>8880.0</td>\n",
       "      <td>31.076535</td>\n",
       "      <td>34.042257</td>\n",
       "      <td>34.844026</td>\n",
       "      <td>1.090559</td>\n",
       "      <td>73.27</td>\n",
       "    </tr>\n",
       "    <tr>\n",
       "      <th>14</th>\n",
       "      <td>Minnesota</td>\n",
       "      <td>MRO</td>\n",
       "      <td>East North Central</td>\n",
       "      <td>2011-05-11 00:00:00</td>\n",
       "      <td>15:55:00</td>\n",
       "      <td>2011-05-12 00:00:00</td>\n",
       "      <td>13:57:00</td>\n",
       "      <td>intentional attack</td>\n",
       "      <td>1322.0</td>\n",
       "      <td>29.805110</td>\n",
       "      <td>33.648370</td>\n",
       "      <td>36.517827</td>\n",
       "      <td>1.077376</td>\n",
       "      <td>73.27</td>\n",
       "    </tr>\n",
       "    <tr>\n",
       "      <th>15</th>\n",
       "      <td>Minnesota</td>\n",
       "      <td>MRO</td>\n",
       "      <td>East North Central</td>\n",
       "      <td>2014-06-15 00:00:00</td>\n",
       "      <td>00:00:00</td>\n",
       "      <td>2014-06-15 00:00:00</td>\n",
       "      <td>01:00:00</td>\n",
       "      <td>severe weather</td>\n",
       "      <td>60.0</td>\n",
       "      <td>31.454898</td>\n",
       "      <td>34.729039</td>\n",
       "      <td>33.783501</td>\n",
       "      <td>1.089792</td>\n",
       "      <td>73.27</td>\n",
       "    </tr>\n",
       "    <tr>\n",
       "      <th>16</th>\n",
       "      <td>Tennessee</td>\n",
       "      <td>SERC</td>\n",
       "      <td>Central</td>\n",
       "      <td>2015-06-07 00:00:00</td>\n",
       "      <td>13:54:00</td>\n",
       "      <td>2015-06-07 00:00:00</td>\n",
       "      <td>14:13:00</td>\n",
       "      <td>system operability disruption</td>\n",
       "      <td>19.0</td>\n",
       "      <td>41.177865</td>\n",
       "      <td>36.251911</td>\n",
       "      <td>22.570224</td>\n",
       "      <td>0.851798</td>\n",
       "      <td>66.39</td>\n",
       "    </tr>\n",
       "  </tbody>\n",
       "</table>\n",
       "</div>"
      ],
      "text/plain": [
       "   U.S._STATE NERC.REGION      CLIMATE.REGION    OUTAGE.START.DATE  \\\n",
       "1   Minnesota         MRO  East North Central  2011-07-01 00:00:00   \n",
       "2   Minnesota         MRO  East North Central  2014-05-11 00:00:00   \n",
       "3   Minnesota         MRO  East North Central  2010-10-26 00:00:00   \n",
       "4   Minnesota         MRO  East North Central  2012-06-19 00:00:00   \n",
       "5   Minnesota         MRO  East North Central  2015-07-18 00:00:00   \n",
       "6   Minnesota         MRO  East North Central  2010-11-13 00:00:00   \n",
       "7   Minnesota         MRO  East North Central  2010-07-17 00:00:00   \n",
       "8   Minnesota         MRO  East North Central  2005-06-08 00:00:00   \n",
       "9   Minnesota         MRO  East North Central  2015-03-16 00:00:00   \n",
       "10  Minnesota         MRO  East North Central  2013-06-21 00:00:00   \n",
       "11  Minnesota         MRO  East North Central  2013-06-21 00:00:00   \n",
       "12  Minnesota         MRO  East North Central  2005-09-21 00:00:00   \n",
       "14  Minnesota         MRO  East North Central  2011-05-11 00:00:00   \n",
       "15  Minnesota         MRO  East North Central  2014-06-15 00:00:00   \n",
       "16  Tennessee        SERC             Central  2015-06-07 00:00:00   \n",
       "\n",
       "   OUTAGE.START.TIME OUTAGE.RESTORATION.DATE OUTAGE.RESTORATION.TIME  \\\n",
       "1           17:00:00     2011-07-03 00:00:00                20:00:00   \n",
       "2           18:38:00     2014-05-11 00:00:00                18:39:00   \n",
       "3           20:00:00     2010-10-28 00:00:00                22:00:00   \n",
       "4           04:30:00     2012-06-20 00:00:00                23:00:00   \n",
       "5           02:00:00     2015-07-19 00:00:00                07:00:00   \n",
       "6           15:00:00     2010-11-14 00:00:00                22:00:00   \n",
       "7           20:30:00     2010-07-19 00:00:00                22:00:00   \n",
       "8           04:00:00     2005-06-10 00:00:00                22:00:00   \n",
       "9           07:31:00     2015-03-16 00:00:00                10:06:00   \n",
       "10          17:39:00     2013-06-24 00:00:00                06:00:00   \n",
       "11          03:00:00     2013-06-26 00:00:00                12:00:00   \n",
       "12          19:00:00     2005-09-27 00:00:00                23:00:00   \n",
       "14          15:55:00     2011-05-12 00:00:00                13:57:00   \n",
       "15          00:00:00     2014-06-15 00:00:00                01:00:00   \n",
       "16          13:54:00     2015-06-07 00:00:00                14:13:00   \n",
       "\n",
       "                   CAUSE.CATEGORY  OUTAGE.DURATION  RES.PERCEN  COM.PERCEN  \\\n",
       "1                  severe weather           3060.0   35.549073   32.225029   \n",
       "2              intentional attack              1.0   30.032487   34.210389   \n",
       "3                  severe weather           3000.0   28.097672   34.501015   \n",
       "4                  severe weather           2550.0   31.994099   33.543330   \n",
       "5                  severe weather           1740.0   33.982576   36.205850   \n",
       "6                  severe weather           1860.0   31.192784   33.235842   \n",
       "7                  severe weather           2970.0   34.314656   32.954501   \n",
       "8                  severe weather           3960.0   33.586173   34.515286   \n",
       "9              intentional attack            155.0   32.936916   34.947243   \n",
       "10                 severe weather           3621.0   30.754553   34.515140   \n",
       "11                 severe weather           7740.0   30.754553   34.515140   \n",
       "12                 severe weather           8880.0   31.076535   34.042257   \n",
       "14             intentional attack           1322.0   29.805110   33.648370   \n",
       "15                 severe weather             60.0   31.454898   34.729039   \n",
       "16  system operability disruption             19.0   41.177865   36.251911   \n",
       "\n",
       "    IND.PERCEN PC.REALGSP.REL POPPCT_URBAN  \n",
       "1    32.202431       1.077376        73.27  \n",
       "2    35.727564       1.089792        73.27  \n",
       "3    37.365983       1.066826        73.27  \n",
       "4    34.439329       1.071476        73.27  \n",
       "5    29.779498       1.092027        73.27  \n",
       "6    35.538160       1.066826        73.27  \n",
       "7    32.701651       1.066826        73.27  \n",
       "8    31.861839       1.090559        73.27  \n",
       "9    32.071962       1.092027        73.27  \n",
       "10   34.702296       1.084366        73.27  \n",
       "11   34.702296       1.084366        73.27  \n",
       "12   34.844026       1.090559        73.27  \n",
       "14   36.517827       1.077376        73.27  \n",
       "15   33.783501       1.089792        73.27  \n",
       "16   22.570224       0.851798        66.39  "
      ]
     },
     "metadata": {},
     "output_type": "display_data"
    }
   ],
   "source": [
    "# imputing 'PERCEN' columns using the \n",
    "df['RES.PERCEN'] = df['RES.PERCEN'].fillna(df['RES.PERCEN'].mean())\n",
    "df['COM.PERCEN'] = df['COM.PERCEN'].fillna(df['COM.PERCEN'].mean())\n",
    "df['IND.PERCEN'] = df['IND.PERCEN'].fillna(df['IND.PERCEN'].mean())\n",
    "display(df.head(15))"
   ]
  },
  {
   "cell_type": "code",
   "execution_count": 247,
   "metadata": {},
   "outputs": [
    {
     "data": {
      "text/plain": [
       "np.int64(0)"
      ]
     },
     "execution_count": 247,
     "metadata": {},
     "output_type": "execute_result"
    }
   ],
   "source": [
    "df['PC.REALGSP.REL'].isna().sum()\n",
    "# no null values"
   ]
  },
  {
   "cell_type": "code",
   "execution_count": 248,
   "metadata": {},
   "outputs": [
    {
     "data": {
      "text/plain": [
       "np.int64(0)"
      ]
     },
     "execution_count": 248,
     "metadata": {},
     "output_type": "execute_result"
    }
   ],
   "source": [
    "df['POPPCT_URBAN'].isna().sum()\n",
    "# no null values again"
   ]
  },
  {
   "cell_type": "code",
   "execution_count": 249,
   "metadata": {},
   "outputs": [],
   "source": [
    "# converting to pd.Timestamp\n",
    "outage_start_date_str = pd.to_datetime(df['OUTAGE.START.DATE']).astype(str)\n",
    "outage_start_time_str = pd.to_datetime(df['OUTAGE.START.TIME'], format='%H:%M:%S').dt.time.astype(str)\n",
    "outage_start = pd.to_datetime(outage_start_date_str + ' ' + outage_start_time_str)\n",
    "\n",
    "outage_restoration_date_str = pd.to_datetime(df['OUTAGE.RESTORATION.DATE']).astype(str)\n",
    "outage_restoration_time_str = pd.to_datetime(df['OUTAGE.RESTORATION.TIME'], format='%H:%M:%S').dt.time.astype(str)\n",
    "outage_restoration = pd.to_datetime(outage_restoration_date_str + ' ' + outage_restoration_time_str)\n",
    "\n",
    "df['OUTAGE.START'] = outage_start\n",
    "df['OUTAGE.RESTORATION'] = outage_restoration\n",
    "df = df.drop(columns=['OUTAGE.START.DATE', 'OUTAGE.START.TIME', 'OUTAGE.RESTORATION.DATE', 'OUTAGE.RESTORATION.TIME'])"
   ]
  },
  {
   "cell_type": "code",
   "execution_count": 250,
   "metadata": {},
   "outputs": [
    {
     "data": {
      "text/html": [
       "<div>\n",
       "<style scoped>\n",
       "    .dataframe tbody tr th:only-of-type {\n",
       "        vertical-align: middle;\n",
       "    }\n",
       "\n",
       "    .dataframe tbody tr th {\n",
       "        vertical-align: top;\n",
       "    }\n",
       "\n",
       "    .dataframe thead th {\n",
       "        text-align: right;\n",
       "    }\n",
       "</style>\n",
       "<table border=\"1\" class=\"dataframe\">\n",
       "  <thead>\n",
       "    <tr style=\"text-align: right;\">\n",
       "      <th></th>\n",
       "      <th>U.S._STATE</th>\n",
       "      <th>NERC.REGION</th>\n",
       "      <th>CLIMATE.REGION</th>\n",
       "      <th>CAUSE.CATEGORY</th>\n",
       "      <th>OUTAGE.DURATION</th>\n",
       "      <th>RES.PERCEN</th>\n",
       "      <th>COM.PERCEN</th>\n",
       "      <th>IND.PERCEN</th>\n",
       "      <th>PC.REALGSP.REL</th>\n",
       "      <th>POPPCT_URBAN</th>\n",
       "      <th>OUTAGE.START</th>\n",
       "      <th>OUTAGE.RESTORATION</th>\n",
       "    </tr>\n",
       "  </thead>\n",
       "  <tbody>\n",
       "    <tr>\n",
       "      <th>1</th>\n",
       "      <td>Minnesota</td>\n",
       "      <td>MRO</td>\n",
       "      <td>East North Central</td>\n",
       "      <td>severe weather</td>\n",
       "      <td>3060.0</td>\n",
       "      <td>35.549073</td>\n",
       "      <td>32.225029</td>\n",
       "      <td>32.202431</td>\n",
       "      <td>1.077376</td>\n",
       "      <td>73.27</td>\n",
       "      <td>2011-07-01 17:00:00</td>\n",
       "      <td>2011-07-03 20:00:00</td>\n",
       "    </tr>\n",
       "    <tr>\n",
       "      <th>2</th>\n",
       "      <td>Minnesota</td>\n",
       "      <td>MRO</td>\n",
       "      <td>East North Central</td>\n",
       "      <td>intentional attack</td>\n",
       "      <td>1.0</td>\n",
       "      <td>30.032487</td>\n",
       "      <td>34.210389</td>\n",
       "      <td>35.727564</td>\n",
       "      <td>1.089792</td>\n",
       "      <td>73.27</td>\n",
       "      <td>2014-05-11 18:38:00</td>\n",
       "      <td>2014-05-11 18:39:00</td>\n",
       "    </tr>\n",
       "    <tr>\n",
       "      <th>3</th>\n",
       "      <td>Minnesota</td>\n",
       "      <td>MRO</td>\n",
       "      <td>East North Central</td>\n",
       "      <td>severe weather</td>\n",
       "      <td>3000.0</td>\n",
       "      <td>28.097672</td>\n",
       "      <td>34.501015</td>\n",
       "      <td>37.365983</td>\n",
       "      <td>1.066826</td>\n",
       "      <td>73.27</td>\n",
       "      <td>2010-10-26 20:00:00</td>\n",
       "      <td>2010-10-28 22:00:00</td>\n",
       "    </tr>\n",
       "    <tr>\n",
       "      <th>4</th>\n",
       "      <td>Minnesota</td>\n",
       "      <td>MRO</td>\n",
       "      <td>East North Central</td>\n",
       "      <td>severe weather</td>\n",
       "      <td>2550.0</td>\n",
       "      <td>31.994099</td>\n",
       "      <td>33.543330</td>\n",
       "      <td>34.439329</td>\n",
       "      <td>1.071476</td>\n",
       "      <td>73.27</td>\n",
       "      <td>2012-06-19 04:30:00</td>\n",
       "      <td>2012-06-20 23:00:00</td>\n",
       "    </tr>\n",
       "    <tr>\n",
       "      <th>5</th>\n",
       "      <td>Minnesota</td>\n",
       "      <td>MRO</td>\n",
       "      <td>East North Central</td>\n",
       "      <td>severe weather</td>\n",
       "      <td>1740.0</td>\n",
       "      <td>33.982576</td>\n",
       "      <td>36.205850</td>\n",
       "      <td>29.779498</td>\n",
       "      <td>1.092027</td>\n",
       "      <td>73.27</td>\n",
       "      <td>2015-07-18 02:00:00</td>\n",
       "      <td>2015-07-19 07:00:00</td>\n",
       "    </tr>\n",
       "  </tbody>\n",
       "</table>\n",
       "</div>"
      ],
      "text/plain": [
       "  U.S._STATE NERC.REGION      CLIMATE.REGION      CAUSE.CATEGORY  \\\n",
       "1  Minnesota         MRO  East North Central      severe weather   \n",
       "2  Minnesota         MRO  East North Central  intentional attack   \n",
       "3  Minnesota         MRO  East North Central      severe weather   \n",
       "4  Minnesota         MRO  East North Central      severe weather   \n",
       "5  Minnesota         MRO  East North Central      severe weather   \n",
       "\n",
       "   OUTAGE.DURATION  RES.PERCEN  COM.PERCEN  IND.PERCEN PC.REALGSP.REL  \\\n",
       "1           3060.0   35.549073   32.225029   32.202431       1.077376   \n",
       "2              1.0   30.032487   34.210389   35.727564       1.089792   \n",
       "3           3000.0   28.097672   34.501015   37.365983       1.066826   \n",
       "4           2550.0   31.994099   33.543330   34.439329       1.071476   \n",
       "5           1740.0   33.982576   36.205850   29.779498       1.092027   \n",
       "\n",
       "  POPPCT_URBAN        OUTAGE.START  OUTAGE.RESTORATION  \n",
       "1        73.27 2011-07-01 17:00:00 2011-07-03 20:00:00  \n",
       "2        73.27 2014-05-11 18:38:00 2014-05-11 18:39:00  \n",
       "3        73.27 2010-10-26 20:00:00 2010-10-28 22:00:00  \n",
       "4        73.27 2012-06-19 04:30:00 2012-06-20 23:00:00  \n",
       "5        73.27 2015-07-18 02:00:00 2015-07-19 07:00:00  "
      ]
     },
     "metadata": {},
     "output_type": "display_data"
    }
   ],
   "source": [
    "display(df.head()) # head of the cleaned dataframe"
   ]
  },
  {
   "cell_type": "markdown",
   "metadata": {},
   "source": [
    "### Univariate Analysis"
   ]
  },
  {
   "cell_type": "code",
   "execution_count": 251,
   "metadata": {},
   "outputs": [
    {
     "data": {
      "application/vnd.plotly.v1+json": {
       "config": {
        "plotlyServerURL": "https://plot.ly"
       },
       "data": [
        {
         "domain": {
          "x": [
           0,
           1
          ],
          "y": [
           0,
           1
          ]
         },
         "hovertemplate": "CAUSE.CATEGORY=%{label}<br>count=%{value}<extra></extra>",
         "labels": [
          "severe weather",
          "intentional attack",
          "system operability disruption",
          "public appeal",
          "equipment failure",
          "islanding",
          "fuel supply emergency"
         ],
         "legendgroup": "",
         "name": "",
         "showlegend": true,
         "type": "pie",
         "values": [
          741,
          332,
          120,
          69,
          54,
          44,
          38
         ]
        }
       ],
       "layout": {
        "legend": {
         "tracegroupgap": 0
        },
        "template": {
         "data": {
          "bar": [
           {
            "error_x": {
             "color": "#2a3f5f"
            },
            "error_y": {
             "color": "#2a3f5f"
            },
            "marker": {
             "line": {
              "color": "#E5ECF6",
              "width": 0.5
             },
             "pattern": {
              "fillmode": "overlay",
              "size": 10,
              "solidity": 0.2
             }
            },
            "type": "bar"
           }
          ],
          "barpolar": [
           {
            "marker": {
             "line": {
              "color": "#E5ECF6",
              "width": 0.5
             },
             "pattern": {
              "fillmode": "overlay",
              "size": 10,
              "solidity": 0.2
             }
            },
            "type": "barpolar"
           }
          ],
          "carpet": [
           {
            "aaxis": {
             "endlinecolor": "#2a3f5f",
             "gridcolor": "white",
             "linecolor": "white",
             "minorgridcolor": "white",
             "startlinecolor": "#2a3f5f"
            },
            "baxis": {
             "endlinecolor": "#2a3f5f",
             "gridcolor": "white",
             "linecolor": "white",
             "minorgridcolor": "white",
             "startlinecolor": "#2a3f5f"
            },
            "type": "carpet"
           }
          ],
          "choropleth": [
           {
            "colorbar": {
             "outlinewidth": 0,
             "ticks": ""
            },
            "type": "choropleth"
           }
          ],
          "contour": [
           {
            "colorbar": {
             "outlinewidth": 0,
             "ticks": ""
            },
            "colorscale": [
             [
              0,
              "#0d0887"
             ],
             [
              0.1111111111111111,
              "#46039f"
             ],
             [
              0.2222222222222222,
              "#7201a8"
             ],
             [
              0.3333333333333333,
              "#9c179e"
             ],
             [
              0.4444444444444444,
              "#bd3786"
             ],
             [
              0.5555555555555556,
              "#d8576b"
             ],
             [
              0.6666666666666666,
              "#ed7953"
             ],
             [
              0.7777777777777778,
              "#fb9f3a"
             ],
             [
              0.8888888888888888,
              "#fdca26"
             ],
             [
              1,
              "#f0f921"
             ]
            ],
            "type": "contour"
           }
          ],
          "contourcarpet": [
           {
            "colorbar": {
             "outlinewidth": 0,
             "ticks": ""
            },
            "type": "contourcarpet"
           }
          ],
          "heatmap": [
           {
            "colorbar": {
             "outlinewidth": 0,
             "ticks": ""
            },
            "colorscale": [
             [
              0,
              "#0d0887"
             ],
             [
              0.1111111111111111,
              "#46039f"
             ],
             [
              0.2222222222222222,
              "#7201a8"
             ],
             [
              0.3333333333333333,
              "#9c179e"
             ],
             [
              0.4444444444444444,
              "#bd3786"
             ],
             [
              0.5555555555555556,
              "#d8576b"
             ],
             [
              0.6666666666666666,
              "#ed7953"
             ],
             [
              0.7777777777777778,
              "#fb9f3a"
             ],
             [
              0.8888888888888888,
              "#fdca26"
             ],
             [
              1,
              "#f0f921"
             ]
            ],
            "type": "heatmap"
           }
          ],
          "heatmapgl": [
           {
            "colorbar": {
             "outlinewidth": 0,
             "ticks": ""
            },
            "colorscale": [
             [
              0,
              "#0d0887"
             ],
             [
              0.1111111111111111,
              "#46039f"
             ],
             [
              0.2222222222222222,
              "#7201a8"
             ],
             [
              0.3333333333333333,
              "#9c179e"
             ],
             [
              0.4444444444444444,
              "#bd3786"
             ],
             [
              0.5555555555555556,
              "#d8576b"
             ],
             [
              0.6666666666666666,
              "#ed7953"
             ],
             [
              0.7777777777777778,
              "#fb9f3a"
             ],
             [
              0.8888888888888888,
              "#fdca26"
             ],
             [
              1,
              "#f0f921"
             ]
            ],
            "type": "heatmapgl"
           }
          ],
          "histogram": [
           {
            "marker": {
             "pattern": {
              "fillmode": "overlay",
              "size": 10,
              "solidity": 0.2
             }
            },
            "type": "histogram"
           }
          ],
          "histogram2d": [
           {
            "colorbar": {
             "outlinewidth": 0,
             "ticks": ""
            },
            "colorscale": [
             [
              0,
              "#0d0887"
             ],
             [
              0.1111111111111111,
              "#46039f"
             ],
             [
              0.2222222222222222,
              "#7201a8"
             ],
             [
              0.3333333333333333,
              "#9c179e"
             ],
             [
              0.4444444444444444,
              "#bd3786"
             ],
             [
              0.5555555555555556,
              "#d8576b"
             ],
             [
              0.6666666666666666,
              "#ed7953"
             ],
             [
              0.7777777777777778,
              "#fb9f3a"
             ],
             [
              0.8888888888888888,
              "#fdca26"
             ],
             [
              1,
              "#f0f921"
             ]
            ],
            "type": "histogram2d"
           }
          ],
          "histogram2dcontour": [
           {
            "colorbar": {
             "outlinewidth": 0,
             "ticks": ""
            },
            "colorscale": [
             [
              0,
              "#0d0887"
             ],
             [
              0.1111111111111111,
              "#46039f"
             ],
             [
              0.2222222222222222,
              "#7201a8"
             ],
             [
              0.3333333333333333,
              "#9c179e"
             ],
             [
              0.4444444444444444,
              "#bd3786"
             ],
             [
              0.5555555555555556,
              "#d8576b"
             ],
             [
              0.6666666666666666,
              "#ed7953"
             ],
             [
              0.7777777777777778,
              "#fb9f3a"
             ],
             [
              0.8888888888888888,
              "#fdca26"
             ],
             [
              1,
              "#f0f921"
             ]
            ],
            "type": "histogram2dcontour"
           }
          ],
          "mesh3d": [
           {
            "colorbar": {
             "outlinewidth": 0,
             "ticks": ""
            },
            "type": "mesh3d"
           }
          ],
          "parcoords": [
           {
            "line": {
             "colorbar": {
              "outlinewidth": 0,
              "ticks": ""
             }
            },
            "type": "parcoords"
           }
          ],
          "pie": [
           {
            "automargin": true,
            "type": "pie"
           }
          ],
          "scatter": [
           {
            "fillpattern": {
             "fillmode": "overlay",
             "size": 10,
             "solidity": 0.2
            },
            "type": "scatter"
           }
          ],
          "scatter3d": [
           {
            "line": {
             "colorbar": {
              "outlinewidth": 0,
              "ticks": ""
             }
            },
            "marker": {
             "colorbar": {
              "outlinewidth": 0,
              "ticks": ""
             }
            },
            "type": "scatter3d"
           }
          ],
          "scattercarpet": [
           {
            "marker": {
             "colorbar": {
              "outlinewidth": 0,
              "ticks": ""
             }
            },
            "type": "scattercarpet"
           }
          ],
          "scattergeo": [
           {
            "marker": {
             "colorbar": {
              "outlinewidth": 0,
              "ticks": ""
             }
            },
            "type": "scattergeo"
           }
          ],
          "scattergl": [
           {
            "marker": {
             "colorbar": {
              "outlinewidth": 0,
              "ticks": ""
             }
            },
            "type": "scattergl"
           }
          ],
          "scattermapbox": [
           {
            "marker": {
             "colorbar": {
              "outlinewidth": 0,
              "ticks": ""
             }
            },
            "type": "scattermapbox"
           }
          ],
          "scatterpolar": [
           {
            "marker": {
             "colorbar": {
              "outlinewidth": 0,
              "ticks": ""
             }
            },
            "type": "scatterpolar"
           }
          ],
          "scatterpolargl": [
           {
            "marker": {
             "colorbar": {
              "outlinewidth": 0,
              "ticks": ""
             }
            },
            "type": "scatterpolargl"
           }
          ],
          "scatterternary": [
           {
            "marker": {
             "colorbar": {
              "outlinewidth": 0,
              "ticks": ""
             }
            },
            "type": "scatterternary"
           }
          ],
          "surface": [
           {
            "colorbar": {
             "outlinewidth": 0,
             "ticks": ""
            },
            "colorscale": [
             [
              0,
              "#0d0887"
             ],
             [
              0.1111111111111111,
              "#46039f"
             ],
             [
              0.2222222222222222,
              "#7201a8"
             ],
             [
              0.3333333333333333,
              "#9c179e"
             ],
             [
              0.4444444444444444,
              "#bd3786"
             ],
             [
              0.5555555555555556,
              "#d8576b"
             ],
             [
              0.6666666666666666,
              "#ed7953"
             ],
             [
              0.7777777777777778,
              "#fb9f3a"
             ],
             [
              0.8888888888888888,
              "#fdca26"
             ],
             [
              1,
              "#f0f921"
             ]
            ],
            "type": "surface"
           }
          ],
          "table": [
           {
            "cells": {
             "fill": {
              "color": "#EBF0F8"
             },
             "line": {
              "color": "white"
             }
            },
            "header": {
             "fill": {
              "color": "#C8D4E3"
             },
             "line": {
              "color": "white"
             }
            },
            "type": "table"
           }
          ]
         },
         "layout": {
          "annotationdefaults": {
           "arrowcolor": "#2a3f5f",
           "arrowhead": 0,
           "arrowwidth": 1
          },
          "autotypenumbers": "strict",
          "coloraxis": {
           "colorbar": {
            "outlinewidth": 0,
            "ticks": ""
           }
          },
          "colorscale": {
           "diverging": [
            [
             0,
             "#8e0152"
            ],
            [
             0.1,
             "#c51b7d"
            ],
            [
             0.2,
             "#de77ae"
            ],
            [
             0.3,
             "#f1b6da"
            ],
            [
             0.4,
             "#fde0ef"
            ],
            [
             0.5,
             "#f7f7f7"
            ],
            [
             0.6,
             "#e6f5d0"
            ],
            [
             0.7,
             "#b8e186"
            ],
            [
             0.8,
             "#7fbc41"
            ],
            [
             0.9,
             "#4d9221"
            ],
            [
             1,
             "#276419"
            ]
           ],
           "sequential": [
            [
             0,
             "#0d0887"
            ],
            [
             0.1111111111111111,
             "#46039f"
            ],
            [
             0.2222222222222222,
             "#7201a8"
            ],
            [
             0.3333333333333333,
             "#9c179e"
            ],
            [
             0.4444444444444444,
             "#bd3786"
            ],
            [
             0.5555555555555556,
             "#d8576b"
            ],
            [
             0.6666666666666666,
             "#ed7953"
            ],
            [
             0.7777777777777778,
             "#fb9f3a"
            ],
            [
             0.8888888888888888,
             "#fdca26"
            ],
            [
             1,
             "#f0f921"
            ]
           ],
           "sequentialminus": [
            [
             0,
             "#0d0887"
            ],
            [
             0.1111111111111111,
             "#46039f"
            ],
            [
             0.2222222222222222,
             "#7201a8"
            ],
            [
             0.3333333333333333,
             "#9c179e"
            ],
            [
             0.4444444444444444,
             "#bd3786"
            ],
            [
             0.5555555555555556,
             "#d8576b"
            ],
            [
             0.6666666666666666,
             "#ed7953"
            ],
            [
             0.7777777777777778,
             "#fb9f3a"
            ],
            [
             0.8888888888888888,
             "#fdca26"
            ],
            [
             1,
             "#f0f921"
            ]
           ]
          },
          "colorway": [
           "#636efa",
           "#EF553B",
           "#00cc96",
           "#ab63fa",
           "#FFA15A",
           "#19d3f3",
           "#FF6692",
           "#B6E880",
           "#FF97FF",
           "#FECB52"
          ],
          "font": {
           "color": "#2a3f5f"
          },
          "geo": {
           "bgcolor": "white",
           "lakecolor": "white",
           "landcolor": "#E5ECF6",
           "showlakes": true,
           "showland": true,
           "subunitcolor": "white"
          },
          "hoverlabel": {
           "align": "left"
          },
          "hovermode": "closest",
          "mapbox": {
           "style": "light"
          },
          "paper_bgcolor": "white",
          "plot_bgcolor": "#E5ECF6",
          "polar": {
           "angularaxis": {
            "gridcolor": "white",
            "linecolor": "white",
            "ticks": ""
           },
           "bgcolor": "#E5ECF6",
           "radialaxis": {
            "gridcolor": "white",
            "linecolor": "white",
            "ticks": ""
           }
          },
          "scene": {
           "xaxis": {
            "backgroundcolor": "#E5ECF6",
            "gridcolor": "white",
            "gridwidth": 2,
            "linecolor": "white",
            "showbackground": true,
            "ticks": "",
            "zerolinecolor": "white"
           },
           "yaxis": {
            "backgroundcolor": "#E5ECF6",
            "gridcolor": "white",
            "gridwidth": 2,
            "linecolor": "white",
            "showbackground": true,
            "ticks": "",
            "zerolinecolor": "white"
           },
           "zaxis": {
            "backgroundcolor": "#E5ECF6",
            "gridcolor": "white",
            "gridwidth": 2,
            "linecolor": "white",
            "showbackground": true,
            "ticks": "",
            "zerolinecolor": "white"
           }
          },
          "shapedefaults": {
           "line": {
            "color": "#2a3f5f"
           }
          },
          "ternary": {
           "aaxis": {
            "gridcolor": "white",
            "linecolor": "white",
            "ticks": ""
           },
           "baxis": {
            "gridcolor": "white",
            "linecolor": "white",
            "ticks": ""
           },
           "bgcolor": "#E5ECF6",
           "caxis": {
            "gridcolor": "white",
            "linecolor": "white",
            "ticks": ""
           }
          },
          "title": {
           "x": 0.05
          },
          "xaxis": {
           "automargin": true,
           "gridcolor": "white",
           "linecolor": "white",
           "ticks": "",
           "title": {
            "standoff": 15
           },
           "zerolinecolor": "white",
           "zerolinewidth": 2
          },
          "yaxis": {
           "automargin": true,
           "gridcolor": "white",
           "linecolor": "white",
           "ticks": "",
           "title": {
            "standoff": 15
           },
           "zerolinecolor": "white",
           "zerolinewidth": 2
          }
         }
        },
        "title": {
         "text": "Relative Frequencies of Causes of Power Outages"
        }
       }
      }
     },
     "metadata": {},
     "output_type": "display_data"
    }
   ],
   "source": [
    "cause_counts = pd.DataFrame(df['CAUSE.CATEGORY'].value_counts().reset_index())\n",
    "pie_fig = px.pie(cause_counts, values='count', names='CAUSE.CATEGORY', title='Relative Frequencies of Causes of Power Outages')\n",
    "pie_fig.show()\n",
    "# This plot shows that the most common cause of power outages is severe weather, and the least common is fuel supply emergency\n",
    "\n",
    "# -- Exporting plotly figure as HTML --\n",
    "pie_fig.write_html('assets/pie-chart.html', include_plotlyjs='cdn')\n"
   ]
  },
  {
   "cell_type": "code",
   "execution_count": 252,
   "metadata": {},
   "outputs": [
    {
     "data": {
      "application/vnd.plotly.v1+json": {
       "config": {
        "plotlyServerURL": "https://plot.ly"
       },
       "data": [
        {
         "alignmentgroup": "True",
         "bingroup": "x",
         "hovertemplate": "State=%{x}<br>count=%{y}<extra></extra>",
         "legendgroup": "",
         "marker": {
          "color": "#636efa",
          "pattern": {
           "shape": ""
          }
         },
         "name": "",
         "offsetgroup": "",
         "orientation": "v",
         "showlegend": false,
         "type": "histogram",
         "x": [
          "Minnesota",
          "Minnesota",
          "Minnesota",
          "Minnesota",
          "Minnesota",
          "Minnesota",
          "Minnesota",
          "Minnesota",
          "Minnesota",
          "Minnesota",
          "Minnesota",
          "Minnesota",
          "Minnesota",
          "Minnesota",
          "Tennessee",
          "Tennessee",
          "Tennessee",
          "Tennessee",
          "Tennessee",
          "Tennessee",
          "Tennessee",
          "Tennessee",
          "Tennessee",
          "Tennessee",
          "Tennessee",
          "Tennessee",
          "Tennessee",
          "Tennessee",
          "Tennessee",
          "Tennessee",
          "Tennessee",
          "Tennessee",
          "Tennessee",
          "Tennessee",
          "Tennessee",
          "Tennessee",
          "Tennessee",
          "Tennessee",
          "Tennessee",
          "Tennessee",
          "Tennessee",
          "Tennessee",
          "Tennessee",
          "Wisconsin",
          "Wisconsin",
          "Wisconsin",
          "Wisconsin",
          "Wisconsin",
          "Wisconsin",
          "Wisconsin",
          "Wisconsin",
          "Wisconsin",
          "Wisconsin",
          "Wisconsin",
          "Wisconsin",
          "Wisconsin",
          "Wisconsin",
          "Wisconsin",
          "Wisconsin",
          "Wisconsin",
          "Wisconsin",
          "Wisconsin",
          "West Virginia",
          "West Virginia",
          "West Virginia",
          "West Virginia",
          "Michigan",
          "Michigan",
          "Michigan",
          "Michigan",
          "Michigan",
          "Michigan",
          "Michigan",
          "Michigan",
          "Michigan",
          "Michigan",
          "Michigan",
          "Michigan",
          "Michigan",
          "Michigan",
          "Michigan",
          "Michigan",
          "Michigan",
          "Michigan",
          "Michigan",
          "Michigan",
          "Michigan",
          "Michigan",
          "Michigan",
          "Michigan",
          "Michigan",
          "Michigan",
          "Michigan",
          "Michigan",
          "Michigan",
          "Michigan",
          "Michigan",
          "Michigan",
          "Michigan",
          "Michigan",
          "Michigan",
          "Michigan",
          "Michigan",
          "Michigan",
          "Michigan",
          "Michigan",
          "Michigan",
          "Michigan",
          "Michigan",
          "Michigan",
          "Michigan",
          "Michigan",
          "Michigan",
          "Michigan",
          "Michigan",
          "Michigan",
          "Michigan",
          "Michigan",
          "Michigan",
          "Michigan",
          "Michigan",
          "Michigan",
          "Michigan",
          "Michigan",
          "Michigan",
          "Michigan",
          "Michigan",
          "Michigan",
          "Michigan",
          "Michigan",
          "Michigan",
          "Michigan",
          "Michigan",
          "Michigan",
          "Michigan",
          "Michigan",
          "Michigan",
          "Michigan",
          "Michigan",
          "Michigan",
          "Michigan",
          "Michigan",
          "Michigan",
          "Michigan",
          "Michigan",
          "Michigan",
          "Michigan",
          "Michigan",
          "Michigan",
          "Michigan",
          "Michigan",
          "Michigan",
          "Michigan",
          "Michigan",
          "Michigan",
          "Michigan",
          "Michigan",
          "Michigan",
          "Michigan",
          "Michigan",
          "Michigan",
          "Texas",
          "Texas",
          "Texas",
          "Texas",
          "Texas",
          "Texas",
          "Texas",
          "Texas",
          "Texas",
          "Texas",
          "Texas",
          "Texas",
          "Texas",
          "Texas",
          "Texas",
          "Texas",
          "Texas",
          "Texas",
          "Texas",
          "Texas",
          "Texas",
          "Texas",
          "Texas",
          "Texas",
          "Texas",
          "Texas",
          "Texas",
          "Texas",
          "Texas",
          "Texas",
          "Texas",
          "Texas",
          "Texas",
          "Texas",
          "Texas",
          "Texas",
          "Texas",
          "Texas",
          "Texas",
          "Texas",
          "Texas",
          "Texas",
          "Texas",
          "Texas",
          "Texas",
          "Texas",
          "Texas",
          "Texas",
          "Texas",
          "Texas",
          "Texas",
          "Texas",
          "Texas",
          "Texas",
          "Texas",
          "Texas",
          "Texas",
          "Texas",
          "Texas",
          "Texas",
          "Texas",
          "Texas",
          "Texas",
          "Texas",
          "Texas",
          "Texas",
          "Texas",
          "Texas",
          "Texas",
          "Texas",
          "Texas",
          "Texas",
          "Texas",
          "Texas",
          "Texas",
          "Texas",
          "Texas",
          "Texas",
          "Texas",
          "Texas",
          "Texas",
          "Texas",
          "Texas",
          "Texas",
          "Texas",
          "Texas",
          "Texas",
          "Texas",
          "Texas",
          "Texas",
          "Texas",
          "Texas",
          "Texas",
          "Texas",
          "Texas",
          "Texas",
          "Texas",
          "Texas",
          "Texas",
          "Texas",
          "Texas",
          "Texas",
          "Texas",
          "Texas",
          "Texas",
          "Texas",
          "Texas",
          "Texas",
          "Texas",
          "Texas",
          "Texas",
          "Texas",
          "Texas",
          "Texas",
          "Texas",
          "Texas",
          "Texas",
          "Texas",
          "Texas",
          "Texas",
          "Texas",
          "Indiana",
          "Indiana",
          "Indiana",
          "Indiana",
          "Indiana",
          "Indiana",
          "Indiana",
          "Indiana",
          "Indiana",
          "Indiana",
          "Indiana",
          "Indiana",
          "Indiana",
          "Indiana",
          "Indiana",
          "Indiana",
          "Indiana",
          "Indiana",
          "Indiana",
          "Indiana",
          "Indiana",
          "Indiana",
          "Indiana",
          "Indiana",
          "Indiana",
          "Indiana",
          "Indiana",
          "Indiana",
          "Indiana",
          "Indiana",
          "Indiana",
          "Indiana",
          "Indiana",
          "Indiana",
          "Indiana",
          "Indiana",
          "Indiana",
          "Indiana",
          "Indiana",
          "Alabama",
          "Alabama",
          "Alabama",
          "Alabama",
          "Alabama",
          "Mississippi",
          "Mississippi",
          "Mississippi",
          "Mississippi",
          "Illinois",
          "Illinois",
          "Illinois",
          "Illinois",
          "Illinois",
          "Illinois",
          "Illinois",
          "Illinois",
          "Illinois",
          "Illinois",
          "Illinois",
          "Illinois",
          "Illinois",
          "Illinois",
          "Illinois",
          "Illinois",
          "Illinois",
          "Illinois",
          "Illinois",
          "Illinois",
          "Illinois",
          "Illinois",
          "Illinois",
          "Illinois",
          "Illinois",
          "Illinois",
          "Illinois",
          "Illinois",
          "Illinois",
          "Illinois",
          "Illinois",
          "Illinois",
          "Illinois",
          "Illinois",
          "Illinois",
          "Illinois",
          "Illinois",
          "Illinois",
          "Illinois",
          "Illinois",
          "Illinois",
          "Illinois",
          "Illinois",
          "Washington",
          "Washington",
          "Washington",
          "Washington",
          "Washington",
          "Washington",
          "Washington",
          "Washington",
          "Washington",
          "Washington",
          "Washington",
          "Washington",
          "Washington",
          "Washington",
          "Washington",
          "Washington",
          "Washington",
          "Washington",
          "Washington",
          "Washington",
          "Washington",
          "Washington",
          "Washington",
          "Washington",
          "Washington",
          "Washington",
          "Washington",
          "Washington",
          "Washington",
          "Washington",
          "Washington",
          "Washington",
          "Washington",
          "Washington",
          "Washington",
          "Washington",
          "Washington",
          "Washington",
          "Washington",
          "Washington",
          "Washington",
          "Washington",
          "Washington",
          "Washington",
          "Washington",
          "Washington",
          "Washington",
          "Washington",
          "Washington",
          "Washington",
          "Washington",
          "Washington",
          "Washington",
          "Washington",
          "Washington",
          "Washington",
          "Washington",
          "Washington",
          "Washington",
          "Washington",
          "Washington",
          "Washington",
          "Washington",
          "Washington",
          "Washington",
          "Washington",
          "Washington",
          "Washington",
          "Washington",
          "Washington",
          "Washington",
          "Washington",
          "Washington",
          "Arizona",
          "Arizona",
          "Arizona",
          "Arizona",
          "Arizona",
          "Arizona",
          "Arizona",
          "Arizona",
          "Arizona",
          "Arizona",
          "Arizona",
          "Arizona",
          "Arizona",
          "Arizona",
          "Arizona",
          "Arizona",
          "Arizona",
          "Arizona",
          "Arizona",
          "Arizona",
          "Arizona",
          "Arizona",
          "Arizona",
          "Arizona",
          "Arizona",
          "Maryland",
          "Maryland",
          "Maryland",
          "Maryland",
          "Maryland",
          "Maryland",
          "Maryland",
          "Maryland",
          "Maryland",
          "Maryland",
          "Maryland",
          "Maryland",
          "Maryland",
          "Maryland",
          "Maryland",
          "Maryland",
          "Maryland",
          "Maryland",
          "Maryland",
          "Maryland",
          "Maryland",
          "Maryland",
          "Maryland",
          "Maryland",
          "Maryland",
          "Maryland",
          "Maryland",
          "Maryland",
          "Maryland",
          "Maryland",
          "Maryland",
          "Maryland",
          "Maryland",
          "Maryland",
          "Maryland",
          "Maryland",
          "Maryland",
          "Maryland",
          "Maryland",
          "Maryland",
          "Maryland",
          "Maryland",
          "Maryland",
          "Maryland",
          "Maryland",
          "Maryland",
          "Maryland",
          "Maryland",
          "Maryland",
          "Maryland",
          "Maryland",
          "Maryland",
          "Pennsylvania",
          "Pennsylvania",
          "Pennsylvania",
          "Pennsylvania",
          "Pennsylvania",
          "Pennsylvania",
          "Pennsylvania",
          "Pennsylvania",
          "Pennsylvania",
          "Pennsylvania",
          "Pennsylvania",
          "Pennsylvania",
          "Pennsylvania",
          "Pennsylvania",
          "Pennsylvania",
          "Pennsylvania",
          "Pennsylvania",
          "Pennsylvania",
          "Pennsylvania",
          "Pennsylvania",
          "Pennsylvania",
          "Pennsylvania",
          "Pennsylvania",
          "Pennsylvania",
          "Pennsylvania",
          "Pennsylvania",
          "Pennsylvania",
          "Pennsylvania",
          "Pennsylvania",
          "Pennsylvania",
          "Pennsylvania",
          "Pennsylvania",
          "Pennsylvania",
          "Pennsylvania",
          "Pennsylvania",
          "Pennsylvania",
          "Pennsylvania",
          "Pennsylvania",
          "Pennsylvania",
          "Pennsylvania",
          "Pennsylvania",
          "Pennsylvania",
          "Pennsylvania",
          "Pennsylvania",
          "Pennsylvania",
          "Pennsylvania",
          "Pennsylvania",
          "Pennsylvania",
          "Pennsylvania",
          "Pennsylvania",
          "Pennsylvania",
          "Pennsylvania",
          "Pennsylvania",
          "Pennsylvania",
          "Pennsylvania",
          "Pennsylvania",
          "Pennsylvania",
          "Kentucky",
          "Kentucky",
          "Kentucky",
          "Kentucky",
          "Kentucky",
          "Kentucky",
          "Kentucky",
          "Kentucky",
          "Kentucky",
          "Kentucky",
          "Kentucky",
          "Kentucky",
          "Kentucky",
          "Utah",
          "Utah",
          "Utah",
          "Utah",
          "Utah",
          "Utah",
          "Utah",
          "Utah",
          "Utah",
          "Utah",
          "Utah",
          "Utah",
          "Utah",
          "Utah",
          "Utah",
          "Utah",
          "Utah",
          "Utah",
          "Utah",
          "Utah",
          "Utah",
          "Utah",
          "Utah",
          "Utah",
          "Utah",
          "Utah",
          "Utah",
          "Utah",
          "Utah",
          "Utah",
          "Utah",
          "Utah",
          "Utah",
          "Utah",
          "Utah",
          "Utah",
          "Utah",
          "Utah",
          "Utah",
          "Ohio",
          "Ohio",
          "Ohio",
          "Ohio",
          "Ohio",
          "Ohio",
          "Ohio",
          "Ohio",
          "Ohio",
          "Ohio",
          "Ohio",
          "Ohio",
          "Ohio",
          "Ohio",
          "Ohio",
          "Ohio",
          "Ohio",
          "Ohio",
          "Ohio",
          "Ohio",
          "Ohio",
          "Ohio",
          "Ohio",
          "Ohio",
          "Ohio",
          "Ohio",
          "Ohio",
          "Ohio",
          "Ohio",
          "Ohio",
          "Ohio",
          "Ohio",
          "Ohio",
          "Ohio",
          "Ohio",
          "Ohio",
          "Ohio",
          "North Carolina",
          "North Carolina",
          "North Carolina",
          "North Carolina",
          "North Carolina",
          "North Carolina",
          "North Carolina",
          "North Carolina",
          "North Carolina",
          "North Carolina",
          "North Carolina",
          "North Carolina",
          "North Carolina",
          "North Carolina",
          "North Carolina",
          "North Carolina",
          "North Carolina",
          "North Carolina",
          "North Carolina",
          "North Carolina",
          "North Carolina",
          "North Carolina",
          "North Carolina",
          "North Carolina",
          "North Carolina",
          "North Carolina",
          "North Carolina",
          "North Carolina",
          "North Carolina",
          "North Carolina",
          "North Carolina",
          "North Carolina",
          "North Carolina",
          "North Carolina",
          "North Carolina",
          "North Carolina",
          "North Carolina",
          "North Carolina",
          "New Jersey",
          "New Jersey",
          "New Jersey",
          "New Jersey",
          "New Jersey",
          "New Jersey",
          "New Jersey",
          "New Jersey",
          "New Jersey",
          "New Jersey",
          "New Jersey",
          "New Jersey",
          "New Jersey",
          "New Jersey",
          "New Jersey",
          "New Jersey",
          "New Jersey",
          "New Jersey",
          "New Jersey",
          "New Jersey",
          "New Jersey",
          "New Jersey",
          "New Jersey",
          "New Jersey",
          "New Jersey",
          "New Jersey",
          "New Jersey",
          "South Carolina",
          "South Carolina",
          "South Carolina",
          "South Carolina",
          "South Carolina",
          "South Carolina",
          "South Carolina",
          "South Carolina",
          "Oregon",
          "Oregon",
          "Oregon",
          "Oregon",
          "Oregon",
          "Oregon",
          "Oregon",
          "Oregon",
          "Oregon",
          "Oregon",
          "Oregon",
          "Oregon",
          "Oregon",
          "Oregon",
          "Oregon",
          "Oregon",
          "Oregon",
          "Oregon",
          "Oregon",
          "Oregon",
          "Oregon",
          "Oregon",
          "Oregon",
          "District of Columbia",
          "District of Columbia",
          "District of Columbia",
          "District of Columbia",
          "District of Columbia",
          "District of Columbia",
          "District of Columbia",
          "District of Columbia",
          "District of Columbia",
          "District of Columbia",
          "Missouri",
          "Missouri",
          "Missouri",
          "Missouri",
          "Missouri",
          "Missouri",
          "Missouri",
          "Missouri",
          "Missouri",
          "Missouri",
          "Missouri",
          "Missouri",
          "Missouri",
          "Missouri",
          "Delaware",
          "Delaware",
          "Delaware",
          "Delaware",
          "Delaware",
          "Delaware",
          "Delaware",
          "Delaware",
          "Delaware",
          "Delaware",
          "Delaware",
          "Delaware",
          "Delaware",
          "Delaware",
          "Delaware",
          "Delaware",
          "Delaware",
          "Delaware",
          "Delaware",
          "Delaware",
          "Delaware",
          "Delaware",
          "Delaware",
          "Delaware",
          "Delaware",
          "Delaware",
          "Delaware",
          "Delaware",
          "Delaware",
          "Iowa",
          "Iowa",
          "Iowa",
          "Iowa",
          "Iowa",
          "Iowa",
          "Iowa",
          "Iowa",
          "Montana",
          "Montana",
          "Montana",
          "New York",
          "New York",
          "New York",
          "New York",
          "New York",
          "New York",
          "New York",
          "New York",
          "New York",
          "New York",
          "New York",
          "New York",
          "New York",
          "New York",
          "New York",
          "New York",
          "New York",
          "New York",
          "New York",
          "New York",
          "New York",
          "New York",
          "New York",
          "New York",
          "New York",
          "New York",
          "New York",
          "New York",
          "New York",
          "New York",
          "New York",
          "New York",
          "New York",
          "New York",
          "New York",
          "New York",
          "New York",
          "New York",
          "New York",
          "New York",
          "New York",
          "New York",
          "New York",
          "New York",
          "New York",
          "New York",
          "New York",
          "New York",
          "New York",
          "New York",
          "New York",
          "New York",
          "New York",
          "New York",
          "New York",
          "New York",
          "New York",
          "New York",
          "New York",
          "New York",
          "New York",
          "New York",
          "New York",
          "New York",
          "New York",
          "New York",
          "Louisiana",
          "Louisiana",
          "Louisiana",
          "Louisiana",
          "Louisiana",
          "Louisiana",
          "Louisiana",
          "Louisiana",
          "Louisiana",
          "Louisiana",
          "Louisiana",
          "Louisiana",
          "Louisiana",
          "Louisiana",
          "Louisiana",
          "Louisiana",
          "Louisiana",
          "Louisiana",
          "Louisiana",
          "Louisiana",
          "Louisiana",
          "Louisiana",
          "Louisiana",
          "Louisiana",
          "Louisiana",
          "Louisiana",
          "Louisiana",
          "Louisiana",
          "Louisiana",
          "Louisiana",
          "Louisiana",
          "Louisiana",
          "Louisiana",
          "Louisiana",
          "Louisiana",
          "Louisiana",
          "Louisiana",
          "Louisiana",
          "Florida",
          "Florida",
          "Florida",
          "Florida",
          "Florida",
          "Florida",
          "Florida",
          "Florida",
          "Florida",
          "Florida",
          "Florida",
          "Florida",
          "Florida",
          "Florida",
          "Florida",
          "Florida",
          "Florida",
          "Florida",
          "Florida",
          "Florida",
          "Florida",
          "Florida",
          "Florida",
          "Florida",
          "Florida",
          "Florida",
          "Florida",
          "Florida",
          "Florida",
          "Florida",
          "Florida",
          "Florida",
          "Florida",
          "Florida",
          "Florida",
          "Florida",
          "Florida",
          "Florida",
          "Florida",
          "Florida",
          "Florida",
          "Florida",
          "Florida",
          "Florida",
          "Florida",
          "California",
          "California",
          "California",
          "California",
          "California",
          "California",
          "California",
          "California",
          "California",
          "California",
          "California",
          "California",
          "California",
          "California",
          "California",
          "California",
          "California",
          "California",
          "California",
          "California",
          "California",
          "California",
          "California",
          "California",
          "California",
          "California",
          "California",
          "California",
          "California",
          "California",
          "California",
          "California",
          "California",
          "California",
          "California",
          "California",
          "California",
          "California",
          "California",
          "California",
          "California",
          "California",
          "California",
          "California",
          "California",
          "California",
          "California",
          "California",
          "California",
          "California",
          "California",
          "California",
          "California",
          "California",
          "California",
          "California",
          "California",
          "California",
          "California",
          "California",
          "California",
          "California",
          "California",
          "California",
          "California",
          "California",
          "California",
          "California",
          "California",
          "California",
          "California",
          "California",
          "California",
          "California",
          "California",
          "California",
          "California",
          "California",
          "California",
          "California",
          "California",
          "California",
          "California",
          "California",
          "California",
          "California",
          "California",
          "California",
          "California",
          "California",
          "California",
          "California",
          "California",
          "California",
          "California",
          "California",
          "California",
          "California",
          "California",
          "California",
          "California",
          "California",
          "California",
          "California",
          "California",
          "California",
          "California",
          "California",
          "California",
          "California",
          "California",
          "California",
          "California",
          "California",
          "California",
          "California",
          "California",
          "California",
          "California",
          "California",
          "California",
          "California",
          "California",
          "California",
          "California",
          "California",
          "California",
          "California",
          "California",
          "California",
          "California",
          "California",
          "California",
          "California",
          "California",
          "California",
          "California",
          "California",
          "California",
          "California",
          "California",
          "California",
          "California",
          "California",
          "California",
          "California",
          "California",
          "California",
          "California",
          "California",
          "California",
          "California",
          "California",
          "California",
          "California",
          "California",
          "California",
          "California",
          "California",
          "California",
          "California",
          "California",
          "California",
          "California",
          "California",
          "California",
          "California",
          "California",
          "California",
          "California",
          "California",
          "California",
          "California",
          "California",
          "California",
          "California",
          "California",
          "California",
          "California",
          "California",
          "California",
          "California",
          "California",
          "California",
          "California",
          "California",
          "California",
          "California",
          "California",
          "California",
          "California",
          "California",
          "California",
          "California",
          "California",
          "California",
          "California",
          "Arkansas",
          "Arkansas",
          "Arkansas",
          "Arkansas",
          "Arkansas",
          "Arkansas",
          "Arkansas",
          "Arkansas",
          "Arkansas",
          "Arkansas",
          "Arkansas",
          "Arkansas",
          "Arkansas",
          "Arkansas",
          "Arkansas",
          "Arkansas",
          "Arkansas",
          "Arkansas",
          "Arkansas",
          "Arkansas",
          "Arkansas",
          "Arkansas",
          "Arkansas",
          "Arkansas",
          "Arkansas",
          "Virginia",
          "Virginia",
          "Virginia",
          "Virginia",
          "Virginia",
          "Virginia",
          "Virginia",
          "Virginia",
          "Virginia",
          "Virginia",
          "Virginia",
          "Virginia",
          "Virginia",
          "Virginia",
          "Virginia",
          "Virginia",
          "Virginia",
          "Virginia",
          "Virginia",
          "Virginia",
          "Virginia",
          "Virginia",
          "Virginia",
          "Virginia",
          "Virginia",
          "Virginia",
          "Virginia",
          "Virginia",
          "Virginia",
          "Virginia",
          "Virginia",
          "Virginia",
          "Virginia",
          "Virginia",
          "Virginia",
          "Nebraska",
          "Nebraska",
          "Nebraska",
          "Nebraska",
          "Wyoming",
          "Wyoming",
          "Wyoming",
          "Wyoming",
          "New Mexico",
          "New Mexico",
          "New Mexico",
          "New Mexico",
          "New Mexico",
          "New Mexico",
          "New Mexico",
          "Vermont",
          "Vermont",
          "Vermont",
          "Vermont",
          "Vermont",
          "Vermont",
          "Vermont",
          "Vermont",
          "Vermont",
          "Georgia",
          "Georgia",
          "Georgia",
          "Georgia",
          "Georgia",
          "Georgia",
          "Georgia",
          "Georgia",
          "Georgia",
          "Georgia",
          "Georgia",
          "Georgia",
          "Georgia",
          "Georgia",
          "Georgia",
          "Georgia",
          "Georgia",
          "Connecticut",
          "Connecticut",
          "Connecticut",
          "Connecticut",
          "Connecticut",
          "Connecticut",
          "Connecticut",
          "Connecticut",
          "Connecticut",
          "Connecticut",
          "Connecticut",
          "Connecticut",
          "Connecticut",
          "Connecticut",
          "Connecticut",
          "Connecticut",
          "Oklahoma",
          "Oklahoma",
          "Oklahoma",
          "Oklahoma",
          "Oklahoma",
          "Oklahoma",
          "Oklahoma",
          "Oklahoma",
          "Oklahoma",
          "Oklahoma",
          "Oklahoma",
          "Oklahoma",
          "Oklahoma",
          "Oklahoma",
          "Oklahoma",
          "Oklahoma",
          "Oklahoma",
          "Oklahoma",
          "Oklahoma",
          "Oklahoma",
          "Oklahoma",
          "Massachusetts",
          "Massachusetts",
          "Massachusetts",
          "Massachusetts",
          "Massachusetts",
          "Massachusetts",
          "Massachusetts",
          "Massachusetts",
          "Massachusetts",
          "Massachusetts",
          "Massachusetts",
          "Massachusetts",
          "Massachusetts",
          "Massachusetts",
          "Massachusetts",
          "Massachusetts",
          "Maine",
          "Maine",
          "Maine",
          "Maine",
          "Maine",
          "Maine",
          "Maine",
          "Maine",
          "Maine",
          "Maine",
          "Maine",
          "Maine",
          "Maine",
          "Maine",
          "Maine",
          "New Hampshire",
          "New Hampshire",
          "New Hampshire",
          "New Hampshire",
          "New Hampshire",
          "New Hampshire",
          "New Hampshire",
          "New Hampshire",
          "New Hampshire",
          "New Hampshire",
          "New Hampshire",
          "New Hampshire",
          "Nevada",
          "Nevada",
          "Nevada",
          "Nevada",
          "Nevada",
          "Nevada",
          "Nevada",
          "Colorado",
          "Colorado",
          "Colorado",
          "Colorado",
          "Colorado",
          "Colorado",
          "Colorado",
          "Colorado",
          "Colorado",
          "Colorado",
          "Colorado",
          "Colorado",
          "Colorado",
          "Colorado",
          "Kansas",
          "Kansas",
          "Kansas",
          "Kansas",
          "Kansas",
          "Kansas",
          "Kansas",
          "Hawaii",
          "Hawaii",
          "Hawaii",
          "Hawaii",
          "Hawaii",
          "Idaho",
          "Idaho",
          "Idaho",
          "Idaho",
          "Idaho",
          "Idaho",
          "North Dakota",
          "South Dakota",
          "South Dakota"
         ],
         "xaxis": "x",
         "yaxis": "y"
        }
       ],
       "layout": {
        "barmode": "relative",
        "legend": {
         "tracegroupgap": 0
        },
        "template": {
         "data": {
          "bar": [
           {
            "error_x": {
             "color": "#2a3f5f"
            },
            "error_y": {
             "color": "#2a3f5f"
            },
            "marker": {
             "line": {
              "color": "#E5ECF6",
              "width": 0.5
             },
             "pattern": {
              "fillmode": "overlay",
              "size": 10,
              "solidity": 0.2
             }
            },
            "type": "bar"
           }
          ],
          "barpolar": [
           {
            "marker": {
             "line": {
              "color": "#E5ECF6",
              "width": 0.5
             },
             "pattern": {
              "fillmode": "overlay",
              "size": 10,
              "solidity": 0.2
             }
            },
            "type": "barpolar"
           }
          ],
          "carpet": [
           {
            "aaxis": {
             "endlinecolor": "#2a3f5f",
             "gridcolor": "white",
             "linecolor": "white",
             "minorgridcolor": "white",
             "startlinecolor": "#2a3f5f"
            },
            "baxis": {
             "endlinecolor": "#2a3f5f",
             "gridcolor": "white",
             "linecolor": "white",
             "minorgridcolor": "white",
             "startlinecolor": "#2a3f5f"
            },
            "type": "carpet"
           }
          ],
          "choropleth": [
           {
            "colorbar": {
             "outlinewidth": 0,
             "ticks": ""
            },
            "type": "choropleth"
           }
          ],
          "contour": [
           {
            "colorbar": {
             "outlinewidth": 0,
             "ticks": ""
            },
            "colorscale": [
             [
              0,
              "#0d0887"
             ],
             [
              0.1111111111111111,
              "#46039f"
             ],
             [
              0.2222222222222222,
              "#7201a8"
             ],
             [
              0.3333333333333333,
              "#9c179e"
             ],
             [
              0.4444444444444444,
              "#bd3786"
             ],
             [
              0.5555555555555556,
              "#d8576b"
             ],
             [
              0.6666666666666666,
              "#ed7953"
             ],
             [
              0.7777777777777778,
              "#fb9f3a"
             ],
             [
              0.8888888888888888,
              "#fdca26"
             ],
             [
              1,
              "#f0f921"
             ]
            ],
            "type": "contour"
           }
          ],
          "contourcarpet": [
           {
            "colorbar": {
             "outlinewidth": 0,
             "ticks": ""
            },
            "type": "contourcarpet"
           }
          ],
          "heatmap": [
           {
            "colorbar": {
             "outlinewidth": 0,
             "ticks": ""
            },
            "colorscale": [
             [
              0,
              "#0d0887"
             ],
             [
              0.1111111111111111,
              "#46039f"
             ],
             [
              0.2222222222222222,
              "#7201a8"
             ],
             [
              0.3333333333333333,
              "#9c179e"
             ],
             [
              0.4444444444444444,
              "#bd3786"
             ],
             [
              0.5555555555555556,
              "#d8576b"
             ],
             [
              0.6666666666666666,
              "#ed7953"
             ],
             [
              0.7777777777777778,
              "#fb9f3a"
             ],
             [
              0.8888888888888888,
              "#fdca26"
             ],
             [
              1,
              "#f0f921"
             ]
            ],
            "type": "heatmap"
           }
          ],
          "heatmapgl": [
           {
            "colorbar": {
             "outlinewidth": 0,
             "ticks": ""
            },
            "colorscale": [
             [
              0,
              "#0d0887"
             ],
             [
              0.1111111111111111,
              "#46039f"
             ],
             [
              0.2222222222222222,
              "#7201a8"
             ],
             [
              0.3333333333333333,
              "#9c179e"
             ],
             [
              0.4444444444444444,
              "#bd3786"
             ],
             [
              0.5555555555555556,
              "#d8576b"
             ],
             [
              0.6666666666666666,
              "#ed7953"
             ],
             [
              0.7777777777777778,
              "#fb9f3a"
             ],
             [
              0.8888888888888888,
              "#fdca26"
             ],
             [
              1,
              "#f0f921"
             ]
            ],
            "type": "heatmapgl"
           }
          ],
          "histogram": [
           {
            "marker": {
             "pattern": {
              "fillmode": "overlay",
              "size": 10,
              "solidity": 0.2
             }
            },
            "type": "histogram"
           }
          ],
          "histogram2d": [
           {
            "colorbar": {
             "outlinewidth": 0,
             "ticks": ""
            },
            "colorscale": [
             [
              0,
              "#0d0887"
             ],
             [
              0.1111111111111111,
              "#46039f"
             ],
             [
              0.2222222222222222,
              "#7201a8"
             ],
             [
              0.3333333333333333,
              "#9c179e"
             ],
             [
              0.4444444444444444,
              "#bd3786"
             ],
             [
              0.5555555555555556,
              "#d8576b"
             ],
             [
              0.6666666666666666,
              "#ed7953"
             ],
             [
              0.7777777777777778,
              "#fb9f3a"
             ],
             [
              0.8888888888888888,
              "#fdca26"
             ],
             [
              1,
              "#f0f921"
             ]
            ],
            "type": "histogram2d"
           }
          ],
          "histogram2dcontour": [
           {
            "colorbar": {
             "outlinewidth": 0,
             "ticks": ""
            },
            "colorscale": [
             [
              0,
              "#0d0887"
             ],
             [
              0.1111111111111111,
              "#46039f"
             ],
             [
              0.2222222222222222,
              "#7201a8"
             ],
             [
              0.3333333333333333,
              "#9c179e"
             ],
             [
              0.4444444444444444,
              "#bd3786"
             ],
             [
              0.5555555555555556,
              "#d8576b"
             ],
             [
              0.6666666666666666,
              "#ed7953"
             ],
             [
              0.7777777777777778,
              "#fb9f3a"
             ],
             [
              0.8888888888888888,
              "#fdca26"
             ],
             [
              1,
              "#f0f921"
             ]
            ],
            "type": "histogram2dcontour"
           }
          ],
          "mesh3d": [
           {
            "colorbar": {
             "outlinewidth": 0,
             "ticks": ""
            },
            "type": "mesh3d"
           }
          ],
          "parcoords": [
           {
            "line": {
             "colorbar": {
              "outlinewidth": 0,
              "ticks": ""
             }
            },
            "type": "parcoords"
           }
          ],
          "pie": [
           {
            "automargin": true,
            "type": "pie"
           }
          ],
          "scatter": [
           {
            "fillpattern": {
             "fillmode": "overlay",
             "size": 10,
             "solidity": 0.2
            },
            "type": "scatter"
           }
          ],
          "scatter3d": [
           {
            "line": {
             "colorbar": {
              "outlinewidth": 0,
              "ticks": ""
             }
            },
            "marker": {
             "colorbar": {
              "outlinewidth": 0,
              "ticks": ""
             }
            },
            "type": "scatter3d"
           }
          ],
          "scattercarpet": [
           {
            "marker": {
             "colorbar": {
              "outlinewidth": 0,
              "ticks": ""
             }
            },
            "type": "scattercarpet"
           }
          ],
          "scattergeo": [
           {
            "marker": {
             "colorbar": {
              "outlinewidth": 0,
              "ticks": ""
             }
            },
            "type": "scattergeo"
           }
          ],
          "scattergl": [
           {
            "marker": {
             "colorbar": {
              "outlinewidth": 0,
              "ticks": ""
             }
            },
            "type": "scattergl"
           }
          ],
          "scattermapbox": [
           {
            "marker": {
             "colorbar": {
              "outlinewidth": 0,
              "ticks": ""
             }
            },
            "type": "scattermapbox"
           }
          ],
          "scatterpolar": [
           {
            "marker": {
             "colorbar": {
              "outlinewidth": 0,
              "ticks": ""
             }
            },
            "type": "scatterpolar"
           }
          ],
          "scatterpolargl": [
           {
            "marker": {
             "colorbar": {
              "outlinewidth": 0,
              "ticks": ""
             }
            },
            "type": "scatterpolargl"
           }
          ],
          "scatterternary": [
           {
            "marker": {
             "colorbar": {
              "outlinewidth": 0,
              "ticks": ""
             }
            },
            "type": "scatterternary"
           }
          ],
          "surface": [
           {
            "colorbar": {
             "outlinewidth": 0,
             "ticks": ""
            },
            "colorscale": [
             [
              0,
              "#0d0887"
             ],
             [
              0.1111111111111111,
              "#46039f"
             ],
             [
              0.2222222222222222,
              "#7201a8"
             ],
             [
              0.3333333333333333,
              "#9c179e"
             ],
             [
              0.4444444444444444,
              "#bd3786"
             ],
             [
              0.5555555555555556,
              "#d8576b"
             ],
             [
              0.6666666666666666,
              "#ed7953"
             ],
             [
              0.7777777777777778,
              "#fb9f3a"
             ],
             [
              0.8888888888888888,
              "#fdca26"
             ],
             [
              1,
              "#f0f921"
             ]
            ],
            "type": "surface"
           }
          ],
          "table": [
           {
            "cells": {
             "fill": {
              "color": "#EBF0F8"
             },
             "line": {
              "color": "white"
             }
            },
            "header": {
             "fill": {
              "color": "#C8D4E3"
             },
             "line": {
              "color": "white"
             }
            },
            "type": "table"
           }
          ]
         },
         "layout": {
          "annotationdefaults": {
           "arrowcolor": "#2a3f5f",
           "arrowhead": 0,
           "arrowwidth": 1
          },
          "autotypenumbers": "strict",
          "coloraxis": {
           "colorbar": {
            "outlinewidth": 0,
            "ticks": ""
           }
          },
          "colorscale": {
           "diverging": [
            [
             0,
             "#8e0152"
            ],
            [
             0.1,
             "#c51b7d"
            ],
            [
             0.2,
             "#de77ae"
            ],
            [
             0.3,
             "#f1b6da"
            ],
            [
             0.4,
             "#fde0ef"
            ],
            [
             0.5,
             "#f7f7f7"
            ],
            [
             0.6,
             "#e6f5d0"
            ],
            [
             0.7,
             "#b8e186"
            ],
            [
             0.8,
             "#7fbc41"
            ],
            [
             0.9,
             "#4d9221"
            ],
            [
             1,
             "#276419"
            ]
           ],
           "sequential": [
            [
             0,
             "#0d0887"
            ],
            [
             0.1111111111111111,
             "#46039f"
            ],
            [
             0.2222222222222222,
             "#7201a8"
            ],
            [
             0.3333333333333333,
             "#9c179e"
            ],
            [
             0.4444444444444444,
             "#bd3786"
            ],
            [
             0.5555555555555556,
             "#d8576b"
            ],
            [
             0.6666666666666666,
             "#ed7953"
            ],
            [
             0.7777777777777778,
             "#fb9f3a"
            ],
            [
             0.8888888888888888,
             "#fdca26"
            ],
            [
             1,
             "#f0f921"
            ]
           ],
           "sequentialminus": [
            [
             0,
             "#0d0887"
            ],
            [
             0.1111111111111111,
             "#46039f"
            ],
            [
             0.2222222222222222,
             "#7201a8"
            ],
            [
             0.3333333333333333,
             "#9c179e"
            ],
            [
             0.4444444444444444,
             "#bd3786"
            ],
            [
             0.5555555555555556,
             "#d8576b"
            ],
            [
             0.6666666666666666,
             "#ed7953"
            ],
            [
             0.7777777777777778,
             "#fb9f3a"
            ],
            [
             0.8888888888888888,
             "#fdca26"
            ],
            [
             1,
             "#f0f921"
            ]
           ]
          },
          "colorway": [
           "#636efa",
           "#EF553B",
           "#00cc96",
           "#ab63fa",
           "#FFA15A",
           "#19d3f3",
           "#FF6692",
           "#B6E880",
           "#FF97FF",
           "#FECB52"
          ],
          "font": {
           "color": "#2a3f5f"
          },
          "geo": {
           "bgcolor": "white",
           "lakecolor": "white",
           "landcolor": "#E5ECF6",
           "showlakes": true,
           "showland": true,
           "subunitcolor": "white"
          },
          "hoverlabel": {
           "align": "left"
          },
          "hovermode": "closest",
          "mapbox": {
           "style": "light"
          },
          "paper_bgcolor": "white",
          "plot_bgcolor": "#E5ECF6",
          "polar": {
           "angularaxis": {
            "gridcolor": "white",
            "linecolor": "white",
            "ticks": ""
           },
           "bgcolor": "#E5ECF6",
           "radialaxis": {
            "gridcolor": "white",
            "linecolor": "white",
            "ticks": ""
           }
          },
          "scene": {
           "xaxis": {
            "backgroundcolor": "#E5ECF6",
            "gridcolor": "white",
            "gridwidth": 2,
            "linecolor": "white",
            "showbackground": true,
            "ticks": "",
            "zerolinecolor": "white"
           },
           "yaxis": {
            "backgroundcolor": "#E5ECF6",
            "gridcolor": "white",
            "gridwidth": 2,
            "linecolor": "white",
            "showbackground": true,
            "ticks": "",
            "zerolinecolor": "white"
           },
           "zaxis": {
            "backgroundcolor": "#E5ECF6",
            "gridcolor": "white",
            "gridwidth": 2,
            "linecolor": "white",
            "showbackground": true,
            "ticks": "",
            "zerolinecolor": "white"
           }
          },
          "shapedefaults": {
           "line": {
            "color": "#2a3f5f"
           }
          },
          "ternary": {
           "aaxis": {
            "gridcolor": "white",
            "linecolor": "white",
            "ticks": ""
           },
           "baxis": {
            "gridcolor": "white",
            "linecolor": "white",
            "ticks": ""
           },
           "bgcolor": "#E5ECF6",
           "caxis": {
            "gridcolor": "white",
            "linecolor": "white",
            "ticks": ""
           }
          },
          "title": {
           "x": 0.05
          },
          "xaxis": {
           "automargin": true,
           "gridcolor": "white",
           "linecolor": "white",
           "ticks": "",
           "title": {
            "standoff": 15
           },
           "zerolinecolor": "white",
           "zerolinewidth": 2
          },
          "yaxis": {
           "automargin": true,
           "gridcolor": "white",
           "linecolor": "white",
           "ticks": "",
           "title": {
            "standoff": 15
           },
           "zerolinecolor": "white",
           "zerolinewidth": 2
          }
         }
        },
        "title": {
         "text": "Number of Power Outages By State"
        },
        "xaxis": {
         "anchor": "y",
         "domain": [
          0,
          1
         ],
         "tickangle": -45,
         "title": {
          "text": "State"
         }
        },
        "yaxis": {
         "anchor": "x",
         "domain": [
          0,
          1
         ],
         "title": {
          "text": "Number of Power Outages"
         }
        }
       }
      }
     },
     "metadata": {},
     "output_type": "display_data"
    }
   ],
   "source": [
    "hist_fig = px.histogram(df, x='U.S._STATE', title='Number of Power Outages By State', labels={'U.S._STATE': 'State'})\n",
    "hist_fig.update_layout(yaxis_title=\"Number of Power Outages\")\n",
    "hist_fig.update_xaxes(tickangle=-45)\n",
    "hist_fig.show()\n",
    "\n",
    "hist_fig.write_html('assets/num_outages.html', include_plotlyjs='cdn')"
   ]
  },
  {
   "cell_type": "markdown",
   "metadata": {},
   "source": [
    "### Bivariate Analysis"
   ]
  },
  {
   "cell_type": "code",
   "execution_count": 253,
   "metadata": {},
   "outputs": [
    {
     "data": {
      "application/vnd.plotly.v1+json": {
       "config": {
        "plotlyServerURL": "https://plot.ly"
       },
       "data": [
        {
         "alignmentgroup": "True",
         "hovertemplate": "CLIMATE.REGION=%{x}<br>OUTAGE.DURATION=%{y}<extra></extra>",
         "legendgroup": "",
         "marker": {
          "color": "#636efa",
          "pattern": {
           "shape": ""
          }
         },
         "name": "",
         "offsetgroup": "",
         "orientation": "v",
         "showlegend": false,
         "textposition": "auto",
         "type": "bar",
         "x": [
          "East North Central",
          "Northeast",
          "Central",
          "South",
          "Southeast",
          "West",
          "Southwest",
          "Northwest",
          "West North Central"
         ],
         "xaxis": "x",
         "y": [
          5391.39705882353,
          3330.517799352751,
          2882.212290502793,
          2872.453703703704,
          2247.6554054054054,
          1636.313725490196,
          1621.4117647058824,
          1536.362745098039,
          796.0714285714286
         ],
         "yaxis": "y"
        }
       ],
       "layout": {
        "barmode": "relative",
        "legend": {
         "tracegroupgap": 0
        },
        "template": {
         "data": {
          "bar": [
           {
            "error_x": {
             "color": "#2a3f5f"
            },
            "error_y": {
             "color": "#2a3f5f"
            },
            "marker": {
             "line": {
              "color": "#E5ECF6",
              "width": 0.5
             },
             "pattern": {
              "fillmode": "overlay",
              "size": 10,
              "solidity": 0.2
             }
            },
            "type": "bar"
           }
          ],
          "barpolar": [
           {
            "marker": {
             "line": {
              "color": "#E5ECF6",
              "width": 0.5
             },
             "pattern": {
              "fillmode": "overlay",
              "size": 10,
              "solidity": 0.2
             }
            },
            "type": "barpolar"
           }
          ],
          "carpet": [
           {
            "aaxis": {
             "endlinecolor": "#2a3f5f",
             "gridcolor": "white",
             "linecolor": "white",
             "minorgridcolor": "white",
             "startlinecolor": "#2a3f5f"
            },
            "baxis": {
             "endlinecolor": "#2a3f5f",
             "gridcolor": "white",
             "linecolor": "white",
             "minorgridcolor": "white",
             "startlinecolor": "#2a3f5f"
            },
            "type": "carpet"
           }
          ],
          "choropleth": [
           {
            "colorbar": {
             "outlinewidth": 0,
             "ticks": ""
            },
            "type": "choropleth"
           }
          ],
          "contour": [
           {
            "colorbar": {
             "outlinewidth": 0,
             "ticks": ""
            },
            "colorscale": [
             [
              0,
              "#0d0887"
             ],
             [
              0.1111111111111111,
              "#46039f"
             ],
             [
              0.2222222222222222,
              "#7201a8"
             ],
             [
              0.3333333333333333,
              "#9c179e"
             ],
             [
              0.4444444444444444,
              "#bd3786"
             ],
             [
              0.5555555555555556,
              "#d8576b"
             ],
             [
              0.6666666666666666,
              "#ed7953"
             ],
             [
              0.7777777777777778,
              "#fb9f3a"
             ],
             [
              0.8888888888888888,
              "#fdca26"
             ],
             [
              1,
              "#f0f921"
             ]
            ],
            "type": "contour"
           }
          ],
          "contourcarpet": [
           {
            "colorbar": {
             "outlinewidth": 0,
             "ticks": ""
            },
            "type": "contourcarpet"
           }
          ],
          "heatmap": [
           {
            "colorbar": {
             "outlinewidth": 0,
             "ticks": ""
            },
            "colorscale": [
             [
              0,
              "#0d0887"
             ],
             [
              0.1111111111111111,
              "#46039f"
             ],
             [
              0.2222222222222222,
              "#7201a8"
             ],
             [
              0.3333333333333333,
              "#9c179e"
             ],
             [
              0.4444444444444444,
              "#bd3786"
             ],
             [
              0.5555555555555556,
              "#d8576b"
             ],
             [
              0.6666666666666666,
              "#ed7953"
             ],
             [
              0.7777777777777778,
              "#fb9f3a"
             ],
             [
              0.8888888888888888,
              "#fdca26"
             ],
             [
              1,
              "#f0f921"
             ]
            ],
            "type": "heatmap"
           }
          ],
          "heatmapgl": [
           {
            "colorbar": {
             "outlinewidth": 0,
             "ticks": ""
            },
            "colorscale": [
             [
              0,
              "#0d0887"
             ],
             [
              0.1111111111111111,
              "#46039f"
             ],
             [
              0.2222222222222222,
              "#7201a8"
             ],
             [
              0.3333333333333333,
              "#9c179e"
             ],
             [
              0.4444444444444444,
              "#bd3786"
             ],
             [
              0.5555555555555556,
              "#d8576b"
             ],
             [
              0.6666666666666666,
              "#ed7953"
             ],
             [
              0.7777777777777778,
              "#fb9f3a"
             ],
             [
              0.8888888888888888,
              "#fdca26"
             ],
             [
              1,
              "#f0f921"
             ]
            ],
            "type": "heatmapgl"
           }
          ],
          "histogram": [
           {
            "marker": {
             "pattern": {
              "fillmode": "overlay",
              "size": 10,
              "solidity": 0.2
             }
            },
            "type": "histogram"
           }
          ],
          "histogram2d": [
           {
            "colorbar": {
             "outlinewidth": 0,
             "ticks": ""
            },
            "colorscale": [
             [
              0,
              "#0d0887"
             ],
             [
              0.1111111111111111,
              "#46039f"
             ],
             [
              0.2222222222222222,
              "#7201a8"
             ],
             [
              0.3333333333333333,
              "#9c179e"
             ],
             [
              0.4444444444444444,
              "#bd3786"
             ],
             [
              0.5555555555555556,
              "#d8576b"
             ],
             [
              0.6666666666666666,
              "#ed7953"
             ],
             [
              0.7777777777777778,
              "#fb9f3a"
             ],
             [
              0.8888888888888888,
              "#fdca26"
             ],
             [
              1,
              "#f0f921"
             ]
            ],
            "type": "histogram2d"
           }
          ],
          "histogram2dcontour": [
           {
            "colorbar": {
             "outlinewidth": 0,
             "ticks": ""
            },
            "colorscale": [
             [
              0,
              "#0d0887"
             ],
             [
              0.1111111111111111,
              "#46039f"
             ],
             [
              0.2222222222222222,
              "#7201a8"
             ],
             [
              0.3333333333333333,
              "#9c179e"
             ],
             [
              0.4444444444444444,
              "#bd3786"
             ],
             [
              0.5555555555555556,
              "#d8576b"
             ],
             [
              0.6666666666666666,
              "#ed7953"
             ],
             [
              0.7777777777777778,
              "#fb9f3a"
             ],
             [
              0.8888888888888888,
              "#fdca26"
             ],
             [
              1,
              "#f0f921"
             ]
            ],
            "type": "histogram2dcontour"
           }
          ],
          "mesh3d": [
           {
            "colorbar": {
             "outlinewidth": 0,
             "ticks": ""
            },
            "type": "mesh3d"
           }
          ],
          "parcoords": [
           {
            "line": {
             "colorbar": {
              "outlinewidth": 0,
              "ticks": ""
             }
            },
            "type": "parcoords"
           }
          ],
          "pie": [
           {
            "automargin": true,
            "type": "pie"
           }
          ],
          "scatter": [
           {
            "fillpattern": {
             "fillmode": "overlay",
             "size": 10,
             "solidity": 0.2
            },
            "type": "scatter"
           }
          ],
          "scatter3d": [
           {
            "line": {
             "colorbar": {
              "outlinewidth": 0,
              "ticks": ""
             }
            },
            "marker": {
             "colorbar": {
              "outlinewidth": 0,
              "ticks": ""
             }
            },
            "type": "scatter3d"
           }
          ],
          "scattercarpet": [
           {
            "marker": {
             "colorbar": {
              "outlinewidth": 0,
              "ticks": ""
             }
            },
            "type": "scattercarpet"
           }
          ],
          "scattergeo": [
           {
            "marker": {
             "colorbar": {
              "outlinewidth": 0,
              "ticks": ""
             }
            },
            "type": "scattergeo"
           }
          ],
          "scattergl": [
           {
            "marker": {
             "colorbar": {
              "outlinewidth": 0,
              "ticks": ""
             }
            },
            "type": "scattergl"
           }
          ],
          "scattermapbox": [
           {
            "marker": {
             "colorbar": {
              "outlinewidth": 0,
              "ticks": ""
             }
            },
            "type": "scattermapbox"
           }
          ],
          "scatterpolar": [
           {
            "marker": {
             "colorbar": {
              "outlinewidth": 0,
              "ticks": ""
             }
            },
            "type": "scatterpolar"
           }
          ],
          "scatterpolargl": [
           {
            "marker": {
             "colorbar": {
              "outlinewidth": 0,
              "ticks": ""
             }
            },
            "type": "scatterpolargl"
           }
          ],
          "scatterternary": [
           {
            "marker": {
             "colorbar": {
              "outlinewidth": 0,
              "ticks": ""
             }
            },
            "type": "scatterternary"
           }
          ],
          "surface": [
           {
            "colorbar": {
             "outlinewidth": 0,
             "ticks": ""
            },
            "colorscale": [
             [
              0,
              "#0d0887"
             ],
             [
              0.1111111111111111,
              "#46039f"
             ],
             [
              0.2222222222222222,
              "#7201a8"
             ],
             [
              0.3333333333333333,
              "#9c179e"
             ],
             [
              0.4444444444444444,
              "#bd3786"
             ],
             [
              0.5555555555555556,
              "#d8576b"
             ],
             [
              0.6666666666666666,
              "#ed7953"
             ],
             [
              0.7777777777777778,
              "#fb9f3a"
             ],
             [
              0.8888888888888888,
              "#fdca26"
             ],
             [
              1,
              "#f0f921"
             ]
            ],
            "type": "surface"
           }
          ],
          "table": [
           {
            "cells": {
             "fill": {
              "color": "#EBF0F8"
             },
             "line": {
              "color": "white"
             }
            },
            "header": {
             "fill": {
              "color": "#C8D4E3"
             },
             "line": {
              "color": "white"
             }
            },
            "type": "table"
           }
          ]
         },
         "layout": {
          "annotationdefaults": {
           "arrowcolor": "#2a3f5f",
           "arrowhead": 0,
           "arrowwidth": 1
          },
          "autotypenumbers": "strict",
          "coloraxis": {
           "colorbar": {
            "outlinewidth": 0,
            "ticks": ""
           }
          },
          "colorscale": {
           "diverging": [
            [
             0,
             "#8e0152"
            ],
            [
             0.1,
             "#c51b7d"
            ],
            [
             0.2,
             "#de77ae"
            ],
            [
             0.3,
             "#f1b6da"
            ],
            [
             0.4,
             "#fde0ef"
            ],
            [
             0.5,
             "#f7f7f7"
            ],
            [
             0.6,
             "#e6f5d0"
            ],
            [
             0.7,
             "#b8e186"
            ],
            [
             0.8,
             "#7fbc41"
            ],
            [
             0.9,
             "#4d9221"
            ],
            [
             1,
             "#276419"
            ]
           ],
           "sequential": [
            [
             0,
             "#0d0887"
            ],
            [
             0.1111111111111111,
             "#46039f"
            ],
            [
             0.2222222222222222,
             "#7201a8"
            ],
            [
             0.3333333333333333,
             "#9c179e"
            ],
            [
             0.4444444444444444,
             "#bd3786"
            ],
            [
             0.5555555555555556,
             "#d8576b"
            ],
            [
             0.6666666666666666,
             "#ed7953"
            ],
            [
             0.7777777777777778,
             "#fb9f3a"
            ],
            [
             0.8888888888888888,
             "#fdca26"
            ],
            [
             1,
             "#f0f921"
            ]
           ],
           "sequentialminus": [
            [
             0,
             "#0d0887"
            ],
            [
             0.1111111111111111,
             "#46039f"
            ],
            [
             0.2222222222222222,
             "#7201a8"
            ],
            [
             0.3333333333333333,
             "#9c179e"
            ],
            [
             0.4444444444444444,
             "#bd3786"
            ],
            [
             0.5555555555555556,
             "#d8576b"
            ],
            [
             0.6666666666666666,
             "#ed7953"
            ],
            [
             0.7777777777777778,
             "#fb9f3a"
            ],
            [
             0.8888888888888888,
             "#fdca26"
            ],
            [
             1,
             "#f0f921"
            ]
           ]
          },
          "colorway": [
           "#636efa",
           "#EF553B",
           "#00cc96",
           "#ab63fa",
           "#FFA15A",
           "#19d3f3",
           "#FF6692",
           "#B6E880",
           "#FF97FF",
           "#FECB52"
          ],
          "font": {
           "color": "#2a3f5f"
          },
          "geo": {
           "bgcolor": "white",
           "lakecolor": "white",
           "landcolor": "#E5ECF6",
           "showlakes": true,
           "showland": true,
           "subunitcolor": "white"
          },
          "hoverlabel": {
           "align": "left"
          },
          "hovermode": "closest",
          "mapbox": {
           "style": "light"
          },
          "paper_bgcolor": "white",
          "plot_bgcolor": "#E5ECF6",
          "polar": {
           "angularaxis": {
            "gridcolor": "white",
            "linecolor": "white",
            "ticks": ""
           },
           "bgcolor": "#E5ECF6",
           "radialaxis": {
            "gridcolor": "white",
            "linecolor": "white",
            "ticks": ""
           }
          },
          "scene": {
           "xaxis": {
            "backgroundcolor": "#E5ECF6",
            "gridcolor": "white",
            "gridwidth": 2,
            "linecolor": "white",
            "showbackground": true,
            "ticks": "",
            "zerolinecolor": "white"
           },
           "yaxis": {
            "backgroundcolor": "#E5ECF6",
            "gridcolor": "white",
            "gridwidth": 2,
            "linecolor": "white",
            "showbackground": true,
            "ticks": "",
            "zerolinecolor": "white"
           },
           "zaxis": {
            "backgroundcolor": "#E5ECF6",
            "gridcolor": "white",
            "gridwidth": 2,
            "linecolor": "white",
            "showbackground": true,
            "ticks": "",
            "zerolinecolor": "white"
           }
          },
          "shapedefaults": {
           "line": {
            "color": "#2a3f5f"
           }
          },
          "ternary": {
           "aaxis": {
            "gridcolor": "white",
            "linecolor": "white",
            "ticks": ""
           },
           "baxis": {
            "gridcolor": "white",
            "linecolor": "white",
            "ticks": ""
           },
           "bgcolor": "#E5ECF6",
           "caxis": {
            "gridcolor": "white",
            "linecolor": "white",
            "ticks": ""
           }
          },
          "title": {
           "x": 0.05
          },
          "xaxis": {
           "automargin": true,
           "gridcolor": "white",
           "linecolor": "white",
           "ticks": "",
           "title": {
            "standoff": 15
           },
           "zerolinecolor": "white",
           "zerolinewidth": 2
          },
          "yaxis": {
           "automargin": true,
           "gridcolor": "white",
           "linecolor": "white",
           "ticks": "",
           "title": {
            "standoff": 15
           },
           "zerolinecolor": "white",
           "zerolinewidth": 2
          }
         }
        },
        "title": {
         "text": "Mean Outage Duration By Climate Region"
        },
        "xaxis": {
         "anchor": "y",
         "domain": [
          0,
          1
         ],
         "tickangle": -45,
         "title": {
          "text": "Climate Region"
         }
        },
        "yaxis": {
         "anchor": "x",
         "domain": [
          0,
          1
         ],
         "title": {
          "text": "Mean Outage Duration (Minutes)"
         }
        }
       }
      }
     },
     "metadata": {},
     "output_type": "display_data"
    }
   ],
   "source": [
    "avg_dur_fig = px.bar(df.groupby('CLIMATE.REGION')['OUTAGE.DURATION'].mean().sort_values(ascending=False), y='OUTAGE.DURATION', title='Mean Outage Duration By Climate Region')\n",
    "avg_dur_fig.update_layout(xaxis_title=\"Climate Region\", yaxis_title=\"Mean Outage Duration (Minutes)\")\n",
    "avg_dur_fig.update_xaxes(tickangle=-45)\n",
    "avg_dur_fig.show()\n",
    "\n",
    "# this bar plot shows that the 'CLIMATE.REGION' in which power takes the longest to restore on average is 'East North Central'. The minimum is at 'West North Central'.\n",
    "\n",
    "avg_dur_fig.write_html('assets/avg_dur_fig.html', include_plotlyjs='cdn')"
   ]
  },
  {
   "cell_type": "code",
   "execution_count": 254,
   "metadata": {},
   "outputs": [
    {
     "data": {
      "application/vnd.plotly.v1+json": {
       "config": {
        "plotlyServerURL": "https://plot.ly"
       },
       "data": [
        {
         "alignmentgroup": "True",
         "hovertemplate": "CLIMATE.REGION=%{x}<br>OUTAGE.DURATION=%{y}<extra></extra>",
         "legendgroup": "",
         "marker": {
          "color": "#636efa",
          "pattern": {
           "shape": ""
          }
         },
         "name": "",
         "offsetgroup": "",
         "orientation": "v",
         "showlegend": false,
         "textposition": "auto",
         "type": "bar",
         "x": [
          "Northeast",
          "South",
          "West",
          "Central",
          "Southeast",
          "East North Central",
          "Northwest",
          "Southwest",
          "West North Central"
         ],
         "xaxis": "x",
         "y": [
          309,
          216,
          204,
          179,
          148,
          136,
          102,
          85,
          14
         ],
         "yaxis": "y"
        }
       ],
       "layout": {
        "barmode": "relative",
        "legend": {
         "tracegroupgap": 0
        },
        "template": {
         "data": {
          "bar": [
           {
            "error_x": {
             "color": "#2a3f5f"
            },
            "error_y": {
             "color": "#2a3f5f"
            },
            "marker": {
             "line": {
              "color": "#E5ECF6",
              "width": 0.5
             },
             "pattern": {
              "fillmode": "overlay",
              "size": 10,
              "solidity": 0.2
             }
            },
            "type": "bar"
           }
          ],
          "barpolar": [
           {
            "marker": {
             "line": {
              "color": "#E5ECF6",
              "width": 0.5
             },
             "pattern": {
              "fillmode": "overlay",
              "size": 10,
              "solidity": 0.2
             }
            },
            "type": "barpolar"
           }
          ],
          "carpet": [
           {
            "aaxis": {
             "endlinecolor": "#2a3f5f",
             "gridcolor": "white",
             "linecolor": "white",
             "minorgridcolor": "white",
             "startlinecolor": "#2a3f5f"
            },
            "baxis": {
             "endlinecolor": "#2a3f5f",
             "gridcolor": "white",
             "linecolor": "white",
             "minorgridcolor": "white",
             "startlinecolor": "#2a3f5f"
            },
            "type": "carpet"
           }
          ],
          "choropleth": [
           {
            "colorbar": {
             "outlinewidth": 0,
             "ticks": ""
            },
            "type": "choropleth"
           }
          ],
          "contour": [
           {
            "colorbar": {
             "outlinewidth": 0,
             "ticks": ""
            },
            "colorscale": [
             [
              0,
              "#0d0887"
             ],
             [
              0.1111111111111111,
              "#46039f"
             ],
             [
              0.2222222222222222,
              "#7201a8"
             ],
             [
              0.3333333333333333,
              "#9c179e"
             ],
             [
              0.4444444444444444,
              "#bd3786"
             ],
             [
              0.5555555555555556,
              "#d8576b"
             ],
             [
              0.6666666666666666,
              "#ed7953"
             ],
             [
              0.7777777777777778,
              "#fb9f3a"
             ],
             [
              0.8888888888888888,
              "#fdca26"
             ],
             [
              1,
              "#f0f921"
             ]
            ],
            "type": "contour"
           }
          ],
          "contourcarpet": [
           {
            "colorbar": {
             "outlinewidth": 0,
             "ticks": ""
            },
            "type": "contourcarpet"
           }
          ],
          "heatmap": [
           {
            "colorbar": {
             "outlinewidth": 0,
             "ticks": ""
            },
            "colorscale": [
             [
              0,
              "#0d0887"
             ],
             [
              0.1111111111111111,
              "#46039f"
             ],
             [
              0.2222222222222222,
              "#7201a8"
             ],
             [
              0.3333333333333333,
              "#9c179e"
             ],
             [
              0.4444444444444444,
              "#bd3786"
             ],
             [
              0.5555555555555556,
              "#d8576b"
             ],
             [
              0.6666666666666666,
              "#ed7953"
             ],
             [
              0.7777777777777778,
              "#fb9f3a"
             ],
             [
              0.8888888888888888,
              "#fdca26"
             ],
             [
              1,
              "#f0f921"
             ]
            ],
            "type": "heatmap"
           }
          ],
          "heatmapgl": [
           {
            "colorbar": {
             "outlinewidth": 0,
             "ticks": ""
            },
            "colorscale": [
             [
              0,
              "#0d0887"
             ],
             [
              0.1111111111111111,
              "#46039f"
             ],
             [
              0.2222222222222222,
              "#7201a8"
             ],
             [
              0.3333333333333333,
              "#9c179e"
             ],
             [
              0.4444444444444444,
              "#bd3786"
             ],
             [
              0.5555555555555556,
              "#d8576b"
             ],
             [
              0.6666666666666666,
              "#ed7953"
             ],
             [
              0.7777777777777778,
              "#fb9f3a"
             ],
             [
              0.8888888888888888,
              "#fdca26"
             ],
             [
              1,
              "#f0f921"
             ]
            ],
            "type": "heatmapgl"
           }
          ],
          "histogram": [
           {
            "marker": {
             "pattern": {
              "fillmode": "overlay",
              "size": 10,
              "solidity": 0.2
             }
            },
            "type": "histogram"
           }
          ],
          "histogram2d": [
           {
            "colorbar": {
             "outlinewidth": 0,
             "ticks": ""
            },
            "colorscale": [
             [
              0,
              "#0d0887"
             ],
             [
              0.1111111111111111,
              "#46039f"
             ],
             [
              0.2222222222222222,
              "#7201a8"
             ],
             [
              0.3333333333333333,
              "#9c179e"
             ],
             [
              0.4444444444444444,
              "#bd3786"
             ],
             [
              0.5555555555555556,
              "#d8576b"
             ],
             [
              0.6666666666666666,
              "#ed7953"
             ],
             [
              0.7777777777777778,
              "#fb9f3a"
             ],
             [
              0.8888888888888888,
              "#fdca26"
             ],
             [
              1,
              "#f0f921"
             ]
            ],
            "type": "histogram2d"
           }
          ],
          "histogram2dcontour": [
           {
            "colorbar": {
             "outlinewidth": 0,
             "ticks": ""
            },
            "colorscale": [
             [
              0,
              "#0d0887"
             ],
             [
              0.1111111111111111,
              "#46039f"
             ],
             [
              0.2222222222222222,
              "#7201a8"
             ],
             [
              0.3333333333333333,
              "#9c179e"
             ],
             [
              0.4444444444444444,
              "#bd3786"
             ],
             [
              0.5555555555555556,
              "#d8576b"
             ],
             [
              0.6666666666666666,
              "#ed7953"
             ],
             [
              0.7777777777777778,
              "#fb9f3a"
             ],
             [
              0.8888888888888888,
              "#fdca26"
             ],
             [
              1,
              "#f0f921"
             ]
            ],
            "type": "histogram2dcontour"
           }
          ],
          "mesh3d": [
           {
            "colorbar": {
             "outlinewidth": 0,
             "ticks": ""
            },
            "type": "mesh3d"
           }
          ],
          "parcoords": [
           {
            "line": {
             "colorbar": {
              "outlinewidth": 0,
              "ticks": ""
             }
            },
            "type": "parcoords"
           }
          ],
          "pie": [
           {
            "automargin": true,
            "type": "pie"
           }
          ],
          "scatter": [
           {
            "fillpattern": {
             "fillmode": "overlay",
             "size": 10,
             "solidity": 0.2
            },
            "type": "scatter"
           }
          ],
          "scatter3d": [
           {
            "line": {
             "colorbar": {
              "outlinewidth": 0,
              "ticks": ""
             }
            },
            "marker": {
             "colorbar": {
              "outlinewidth": 0,
              "ticks": ""
             }
            },
            "type": "scatter3d"
           }
          ],
          "scattercarpet": [
           {
            "marker": {
             "colorbar": {
              "outlinewidth": 0,
              "ticks": ""
             }
            },
            "type": "scattercarpet"
           }
          ],
          "scattergeo": [
           {
            "marker": {
             "colorbar": {
              "outlinewidth": 0,
              "ticks": ""
             }
            },
            "type": "scattergeo"
           }
          ],
          "scattergl": [
           {
            "marker": {
             "colorbar": {
              "outlinewidth": 0,
              "ticks": ""
             }
            },
            "type": "scattergl"
           }
          ],
          "scattermapbox": [
           {
            "marker": {
             "colorbar": {
              "outlinewidth": 0,
              "ticks": ""
             }
            },
            "type": "scattermapbox"
           }
          ],
          "scatterpolar": [
           {
            "marker": {
             "colorbar": {
              "outlinewidth": 0,
              "ticks": ""
             }
            },
            "type": "scatterpolar"
           }
          ],
          "scatterpolargl": [
           {
            "marker": {
             "colorbar": {
              "outlinewidth": 0,
              "ticks": ""
             }
            },
            "type": "scatterpolargl"
           }
          ],
          "scatterternary": [
           {
            "marker": {
             "colorbar": {
              "outlinewidth": 0,
              "ticks": ""
             }
            },
            "type": "scatterternary"
           }
          ],
          "surface": [
           {
            "colorbar": {
             "outlinewidth": 0,
             "ticks": ""
            },
            "colorscale": [
             [
              0,
              "#0d0887"
             ],
             [
              0.1111111111111111,
              "#46039f"
             ],
             [
              0.2222222222222222,
              "#7201a8"
             ],
             [
              0.3333333333333333,
              "#9c179e"
             ],
             [
              0.4444444444444444,
              "#bd3786"
             ],
             [
              0.5555555555555556,
              "#d8576b"
             ],
             [
              0.6666666666666666,
              "#ed7953"
             ],
             [
              0.7777777777777778,
              "#fb9f3a"
             ],
             [
              0.8888888888888888,
              "#fdca26"
             ],
             [
              1,
              "#f0f921"
             ]
            ],
            "type": "surface"
           }
          ],
          "table": [
           {
            "cells": {
             "fill": {
              "color": "#EBF0F8"
             },
             "line": {
              "color": "white"
             }
            },
            "header": {
             "fill": {
              "color": "#C8D4E3"
             },
             "line": {
              "color": "white"
             }
            },
            "type": "table"
           }
          ]
         },
         "layout": {
          "annotationdefaults": {
           "arrowcolor": "#2a3f5f",
           "arrowhead": 0,
           "arrowwidth": 1
          },
          "autotypenumbers": "strict",
          "coloraxis": {
           "colorbar": {
            "outlinewidth": 0,
            "ticks": ""
           }
          },
          "colorscale": {
           "diverging": [
            [
             0,
             "#8e0152"
            ],
            [
             0.1,
             "#c51b7d"
            ],
            [
             0.2,
             "#de77ae"
            ],
            [
             0.3,
             "#f1b6da"
            ],
            [
             0.4,
             "#fde0ef"
            ],
            [
             0.5,
             "#f7f7f7"
            ],
            [
             0.6,
             "#e6f5d0"
            ],
            [
             0.7,
             "#b8e186"
            ],
            [
             0.8,
             "#7fbc41"
            ],
            [
             0.9,
             "#4d9221"
            ],
            [
             1,
             "#276419"
            ]
           ],
           "sequential": [
            [
             0,
             "#0d0887"
            ],
            [
             0.1111111111111111,
             "#46039f"
            ],
            [
             0.2222222222222222,
             "#7201a8"
            ],
            [
             0.3333333333333333,
             "#9c179e"
            ],
            [
             0.4444444444444444,
             "#bd3786"
            ],
            [
             0.5555555555555556,
             "#d8576b"
            ],
            [
             0.6666666666666666,
             "#ed7953"
            ],
            [
             0.7777777777777778,
             "#fb9f3a"
            ],
            [
             0.8888888888888888,
             "#fdca26"
            ],
            [
             1,
             "#f0f921"
            ]
           ],
           "sequentialminus": [
            [
             0,
             "#0d0887"
            ],
            [
             0.1111111111111111,
             "#46039f"
            ],
            [
             0.2222222222222222,
             "#7201a8"
            ],
            [
             0.3333333333333333,
             "#9c179e"
            ],
            [
             0.4444444444444444,
             "#bd3786"
            ],
            [
             0.5555555555555556,
             "#d8576b"
            ],
            [
             0.6666666666666666,
             "#ed7953"
            ],
            [
             0.7777777777777778,
             "#fb9f3a"
            ],
            [
             0.8888888888888888,
             "#fdca26"
            ],
            [
             1,
             "#f0f921"
            ]
           ]
          },
          "colorway": [
           "#636efa",
           "#EF553B",
           "#00cc96",
           "#ab63fa",
           "#FFA15A",
           "#19d3f3",
           "#FF6692",
           "#B6E880",
           "#FF97FF",
           "#FECB52"
          ],
          "font": {
           "color": "#2a3f5f"
          },
          "geo": {
           "bgcolor": "white",
           "lakecolor": "white",
           "landcolor": "#E5ECF6",
           "showlakes": true,
           "showland": true,
           "subunitcolor": "white"
          },
          "hoverlabel": {
           "align": "left"
          },
          "hovermode": "closest",
          "mapbox": {
           "style": "light"
          },
          "paper_bgcolor": "white",
          "plot_bgcolor": "#E5ECF6",
          "polar": {
           "angularaxis": {
            "gridcolor": "white",
            "linecolor": "white",
            "ticks": ""
           },
           "bgcolor": "#E5ECF6",
           "radialaxis": {
            "gridcolor": "white",
            "linecolor": "white",
            "ticks": ""
           }
          },
          "scene": {
           "xaxis": {
            "backgroundcolor": "#E5ECF6",
            "gridcolor": "white",
            "gridwidth": 2,
            "linecolor": "white",
            "showbackground": true,
            "ticks": "",
            "zerolinecolor": "white"
           },
           "yaxis": {
            "backgroundcolor": "#E5ECF6",
            "gridcolor": "white",
            "gridwidth": 2,
            "linecolor": "white",
            "showbackground": true,
            "ticks": "",
            "zerolinecolor": "white"
           },
           "zaxis": {
            "backgroundcolor": "#E5ECF6",
            "gridcolor": "white",
            "gridwidth": 2,
            "linecolor": "white",
            "showbackground": true,
            "ticks": "",
            "zerolinecolor": "white"
           }
          },
          "shapedefaults": {
           "line": {
            "color": "#2a3f5f"
           }
          },
          "ternary": {
           "aaxis": {
            "gridcolor": "white",
            "linecolor": "white",
            "ticks": ""
           },
           "baxis": {
            "gridcolor": "white",
            "linecolor": "white",
            "ticks": ""
           },
           "bgcolor": "#E5ECF6",
           "caxis": {
            "gridcolor": "white",
            "linecolor": "white",
            "ticks": ""
           }
          },
          "title": {
           "x": 0.05
          },
          "xaxis": {
           "automargin": true,
           "gridcolor": "white",
           "linecolor": "white",
           "ticks": "",
           "title": {
            "standoff": 15
           },
           "zerolinecolor": "white",
           "zerolinewidth": 2
          },
          "yaxis": {
           "automargin": true,
           "gridcolor": "white",
           "linecolor": "white",
           "ticks": "",
           "title": {
            "standoff": 15
           },
           "zerolinecolor": "white",
           "zerolinewidth": 2
          }
         }
        },
        "title": {
         "text": "Number of Power Outages By Climate Region"
        },
        "xaxis": {
         "anchor": "y",
         "domain": [
          0,
          1
         ],
         "tickangle": -45,
         "title": {
          "text": "Climate Region"
         }
        },
        "yaxis": {
         "anchor": "x",
         "domain": [
          0,
          1
         ],
         "title": {
          "text": "Number of Outages"
         }
        }
       }
      }
     },
     "metadata": {},
     "output_type": "display_data"
    }
   ],
   "source": [
    "outages_per_region = px.bar(df.groupby('CLIMATE.REGION')['OUTAGE.DURATION'].count().sort_values(ascending=False), y='OUTAGE.DURATION', title='Number of Power Outages By Climate Region')\n",
    "outages_per_region.update_layout(xaxis_title=\"Climate Region\", yaxis_title=\"Number of Outages\")\n",
    "outages_per_region.update_xaxes(tickangle=-45)\n",
    "outages_per_region.show()\n",
    "# this bar plot shows that the 'CLIMATE.REGION' in which power outages happen the most frequently is different, becoming 'Northeast' this time. Both have the minimum at 'West North Central'.\n",
    "\n",
    "avg_dur_fig.write_html('assets/outages_per_region_fig.html', include_plotlyjs='cdn')"
   ]
  },
  {
   "cell_type": "code",
   "execution_count": null,
   "metadata": {},
   "outputs": [],
   "source": []
  },
  {
   "cell_type": "markdown",
   "metadata": {},
   "source": [
    "### Interesting Aggregates"
   ]
  },
  {
   "cell_type": "code",
   "execution_count": 255,
   "metadata": {},
   "outputs": [],
   "source": [
    "# Funciton to calculate the average time of day of a pd.Timestamp series, without including the date\n",
    "def avg_time(series):\n",
    "    mean_seconds = (series.dt.hour * 3600 + series.dt.minute * 60 + series.dt.second).mean()\n",
    "    return pd.to_datetime(mean_seconds, unit='s').round(freq='s').time()"
   ]
  },
  {
   "cell_type": "code",
   "execution_count": 256,
   "metadata": {},
   "outputs": [
    {
     "data": {
      "text/html": [
       "<div>\n",
       "<style scoped>\n",
       "    .dataframe tbody tr th:only-of-type {\n",
       "        vertical-align: middle;\n",
       "    }\n",
       "\n",
       "    .dataframe tbody tr th {\n",
       "        vertical-align: top;\n",
       "    }\n",
       "\n",
       "    .dataframe thead th {\n",
       "        text-align: right;\n",
       "    }\n",
       "</style>\n",
       "<table border=\"1\" class=\"dataframe\">\n",
       "  <thead>\n",
       "    <tr style=\"text-align: right;\">\n",
       "      <th>CLIMATE.REGION</th>\n",
       "      <th>Central</th>\n",
       "      <th>East North Central</th>\n",
       "      <th>Northeast</th>\n",
       "      <th>Northwest</th>\n",
       "      <th>South</th>\n",
       "      <th>Southeast</th>\n",
       "      <th>Southwest</th>\n",
       "      <th>West</th>\n",
       "      <th>West North Central</th>\n",
       "    </tr>\n",
       "    <tr>\n",
       "      <th>CAUSE.CATEGORY</th>\n",
       "      <th></th>\n",
       "      <th></th>\n",
       "      <th></th>\n",
       "      <th></th>\n",
       "      <th></th>\n",
       "      <th></th>\n",
       "      <th></th>\n",
       "      <th></th>\n",
       "      <th></th>\n",
       "    </tr>\n",
       "  </thead>\n",
       "  <tbody>\n",
       "    <tr>\n",
       "      <th>equipment failure</th>\n",
       "      <td>13:00:48</td>\n",
       "      <td>08:35:00</td>\n",
       "      <td>11:15:45</td>\n",
       "      <td>16:47:00</td>\n",
       "      <td>10:46:00</td>\n",
       "      <td>16:50:15</td>\n",
       "      <td>15:39:36</td>\n",
       "      <td>12:00:20</td>\n",
       "      <td>09:46:00</td>\n",
       "    </tr>\n",
       "    <tr>\n",
       "      <th>fuel supply emergency</th>\n",
       "      <td>08:36:15</td>\n",
       "      <td>07:50:15</td>\n",
       "      <td>12:04:09</td>\n",
       "      <td>01:48:00</td>\n",
       "      <td>09:52:30</td>\n",
       "      <td>NaN</td>\n",
       "      <td>09:14:00</td>\n",
       "      <td>13:17:18</td>\n",
       "      <td>NaN</td>\n",
       "    </tr>\n",
       "    <tr>\n",
       "      <th>intentional attack</th>\n",
       "      <td>11:23:35</td>\n",
       "      <td>12:19:22</td>\n",
       "      <td>10:26:53</td>\n",
       "      <td>12:21:13</td>\n",
       "      <td>10:55:33</td>\n",
       "      <td>12:05:40</td>\n",
       "      <td>11:15:06</td>\n",
       "      <td>10:32:22</td>\n",
       "      <td>12:51:00</td>\n",
       "    </tr>\n",
       "    <tr>\n",
       "      <th>islanding</th>\n",
       "      <td>18:19:00</td>\n",
       "      <td>12:01:00</td>\n",
       "      <td>22:44:00</td>\n",
       "      <td>16:03:20</td>\n",
       "      <td>18:13:30</td>\n",
       "      <td>NaN</td>\n",
       "      <td>09:22:00</td>\n",
       "      <td>12:26:43</td>\n",
       "      <td>14:50:12</td>\n",
       "    </tr>\n",
       "    <tr>\n",
       "      <th>public appeal</th>\n",
       "      <td>14:00:00</td>\n",
       "      <td>14:07:00</td>\n",
       "      <td>13:00:00</td>\n",
       "      <td>14:02:00</td>\n",
       "      <td>13:36:16</td>\n",
       "      <td>15:00:00</td>\n",
       "      <td>10:00:00</td>\n",
       "      <td>14:08:07</td>\n",
       "      <td>08:10:30</td>\n",
       "    </tr>\n",
       "    <tr>\n",
       "      <th>severe weather</th>\n",
       "      <td>13:11:27</td>\n",
       "      <td>13:32:09</td>\n",
       "      <td>13:30:53</td>\n",
       "      <td>09:33:53</td>\n",
       "      <td>12:26:11</td>\n",
       "      <td>13:36:49</td>\n",
       "      <td>09:15:06</td>\n",
       "      <td>11:46:49</td>\n",
       "      <td>17:20:00</td>\n",
       "    </tr>\n",
       "    <tr>\n",
       "      <th>system operability disruption</th>\n",
       "      <td>15:16:30</td>\n",
       "      <td>11:54:20</td>\n",
       "      <td>15:21:39</td>\n",
       "      <td>15:28:00</td>\n",
       "      <td>13:27:18</td>\n",
       "      <td>12:11:44</td>\n",
       "      <td>14:02:45</td>\n",
       "      <td>12:54:09</td>\n",
       "      <td>NaN</td>\n",
       "    </tr>\n",
       "  </tbody>\n",
       "</table>\n",
       "</div>"
      ],
      "text/plain": [
       "CLIMATE.REGION                  Central East North Central Northeast  \\\n",
       "CAUSE.CATEGORY                                                         \n",
       "equipment failure              13:00:48           08:35:00  11:15:45   \n",
       "fuel supply emergency          08:36:15           07:50:15  12:04:09   \n",
       "intentional attack             11:23:35           12:19:22  10:26:53   \n",
       "islanding                      18:19:00           12:01:00  22:44:00   \n",
       "public appeal                  14:00:00           14:07:00  13:00:00   \n",
       "severe weather                 13:11:27           13:32:09  13:30:53   \n",
       "system operability disruption  15:16:30           11:54:20  15:21:39   \n",
       "\n",
       "CLIMATE.REGION                Northwest     South Southeast Southwest  \\\n",
       "CAUSE.CATEGORY                                                          \n",
       "equipment failure              16:47:00  10:46:00  16:50:15  15:39:36   \n",
       "fuel supply emergency          01:48:00  09:52:30       NaN  09:14:00   \n",
       "intentional attack             12:21:13  10:55:33  12:05:40  11:15:06   \n",
       "islanding                      16:03:20  18:13:30       NaN  09:22:00   \n",
       "public appeal                  14:02:00  13:36:16  15:00:00  10:00:00   \n",
       "severe weather                 09:33:53  12:26:11  13:36:49  09:15:06   \n",
       "system operability disruption  15:28:00  13:27:18  12:11:44  14:02:45   \n",
       "\n",
       "CLIMATE.REGION                     West West North Central  \n",
       "CAUSE.CATEGORY                                              \n",
       "equipment failure              12:00:20           09:46:00  \n",
       "fuel supply emergency          13:17:18                NaN  \n",
       "intentional attack             10:32:22           12:51:00  \n",
       "islanding                      12:26:43           14:50:12  \n",
       "public appeal                  14:08:07           08:10:30  \n",
       "severe weather                 11:46:49           17:20:00  \n",
       "system operability disruption  12:54:09                NaN  "
      ]
     },
     "execution_count": 256,
     "metadata": {},
     "output_type": "execute_result"
    }
   ],
   "source": [
    "df.groupby('U.S._STATE')['OUTAGE.START'].agg(avg_time)\n",
    "pd.pivot_table(df, values='OUTAGE.START', index='CAUSE.CATEGORY', columns=['CLIMATE.REGION'], aggfunc=avg_time)"
   ]
  },
  {
   "cell_type": "markdown",
   "metadata": {},
   "source": [
    "## Step 3: Assessment of Missingness"
   ]
  },
  {
   "cell_type": "code",
   "execution_count": 257,
   "metadata": {},
   "outputs": [
    {
     "data": {
      "text/html": [
       "<div>\n",
       "<style scoped>\n",
       "    .dataframe tbody tr th:only-of-type {\n",
       "        vertical-align: middle;\n",
       "    }\n",
       "\n",
       "    .dataframe tbody tr th {\n",
       "        vertical-align: top;\n",
       "    }\n",
       "\n",
       "    .dataframe thead th {\n",
       "        text-align: right;\n",
       "    }\n",
       "</style>\n",
       "<table border=\"1\" class=\"dataframe\">\n",
       "  <thead>\n",
       "    <tr style=\"text-align: right;\">\n",
       "      <th></th>\n",
       "      <th>U.S._STATE</th>\n",
       "      <th>NERC.REGION</th>\n",
       "      <th>CLIMATE.REGION</th>\n",
       "      <th>CAUSE.CATEGORY</th>\n",
       "      <th>OUTAGE.DURATION</th>\n",
       "      <th>RES.PERCEN</th>\n",
       "      <th>COM.PERCEN</th>\n",
       "      <th>IND.PERCEN</th>\n",
       "      <th>PC.REALGSP.REL</th>\n",
       "      <th>POPPCT_URBAN</th>\n",
       "      <th>OUTAGE.START</th>\n",
       "      <th>OUTAGE.RESTORATION</th>\n",
       "    </tr>\n",
       "  </thead>\n",
       "  <tbody>\n",
       "    <tr>\n",
       "      <th>1</th>\n",
       "      <td>Minnesota</td>\n",
       "      <td>MRO</td>\n",
       "      <td>East North Central</td>\n",
       "      <td>severe weather</td>\n",
       "      <td>3060.0</td>\n",
       "      <td>35.549073</td>\n",
       "      <td>32.225029</td>\n",
       "      <td>32.202431</td>\n",
       "      <td>1.077376</td>\n",
       "      <td>73.27</td>\n",
       "      <td>2011-07-01 17:00:00</td>\n",
       "      <td>2011-07-03 20:00:00</td>\n",
       "    </tr>\n",
       "    <tr>\n",
       "      <th>2</th>\n",
       "      <td>Minnesota</td>\n",
       "      <td>MRO</td>\n",
       "      <td>East North Central</td>\n",
       "      <td>intentional attack</td>\n",
       "      <td>1.0</td>\n",
       "      <td>30.032487</td>\n",
       "      <td>34.210389</td>\n",
       "      <td>35.727564</td>\n",
       "      <td>1.089792</td>\n",
       "      <td>73.27</td>\n",
       "      <td>2014-05-11 18:38:00</td>\n",
       "      <td>2014-05-11 18:39:00</td>\n",
       "    </tr>\n",
       "    <tr>\n",
       "      <th>3</th>\n",
       "      <td>Minnesota</td>\n",
       "      <td>MRO</td>\n",
       "      <td>East North Central</td>\n",
       "      <td>severe weather</td>\n",
       "      <td>3000.0</td>\n",
       "      <td>28.097672</td>\n",
       "      <td>34.501015</td>\n",
       "      <td>37.365983</td>\n",
       "      <td>1.066826</td>\n",
       "      <td>73.27</td>\n",
       "      <td>2010-10-26 20:00:00</td>\n",
       "      <td>2010-10-28 22:00:00</td>\n",
       "    </tr>\n",
       "    <tr>\n",
       "      <th>4</th>\n",
       "      <td>Minnesota</td>\n",
       "      <td>MRO</td>\n",
       "      <td>East North Central</td>\n",
       "      <td>severe weather</td>\n",
       "      <td>2550.0</td>\n",
       "      <td>31.994099</td>\n",
       "      <td>33.543330</td>\n",
       "      <td>34.439329</td>\n",
       "      <td>1.071476</td>\n",
       "      <td>73.27</td>\n",
       "      <td>2012-06-19 04:30:00</td>\n",
       "      <td>2012-06-20 23:00:00</td>\n",
       "    </tr>\n",
       "    <tr>\n",
       "      <th>5</th>\n",
       "      <td>Minnesota</td>\n",
       "      <td>MRO</td>\n",
       "      <td>East North Central</td>\n",
       "      <td>severe weather</td>\n",
       "      <td>1740.0</td>\n",
       "      <td>33.982576</td>\n",
       "      <td>36.205850</td>\n",
       "      <td>29.779498</td>\n",
       "      <td>1.092027</td>\n",
       "      <td>73.27</td>\n",
       "      <td>2015-07-18 02:00:00</td>\n",
       "      <td>2015-07-19 07:00:00</td>\n",
       "    </tr>\n",
       "  </tbody>\n",
       "</table>\n",
       "</div>"
      ],
      "text/plain": [
       "  U.S._STATE NERC.REGION      CLIMATE.REGION      CAUSE.CATEGORY  \\\n",
       "1  Minnesota         MRO  East North Central      severe weather   \n",
       "2  Minnesota         MRO  East North Central  intentional attack   \n",
       "3  Minnesota         MRO  East North Central      severe weather   \n",
       "4  Minnesota         MRO  East North Central      severe weather   \n",
       "5  Minnesota         MRO  East North Central      severe weather   \n",
       "\n",
       "   OUTAGE.DURATION  RES.PERCEN  COM.PERCEN  IND.PERCEN PC.REALGSP.REL  \\\n",
       "1           3060.0   35.549073   32.225029   32.202431       1.077376   \n",
       "2              1.0   30.032487   34.210389   35.727564       1.089792   \n",
       "3           3000.0   28.097672   34.501015   37.365983       1.066826   \n",
       "4           2550.0   31.994099   33.543330   34.439329       1.071476   \n",
       "5           1740.0   33.982576   36.205850   29.779498       1.092027   \n",
       "\n",
       "  POPPCT_URBAN        OUTAGE.START  OUTAGE.RESTORATION  \n",
       "1        73.27 2011-07-01 17:00:00 2011-07-03 20:00:00  \n",
       "2        73.27 2014-05-11 18:38:00 2014-05-11 18:39:00  \n",
       "3        73.27 2010-10-26 20:00:00 2010-10-28 22:00:00  \n",
       "4        73.27 2012-06-19 04:30:00 2012-06-20 23:00:00  \n",
       "5        73.27 2015-07-18 02:00:00 2015-07-19 07:00:00  "
      ]
     },
     "execution_count": 257,
     "metadata": {},
     "output_type": "execute_result"
    }
   ],
   "source": [
    "df.head()"
   ]
  },
  {
   "cell_type": "code",
   "execution_count": 258,
   "metadata": {},
   "outputs": [
    {
     "data": {
      "text/plain": [
       "U.S._STATE            False\n",
       "NERC.REGION           False\n",
       "CLIMATE.REGION         True\n",
       "CAUSE.CATEGORY        False\n",
       "OUTAGE.DURATION       False\n",
       "RES.PERCEN            False\n",
       "COM.PERCEN            False\n",
       "IND.PERCEN            False\n",
       "PC.REALGSP.REL        False\n",
       "POPPCT_URBAN          False\n",
       "OUTAGE.START          False\n",
       "OUTAGE.RESTORATION    False\n",
       "dtype: bool"
      ]
     },
     "execution_count": 258,
     "metadata": {},
     "output_type": "execute_result"
    }
   ],
   "source": [
    "df.isnull().any()"
   ]
  },
  {
   "cell_type": "code",
   "execution_count": 259,
   "metadata": {},
   "outputs": [
    {
     "data": {
      "text/html": [
       "<div>\n",
       "<style scoped>\n",
       "    .dataframe tbody tr th:only-of-type {\n",
       "        vertical-align: middle;\n",
       "    }\n",
       "\n",
       "    .dataframe tbody tr th {\n",
       "        vertical-align: top;\n",
       "    }\n",
       "\n",
       "    .dataframe thead th {\n",
       "        text-align: right;\n",
       "    }\n",
       "</style>\n",
       "<table border=\"1\" class=\"dataframe\">\n",
       "  <thead>\n",
       "    <tr style=\"text-align: right;\">\n",
       "      <th></th>\n",
       "      <th>U.S._STATE</th>\n",
       "      <th>NERC.REGION</th>\n",
       "      <th>CLIMATE.REGION</th>\n",
       "      <th>CAUSE.CATEGORY</th>\n",
       "      <th>OUTAGE.DURATION</th>\n",
       "      <th>RES.PERCEN</th>\n",
       "      <th>COM.PERCEN</th>\n",
       "      <th>IND.PERCEN</th>\n",
       "      <th>PC.REALGSP.REL</th>\n",
       "      <th>POPPCT_URBAN</th>\n",
       "      <th>OUTAGE.START</th>\n",
       "      <th>OUTAGE.RESTORATION</th>\n",
       "    </tr>\n",
       "  </thead>\n",
       "  <tbody>\n",
       "    <tr>\n",
       "      <th>1516</th>\n",
       "      <td>Hawaii</td>\n",
       "      <td>HI</td>\n",
       "      <td>NaN</td>\n",
       "      <td>severe weather</td>\n",
       "      <td>1367.0</td>\n",
       "      <td>30.359526</td>\n",
       "      <td>32.964011</td>\n",
       "      <td>36.676462</td>\n",
       "      <td>1.04471</td>\n",
       "      <td>91.93</td>\n",
       "      <td>2008-12-26 18:13:00</td>\n",
       "      <td>2008-12-27 17:00:00</td>\n",
       "    </tr>\n",
       "    <tr>\n",
       "      <th>1517</th>\n",
       "      <td>Hawaii</td>\n",
       "      <td>PR</td>\n",
       "      <td>NaN</td>\n",
       "      <td>severe weather</td>\n",
       "      <td>174.0</td>\n",
       "      <td>29.256472</td>\n",
       "      <td>34.293692</td>\n",
       "      <td>36.449836</td>\n",
       "      <td>1.032026</td>\n",
       "      <td>91.93</td>\n",
       "      <td>2011-05-02 17:06:00</td>\n",
       "      <td>2011-05-02 20:00:00</td>\n",
       "    </tr>\n",
       "    <tr>\n",
       "      <th>1518</th>\n",
       "      <td>Hawaii</td>\n",
       "      <td>HECO</td>\n",
       "      <td>NaN</td>\n",
       "      <td>severe weather</td>\n",
       "      <td>543.0</td>\n",
       "      <td>29.754528</td>\n",
       "      <td>33.325929</td>\n",
       "      <td>36.919435</td>\n",
       "      <td>1.029626</td>\n",
       "      <td>91.93</td>\n",
       "      <td>2006-10-15 07:09:00</td>\n",
       "      <td>2006-10-15 16:12:00</td>\n",
       "    </tr>\n",
       "    <tr>\n",
       "      <th>1519</th>\n",
       "      <td>Hawaii</td>\n",
       "      <td>HECO</td>\n",
       "      <td>NaN</td>\n",
       "      <td>system operability disruption</td>\n",
       "      <td>237.0</td>\n",
       "      <td>29.775679</td>\n",
       "      <td>33.478432</td>\n",
       "      <td>36.745777</td>\n",
       "      <td>1.029626</td>\n",
       "      <td>91.93</td>\n",
       "      <td>2006-06-01 14:12:00</td>\n",
       "      <td>2006-06-01 18:09:00</td>\n",
       "    </tr>\n",
       "    <tr>\n",
       "      <th>1520</th>\n",
       "      <td>Hawaii</td>\n",
       "      <td>HECO</td>\n",
       "      <td>NaN</td>\n",
       "      <td>severe weather</td>\n",
       "      <td>1906.0</td>\n",
       "      <td>29.754528</td>\n",
       "      <td>33.325929</td>\n",
       "      <td>36.919435</td>\n",
       "      <td>1.029626</td>\n",
       "      <td>91.93</td>\n",
       "      <td>2006-10-15 07:09:00</td>\n",
       "      <td>2006-10-16 14:55:00</td>\n",
       "    </tr>\n",
       "  </tbody>\n",
       "</table>\n",
       "</div>"
      ],
      "text/plain": [
       "     U.S._STATE NERC.REGION CLIMATE.REGION                 CAUSE.CATEGORY  \\\n",
       "1516     Hawaii          HI            NaN                 severe weather   \n",
       "1517     Hawaii          PR            NaN                 severe weather   \n",
       "1518     Hawaii        HECO            NaN                 severe weather   \n",
       "1519     Hawaii        HECO            NaN  system operability disruption   \n",
       "1520     Hawaii        HECO            NaN                 severe weather   \n",
       "\n",
       "      OUTAGE.DURATION  RES.PERCEN  COM.PERCEN  IND.PERCEN PC.REALGSP.REL  \\\n",
       "1516           1367.0   30.359526   32.964011   36.676462        1.04471   \n",
       "1517            174.0   29.256472   34.293692   36.449836       1.032026   \n",
       "1518            543.0   29.754528   33.325929   36.919435       1.029626   \n",
       "1519            237.0   29.775679   33.478432   36.745777       1.029626   \n",
       "1520           1906.0   29.754528   33.325929   36.919435       1.029626   \n",
       "\n",
       "     POPPCT_URBAN        OUTAGE.START  OUTAGE.RESTORATION  \n",
       "1516        91.93 2008-12-26 18:13:00 2008-12-27 17:00:00  \n",
       "1517        91.93 2011-05-02 17:06:00 2011-05-02 20:00:00  \n",
       "1518        91.93 2006-10-15 07:09:00 2006-10-15 16:12:00  \n",
       "1519        91.93 2006-06-01 14:12:00 2006-06-01 18:09:00  \n",
       "1520        91.93 2006-10-15 07:09:00 2006-10-16 14:55:00  "
      ]
     },
     "execution_count": 259,
     "metadata": {},
     "output_type": "execute_result"
    }
   ],
   "source": [
    "df[df['CLIMATE.REGION'].isna()]"
   ]
  },
  {
   "cell_type": "markdown",
   "metadata": {},
   "source": [
    "In our cleaned dataset, the only column with missing values is `'CLIMATE.REGION'`. Since the only rows for which values are missing are for `'U.S._STATE' == Hawaii`, this missingness depends on the `'U.S._STATE'` column, making it MAR. Before imputing missing values in `'RES.PERCEN'`, `'COM.PERCEN'`, and `'IND.PERCEN'`, the missing values did not seem to depend on themselves, and hence we cannot be sure if the missingness mechanism is NMAR."
   ]
  },
  {
   "cell_type": "code",
   "execution_count": 260,
   "metadata": {},
   "outputs": [
    {
     "data": {
      "text/plain": [
       "np.float64(0.9)"
      ]
     },
     "execution_count": 260,
     "metadata": {},
     "output_type": "execute_result"
    }
   ],
   "source": [
    "# doesn't matter on GSP\n",
    "observed = np.abs(df[df['CLIMATE.REGION'].notna()]['PC.REALGSP.REL'].mean() - df[df['CLIMATE.REGION'].isna()]['PC.REALGSP.REL'].mean())\n",
    "\n",
    "sim_df = df[['CLIMATE.REGION', 'PC.REALGSP.REL']]\n",
    "sims = []\n",
    "for _ in range(1000):\n",
    "    sim_df = sim_df.assign(CLIMATE_REGION_SHUFFLED = np.random.permutation(sim_df['CLIMATE.REGION']))\n",
    "    sim_stat = np.abs(sim_df[sim_df['CLIMATE_REGION_SHUFFLED'].notna()]['PC.REALGSP.REL'].mean() - sim_df[sim_df['CLIMATE_REGION_SHUFFLED'].isna()]['PC.REALGSP.REL'].mean())\n",
    "    sims.append(sim_stat)\n",
    "\n",
    "p_value = np.mean(sims >= observed)\n",
    "p_value"
   ]
  },
  {
   "cell_type": "code",
   "execution_count": 261,
   "metadata": {},
   "outputs": [
    {
     "data": {
      "application/vnd.plotly.v1+json": {
       "config": {
        "plotlyServerURL": "https://plot.ly"
       },
       "data": [
        {
         "alignmentgroup": "True",
         "hovertemplate": "PC.REALGSP.REL=%{x}<br>CLIMATE_REGION_MISSINGNESS=%{y}<extra></extra>",
         "legendgroup": "",
         "marker": {
          "color": "#636efa",
          "pattern": {
           "shape": ""
          }
         },
         "name": "",
         "offsetgroup": "",
         "orientation": "h",
         "showlegend": false,
         "textposition": "auto",
         "type": "bar",
         "x": [
          1.0236866119729047,
          1.033123078721078
         ],
         "xaxis": "x",
         "y": [
          false,
          true
         ],
         "yaxis": "y"
        }
       ],
       "layout": {
        "barmode": "relative",
        "legend": {
         "tracegroupgap": 0
        },
        "margin": {
         "t": 60
        },
        "template": {
         "data": {
          "bar": [
           {
            "error_x": {
             "color": "#2a3f5f"
            },
            "error_y": {
             "color": "#2a3f5f"
            },
            "marker": {
             "line": {
              "color": "#E5ECF6",
              "width": 0.5
             },
             "pattern": {
              "fillmode": "overlay",
              "size": 10,
              "solidity": 0.2
             }
            },
            "type": "bar"
           }
          ],
          "barpolar": [
           {
            "marker": {
             "line": {
              "color": "#E5ECF6",
              "width": 0.5
             },
             "pattern": {
              "fillmode": "overlay",
              "size": 10,
              "solidity": 0.2
             }
            },
            "type": "barpolar"
           }
          ],
          "carpet": [
           {
            "aaxis": {
             "endlinecolor": "#2a3f5f",
             "gridcolor": "white",
             "linecolor": "white",
             "minorgridcolor": "white",
             "startlinecolor": "#2a3f5f"
            },
            "baxis": {
             "endlinecolor": "#2a3f5f",
             "gridcolor": "white",
             "linecolor": "white",
             "minorgridcolor": "white",
             "startlinecolor": "#2a3f5f"
            },
            "type": "carpet"
           }
          ],
          "choropleth": [
           {
            "colorbar": {
             "outlinewidth": 0,
             "ticks": ""
            },
            "type": "choropleth"
           }
          ],
          "contour": [
           {
            "colorbar": {
             "outlinewidth": 0,
             "ticks": ""
            },
            "colorscale": [
             [
              0,
              "#0d0887"
             ],
             [
              0.1111111111111111,
              "#46039f"
             ],
             [
              0.2222222222222222,
              "#7201a8"
             ],
             [
              0.3333333333333333,
              "#9c179e"
             ],
             [
              0.4444444444444444,
              "#bd3786"
             ],
             [
              0.5555555555555556,
              "#d8576b"
             ],
             [
              0.6666666666666666,
              "#ed7953"
             ],
             [
              0.7777777777777778,
              "#fb9f3a"
             ],
             [
              0.8888888888888888,
              "#fdca26"
             ],
             [
              1,
              "#f0f921"
             ]
            ],
            "type": "contour"
           }
          ],
          "contourcarpet": [
           {
            "colorbar": {
             "outlinewidth": 0,
             "ticks": ""
            },
            "type": "contourcarpet"
           }
          ],
          "heatmap": [
           {
            "colorbar": {
             "outlinewidth": 0,
             "ticks": ""
            },
            "colorscale": [
             [
              0,
              "#0d0887"
             ],
             [
              0.1111111111111111,
              "#46039f"
             ],
             [
              0.2222222222222222,
              "#7201a8"
             ],
             [
              0.3333333333333333,
              "#9c179e"
             ],
             [
              0.4444444444444444,
              "#bd3786"
             ],
             [
              0.5555555555555556,
              "#d8576b"
             ],
             [
              0.6666666666666666,
              "#ed7953"
             ],
             [
              0.7777777777777778,
              "#fb9f3a"
             ],
             [
              0.8888888888888888,
              "#fdca26"
             ],
             [
              1,
              "#f0f921"
             ]
            ],
            "type": "heatmap"
           }
          ],
          "heatmapgl": [
           {
            "colorbar": {
             "outlinewidth": 0,
             "ticks": ""
            },
            "colorscale": [
             [
              0,
              "#0d0887"
             ],
             [
              0.1111111111111111,
              "#46039f"
             ],
             [
              0.2222222222222222,
              "#7201a8"
             ],
             [
              0.3333333333333333,
              "#9c179e"
             ],
             [
              0.4444444444444444,
              "#bd3786"
             ],
             [
              0.5555555555555556,
              "#d8576b"
             ],
             [
              0.6666666666666666,
              "#ed7953"
             ],
             [
              0.7777777777777778,
              "#fb9f3a"
             ],
             [
              0.8888888888888888,
              "#fdca26"
             ],
             [
              1,
              "#f0f921"
             ]
            ],
            "type": "heatmapgl"
           }
          ],
          "histogram": [
           {
            "marker": {
             "pattern": {
              "fillmode": "overlay",
              "size": 10,
              "solidity": 0.2
             }
            },
            "type": "histogram"
           }
          ],
          "histogram2d": [
           {
            "colorbar": {
             "outlinewidth": 0,
             "ticks": ""
            },
            "colorscale": [
             [
              0,
              "#0d0887"
             ],
             [
              0.1111111111111111,
              "#46039f"
             ],
             [
              0.2222222222222222,
              "#7201a8"
             ],
             [
              0.3333333333333333,
              "#9c179e"
             ],
             [
              0.4444444444444444,
              "#bd3786"
             ],
             [
              0.5555555555555556,
              "#d8576b"
             ],
             [
              0.6666666666666666,
              "#ed7953"
             ],
             [
              0.7777777777777778,
              "#fb9f3a"
             ],
             [
              0.8888888888888888,
              "#fdca26"
             ],
             [
              1,
              "#f0f921"
             ]
            ],
            "type": "histogram2d"
           }
          ],
          "histogram2dcontour": [
           {
            "colorbar": {
             "outlinewidth": 0,
             "ticks": ""
            },
            "colorscale": [
             [
              0,
              "#0d0887"
             ],
             [
              0.1111111111111111,
              "#46039f"
             ],
             [
              0.2222222222222222,
              "#7201a8"
             ],
             [
              0.3333333333333333,
              "#9c179e"
             ],
             [
              0.4444444444444444,
              "#bd3786"
             ],
             [
              0.5555555555555556,
              "#d8576b"
             ],
             [
              0.6666666666666666,
              "#ed7953"
             ],
             [
              0.7777777777777778,
              "#fb9f3a"
             ],
             [
              0.8888888888888888,
              "#fdca26"
             ],
             [
              1,
              "#f0f921"
             ]
            ],
            "type": "histogram2dcontour"
           }
          ],
          "mesh3d": [
           {
            "colorbar": {
             "outlinewidth": 0,
             "ticks": ""
            },
            "type": "mesh3d"
           }
          ],
          "parcoords": [
           {
            "line": {
             "colorbar": {
              "outlinewidth": 0,
              "ticks": ""
             }
            },
            "type": "parcoords"
           }
          ],
          "pie": [
           {
            "automargin": true,
            "type": "pie"
           }
          ],
          "scatter": [
           {
            "fillpattern": {
             "fillmode": "overlay",
             "size": 10,
             "solidity": 0.2
            },
            "type": "scatter"
           }
          ],
          "scatter3d": [
           {
            "line": {
             "colorbar": {
              "outlinewidth": 0,
              "ticks": ""
             }
            },
            "marker": {
             "colorbar": {
              "outlinewidth": 0,
              "ticks": ""
             }
            },
            "type": "scatter3d"
           }
          ],
          "scattercarpet": [
           {
            "marker": {
             "colorbar": {
              "outlinewidth": 0,
              "ticks": ""
             }
            },
            "type": "scattercarpet"
           }
          ],
          "scattergeo": [
           {
            "marker": {
             "colorbar": {
              "outlinewidth": 0,
              "ticks": ""
             }
            },
            "type": "scattergeo"
           }
          ],
          "scattergl": [
           {
            "marker": {
             "colorbar": {
              "outlinewidth": 0,
              "ticks": ""
             }
            },
            "type": "scattergl"
           }
          ],
          "scattermapbox": [
           {
            "marker": {
             "colorbar": {
              "outlinewidth": 0,
              "ticks": ""
             }
            },
            "type": "scattermapbox"
           }
          ],
          "scatterpolar": [
           {
            "marker": {
             "colorbar": {
              "outlinewidth": 0,
              "ticks": ""
             }
            },
            "type": "scatterpolar"
           }
          ],
          "scatterpolargl": [
           {
            "marker": {
             "colorbar": {
              "outlinewidth": 0,
              "ticks": ""
             }
            },
            "type": "scatterpolargl"
           }
          ],
          "scatterternary": [
           {
            "marker": {
             "colorbar": {
              "outlinewidth": 0,
              "ticks": ""
             }
            },
            "type": "scatterternary"
           }
          ],
          "surface": [
           {
            "colorbar": {
             "outlinewidth": 0,
             "ticks": ""
            },
            "colorscale": [
             [
              0,
              "#0d0887"
             ],
             [
              0.1111111111111111,
              "#46039f"
             ],
             [
              0.2222222222222222,
              "#7201a8"
             ],
             [
              0.3333333333333333,
              "#9c179e"
             ],
             [
              0.4444444444444444,
              "#bd3786"
             ],
             [
              0.5555555555555556,
              "#d8576b"
             ],
             [
              0.6666666666666666,
              "#ed7953"
             ],
             [
              0.7777777777777778,
              "#fb9f3a"
             ],
             [
              0.8888888888888888,
              "#fdca26"
             ],
             [
              1,
              "#f0f921"
             ]
            ],
            "type": "surface"
           }
          ],
          "table": [
           {
            "cells": {
             "fill": {
              "color": "#EBF0F8"
             },
             "line": {
              "color": "white"
             }
            },
            "header": {
             "fill": {
              "color": "#C8D4E3"
             },
             "line": {
              "color": "white"
             }
            },
            "type": "table"
           }
          ]
         },
         "layout": {
          "annotationdefaults": {
           "arrowcolor": "#2a3f5f",
           "arrowhead": 0,
           "arrowwidth": 1
          },
          "autotypenumbers": "strict",
          "coloraxis": {
           "colorbar": {
            "outlinewidth": 0,
            "ticks": ""
           }
          },
          "colorscale": {
           "diverging": [
            [
             0,
             "#8e0152"
            ],
            [
             0.1,
             "#c51b7d"
            ],
            [
             0.2,
             "#de77ae"
            ],
            [
             0.3,
             "#f1b6da"
            ],
            [
             0.4,
             "#fde0ef"
            ],
            [
             0.5,
             "#f7f7f7"
            ],
            [
             0.6,
             "#e6f5d0"
            ],
            [
             0.7,
             "#b8e186"
            ],
            [
             0.8,
             "#7fbc41"
            ],
            [
             0.9,
             "#4d9221"
            ],
            [
             1,
             "#276419"
            ]
           ],
           "sequential": [
            [
             0,
             "#0d0887"
            ],
            [
             0.1111111111111111,
             "#46039f"
            ],
            [
             0.2222222222222222,
             "#7201a8"
            ],
            [
             0.3333333333333333,
             "#9c179e"
            ],
            [
             0.4444444444444444,
             "#bd3786"
            ],
            [
             0.5555555555555556,
             "#d8576b"
            ],
            [
             0.6666666666666666,
             "#ed7953"
            ],
            [
             0.7777777777777778,
             "#fb9f3a"
            ],
            [
             0.8888888888888888,
             "#fdca26"
            ],
            [
             1,
             "#f0f921"
            ]
           ],
           "sequentialminus": [
            [
             0,
             "#0d0887"
            ],
            [
             0.1111111111111111,
             "#46039f"
            ],
            [
             0.2222222222222222,
             "#7201a8"
            ],
            [
             0.3333333333333333,
             "#9c179e"
            ],
            [
             0.4444444444444444,
             "#bd3786"
            ],
            [
             0.5555555555555556,
             "#d8576b"
            ],
            [
             0.6666666666666666,
             "#ed7953"
            ],
            [
             0.7777777777777778,
             "#fb9f3a"
            ],
            [
             0.8888888888888888,
             "#fdca26"
            ],
            [
             1,
             "#f0f921"
            ]
           ]
          },
          "colorway": [
           "#636efa",
           "#EF553B",
           "#00cc96",
           "#ab63fa",
           "#FFA15A",
           "#19d3f3",
           "#FF6692",
           "#B6E880",
           "#FF97FF",
           "#FECB52"
          ],
          "font": {
           "color": "#2a3f5f"
          },
          "geo": {
           "bgcolor": "white",
           "lakecolor": "white",
           "landcolor": "#E5ECF6",
           "showlakes": true,
           "showland": true,
           "subunitcolor": "white"
          },
          "hoverlabel": {
           "align": "left"
          },
          "hovermode": "closest",
          "mapbox": {
           "style": "light"
          },
          "paper_bgcolor": "white",
          "plot_bgcolor": "#E5ECF6",
          "polar": {
           "angularaxis": {
            "gridcolor": "white",
            "linecolor": "white",
            "ticks": ""
           },
           "bgcolor": "#E5ECF6",
           "radialaxis": {
            "gridcolor": "white",
            "linecolor": "white",
            "ticks": ""
           }
          },
          "scene": {
           "xaxis": {
            "backgroundcolor": "#E5ECF6",
            "gridcolor": "white",
            "gridwidth": 2,
            "linecolor": "white",
            "showbackground": true,
            "ticks": "",
            "zerolinecolor": "white"
           },
           "yaxis": {
            "backgroundcolor": "#E5ECF6",
            "gridcolor": "white",
            "gridwidth": 2,
            "linecolor": "white",
            "showbackground": true,
            "ticks": "",
            "zerolinecolor": "white"
           },
           "zaxis": {
            "backgroundcolor": "#E5ECF6",
            "gridcolor": "white",
            "gridwidth": 2,
            "linecolor": "white",
            "showbackground": true,
            "ticks": "",
            "zerolinecolor": "white"
           }
          },
          "shapedefaults": {
           "line": {
            "color": "#2a3f5f"
           }
          },
          "ternary": {
           "aaxis": {
            "gridcolor": "white",
            "linecolor": "white",
            "ticks": ""
           },
           "baxis": {
            "gridcolor": "white",
            "linecolor": "white",
            "ticks": ""
           },
           "bgcolor": "#E5ECF6",
           "caxis": {
            "gridcolor": "white",
            "linecolor": "white",
            "ticks": ""
           }
          },
          "title": {
           "x": 0.05
          },
          "xaxis": {
           "automargin": true,
           "gridcolor": "white",
           "linecolor": "white",
           "ticks": "",
           "title": {
            "standoff": 15
           },
           "zerolinecolor": "white",
           "zerolinewidth": 2
          },
          "yaxis": {
           "automargin": true,
           "gridcolor": "white",
           "linecolor": "white",
           "ticks": "",
           "title": {
            "standoff": 15
           },
           "zerolinecolor": "white",
           "zerolinewidth": 2
          }
         }
        },
        "xaxis": {
         "anchor": "y",
         "domain": [
          0,
          1
         ],
         "title": {
          "text": "PC.REALGSP.REL"
         }
        },
        "yaxis": {
         "anchor": "x",
         "domain": [
          0,
          1
         ],
         "title": {
          "text": "CLIMATE_REGION_MISSINGNESS"
         }
        }
       }
      }
     },
     "metadata": {},
     "output_type": "display_data"
    }
   ],
   "source": [
    "sim_df = sim_df.assign(CLIMATE_REGION_MISSINGNESS = sim_df['CLIMATE.REGION'].isna())\n",
    "cli_mi = px.bar(sim_df.groupby('CLIMATE_REGION_MISSINGNESS')['PC.REALGSP.REL'].mean().reset_index(), orientation='h', y='CLIMATE_REGION_MISSINGNESS', x='PC.REALGSP.REL')\n",
    "cli_mi.show()\n",
    "\n",
    "cli_mi.write_html('assets/cli_mi.html', include_plotlyjs='cdn')\n"
   ]
  },
  {
   "cell_type": "code",
   "execution_count": 262,
   "metadata": {},
   "outputs": [
    {
     "data": {
      "text/plain": [
       "np.float64(0.0)"
      ]
     },
     "execution_count": 262,
     "metadata": {},
     "output_type": "execute_result"
    }
   ],
   "source": [
    "# p_value comes out super small, hence these columns are related on missingness\n",
    "\n",
    "chi_df = df[['NERC.REGION', 'CLIMATE.REGION']].assign(MISSING_CLIMATE_REGION = df['CLIMATE.REGION'].isnull().astype(int))\n",
    "observed_table = pd.crosstab(chi_df['MISSING_CLIMATE_REGION'], chi_df['NERC.REGION'])\n",
    "observed_stat = chi2_contingency(observed_table)[0]\n",
    "observed_stat\n",
    "\n",
    "chi_stats = []\n",
    "for _ in range(1000):\n",
    "    shuffled = np.random.permutation(chi_df['MISSING_CLIMATE_REGION'])\n",
    "    chi_table = pd.crosstab(shuffled, chi_df['NERC.REGION'])\n",
    "    chi_stat = chi2_contingency(chi_table)[0]\n",
    "    chi_stats.append(chi_stat)\n",
    "\n",
    "p_value = np.mean(chi_stats >= observed_stat)\n",
    "p_value"
   ]
  },
  {
   "cell_type": "code",
   "execution_count": 263,
   "metadata": {},
   "outputs": [
    {
     "data": {
      "application/vnd.plotly.v1+json": {
       "config": {
        "plotlyServerURL": "https://plot.ly"
       },
       "data": [
        {
         "alignmentgroup": "True",
         "bingroup": "x",
         "hovertemplate": "variable=Simulated Chi<br>value=%{x}<br>count=%{y}<extra></extra>",
         "legendgroup": "Simulated Chi",
         "marker": {
          "color": "#636efa",
          "pattern": {
           "shape": ""
          }
         },
         "name": "Simulated Chi",
         "offsetgroup": "Simulated Chi",
         "orientation": "v",
         "showlegend": true,
         "type": "histogram",
         "x": [
          17.98288297243426,
          13.433344458539093,
          2.8192003925187863,
          9.812432681697608,
          8.583763803386454,
          26.10172329266703,
          6.506676027426913,
          8.142998086919263,
          6.04388050942862,
          7.378903490893087,
          4.40944317413526,
          5.121885126059528,
          15.098910866227047,
          2.6034746103374298,
          9.395847018505863,
          21.40901934284839,
          281.7589810409486,
          4.388397378787219,
          7.229762829237011,
          10.183323733985132,
          5.772761297266911,
          3.7328626330887325,
          40.67475885617681,
          7.250808624585053,
          9.735319572180172,
          7.250808624585053,
          3.7328626330887325,
          17.678108096569186,
          9.73531957218017,
          8.334385354379465,
          94.25967354720478,
          36.63905089958953,
          4.678783443169285,
          10.765461539026262,
          4.250314476185666,
          7.152649719719573,
          283.8903571879498,
          284.02500643277034,
          9.322154029573486,
          4.3788363253813944,
          3.7328626330887325,
          3.5272276743755686,
          5.401870244979385,
          8.885062881414338,
          10.711730548961917,
          9.63998444258498,
          3.3265614121475275,
          3.5272276743755686,
          9.322154029573486,
          5.186144462798027,
          7.152649719719573,
          8.142998086919263,
          4.486556283652697,
          4.678783443169285,
          10.737434918801064,
          95.82887053347324,
          5.909231264608125,
          6.993337943305905,
          4.486556283652697,
          2.1942724955741677,
          4.152155571320187,
          13.578800369250857,
          7.758169644213794,
          7.152649719719575,
          8.885062881414338,
          8.789398762099617,
          11.127165840421256,
          3.249448302630091,
          2.1942724955741677,
          7.473215649967816,
          10.001366943000084,
          8.398400965535346,
          35.47905602808436,
          12.447566828119468,
          11.388208126973868,
          7.378903490893087,
          2.096113590708689,
          3.7328626330887325,
          13.18148155827947,
          12.485877890595203,
          6.263181069621076,
          2.1942724955741677,
          9.63998444258498,
          7.1954362782223384,
          2.1942724955741677,
          5.401870244979385,
          6.734825423780785,
          10.66730263416078,
          12.704081117111652,
          10.209028103824277,
          7.152649719719575,
          11.319717198631961,
          27.430019896977328,
          6.604834932292391,
          4.916804193764001,
          2.096113590708689,
          4.250314476185666,
          15.821997668037145,
          5.303711340113905,
          22.795924143639308,
          10.981070817995942,
          11.127165840421256,
          6.993337943305905,
          4.357790530033351,
          12.819724576510076,
          4.3788363253813944,
          4.486556283652697,
          4.250314476185666,
          7.152649719719573,
          7.9938574252631875,
          4.886197345010135,
          3.3476072074955696,
          8.583763803386454,
          6.506676027426914,
          2.701633515202909,
          10.66264405966968,
          23.013714731605994,
          5.3808244496313415,
          3.3476072074955696,
          14.6149319660514,
          26.10172329266703,
          3.7328626330887325,
          6.604834932292392,
          15.503401726124807,
          2.6034746103374298,
          4.357790530033351,
          12.788264298503819,
          7.152649719719573,
          5.121885126059528,
          13.806409455224088,
          14.33481627020087,
          17.747195191384865,
          17.678108096569186,
          5.401870244979385,
          8.334385354379465,
          4.755896552686723,
          8.419446760883387,
          3.3265614121475275,
          8.749873326213203,
          8.885062881414338,
          26.63013010764382,
          7.758169644213794,
          11.729861989645187,
          24.687649081747736,
          2.1732267002261256,
          3.3265614121475275,
          3.5272276743755686,
          2.096113590708689,
          3.7328626330887325,
          9.939828776179295,
          4.916804193764001,
          10.737434918801064,
          7.250808624585053,
          2.1942724955741677,
          4.0906560081737044,
          7.152649719719573,
          7.22976282923701,
          3.5272276743755686,
          12.055629980483898,
          8.820005610853483,
          14.6149319660514,
          2.701633515202909,
          5.401870244979385,
          2.1942724955741677,
          12.607906726742108,
          5.909231264608125,
          4.680562386296971,
          11.565351328359775,
          8.356656066437555,
          8.098143546912436,
          7.152649719719575,
          3.5272276743755686,
          5.875578776623493,
          14.145882008898395,
          10.178421255070411,
          36.40280909212249,
          7.416515781542477,
          4.680562386296971,
          3.3265614121475275,
          7.2982537575789195,
          5.3808244496313415,
          8.820005610853483,
          6.27521983798093,
          2.096113590708689,
          6.263181069621076,
          4.3788363253813944,
          2.1732267002261256,
          8.334385354379465,
          2.6245204056854723,
          11.531709380693414,
          3.5272276743755686,
          5.3808244496313415,
          5.832118155090688,
          6.305826686734797,
          3.3265614121475275,
          8.820005610853483,
          6.993337943305905,
          13.82745525057213,
          3.7328626330887325,
          2.1942724955741677,
          10.939325918898152,
          13.578800369250857,
          7.75036246745735,
          10.473709798367201,
          8.458248629084089,
          9.296332798840666,
          9.924253833482647,
          8.848032231078681,
          8.767925983863883,
          8.334385354379465,
          9.924253833482647,
          2.096113590708689,
          3.9878385288171216,
          8.376808329528208,
          11.563212156437798,
          6.909154761913737,
          5.401870244979385,
          8.376808329528208,
          8.749873326213203,
          10.178421255070411,
          7.203875380933789,
          5.772761297266911,
          8.820005610853483,
          2.8192003925187863,
          20.121935448642343,
          6.575166955768823,
          12.053456036086429,
          5.909231264608125,
          280.6056463290272,
          10.66730263416078,
          4.3788363253813944,
          2.096113590708689,
          4.40944317413526,
          7.378903490893087,
          2.701633515202909,
          6.986267871431173,
          7.22976282923701,
          9.934926297264575,
          4.152155571320187,
          6.673325860634301,
          6.04388050942862,
          2.1942724955741677,
          12.718686040281177,
          12.053456036086429,
          5.121885126059528,
          2.6245204056854723,
          5.772761297266911,
          3.3265614121475275,
          5.303711340113905,
          2.1942724955741677,
          7.378903490893087,
          3.7328626330887325,
          8.626550361889219,
          2.1732267002261256,
          2.8192003925187863,
          6.734825423780785,
          3.3265614121475275,
          9.494005923371342,
          8.419446760883387,
          4.916804193764001,
          17.747195191384865,
          4.680562386296971,
          2.8192003925187863,
          4.3788363253813944,
          7.758169644213794,
          6.604834932292392,
          9.494005923371342,
          8.334385354379465,
          7.229762829237011,
          8.770919121561244,
          8.52226424023997,
          287.88433396147633,
          6.575166955768823,
          6.986267871431173,
          6.604834932292391,
          5.401870244979385,
          12.83000919760161,
          5.811072359742646,
          7.2982537575789195,
          3.7328626330887325,
          14.553167623864905,
          25.476795395722416,
          4.0906560081737044,
          9.044374657828007,
          2.6034746103374298,
          6.042101566300937,
          12.973428571904218,
          4.250314476185666,
          11.388208126973868,
          5.121885126059528,
          7.250808624585053,
          7.758169644213794,
          281.7589810409486,
          4.890545797507218,
          8.142998086919263,
          4.388397378787219,
          2.6245204056854723,
          10.386100144952518,
          4.3788363253813944,
          6.570508381277719,
          17.239834171756126,
          7.378903490893087,
          11.006775187835085,
          9.395847018505863,
          7.758169644213794,
          4.152155571320187,
          4.0906560081737044,
          13.250515972720748,
          2.6245204056854723,
          5.303711340113905,
          7.647544988100767,
          7.704554978520126,
          13.82745525057213,
          11.350595836324477,
          5.401870244979385,
          14.145882008898395,
          4.40944317413526,
          7.203875380933789,
          4.886197345010135,
          5.303711340113905,
          4.3788363253813944,
          6.2801223168956515,
          34.13766563765422,
          9.96553314601844,
          8.767925983863883,
          2.096113590708689,
          2.1942724955741677,
          12.70408111711165,
          2.8192003925187863,
          6.909154761913737,
          4.486556283652697,
          2.096113590708689,
          9.812432681697608,
          9.322154029573484,
          7.4352147094861,
          4.3788363253813944,
          6.993337943305905,
          2.6245204056854723,
          18.306508615632268,
          19.11051331451651,
          11.661371061303276,
          8.770919121561244,
          3.5272276743755686,
          9.044374657828005,
          5.401870244979385,
          16.414931983512414,
          5.418952612484002,
          10.209028103824277,
          9.395847018505863,
          4.657737647821245,
          10.45266400301916,
          12.055629980483898,
          2.1732267002261256,
          2.1942724955741677,
          11.661371061303276,
          9.740126452659856,
          6.993337943305905,
          4.890545797507218,
          2.096113590708689,
          6.604834932292392,
          4.3788363253813944,
          4.250314476185666,
          4.3788363253813944,
          2.8192003925187863,
          7.891039945906604,
          12.788264298503822,
          2.1942724955741677,
          9.472960128023301,
          7.758169644213794,
          282.07178193151543,
          4.250314476185666,
          7.647544988100767,
          6.527721822774955,
          22.860490605494096,
          2.701633515202909,
          7.250808624585053,
          2.701633515202909,
          4.152155571320187,
          4.657737647821245,
          6.734825423780785,
          5.3808244496313415,
          7.22976282923701,
          6.570508381277719,
          4.657737647821245,
          13.904568360089568,
          12.421618553856703,
          9.472960128023301,
          4.680562386296971,
          7.704554978520126,
          11.063202909639774,
          2.096113590708689,
          3.3476072074955696,
          2.701633515202909,
          9.553493358125795,
          15.48034380536583,
          8.626550361889219,
          11.029006935555774,
          2.1732267002261256,
          6.305826686734797,
          4.152155571320187,
          3.7328626330887325,
          4.886197345010135,
          3.7328626330887325,
          2.701633515202909,
          4.678783443169285,
          6.506676027426913,
          3.5272276743755686,
          12.45222540261057,
          17.140347923669022,
          9.735319572180172,
          14.171734684726124,
          7.035082842403696,
          7.647544988100767,
          3.5272276743755686,
          9.001736226472826,
          6.2801223168956515,
          6.263181069621076,
          4.3788363253813944,
          10.711730548961917,
          6.1449190456575185,
          3.5272276743755686,
          7.416515781542477,
          3.3476072074955696,
          294.20766713165096,
          96.05323958044774,
          7.035082842403696,
          17.21878837640808,
          6.575166955768823,
          9.714273776832128,
          4.486556283652697,
          14.668662956115742,
          12.947724202065073,
          8.848032231078681,
          4.680562386296971,
          4.40944317413526,
          2.6245204056854723,
          4.250314476185666,
          3.7328626330887325,
          6.909154761913737,
          10.706828070047195,
          4.886197345010135,
          3.5272276743755686,
          2.096113590708689,
          3.3476072074955696,
          6.403985591600276,
          6.604834932292391,
          5.3808244496313415,
          8.098143546912436,
          2.701633515202909,
          4.678783443169285,
          7.731728169492936,
          13.611676788016375,
          2.701633515202909,
          6.2801223168956515,
          3.7328626330887325,
          27.197211747291355,
          2.1942724955741677,
          11.127165840421256,
          12.301602382624829,
          2.1942724955741677,
          6.506676027426914,
          5.186144462798027,
          4.486556283652697,
          5.186144462798027,
          9.022782021820868,
          12.055629980483898,
          31.710271627396523,
          11.817214228619399,
          10.826961102172746,
          9.494005923371342,
          12.550384307476051,
          9.296332798840666,
          7.731728169492936,
          4.678783443169285,
          103.76777990715,
          4.886197345010135,
          2.6245204056854723,
          6.27521983798093,
          6.570508381277719,
          7.473215649967816,
          7.4352147094861,
          7.250808624585053,
          3.5272276743755686,
          9.296332798840666,
          13.341834994098111,
          7.681056534696358,
          4.3788363253813944,
          8.789398762099617,
          8.789398762099617,
          12.055629980483898,
          11.127165840421256,
          10.706828070047195,
          3.7328626330887325,
          7.758169644213794,
          9.322154029573484,
          38.018939322042186,
          3.7328626330887325,
          2.8192003925187863,
          3.3476072074955696,
          14.817708377018784,
          4.3788363253813944,
          15.098910866227047,
          9.812432681697606,
          9.089345879887508,
          106.01097720593629,
          12.048553557171708,
          9.022782021820868,
          17.15317390371086,
          2.701633515202909,
          24.635587690178802,
          9.903208038134606,
          10.826961102172746,
          7.647544988100767,
          4.890545797507218,
          4.250314476185666,
          7.75036246745735,
          6.993337943305905,
          3.3476072074955696,
          17.239834171756126,
          2.1732267002261256,
          4.755896552686723,
          3.7328626330887325,
          10.307187008689755,
          4.486556283652697,
          9.395847018505863,
          7.75036246745735,
          10.576527277723784,
          3.3476072074955696,
          23.98961399788614,
          10.4889176243091,
          282.8673232683518,
          12.426521032771426,
          2.8192003925187863,
          9.71427377683213,
          4.3788363253813944,
          16.4622289893587,
          12.92073187366421,
          6.909154761913737,
          6.527721822774955,
          7.378903490893087,
          6.575166955768823,
          7.1954362782223384,
          2.1732267002261256,
          11.127165840421256,
          7.647544988100767,
          6.042101566300937,
          4.357790530033351,
          4.3788363253813944,
          7.473215649967816,
          4.250314476185666,
          8.142998086919263,
          7.416515781542477,
          4.152155571320187,
          11.390389435970878,
          8.334385354379465,
          3.5272276743755686,
          5.186144462798027,
          6.986267871431173,
          2.6034746103374298,
          9.022782021820868,
          25.14294870980754,
          29.04615012689702,
          7.250808624585053,
          3.9878385288171216,
          7.758169644213794,
          13.611676788016375,
          5.832118155090688,
          11.390389435970878,
          13.82745525057213,
          6.549462585929677,
          102.27457009684395,
          6.993337943305905,
          17.239834171756126,
          4.890545797507218,
          11.563212156437798,
          5.772761297266911,
          2.6245204056854723,
          7.152649719719573,
          3.249448302630091,
          4.3788363253813944,
          6.986267871431173,
          2.096113590708689,
          3.249448302630091,
          10.209028103824277,
          6.986267871431173,
          31.289347425683317,
          32.67836991865411,
          10.134237244692896,
          10.204369529333174,
          4.486556283652697,
          12.05810742481899,
          12.788264298503822,
          4.755896552686723,
          4.657737647821245,
          2.096113590708689,
          2.701633515202909,
          19.236027860517943,
          7.22976282923701,
          12.968769997413116,
          4.486556283652697,
          2.701633515202909,
          4.890545797507218,
          6.04388050942862,
          5.3808244496313415,
          6.734825423780785,
          11.661371061303276,
          11.661371061303276,
          11.3325431786738,
          4.152155571320187,
          9.099895131338306,
          3.3476072074955696,
          4.0906560081737044,
          27.197211747291355,
          3.9878385288171216,
          6.971067231247816,
          17.752397430816334,
          4.357790530033351,
          33.58733108997592,
          2.1942724955741677,
          5.121885126059528,
          6.263181069621076,
          11.627044510288604,
          11.631703084779705,
          281.1130073486559,
          16.621887457370658,
          7.9938574252631875,
          4.3788363253813944,
          6.673325860634301,
          14.640636335890544,
          8.583763803386454,
          3.5272276743755686,
          9.296332798840666,
          8.376808329528208,
          3.3265614121475275,
          21.823356466310642,
          23.567825916421924,
          10.475488741494885,
          9.001736226472826,
          8.424105335374492,
          17.239834171756126,
          7.378903490893087,
          2.096113590708689,
          2.1942724955741677,
          7.152649719719573,
          2.701633515202909,
          4.3788363253813944,
          6.263181069621076,
          12.607906726742108,
          12.053456036086429,
          10.386100144952518,
          4.755896552686723,
          7.681056534696358,
          10.209169045213322,
          97.94714918211292,
          3.7328626330887325,
          2.1942724955741677,
          2.1942724955741677,
          6.506676027426914,
          2.1732267002261256,
          9.553493358125795,
          4.680562386296971,
          4.680562386296971,
          5.401870244979385,
          8.419446760883387,
          6.971067231247816,
          15.460615167622041,
          6.604834932292391,
          10.981070817995942,
          6.042101566300937,
          4.680562386296971,
          4.152155571320187,
          5.303711340113905,
          9.14719213718459,
          8.903697179378751,
          6.971067231247816,
          6.673325860634301,
          16.4622289893587,
          6.993337943305905,
          7.891039945906606,
          10.473709798367201,
          9.934926297264575,
          10.204369529333174,
          4.40944317413526,
          4.3788363253813944,
          5.303711340113905,
          9.934926297264575,
          9.14719213718459,
          7.758169644213794,
          28.58623424026215,
          8.398400965535346,
          12.05810742481899,
          3.249448302630091,
          3.5272276743755686,
          9.765830822499002,
          5.121885126059528,
          8.848032231078681,
          4.486556283652697,
          8.583763803386454,
          7.229762829237011,
          6.527721822774955,
          2.8192003925187863,
          100.58766529187058,
          7.250808624585053,
          2.6245204056854723,
          11.563212156437798,
          3.9878385288171216,
          7.758169644213794,
          8.857889690441528,
          7.758169644213794,
          7.731728169492936,
          2.096113590708689,
          9.099895131338306,
          5.121885126059528,
          25.99890581331045,
          8.52226424023997,
          7.378903490893087,
          4.657737647821245,
          372.0250736883652,
          11.729861989645187,
          4.40944317413526,
          2.6245204056854723,
          7.203875380933789,
          8.749873326213203,
          16.028430111112723,
          12.053456036086429,
          6.527721822774955,
          4.678783443169285,
          7.731728169492936,
          8.862792169356249,
          7.229762829237011,
          8.398400965535346,
          2.1732267002261256,
          8.800879700022168,
          20.270508186021683,
          11.817214228619399,
          17.31694728127356,
          6.527721822774955,
          2.1942724955741677,
          10.001366943000084,
          3.249448302630091,
          15.291409544063352,
          9.395847018505863,
          2.8192003925187863,
          4.755896552686723,
          17.752397430816334,
          7.758169644213794,
          2.8192003925187863,
          7.681056534696358,
          19.40660314321429,
          3.5272276743755686,
          8.376808329528208,
          96.56235828074556,
          3.3476072074955696,
          15.442731514716442,
          2.1732267002261256,
          4.152155571320187,
          7.378903490893087,
          4.755896552686723,
          14.327009093444428,
          2.8192003925187863,
          4.486556283652697,
          11.796690656912087,
          4.0906560081737044,
          10.307187008689759,
          14.197439054565269,
          9.296332798840666,
          9.812432681697606,
          23.99168919530899,
          9.812432681697606,
          5.401870244979385,
          9.934926297264575,
          4.40944317413526,
          9.395847018505863,
          3.249448302630091,
          3.5272276743755686,
          7.152649719719573,
          2.1942724955741677,
          11.063202909639774,
          6.909154761913737,
          5.811072359742646,
          11.817214228619399,
          4.388397378787219,
          17.920155049221158,
          7.473215649967816,
          6.403985591600276,
          4.250314476185666,
          11.063202909639774,
          9.044374657828005,
          10.957960216862567,
          4.3788363253813944,
          2.1942724955741677,
          4.678783443169285,
          10.204369529333176,
          9.395847018505863,
          12.704081117111652,
          2.1732267002261256,
          5.3808244496313415,
          10.706828070047195,
          6.993337943305905,
          13.181481558279469,
          6.986267871431173,
          5.401870244979385,
          7.681056534696358,
          286.379526888877,
          12.5297517789787,
          4.486556283652697,
          12.126598353160901,
          4.3788363253813944,
          2.8192003925187863,
          4.680562386296971,
          9.96553314601844,
          8.820005610853483,
          10.45266400301916,
          7.250808624585053,
          7.473215649967816,
          7.250808624585053,
          7.152649719719575,
          6.570508381277719,
          4.3788363253813944,
          11.127165840421256,
          8.888496539195394,
          25.998905813310454,
          7.731728169492936,
          10.204369529333174,
          3.249448302630091,
          3.7328626330887325,
          6.575166955768823,
          17.80395447648321,
          11.03259606088591,
          2.1732267002261256,
          11.063202909639774,
          3.7328626330887325,
          2.096113590708689,
          4.680562386296971,
          4.657737647821245,
          5.3808244496313415,
          7.22976282923701,
          8.848032231078681,
          5.303711340113905,
          11.95747107561842,
          3.5272276743755686,
          9.903208038134606,
          288.05346123901876,
          9.947081926518102,
          8.398400965535345,
          10.73743491880106,
          7.152649719719575,
          8.583763803386454,
          6.527721822774955,
          12.788264298503822,
          6.1449190456575185,
          15.723838763171667,
          7.704554978520126,
          8.419446760883387,
          8.749873326213203,
          4.250314476185666,
          4.886197345010135,
          2.1732267002261256,
          3.3265614121475275,
          14.610029487136678,
          17.06556425029618,
          7.152649719719573,
          4.250314476185666,
          4.678783443169285,
          101.38755508120411,
          12.806898596468233,
          4.3788363253813944,
          4.486556283652697,
          23.893593907260637,
          99.06697234743874,
          11.319717198631958,
          12.761091107531009,
          6.2801223168956515,
          3.3265614121475275,
          8.789398762099617,
          284.2612482402373,
          7.731728169492936,
          7.250808624585053,
          4.250314476185666,
          9.022782021820868,
          4.40944317413526,
          281.3287331308373,
          4.886197345010135,
          2.096113590708689,
          17.060905675805078,
          10.473709798367201,
          8.888496539195394,
          8.800879700022168,
          4.886197345010135,
          6.263181069621076,
          7.993857425263187,
          7.1954362782223384,
          6.604834932292391,
          4.890545797507218,
          17.978224397943155,
          2.1942724955741677,
          3.9878385288171216,
          3.5272276743755686,
          9.278280141189986,
          21.40901934284839,
          4.657737647821245,
          8.626550361889219,
          18.603152294887774,
          2.701633515202909,
          7.22976282923701,
          6.971067231247816,
          9.472960128023301,
          3.3476072074955696,
          7.647544988100767,
          8.789398762099617,
          2.1732267002261256,
          4.357790530033351,
          10.134237244692896,
          8.356656066437555,
          12.950025368833487,
          3.3265614121475275,
          9.924253833482647,
          28.58623424026215,
          14.343950340719005,
          3.3476072074955696,
          8.458248629084089,
          3.7328626330887325,
          17.352340105730477,
          2.701633515202909,
          10.307187008689755,
          9.296332798840666,
          15.434910797782896,
          4.40944317413526,
          7.035082842403696,
          5.186144462798027,
          3.7328626330887325,
          9.812432681697606,
          3.3265614121475275,
          4.680562386296971,
          4.486556283652697,
          4.40944317413526,
          7.250808624585053,
          2.1732267002261256,
          3.249448302630091,
          7.681056534696358,
          4.886197345010135,
          2.096113590708689,
          11.60599871494056,
          9.278280141189986,
          2.1942724955741677,
          3.7328626330887325,
          8.142998086919263,
          7.681056534696358,
          13.199534215930147,
          2.1942724955741677,
          116.79340527570379,
          4.680562386296971,
          4.40944317413526,
          4.250314476185666,
          8.424105335374492,
          16.85322678592297,
          4.357790530033351,
          29.8102447229232,
          28.68439314512763,
          11.319717198631958,
          2.096113590708689,
          4.486556283652697,
          20.265605707106968,
          6.940460382493949,
          5.650291941036311,
          17.98288297243426,
          4.886197345010135,
          9.089345879887508,
          3.3476072074955696,
          10.826961102172746,
          2.1942724955741677,
          23.013714731605997,
          4.250314476185666,
          3.249448302630091,
          4.250314476185666,
          9.903208038134606,
          5.772761297266911,
          9.924253833482647,
          3.7328626330887325,
          8.52226424023997,
          8.767925983863883,
          6.734825423780785,
          7.681056534696358,
          7.035082842403696,
          9.089345879887508,
          7.378903490893087,
          10.307187008689755,
          3.5272276743755686,
          8.098143546912436,
          4.916804193764001,
          19.383545222455314,
          12.791697956284878,
          4.388397378787219,
          3.3476072074955696,
          10.706828070047195,
          5.121885126059528,
          12.05810742481899,
          14.817708377018784,
          38.22980131604619,
          4.657737647821245
         ],
         "xaxis": "x",
         "yaxis": "y"
        }
       ],
       "layout": {
        "annotations": [
         {
          "showarrow": false,
          "text": "Observed Test Statistic",
          "x": 1398,
          "xanchor": "right",
          "xref": "x",
          "y": 1,
          "yanchor": "top",
          "yref": "y domain"
         }
        ],
        "barmode": "relative",
        "legend": {
         "title": {
          "text": "variable"
         },
         "tracegroupgap": 0
        },
        "margin": {
         "t": 60
        },
        "shapes": [
         {
          "line": {
           "color": "green",
           "dash": "dash",
           "width": 3
          },
          "type": "line",
          "x0": 1398,
          "x1": 1398,
          "xref": "x",
          "y0": 0,
          "y1": 1,
          "yref": "y domain"
         }
        ],
        "template": {
         "data": {
          "bar": [
           {
            "error_x": {
             "color": "#2a3f5f"
            },
            "error_y": {
             "color": "#2a3f5f"
            },
            "marker": {
             "line": {
              "color": "#E5ECF6",
              "width": 0.5
             },
             "pattern": {
              "fillmode": "overlay",
              "size": 10,
              "solidity": 0.2
             }
            },
            "type": "bar"
           }
          ],
          "barpolar": [
           {
            "marker": {
             "line": {
              "color": "#E5ECF6",
              "width": 0.5
             },
             "pattern": {
              "fillmode": "overlay",
              "size": 10,
              "solidity": 0.2
             }
            },
            "type": "barpolar"
           }
          ],
          "carpet": [
           {
            "aaxis": {
             "endlinecolor": "#2a3f5f",
             "gridcolor": "white",
             "linecolor": "white",
             "minorgridcolor": "white",
             "startlinecolor": "#2a3f5f"
            },
            "baxis": {
             "endlinecolor": "#2a3f5f",
             "gridcolor": "white",
             "linecolor": "white",
             "minorgridcolor": "white",
             "startlinecolor": "#2a3f5f"
            },
            "type": "carpet"
           }
          ],
          "choropleth": [
           {
            "colorbar": {
             "outlinewidth": 0,
             "ticks": ""
            },
            "type": "choropleth"
           }
          ],
          "contour": [
           {
            "colorbar": {
             "outlinewidth": 0,
             "ticks": ""
            },
            "colorscale": [
             [
              0,
              "#0d0887"
             ],
             [
              0.1111111111111111,
              "#46039f"
             ],
             [
              0.2222222222222222,
              "#7201a8"
             ],
             [
              0.3333333333333333,
              "#9c179e"
             ],
             [
              0.4444444444444444,
              "#bd3786"
             ],
             [
              0.5555555555555556,
              "#d8576b"
             ],
             [
              0.6666666666666666,
              "#ed7953"
             ],
             [
              0.7777777777777778,
              "#fb9f3a"
             ],
             [
              0.8888888888888888,
              "#fdca26"
             ],
             [
              1,
              "#f0f921"
             ]
            ],
            "type": "contour"
           }
          ],
          "contourcarpet": [
           {
            "colorbar": {
             "outlinewidth": 0,
             "ticks": ""
            },
            "type": "contourcarpet"
           }
          ],
          "heatmap": [
           {
            "colorbar": {
             "outlinewidth": 0,
             "ticks": ""
            },
            "colorscale": [
             [
              0,
              "#0d0887"
             ],
             [
              0.1111111111111111,
              "#46039f"
             ],
             [
              0.2222222222222222,
              "#7201a8"
             ],
             [
              0.3333333333333333,
              "#9c179e"
             ],
             [
              0.4444444444444444,
              "#bd3786"
             ],
             [
              0.5555555555555556,
              "#d8576b"
             ],
             [
              0.6666666666666666,
              "#ed7953"
             ],
             [
              0.7777777777777778,
              "#fb9f3a"
             ],
             [
              0.8888888888888888,
              "#fdca26"
             ],
             [
              1,
              "#f0f921"
             ]
            ],
            "type": "heatmap"
           }
          ],
          "heatmapgl": [
           {
            "colorbar": {
             "outlinewidth": 0,
             "ticks": ""
            },
            "colorscale": [
             [
              0,
              "#0d0887"
             ],
             [
              0.1111111111111111,
              "#46039f"
             ],
             [
              0.2222222222222222,
              "#7201a8"
             ],
             [
              0.3333333333333333,
              "#9c179e"
             ],
             [
              0.4444444444444444,
              "#bd3786"
             ],
             [
              0.5555555555555556,
              "#d8576b"
             ],
             [
              0.6666666666666666,
              "#ed7953"
             ],
             [
              0.7777777777777778,
              "#fb9f3a"
             ],
             [
              0.8888888888888888,
              "#fdca26"
             ],
             [
              1,
              "#f0f921"
             ]
            ],
            "type": "heatmapgl"
           }
          ],
          "histogram": [
           {
            "marker": {
             "pattern": {
              "fillmode": "overlay",
              "size": 10,
              "solidity": 0.2
             }
            },
            "type": "histogram"
           }
          ],
          "histogram2d": [
           {
            "colorbar": {
             "outlinewidth": 0,
             "ticks": ""
            },
            "colorscale": [
             [
              0,
              "#0d0887"
             ],
             [
              0.1111111111111111,
              "#46039f"
             ],
             [
              0.2222222222222222,
              "#7201a8"
             ],
             [
              0.3333333333333333,
              "#9c179e"
             ],
             [
              0.4444444444444444,
              "#bd3786"
             ],
             [
              0.5555555555555556,
              "#d8576b"
             ],
             [
              0.6666666666666666,
              "#ed7953"
             ],
             [
              0.7777777777777778,
              "#fb9f3a"
             ],
             [
              0.8888888888888888,
              "#fdca26"
             ],
             [
              1,
              "#f0f921"
             ]
            ],
            "type": "histogram2d"
           }
          ],
          "histogram2dcontour": [
           {
            "colorbar": {
             "outlinewidth": 0,
             "ticks": ""
            },
            "colorscale": [
             [
              0,
              "#0d0887"
             ],
             [
              0.1111111111111111,
              "#46039f"
             ],
             [
              0.2222222222222222,
              "#7201a8"
             ],
             [
              0.3333333333333333,
              "#9c179e"
             ],
             [
              0.4444444444444444,
              "#bd3786"
             ],
             [
              0.5555555555555556,
              "#d8576b"
             ],
             [
              0.6666666666666666,
              "#ed7953"
             ],
             [
              0.7777777777777778,
              "#fb9f3a"
             ],
             [
              0.8888888888888888,
              "#fdca26"
             ],
             [
              1,
              "#f0f921"
             ]
            ],
            "type": "histogram2dcontour"
           }
          ],
          "mesh3d": [
           {
            "colorbar": {
             "outlinewidth": 0,
             "ticks": ""
            },
            "type": "mesh3d"
           }
          ],
          "parcoords": [
           {
            "line": {
             "colorbar": {
              "outlinewidth": 0,
              "ticks": ""
             }
            },
            "type": "parcoords"
           }
          ],
          "pie": [
           {
            "automargin": true,
            "type": "pie"
           }
          ],
          "scatter": [
           {
            "fillpattern": {
             "fillmode": "overlay",
             "size": 10,
             "solidity": 0.2
            },
            "type": "scatter"
           }
          ],
          "scatter3d": [
           {
            "line": {
             "colorbar": {
              "outlinewidth": 0,
              "ticks": ""
             }
            },
            "marker": {
             "colorbar": {
              "outlinewidth": 0,
              "ticks": ""
             }
            },
            "type": "scatter3d"
           }
          ],
          "scattercarpet": [
           {
            "marker": {
             "colorbar": {
              "outlinewidth": 0,
              "ticks": ""
             }
            },
            "type": "scattercarpet"
           }
          ],
          "scattergeo": [
           {
            "marker": {
             "colorbar": {
              "outlinewidth": 0,
              "ticks": ""
             }
            },
            "type": "scattergeo"
           }
          ],
          "scattergl": [
           {
            "marker": {
             "colorbar": {
              "outlinewidth": 0,
              "ticks": ""
             }
            },
            "type": "scattergl"
           }
          ],
          "scattermapbox": [
           {
            "marker": {
             "colorbar": {
              "outlinewidth": 0,
              "ticks": ""
             }
            },
            "type": "scattermapbox"
           }
          ],
          "scatterpolar": [
           {
            "marker": {
             "colorbar": {
              "outlinewidth": 0,
              "ticks": ""
             }
            },
            "type": "scatterpolar"
           }
          ],
          "scatterpolargl": [
           {
            "marker": {
             "colorbar": {
              "outlinewidth": 0,
              "ticks": ""
             }
            },
            "type": "scatterpolargl"
           }
          ],
          "scatterternary": [
           {
            "marker": {
             "colorbar": {
              "outlinewidth": 0,
              "ticks": ""
             }
            },
            "type": "scatterternary"
           }
          ],
          "surface": [
           {
            "colorbar": {
             "outlinewidth": 0,
             "ticks": ""
            },
            "colorscale": [
             [
              0,
              "#0d0887"
             ],
             [
              0.1111111111111111,
              "#46039f"
             ],
             [
              0.2222222222222222,
              "#7201a8"
             ],
             [
              0.3333333333333333,
              "#9c179e"
             ],
             [
              0.4444444444444444,
              "#bd3786"
             ],
             [
              0.5555555555555556,
              "#d8576b"
             ],
             [
              0.6666666666666666,
              "#ed7953"
             ],
             [
              0.7777777777777778,
              "#fb9f3a"
             ],
             [
              0.8888888888888888,
              "#fdca26"
             ],
             [
              1,
              "#f0f921"
             ]
            ],
            "type": "surface"
           }
          ],
          "table": [
           {
            "cells": {
             "fill": {
              "color": "#EBF0F8"
             },
             "line": {
              "color": "white"
             }
            },
            "header": {
             "fill": {
              "color": "#C8D4E3"
             },
             "line": {
              "color": "white"
             }
            },
            "type": "table"
           }
          ]
         },
         "layout": {
          "annotationdefaults": {
           "arrowcolor": "#2a3f5f",
           "arrowhead": 0,
           "arrowwidth": 1
          },
          "autotypenumbers": "strict",
          "coloraxis": {
           "colorbar": {
            "outlinewidth": 0,
            "ticks": ""
           }
          },
          "colorscale": {
           "diverging": [
            [
             0,
             "#8e0152"
            ],
            [
             0.1,
             "#c51b7d"
            ],
            [
             0.2,
             "#de77ae"
            ],
            [
             0.3,
             "#f1b6da"
            ],
            [
             0.4,
             "#fde0ef"
            ],
            [
             0.5,
             "#f7f7f7"
            ],
            [
             0.6,
             "#e6f5d0"
            ],
            [
             0.7,
             "#b8e186"
            ],
            [
             0.8,
             "#7fbc41"
            ],
            [
             0.9,
             "#4d9221"
            ],
            [
             1,
             "#276419"
            ]
           ],
           "sequential": [
            [
             0,
             "#0d0887"
            ],
            [
             0.1111111111111111,
             "#46039f"
            ],
            [
             0.2222222222222222,
             "#7201a8"
            ],
            [
             0.3333333333333333,
             "#9c179e"
            ],
            [
             0.4444444444444444,
             "#bd3786"
            ],
            [
             0.5555555555555556,
             "#d8576b"
            ],
            [
             0.6666666666666666,
             "#ed7953"
            ],
            [
             0.7777777777777778,
             "#fb9f3a"
            ],
            [
             0.8888888888888888,
             "#fdca26"
            ],
            [
             1,
             "#f0f921"
            ]
           ],
           "sequentialminus": [
            [
             0,
             "#0d0887"
            ],
            [
             0.1111111111111111,
             "#46039f"
            ],
            [
             0.2222222222222222,
             "#7201a8"
            ],
            [
             0.3333333333333333,
             "#9c179e"
            ],
            [
             0.4444444444444444,
             "#bd3786"
            ],
            [
             0.5555555555555556,
             "#d8576b"
            ],
            [
             0.6666666666666666,
             "#ed7953"
            ],
            [
             0.7777777777777778,
             "#fb9f3a"
            ],
            [
             0.8888888888888888,
             "#fdca26"
            ],
            [
             1,
             "#f0f921"
            ]
           ]
          },
          "colorway": [
           "#636efa",
           "#EF553B",
           "#00cc96",
           "#ab63fa",
           "#FFA15A",
           "#19d3f3",
           "#FF6692",
           "#B6E880",
           "#FF97FF",
           "#FECB52"
          ],
          "font": {
           "color": "#2a3f5f"
          },
          "geo": {
           "bgcolor": "white",
           "lakecolor": "white",
           "landcolor": "#E5ECF6",
           "showlakes": true,
           "showland": true,
           "subunitcolor": "white"
          },
          "hoverlabel": {
           "align": "left"
          },
          "hovermode": "closest",
          "mapbox": {
           "style": "light"
          },
          "paper_bgcolor": "white",
          "plot_bgcolor": "#E5ECF6",
          "polar": {
           "angularaxis": {
            "gridcolor": "white",
            "linecolor": "white",
            "ticks": ""
           },
           "bgcolor": "#E5ECF6",
           "radialaxis": {
            "gridcolor": "white",
            "linecolor": "white",
            "ticks": ""
           }
          },
          "scene": {
           "xaxis": {
            "backgroundcolor": "#E5ECF6",
            "gridcolor": "white",
            "gridwidth": 2,
            "linecolor": "white",
            "showbackground": true,
            "ticks": "",
            "zerolinecolor": "white"
           },
           "yaxis": {
            "backgroundcolor": "#E5ECF6",
            "gridcolor": "white",
            "gridwidth": 2,
            "linecolor": "white",
            "showbackground": true,
            "ticks": "",
            "zerolinecolor": "white"
           },
           "zaxis": {
            "backgroundcolor": "#E5ECF6",
            "gridcolor": "white",
            "gridwidth": 2,
            "linecolor": "white",
            "showbackground": true,
            "ticks": "",
            "zerolinecolor": "white"
           }
          },
          "shapedefaults": {
           "line": {
            "color": "#2a3f5f"
           }
          },
          "ternary": {
           "aaxis": {
            "gridcolor": "white",
            "linecolor": "white",
            "ticks": ""
           },
           "baxis": {
            "gridcolor": "white",
            "linecolor": "white",
            "ticks": ""
           },
           "bgcolor": "#E5ECF6",
           "caxis": {
            "gridcolor": "white",
            "linecolor": "white",
            "ticks": ""
           }
          },
          "title": {
           "x": 0.05
          },
          "xaxis": {
           "automargin": true,
           "gridcolor": "white",
           "linecolor": "white",
           "ticks": "",
           "title": {
            "standoff": 15
           },
           "zerolinecolor": "white",
           "zerolinewidth": 2
          },
          "yaxis": {
           "automargin": true,
           "gridcolor": "white",
           "linecolor": "white",
           "ticks": "",
           "title": {
            "standoff": 15
           },
           "zerolinecolor": "white",
           "zerolinewidth": 2
          }
         }
        },
        "xaxis": {
         "anchor": "y",
         "domain": [
          0,
          1
         ],
         "title": {
          "text": "value"
         }
        },
        "yaxis": {
         "anchor": "x",
         "domain": [
          0,
          1
         ],
         "title": {
          "text": "count"
         }
        }
       }
      }
     },
     "metadata": {},
     "output_type": "display_data"
    }
   ],
   "source": [
    "chi_viz = pd.DataFrame({'Simulated Chi': chi_stats})\n",
    "fig = px.histogram(chi_viz)\n",
    "fig.add_vline(x=observed_stat, line_width=3, line_dash='dash', line_color='green', annotation_text='Observed Test Statistic', annotation_position='top left')\n",
    "fig.show()\n",
    "\n",
    "fig.write_html('assets/sim_chi.html', include_plotlyjs='cdn')"
   ]
  },
  {
   "cell_type": "markdown",
   "metadata": {},
   "source": [
    "## Step 4: Hypothesis Testing"
   ]
  },
  {
   "cell_type": "markdown",
   "metadata": {},
   "source": [
    "**Null Hypothesis**: Outage Durations are equal in length regardless of whether the majority of electricity consumption in the state is residential or industrial\n",
    "**Alternate Hypothesis**: Outage Durations are longer when the majority of electricity consumption in the state is residential, as compared to industrial\n",
    "\n",
    "I define the majority to be more than 50%. Hence, we would be comparing `'OUTAGE.DURATION'` across rows with `'RES.PERCEN' > 50.0` and `'IND.PERCEN' > 50.0`.\n",
    "\n",
    "Our text statistic would be subtracting the mean `'OUTAGE.DURATION'` of industrially dominated states from the mean `'OUTAGE.DURATION'` of residentially dominated states. This would be a permutation test.\n",
    "\n",
    "Since we only have ~1500 rows, we chose a p-value of 0.05."
   ]
  },
  {
   "cell_type": "code",
   "execution_count": 264,
   "metadata": {
    "ExecuteTime": {
     "end_time": "2019-10-31T23:36:28.666489Z",
     "start_time": "2019-10-31T23:36:28.664381Z"
    }
   },
   "outputs": [
    {
     "data": {
      "text/plain": [
       "np.float64(0.029)"
      ]
     },
     "execution_count": 264,
     "metadata": {},
     "output_type": "execute_result"
    }
   ],
   "source": [
    "residential = df[df['RES.PERCEN'] > 50.0]['OUTAGE.DURATION']\n",
    "industrial = df[df['IND.PERCEN'] > 50.0]['OUTAGE.DURATION']\n",
    "observed_test_stat = residential.mean() - industrial.mean()\n",
    "\n",
    "# calculating simulated statistics,\n",
    "perm_df = df[['RES.PERCEN', 'IND.PERCEN', 'OUTAGE.DURATION']]\n",
    "perm_stats = []\n",
    "for _ in range(1000):\n",
    "    shuffled = np.random.permutation(df['OUTAGE.DURATION'])\n",
    "    perm_df = perm_df.assign(SHUFFLED_OUTAGE_DURATION = shuffled)\n",
    "    residential_sim = perm_df[perm_df['RES.PERCEN'] > 50.0]['SHUFFLED_OUTAGE_DURATION']\n",
    "    industrial_sim = perm_df[perm_df['IND.PERCEN'] > 50.0]['SHUFFLED_OUTAGE_DURATION']\n",
    "    perm_stat = residential_sim.mean() - industrial_sim.mean()\n",
    "    perm_stats.append(perm_stat)\n",
    "\n",
    "p_value = np.mean(perm_stats >= observed_test_stat)\n",
    "p_value # we reject the null, < 0.05"
   ]
  },
  {
   "cell_type": "code",
   "execution_count": 265,
   "metadata": {},
   "outputs": [
    {
     "data": {
      "application/vnd.plotly.v1+json": {
       "config": {
        "plotlyServerURL": "https://plot.ly"
       },
       "data": [
        {
         "alignmentgroup": "True",
         "bingroup": "x",
         "hovertemplate": "variable=Test Statistic<br>value=%{x}<br>count=%{y}<extra></extra>",
         "legendgroup": "Test Statistic",
         "marker": {
          "color": "#636efa",
          "pattern": {
           "shape": ""
          }
         },
         "name": "Test Statistic",
         "offsetgroup": "Test Statistic",
         "orientation": "v",
         "showlegend": true,
         "type": "histogram",
         "x": [
          1657.5314285714287,
          708.1999999999998,
          1112.0714285714287,
          511.85142857142887,
          -330.3685714285716,
          -266.84857142857163,
          -842.5971428571427,
          -931.2885714285715,
          1242.094285714286,
          4766.14,
          241.27428571428572,
          851.6571428571431,
          1274.6999999999998,
          -1176.08,
          116.2314285714283,
          -1154.3828571428567,
          -1106.5257142857142,
          2029.7514285714285,
          780.2514285714286,
          1513.8114285714285,
          1924.3685714285714,
          193.53428571428572,
          1482.8371428571422,
          1614.6342857142859,
          2473.6485714285714,
          790.7199999999998,
          1278.4085714285713,
          -829.7514285714285,
          525.6685714285713,
          3287.4799999999996,
          -630.9685714285715,
          2358.1857142857143,
          -297.02857142857147,
          -3154.854285714285,
          592.1628571428571,
          1352.177142857143,
          2383.1657142857143,
          -2838.7342857142853,
          -563.6257142857144,
          1320.6285714285711,
          708.322857142857,
          -35.602857142857374,
          -7953.845714285713,
          -1267.3457142857142,
          2188.225714285714,
          1754.0228571428572,
          4415.4742857142855,
          1552.3971428571429,
          1896.6142857142854,
          2063.511428571429,
          -254.12857142857138,
          -2056.1428571428573,
          -141.7057142857143,
          -1143.4828571428573,
          630.8257142857142,
          4244.048571428571,
          1875.0114285714287,
          -956.1314285714284,
          -209.66000000000008,
          414.5914285714284,
          454.1828571428571,
          2305.4285714285716,
          -3451.7885714285712,
          -517.8885714285716,
          1335.6285714285711,
          -280.8228571428572,
          2021.3514285714282,
          -519.4114285714286,
          4028.2971428571427,
          645.3428571428569,
          -1728.58,
          1870.1999999999998,
          1409.1399999999999,
          785.52,
          -175.4000000000001,
          -93.22571428571428,
          -355.4914285714285,
          874.6799999999998,
          957.777142857143,
          -34.825714285714184,
          -2551.262857142857,
          -2466.897142857143,
          -571.6257142857141,
          1896.54,
          714.7914285714282,
          107.17999999999984,
          1997.48,
          1647.157142857143,
          3030.7371428571428,
          31.645714285714348,
          907.262857142857,
          677.5942857142859,
          1539.4885714285715,
          -214.87714285714264,
          477.6828571428571,
          445.76571428571424,
          328.7085714285713,
          -1159.1085714285716,
          -412.66857142857157,
          -2756.602857142857,
          -922.0457142857142,
          668.3828571428569,
          837.3342857142857,
          1587.905714285714,
          849.0914285714284,
          291.2942857142857,
          -660.9942857142855,
          1846.5914285714287,
          70.71142857142831,
          -2191.6657142857143,
          139.23714285714277,
          91.06571428571442,
          -603.1914285714283,
          -597.2514285714283,
          -2379.44,
          763.6199999999999,
          1464.7600000000002,
          -930.6314285714284,
          -2493.1571428571433,
          733.76,
          121.99142857142851,
          146.32571428571418,
          -10616.834285714285,
          2352.977142857143,
          -906.7914285714285,
          339.7171428571428,
          -260.2485714285717,
          1115.857142857143,
          -48.61142857142863,
          885.2885714285712,
          941.7199999999998,
          -171.65714285714284,
          1494.1399999999999,
          -1239.9342857142858,
          -422.5114285714285,
          31.031428571428478,
          -1983.1942857142853,
          -975.6142857142859,
          186.2199999999998,
          973.0285714285715,
          2027.3085714285717,
          1209.0714285714284,
          -1727.2371428571432,
          -511.97142857142853,
          -416.0885714285714,
          1517.9628571428575,
          -3541.4685714285715,
          -5399.228571428571,
          -1307.1314285714288,
          928.1914285714286,
          -147.57999999999993,
          2844.8885714285716,
          -814.0314285714285,
          626.1828571428573,
          621.9114285714286,
          -662.9200000000001,
          819.7685714285715,
          -42.180000000000064,
          -547.3657142857141,
          -625.5057142857142,
          -319,
          1935.9914285714285,
          -1082.2600000000002,
          329.3800000000001,
          1115.4,
          -520.0542857142859,
          -1078.5257142857145,
          -257.65428571428583,
          -2511.1971428571433,
          431.6057142857144,
          -1207.6428571428573,
          -1030.9914285714285,
          -2452.3599999999997,
          -978.0914285714284,
          -261.9142857142856,
          -2692.108571428572,
          -2086.4685714285715,
          310.10285714285715,
          -1410.2399999999998,
          -2326.2,
          -695.8742857142859,
          -905.2514285714283,
          -458.48285714285726,
          1774.2914285714285,
          119.06285714285741,
          -2805.6971428571433,
          1573.985714285714,
          129.5571428571427,
          1144.2885714285717,
          -715.8942857142858,
          -184.28571428571422,
          396.6285714285714,
          1295.1885714285718,
          -787.7828571428572,
          1853.3085714285714,
          470.98285714285703,
          745.5971428571424,
          -455.12285714285736,
          -1813.2942857142857,
          529.48,
          2238.417142857143,
          546.282857142857,
          -534.1885714285718,
          405.53714285714295,
          2749.2571428571428,
          437.0771428571427,
          721.0942857142859,
          1127.0857142857144,
          -4767.4228571428575,
          943.2885714285715,
          -429.6628571428573,
          1548.7485714285715,
          3104.2714285714283,
          264.46571428571406,
          714.6142857142859,
          1378.405714285714,
          941.4571428571428,
          -202.7314285714283,
          134.71428571428578,
          1655.8400000000001,
          449.38571428571413,
          994.4457142857141,
          -2624.48,
          -2585.64,
          1432.5885714285712,
          -268.35428571428565,
          214.94000000000005,
          -573.4857142857143,
          1829.202857142857,
          439.02857142857147,
          -2424.582857142857,
          -1257.0342857142857,
          -2794.1171428571433,
          -982.7028571428573,
          770.6971428571428,
          2733.0428571428574,
          -1114.8228571428572,
          -162.11714285714288,
          460.5457142857149,
          -6747.188571428571,
          -2759.7685714285717,
          1073.6257142857144,
          1599.2914285714287,
          -55.12571428571414,
          1658.0685714285712,
          9.642857142857338,
          655.2314285714288,
          456.38571428571413,
          1744.5171428571427,
          -2769.2057142857147,
          -453.6971428571426,
          -485.11714285714265,
          2474.642857142857,
          1164.1399999999999,
          -2491.5914285714284,
          1282.014285714286,
          -3730.374285714285,
          -152.45714285714257,
          1550.0028571428572,
          -1819.2314285714283,
          1851.2342857142862,
          -2582.394285714285,
          -2730.7514285714287,
          -584.7628571428572,
          690.005714285714,
          653.1371428571429,
          -93.07714285714246,
          459.80285714285696,
          -653.2457142857143,
          266.35142857142864,
          -2788.742857142857,
          2123.9428571428575,
          2015.2428571428577,
          1856.5714285714284,
          -1572.5857142857149,
          -392.45428571428556,
          1027.965714285714,
          348.4200000000001,
          1434.7114285714285,
          1093.7342857142858,
          -1273.8514285714284,
          820.7257142857143,
          -80.22000000000003,
          -787.2485714285717,
          974.4514285714288,
          1487.04,
          281.14571428571435,
          -870.3942857142856,
          2556.7742857142857,
          1056.3885714285716,
          -131.54285714285743,
          -105.03142857142848,
          -3192.4,
          -932.98,
          840.2057142857143,
          1321.0714285714287,
          1925.2057142857143,
          -3687.582857142857,
          1707.7314285714285,
          -693.6199999999999,
          -2069.565714285715,
          -4154.171428571428,
          4082.322857142857,
          741.1657142857143,
          53.868571428571386,
          -1358.04,
          -283.01428571428596,
          631.8314285714289,
          2567.1714285714284,
          -550.7828571428572,
          827.4657142857141,
          -1952.6114285714284,
          -1447.9142857142858,
          -3252.66,
          -2762.4942857142855,
          -1617.2742857142857,
          -82.84000000000015,
          -3340.7485714285717,
          -3722.5514285714285,
          -1015.5914285714287,
          -1894.5371428571427,
          808.8685714285716,
          1130.8371428571422,
          -585.9914285714285,
          1024.197142857143,
          196.92857142857156,
          14.55142857142846,
          -766.0885714285714,
          -259.8171428571427,
          -0.22571428571427532,
          -1114.7171428571428,
          -516.8171428571427,
          394.4000000000001,
          1098.38,
          -2924.1085714285714,
          -546.7942857142857,
          315.42857142857156,
          -6110.82,
          1328.0971428571427,
          -2478.917142857143,
          1140.6114285714284,
          -637.9971428571425,
          -153.87714285714264,
          2036.1857142857143,
          -2245.3028571428567,
          -4714.177142857143,
          -2220.2314285714283,
          1447.9485714285715,
          -178.13428571428585,
          2653.74,
          780.0428571428574,
          -817.6542857142858,
          1254.4971428571425,
          1117.8542857142857,
          2087.9542857142856,
          1900.8914285714288,
          -1362.2514285714285,
          1750.4771428571428,
          -599.8742857142856,
          759.257142857143,
          1452.5571428571425,
          -533.1457142857141,
          -676.1485714285714,
          -1107.1857142857143,
          1478.0514285714287,
          -979.1199999999999,
          2103.762857142857,
          1646.1857142857143,
          470.8828571428571,
          654.8885714285716,
          793.7914285714282,
          1462.54,
          61.988571428571504,
          417.5542857142857,
          296.6057142857144,
          -580.5771428571429,
          -2565.131428571429,
          -302.02857142857124,
          172.49428571428598,
          -25.84857142857163,
          1344.7885714285715,
          1311.5314285714285,
          -1580.7457142857143,
          -1956,
          126.28857142857169,
          484.25714285714275,
          247.50857142857149,
          490.07142857142867,
          193.4257142857141,
          -2843.0914285714284,
          474.1971428571428,
          -878.9714285714285,
          3933.314285714286,
          593.3114285714282,
          636.282857142857,
          217.43142857142857,
          1654.514285714286,
          2544.7057142857143,
          -137.82000000000016,
          -424.6028571428574,
          624.7714285714283,
          3332.5314285714285,
          -516.4628571428573,
          302.9257142857143,
          590.3400000000001,
          -1918.9685714285715,
          1470.3200000000002,
          -1789.6685714285716,
          -848.6400000000001,
          537.6885714285718,
          601.1399999999999,
          800.0514285714287,
          -302.52,
          343.15999999999985,
          -1045.3914285714286,
          -2993.2857142857147,
          -652.8857142857141,
          1870.8914285714288,
          682.5085714285715,
          -1559.9342857142856,
          683.4028571428576,
          -1832.4085714285716,
          -1024.9914285714285,
          1488.2657142857142,
          -7419.174285714286,
          -483.8914285714286,
          -101.32857142857142,
          1246.1114285714286,
          995.3000000000002,
          -1156.6571428571426,
          -1112.4228571428573,
          1248.7514285714285,
          -3058.854285714285,
          -1259.7771428571427,
          740.8657142857141,
          -798.7171428571428,
          1199.1885714285718,
          1041.8600000000001,
          -1941.971428571428,
          1654.5628571428572,
          828.3714285714289,
          -2040.5085714285715,
          -878.8085714285717,
          -651.1828571428573,
          3958.6171428571433,
          1326.08,
          2075.8542857142857,
          -2400.1714285714284,
          -1869.9142857142858,
          -696.8771428571426,
          4503.305714285714,
          -484.95142857142855,
          340.10285714285715,
          1873.217142857143,
          -74.65999999999985,
          876.52,
          -336.85714285714266,
          262.42857142857156,
          2042.3114285714285,
          879.6971428571428,
          -2198.742857142857,
          89.04285714285743,
          -173.7057142857143,
          -5437.02,
          -1631.9314285714286,
          3206.04,
          -379.7971428571427,
          -1585.8171428571427,
          -1835.5657142857142,
          1530.3428571428572,
          -948.3342857142857,
          46.86285714285714,
          -4496.428571428572,
          1398.3485714285716,
          1449.9628571428573,
          -211.59142857142842,
          620.3257142857142,
          -1449.68,
          -46.559999999999945,
          1927.382857142857,
          77.47714285714255,
          2917.4914285714285,
          1869.168571428571,
          -400.4371428571426,
          -2346.357142857143,
          -701.5057142857145,
          -428.16857142857134,
          -3990.9514285714286,
          252.9457142857143,
          162.14571428571435,
          -618.9371428571426,
          856.3628571428569,
          -658.7771428571427,
          891.5028571428572,
          -3686.2485714285717,
          921.6485714285714,
          -815.1457142857141,
          1012.1371428571431,
          -1.6971428571428078,
          1948.357142857143,
          1588.9428571428573,
          797.6999999999998,
          700.0857142857142,
          1231.682857142857,
          1257.817142857143,
          -893.2085714285715,
          372.99714285714253,
          270.96571428571406,
          -365.67142857142835,
          1176.025714285714,
          1584.3971428571426,
          -2264.0514285714285,
          147.01714285714252,
          -20.762857142857,
          -4218.174285714285,
          -8187.771428571429,
          1572.1399999999999,
          -1551.942857142857,
          -711.0885714285714,
          1786.8200000000002,
          1301.337142857143,
          -19.534285714285943,
          403.3685714285716,
          -1499.4914285714285,
          -2370.3085714285717,
          679.6514285714286,
          461.7885714285717,
          -1133.48,
          -1738.4257142857143,
          -1627.3628571428571,
          1637.257142857143,
          908.7457142857143,
          -272.2028571428573,
          1467.4171428571428,
          -4642.428571428572,
          1400.1799999999998,
          558.1799999999998,
          74.2685714285717,
          823.5514285714287,
          -771.9514285714286,
          2147.8771428571426,
          631.7399999999998,
          1203.5371428571427,
          -1745.5057142857145,
          613.9571428571426,
          -1018.8571428571427,
          -1463.4028571428573,
          -7218.428571428571,
          -648.8342857142852,
          508.64857142857136,
          1126.9314285714286,
          -1520.3085714285717,
          -7224.677142857143,
          670.7399999999998,
          545.9885714285715,
          1414.5171428571427,
          1626.837142857143,
          -8096.617142857143,
          -3919.582857142857,
          525.0514285714285,
          2094.485714285714,
          181.15142857142837,
          -4319.202857142856,
          -13.291428571428696,
          1178.5028571428575,
          2040.6257142857144,
          -149.5742857142859,
          1049.974285714286,
          2089.5457142857144,
          280.4628571428575,
          22.76571428571424,
          89.65142857142837,
          963.2685714285717,
          -2067.134285714286,
          1353.8314285714287,
          -7755.382857142857,
          1572.6114285714284,
          -1278.5371428571425,
          4089.631428571429,
          -973.1171428571427,
          1155.6942857142858,
          -2830.0314285714285,
          -739.5485714285714,
          1806.2199999999998,
          1487.3942857142856,
          -1017.9342857142856,
          162.15142857142837,
          1339.04,
          2053.02,
          -489.9628571428575,
          1876.5714285714287,
          -2431.8514285714286,
          508.0371428571425,
          1500.445714285714,
          227.94000000000005,
          -370.6942857142858,
          2287.102857142857,
          -2256.0428571428574,
          582.6142857142859,
          -298.27714285714274,
          1249.945714285714,
          1260.3999999999996,
          945.8371428571427,
          601.0971428571427,
          1884.9085714285713,
          1299.4085714285713,
          -2812.9914285714285,
          1018.2457142857143,
          -1721.1514285714284,
          2903.934285714286,
          120.58285714285716,
          1849.3228571428576,
          1574.5085714285715,
          -3552.92,
          -1494.6571428571433,
          1927.382857142857,
          -6140.745714285715,
          1688.7485714285713,
          486.37428571428563,
          -496.7857142857147,
          1016.3457142857142,
          -2193.9171428571426,
          -1816.4342857142851,
          -670.7600000000002,
          -285.5657142857144,
          82.88285714285712,
          -757.2314285714285,
          -840.3028571428572,
          1065.822857142857,
          -9032.977142857144,
          1596.5285714285715,
          -8633.062857142857,
          1367.317142857143,
          -3961.96,
          848.9085714285716,
          1213.1599999999999,
          1381.08,
          -3434.66,
          -1818.1314285714284,
          1052.02,
          -604.7028571428568,
          193.94000000000005,
          32.7800000000002,
          -77.83714285714268,
          -275.65999999999985,
          58.51999999999998,
          -1219.422857142857,
          1014.277142857143,
          662.6342857142859,
          640.3942857142856,
          3165.0342857142855,
          -1096.2942857142857,
          -544.1657142857143,
          -76.11999999999989,
          523.4571428571426,
          1159.9171428571428,
          2806.865714285714,
          -4267.782857142856,
          81.81428571428569,
          3076.0314285714285,
          -3628.0114285714285,
          -1100.62,
          -603.8200000000002,
          -111.68285714285707,
          -158.01999999999998,
          -1321.3085714285717,
          1486.2199999999998,
          1329.5657142857144,
          -789.6999999999998,
          -733.2771428571427,
          -1140.0257142857142,
          -754.0457142857144,
          3853.171428571429,
          -1157.6542857142858,
          963.8257142857142,
          642.2714285714283,
          -1337.7685714285715,
          864.497142857143,
          -32.891428571428605,
          -687.4028571428576,
          280.3142857142857,
          1122.985714285714,
          -156.27714285714296,
          -7506.757142857143,
          1356.56,
          964.44,
          -1467.562857142857,
          1131.1228571428571,
          1271.177142857143,
          -8430.882857142857,
          1112.1542857142858,
          539.9685714285713,
          1799.2914285714285,
          -339.5114285714285,
          1534.1485714285711,
          1003.0371428571427,
          1817.2200000000003,
          1037.7771428571427,
          1606.4799999999996,
          -1601.1571428571433,
          -2858.3,
          -1723.1342857142854,
          1729.8714285714289,
          -22.142857142857338,
          195.67999999999984,
          783.1085714285712,
          629.8685714285714,
          106.62285714285736,
          -229.67428571428582,
          -985.8000000000002,
          -2093.6114285714284,
          516.9228571428575,
          530.9657142857141,
          -173.17999999999984,
          920.242857142857,
          1078.262857142857,
          1141.62,
          -305.9371428571426,
          475.62571428571414,
          55.054285714285925,
          -1046.6,
          1290.5857142857144,
          983.6999999999998,
          182.51428571428596,
          667.1542857142858,
          -490.1400000000001,
          380.0971428571429,
          2483.0028571428575,
          511.87714285714287,
          1848.6542857142858,
          -1337.7714285714283,
          -650.6428571428573,
          2192.88,
          -4132.574285714285,
          -405.8914285714286,
          443.72285714285704,
          170.12571428571437,
          1076.4171428571428,
          -131.92285714285754,
          -826.4057142857141,
          2120.8742857142856,
          1034.222857142857,
          1605.7800000000002,
          -3381.822857142857,
          1892.1142857142859,
          -156.03142857142848,
          1131.8200000000002,
          -2093.837142857143,
          2935.2085714285718,
          238.45714285714257,
          3029.7085714285713,
          386.6742857142858,
          -335.5742857142859,
          774.4914285714285,
          397.1999999999998,
          -783.5371428571425,
          -108.525714285714,
          1296.7457142857143,
          -3348.0142857142855,
          -3180.454285714285,
          -18.688571428571777,
          1879.994285714286,
          1839.3514285714282,
          476.2942857142857,
          -2823.8085714285717,
          -800.48,
          30.485714285714266,
          1544.8571428571427,
          -223.79714285714272,
          2049.0714285714284,
          109.42857142857133,
          1119.1028571428571,
          532.4285714285713,
          1751.9571428571426,
          -1417.6714285714284,
          -5983.665714285714,
          -968.525714285714,
          -398.54285714285743,
          -1221.7285714285715,
          898.1599999999999,
          -1063.6257142857144,
          1467.197142857143,
          481.6028571428574,
          -2374.58,
          -1138.0228571428574,
          841.1457142857143,
          -694.0457142857144,
          1656.511428571428,
          -337.8600000000001,
          -1028.08,
          1362.38,
          -1710.377142857143,
          -2656.9,
          1004.0485714285714,
          518.5428571428574,
          729.9657142857141,
          -554.6657142857143,
          4368.4742857142855,
          -837.2485714285717,
          1182.06,
          -1123.9885714285715,
          -2946.874285714285,
          2405.4485714285715,
          1404.197142857143,
          -1360.4,
          -5066.565714285714,
          1346.3742857142856,
          -1986.5342857142855,
          -375.26571428571424,
          1629.822857142857,
          -1024.2028571428568,
          -400.74571428571426,
          -6585.094285714286,
          -441.24571428571426,
          -3534.957142857143,
          384.4142857142856,
          3458.217142857143,
          -133.9000000000001,
          2193.817142857143,
          550.6742857142858,
          143.98571428571404,
          1581.9628571428573,
          -354.6199999999999,
          1007.8285714285714,
          251.77428571428572,
          -341.87714285714264,
          -540.9000000000001,
          1158.0828571428572,
          -1552.0485714285714,
          -1389.597142857143,
          2215.2057142857143,
          869.9428571428575,
          581.2057142857143,
          -1581.6142857142859,
          -523.9914285714285,
          2493.5085714285715,
          -16.822857142857174,
          -3595.585714285715,
          398.2257142857143,
          -629.8771428571426,
          -554.22,
          374.52857142857147,
          -330.5314285714285,
          9.917142857142608,
          -489.72285714285726,
          1039.7857142857142,
          1484.8228571428572,
          404.36571428571415,
          -3062.9314285714286,
          1217.8742857142856,
          16.01428571428596,
          2138.034285714286,
          -302.7199999999998,
          178.67142857142858,
          -808.7114285714283,
          2991.12,
          1865.7399999999998,
          952.3714285714289,
          1850.037142857143,
          879.7142857142858,
          -227.79142857142824,
          -873.1399999999999,
          -1293.7085714285715,
          2007.4428571428573,
          -752.0057142857142,
          2383.328571428571,
          2088.028571428571,
          -352.47142857142853,
          1697.2285714285717,
          208.525714285714,
          2596.065714285714,
          -806.1457142857141,
          1479.4228571428573,
          3188.4914285714285,
          -162.05142857142846,
          412.8028571428572,
          2082.6285714285714,
          69.73428571428576,
          -949.7428571428572,
          833.242857142857,
          -159.60285714285737,
          -150.10571428571438,
          -136.1314285714284,
          -759.7428571428572,
          -134.70857142857176,
          1534.737142857143,
          2549.38,
          1072.0257142857145,
          1898.6085714285714,
          -1582.422857142857,
          -1517.3114285714282,
          1487.9657142857145,
          2237.06,
          -584.5371428571427,
          1325.3400000000001,
          -78.67714285714283,
          904.0914285714287,
          1095.5971428571427,
          -979.8114285714285,
          -305.2057142857143,
          222.9171428571426,
          515.562857142857,
          -613.9142857142851,
          1198.5514285714287,
          812.5285714285712,
          2122.017142857143,
          1343.54,
          -1831.1457142857148,
          -2328.545714285715,
          -1735.0285714285715,
          2047.42,
          -1522,
          -1983.0542857142855,
          837.7057142857143,
          -1205.2885714285715,
          4406.451428571429,
          -231.75714285714275,
          336.4342857142856,
          482.3057142857142,
          -2022.5771428571427,
          63.20285714285728,
          145.36571428571415,
          -991.9828571428573,
          3047.5714285714284,
          367.84571428571417,
          1082.8400000000001,
          567.6742857142858,
          348.3828571428569,
          3000.34,
          1621.005714285714,
          1595.1771428571424,
          343.4000000000001,
          -603.5971428571424,
          584.1799999999998,
          -508.83428571428567,
          1640.3400000000001,
          628.4314285714286,
          1866.3971428571426,
          1270.5,
          447.5514285714287,
          -799.4371428571426,
          -1854.4028571428576,
          1397.737142857143,
          -315.12571428571437,
          -1048.0114285714285,
          1734.994285714286,
          1731.8228571428576,
          1786.4771428571426,
          -2847.9628571428566,
          1000.5542857142859,
          -956.7857142857142,
          -1033.56,
          994.6171428571429,
          2561.6457142857143,
          1254.6257142857144,
          -1903.7257142857143,
          -1876.074285714285,
          -117.08857142857141,
          1968.054285714286,
          -783.9914285714285,
          -77.89428571428562,
          -536.8200000000002,
          142.90285714285756,
          1386.757142857143,
          -3123.1457142857143,
          518.3314285714287,
          175.02285714285745,
          -785.3599999999999,
          -922.8342857142852,
          273.4000000000001,
          -2798.2714285714283,
          -143.85428571428588,
          -5606.482857142857,
          259.16857142857134,
          94.32285714285717,
          105.1942857142858,
          192.4571428571428,
          998.0314285714285,
          -1576.077142857143,
          1910.5685714285714,
          2734.56,
          151.03999999999996,
          1288.177142857143,
          -263.2171428571428,
          -300.4342857142856,
          578.6228571428574,
          46.97142857142853,
          -183.29142857142824,
          1630.9542857142856,
          360.2199999999998,
          -1833.457142857143,
          2046.3085714285717,
          1158.7257142857143,
          1653.302857142857,
          1757.9542857142856,
          1726.8400000000001,
          -2202.874285714285,
          367.6085714285714,
          -230.32000000000016,
          -16.40000000000009
         ],
         "xaxis": "x",
         "yaxis": "y"
        }
       ],
       "layout": {
        "annotations": [
         {
          "showarrow": false,
          "text": "Observed Test Statistic",
          "x": 2830.517142857143,
          "xanchor": "left",
          "xref": "x",
          "y": 1,
          "yanchor": "top",
          "yref": "y domain"
         }
        ],
        "barmode": "relative",
        "legend": {
         "title": {
          "text": "variable"
         },
         "tracegroupgap": 0
        },
        "margin": {
         "t": 60
        },
        "shapes": [
         {
          "line": {
           "color": "red",
           "dash": "dash",
           "width": 3
          },
          "type": "line",
          "x0": 2830.517142857143,
          "x1": 2830.517142857143,
          "xref": "x",
          "y0": 0,
          "y1": 1,
          "yref": "y domain"
         }
        ],
        "template": {
         "data": {
          "bar": [
           {
            "error_x": {
             "color": "#2a3f5f"
            },
            "error_y": {
             "color": "#2a3f5f"
            },
            "marker": {
             "line": {
              "color": "#E5ECF6",
              "width": 0.5
             },
             "pattern": {
              "fillmode": "overlay",
              "size": 10,
              "solidity": 0.2
             }
            },
            "type": "bar"
           }
          ],
          "barpolar": [
           {
            "marker": {
             "line": {
              "color": "#E5ECF6",
              "width": 0.5
             },
             "pattern": {
              "fillmode": "overlay",
              "size": 10,
              "solidity": 0.2
             }
            },
            "type": "barpolar"
           }
          ],
          "carpet": [
           {
            "aaxis": {
             "endlinecolor": "#2a3f5f",
             "gridcolor": "white",
             "linecolor": "white",
             "minorgridcolor": "white",
             "startlinecolor": "#2a3f5f"
            },
            "baxis": {
             "endlinecolor": "#2a3f5f",
             "gridcolor": "white",
             "linecolor": "white",
             "minorgridcolor": "white",
             "startlinecolor": "#2a3f5f"
            },
            "type": "carpet"
           }
          ],
          "choropleth": [
           {
            "colorbar": {
             "outlinewidth": 0,
             "ticks": ""
            },
            "type": "choropleth"
           }
          ],
          "contour": [
           {
            "colorbar": {
             "outlinewidth": 0,
             "ticks": ""
            },
            "colorscale": [
             [
              0,
              "#0d0887"
             ],
             [
              0.1111111111111111,
              "#46039f"
             ],
             [
              0.2222222222222222,
              "#7201a8"
             ],
             [
              0.3333333333333333,
              "#9c179e"
             ],
             [
              0.4444444444444444,
              "#bd3786"
             ],
             [
              0.5555555555555556,
              "#d8576b"
             ],
             [
              0.6666666666666666,
              "#ed7953"
             ],
             [
              0.7777777777777778,
              "#fb9f3a"
             ],
             [
              0.8888888888888888,
              "#fdca26"
             ],
             [
              1,
              "#f0f921"
             ]
            ],
            "type": "contour"
           }
          ],
          "contourcarpet": [
           {
            "colorbar": {
             "outlinewidth": 0,
             "ticks": ""
            },
            "type": "contourcarpet"
           }
          ],
          "heatmap": [
           {
            "colorbar": {
             "outlinewidth": 0,
             "ticks": ""
            },
            "colorscale": [
             [
              0,
              "#0d0887"
             ],
             [
              0.1111111111111111,
              "#46039f"
             ],
             [
              0.2222222222222222,
              "#7201a8"
             ],
             [
              0.3333333333333333,
              "#9c179e"
             ],
             [
              0.4444444444444444,
              "#bd3786"
             ],
             [
              0.5555555555555556,
              "#d8576b"
             ],
             [
              0.6666666666666666,
              "#ed7953"
             ],
             [
              0.7777777777777778,
              "#fb9f3a"
             ],
             [
              0.8888888888888888,
              "#fdca26"
             ],
             [
              1,
              "#f0f921"
             ]
            ],
            "type": "heatmap"
           }
          ],
          "heatmapgl": [
           {
            "colorbar": {
             "outlinewidth": 0,
             "ticks": ""
            },
            "colorscale": [
             [
              0,
              "#0d0887"
             ],
             [
              0.1111111111111111,
              "#46039f"
             ],
             [
              0.2222222222222222,
              "#7201a8"
             ],
             [
              0.3333333333333333,
              "#9c179e"
             ],
             [
              0.4444444444444444,
              "#bd3786"
             ],
             [
              0.5555555555555556,
              "#d8576b"
             ],
             [
              0.6666666666666666,
              "#ed7953"
             ],
             [
              0.7777777777777778,
              "#fb9f3a"
             ],
             [
              0.8888888888888888,
              "#fdca26"
             ],
             [
              1,
              "#f0f921"
             ]
            ],
            "type": "heatmapgl"
           }
          ],
          "histogram": [
           {
            "marker": {
             "pattern": {
              "fillmode": "overlay",
              "size": 10,
              "solidity": 0.2
             }
            },
            "type": "histogram"
           }
          ],
          "histogram2d": [
           {
            "colorbar": {
             "outlinewidth": 0,
             "ticks": ""
            },
            "colorscale": [
             [
              0,
              "#0d0887"
             ],
             [
              0.1111111111111111,
              "#46039f"
             ],
             [
              0.2222222222222222,
              "#7201a8"
             ],
             [
              0.3333333333333333,
              "#9c179e"
             ],
             [
              0.4444444444444444,
              "#bd3786"
             ],
             [
              0.5555555555555556,
              "#d8576b"
             ],
             [
              0.6666666666666666,
              "#ed7953"
             ],
             [
              0.7777777777777778,
              "#fb9f3a"
             ],
             [
              0.8888888888888888,
              "#fdca26"
             ],
             [
              1,
              "#f0f921"
             ]
            ],
            "type": "histogram2d"
           }
          ],
          "histogram2dcontour": [
           {
            "colorbar": {
             "outlinewidth": 0,
             "ticks": ""
            },
            "colorscale": [
             [
              0,
              "#0d0887"
             ],
             [
              0.1111111111111111,
              "#46039f"
             ],
             [
              0.2222222222222222,
              "#7201a8"
             ],
             [
              0.3333333333333333,
              "#9c179e"
             ],
             [
              0.4444444444444444,
              "#bd3786"
             ],
             [
              0.5555555555555556,
              "#d8576b"
             ],
             [
              0.6666666666666666,
              "#ed7953"
             ],
             [
              0.7777777777777778,
              "#fb9f3a"
             ],
             [
              0.8888888888888888,
              "#fdca26"
             ],
             [
              1,
              "#f0f921"
             ]
            ],
            "type": "histogram2dcontour"
           }
          ],
          "mesh3d": [
           {
            "colorbar": {
             "outlinewidth": 0,
             "ticks": ""
            },
            "type": "mesh3d"
           }
          ],
          "parcoords": [
           {
            "line": {
             "colorbar": {
              "outlinewidth": 0,
              "ticks": ""
             }
            },
            "type": "parcoords"
           }
          ],
          "pie": [
           {
            "automargin": true,
            "type": "pie"
           }
          ],
          "scatter": [
           {
            "fillpattern": {
             "fillmode": "overlay",
             "size": 10,
             "solidity": 0.2
            },
            "type": "scatter"
           }
          ],
          "scatter3d": [
           {
            "line": {
             "colorbar": {
              "outlinewidth": 0,
              "ticks": ""
             }
            },
            "marker": {
             "colorbar": {
              "outlinewidth": 0,
              "ticks": ""
             }
            },
            "type": "scatter3d"
           }
          ],
          "scattercarpet": [
           {
            "marker": {
             "colorbar": {
              "outlinewidth": 0,
              "ticks": ""
             }
            },
            "type": "scattercarpet"
           }
          ],
          "scattergeo": [
           {
            "marker": {
             "colorbar": {
              "outlinewidth": 0,
              "ticks": ""
             }
            },
            "type": "scattergeo"
           }
          ],
          "scattergl": [
           {
            "marker": {
             "colorbar": {
              "outlinewidth": 0,
              "ticks": ""
             }
            },
            "type": "scattergl"
           }
          ],
          "scattermapbox": [
           {
            "marker": {
             "colorbar": {
              "outlinewidth": 0,
              "ticks": ""
             }
            },
            "type": "scattermapbox"
           }
          ],
          "scatterpolar": [
           {
            "marker": {
             "colorbar": {
              "outlinewidth": 0,
              "ticks": ""
             }
            },
            "type": "scatterpolar"
           }
          ],
          "scatterpolargl": [
           {
            "marker": {
             "colorbar": {
              "outlinewidth": 0,
              "ticks": ""
             }
            },
            "type": "scatterpolargl"
           }
          ],
          "scatterternary": [
           {
            "marker": {
             "colorbar": {
              "outlinewidth": 0,
              "ticks": ""
             }
            },
            "type": "scatterternary"
           }
          ],
          "surface": [
           {
            "colorbar": {
             "outlinewidth": 0,
             "ticks": ""
            },
            "colorscale": [
             [
              0,
              "#0d0887"
             ],
             [
              0.1111111111111111,
              "#46039f"
             ],
             [
              0.2222222222222222,
              "#7201a8"
             ],
             [
              0.3333333333333333,
              "#9c179e"
             ],
             [
              0.4444444444444444,
              "#bd3786"
             ],
             [
              0.5555555555555556,
              "#d8576b"
             ],
             [
              0.6666666666666666,
              "#ed7953"
             ],
             [
              0.7777777777777778,
              "#fb9f3a"
             ],
             [
              0.8888888888888888,
              "#fdca26"
             ],
             [
              1,
              "#f0f921"
             ]
            ],
            "type": "surface"
           }
          ],
          "table": [
           {
            "cells": {
             "fill": {
              "color": "#EBF0F8"
             },
             "line": {
              "color": "white"
             }
            },
            "header": {
             "fill": {
              "color": "#C8D4E3"
             },
             "line": {
              "color": "white"
             }
            },
            "type": "table"
           }
          ]
         },
         "layout": {
          "annotationdefaults": {
           "arrowcolor": "#2a3f5f",
           "arrowhead": 0,
           "arrowwidth": 1
          },
          "autotypenumbers": "strict",
          "coloraxis": {
           "colorbar": {
            "outlinewidth": 0,
            "ticks": ""
           }
          },
          "colorscale": {
           "diverging": [
            [
             0,
             "#8e0152"
            ],
            [
             0.1,
             "#c51b7d"
            ],
            [
             0.2,
             "#de77ae"
            ],
            [
             0.3,
             "#f1b6da"
            ],
            [
             0.4,
             "#fde0ef"
            ],
            [
             0.5,
             "#f7f7f7"
            ],
            [
             0.6,
             "#e6f5d0"
            ],
            [
             0.7,
             "#b8e186"
            ],
            [
             0.8,
             "#7fbc41"
            ],
            [
             0.9,
             "#4d9221"
            ],
            [
             1,
             "#276419"
            ]
           ],
           "sequential": [
            [
             0,
             "#0d0887"
            ],
            [
             0.1111111111111111,
             "#46039f"
            ],
            [
             0.2222222222222222,
             "#7201a8"
            ],
            [
             0.3333333333333333,
             "#9c179e"
            ],
            [
             0.4444444444444444,
             "#bd3786"
            ],
            [
             0.5555555555555556,
             "#d8576b"
            ],
            [
             0.6666666666666666,
             "#ed7953"
            ],
            [
             0.7777777777777778,
             "#fb9f3a"
            ],
            [
             0.8888888888888888,
             "#fdca26"
            ],
            [
             1,
             "#f0f921"
            ]
           ],
           "sequentialminus": [
            [
             0,
             "#0d0887"
            ],
            [
             0.1111111111111111,
             "#46039f"
            ],
            [
             0.2222222222222222,
             "#7201a8"
            ],
            [
             0.3333333333333333,
             "#9c179e"
            ],
            [
             0.4444444444444444,
             "#bd3786"
            ],
            [
             0.5555555555555556,
             "#d8576b"
            ],
            [
             0.6666666666666666,
             "#ed7953"
            ],
            [
             0.7777777777777778,
             "#fb9f3a"
            ],
            [
             0.8888888888888888,
             "#fdca26"
            ],
            [
             1,
             "#f0f921"
            ]
           ]
          },
          "colorway": [
           "#636efa",
           "#EF553B",
           "#00cc96",
           "#ab63fa",
           "#FFA15A",
           "#19d3f3",
           "#FF6692",
           "#B6E880",
           "#FF97FF",
           "#FECB52"
          ],
          "font": {
           "color": "#2a3f5f"
          },
          "geo": {
           "bgcolor": "white",
           "lakecolor": "white",
           "landcolor": "#E5ECF6",
           "showlakes": true,
           "showland": true,
           "subunitcolor": "white"
          },
          "hoverlabel": {
           "align": "left"
          },
          "hovermode": "closest",
          "mapbox": {
           "style": "light"
          },
          "paper_bgcolor": "white",
          "plot_bgcolor": "#E5ECF6",
          "polar": {
           "angularaxis": {
            "gridcolor": "white",
            "linecolor": "white",
            "ticks": ""
           },
           "bgcolor": "#E5ECF6",
           "radialaxis": {
            "gridcolor": "white",
            "linecolor": "white",
            "ticks": ""
           }
          },
          "scene": {
           "xaxis": {
            "backgroundcolor": "#E5ECF6",
            "gridcolor": "white",
            "gridwidth": 2,
            "linecolor": "white",
            "showbackground": true,
            "ticks": "",
            "zerolinecolor": "white"
           },
           "yaxis": {
            "backgroundcolor": "#E5ECF6",
            "gridcolor": "white",
            "gridwidth": 2,
            "linecolor": "white",
            "showbackground": true,
            "ticks": "",
            "zerolinecolor": "white"
           },
           "zaxis": {
            "backgroundcolor": "#E5ECF6",
            "gridcolor": "white",
            "gridwidth": 2,
            "linecolor": "white",
            "showbackground": true,
            "ticks": "",
            "zerolinecolor": "white"
           }
          },
          "shapedefaults": {
           "line": {
            "color": "#2a3f5f"
           }
          },
          "ternary": {
           "aaxis": {
            "gridcolor": "white",
            "linecolor": "white",
            "ticks": ""
           },
           "baxis": {
            "gridcolor": "white",
            "linecolor": "white",
            "ticks": ""
           },
           "bgcolor": "#E5ECF6",
           "caxis": {
            "gridcolor": "white",
            "linecolor": "white",
            "ticks": ""
           }
          },
          "title": {
           "x": 0.05
          },
          "xaxis": {
           "automargin": true,
           "gridcolor": "white",
           "linecolor": "white",
           "ticks": "",
           "title": {
            "standoff": 15
           },
           "zerolinecolor": "white",
           "zerolinewidth": 2
          },
          "yaxis": {
           "automargin": true,
           "gridcolor": "white",
           "linecolor": "white",
           "ticks": "",
           "title": {
            "standoff": 15
           },
           "zerolinecolor": "white",
           "zerolinewidth": 2
          }
         }
        },
        "xaxis": {
         "anchor": "y",
         "domain": [
          0,
          1
         ],
         "title": {
          "text": "value"
         }
        },
        "yaxis": {
         "anchor": "x",
         "domain": [
          0,
          1
         ],
         "title": {
          "text": "count"
         }
        }
       }
      }
     },
     "metadata": {},
     "output_type": "display_data"
    }
   ],
   "source": [
    "perm_viz = pd.DataFrame({'Test Statistic': perm_stats})\n",
    "fig2 = px.histogram(perm_viz)\n",
    "fig2.add_vline(x=observed_test_stat, line_width=3, line_dash='dash', line_color='red', annotation_text='Observed Test Statistic')\n",
    "fig2.show()\n",
    "\n",
    "fig2.write_html('assets/hypo_test.html', include_plotlyjs='cdn')"
   ]
  },
  {
   "cell_type": "markdown",
   "metadata": {},
   "source": [
    "## Step 5: Framing a Prediction Problem"
   ]
  },
  {
   "cell_type": "markdown",
   "metadata": {},
   "source": []
  },
  {
   "cell_type": "markdown",
   "metadata": {},
   "source": [
    "Our prediction model attempts to predict the duration of a power outage. Since power outage duration is an example of a quantitative, continuous variable, our problem will involve linear regression. \n"
   ]
  },
  {
   "cell_type": "code",
   "execution_count": 266,
   "metadata": {
    "ExecuteTime": {
     "end_time": "2019-10-31T23:36:28.657068Z",
     "start_time": "2019-10-31T23:36:28.654650Z"
    }
   },
   "outputs": [
    {
     "data": {
      "text/html": [
       "<div>\n",
       "<style scoped>\n",
       "    .dataframe tbody tr th:only-of-type {\n",
       "        vertical-align: middle;\n",
       "    }\n",
       "\n",
       "    .dataframe tbody tr th {\n",
       "        vertical-align: top;\n",
       "    }\n",
       "\n",
       "    .dataframe thead th {\n",
       "        text-align: right;\n",
       "    }\n",
       "</style>\n",
       "<table border=\"1\" class=\"dataframe\">\n",
       "  <thead>\n",
       "    <tr style=\"text-align: right;\">\n",
       "      <th></th>\n",
       "      <th>U.S._STATE</th>\n",
       "      <th>NERC.REGION</th>\n",
       "      <th>CLIMATE.REGION</th>\n",
       "      <th>CAUSE.CATEGORY</th>\n",
       "      <th>OUTAGE.DURATION</th>\n",
       "      <th>RES.PERCEN</th>\n",
       "      <th>COM.PERCEN</th>\n",
       "      <th>IND.PERCEN</th>\n",
       "      <th>PC.REALGSP.REL</th>\n",
       "      <th>POPPCT_URBAN</th>\n",
       "      <th>OUTAGE.START</th>\n",
       "      <th>OUTAGE.RESTORATION</th>\n",
       "    </tr>\n",
       "  </thead>\n",
       "  <tbody>\n",
       "    <tr>\n",
       "      <th>1</th>\n",
       "      <td>Minnesota</td>\n",
       "      <td>MRO</td>\n",
       "      <td>East North Central</td>\n",
       "      <td>severe weather</td>\n",
       "      <td>3060.0</td>\n",
       "      <td>35.549073</td>\n",
       "      <td>32.225029</td>\n",
       "      <td>32.202431</td>\n",
       "      <td>1.077376</td>\n",
       "      <td>73.27</td>\n",
       "      <td>2011-07-01 17:00:00</td>\n",
       "      <td>2011-07-03 20:00:00</td>\n",
       "    </tr>\n",
       "    <tr>\n",
       "      <th>2</th>\n",
       "      <td>Minnesota</td>\n",
       "      <td>MRO</td>\n",
       "      <td>East North Central</td>\n",
       "      <td>intentional attack</td>\n",
       "      <td>1.0</td>\n",
       "      <td>30.032487</td>\n",
       "      <td>34.210389</td>\n",
       "      <td>35.727564</td>\n",
       "      <td>1.089792</td>\n",
       "      <td>73.27</td>\n",
       "      <td>2014-05-11 18:38:00</td>\n",
       "      <td>2014-05-11 18:39:00</td>\n",
       "    </tr>\n",
       "    <tr>\n",
       "      <th>3</th>\n",
       "      <td>Minnesota</td>\n",
       "      <td>MRO</td>\n",
       "      <td>East North Central</td>\n",
       "      <td>severe weather</td>\n",
       "      <td>3000.0</td>\n",
       "      <td>28.097672</td>\n",
       "      <td>34.501015</td>\n",
       "      <td>37.365983</td>\n",
       "      <td>1.066826</td>\n",
       "      <td>73.27</td>\n",
       "      <td>2010-10-26 20:00:00</td>\n",
       "      <td>2010-10-28 22:00:00</td>\n",
       "    </tr>\n",
       "    <tr>\n",
       "      <th>4</th>\n",
       "      <td>Minnesota</td>\n",
       "      <td>MRO</td>\n",
       "      <td>East North Central</td>\n",
       "      <td>severe weather</td>\n",
       "      <td>2550.0</td>\n",
       "      <td>31.994099</td>\n",
       "      <td>33.543330</td>\n",
       "      <td>34.439329</td>\n",
       "      <td>1.071476</td>\n",
       "      <td>73.27</td>\n",
       "      <td>2012-06-19 04:30:00</td>\n",
       "      <td>2012-06-20 23:00:00</td>\n",
       "    </tr>\n",
       "    <tr>\n",
       "      <th>5</th>\n",
       "      <td>Minnesota</td>\n",
       "      <td>MRO</td>\n",
       "      <td>East North Central</td>\n",
       "      <td>severe weather</td>\n",
       "      <td>1740.0</td>\n",
       "      <td>33.982576</td>\n",
       "      <td>36.205850</td>\n",
       "      <td>29.779498</td>\n",
       "      <td>1.092027</td>\n",
       "      <td>73.27</td>\n",
       "      <td>2015-07-18 02:00:00</td>\n",
       "      <td>2015-07-19 07:00:00</td>\n",
       "    </tr>\n",
       "    <tr>\n",
       "      <th>6</th>\n",
       "      <td>Minnesota</td>\n",
       "      <td>MRO</td>\n",
       "      <td>East North Central</td>\n",
       "      <td>severe weather</td>\n",
       "      <td>1860.0</td>\n",
       "      <td>31.192784</td>\n",
       "      <td>33.235842</td>\n",
       "      <td>35.538160</td>\n",
       "      <td>1.066826</td>\n",
       "      <td>73.27</td>\n",
       "      <td>2010-11-13 15:00:00</td>\n",
       "      <td>2010-11-14 22:00:00</td>\n",
       "    </tr>\n",
       "    <tr>\n",
       "      <th>7</th>\n",
       "      <td>Minnesota</td>\n",
       "      <td>MRO</td>\n",
       "      <td>East North Central</td>\n",
       "      <td>severe weather</td>\n",
       "      <td>2970.0</td>\n",
       "      <td>34.314656</td>\n",
       "      <td>32.954501</td>\n",
       "      <td>32.701651</td>\n",
       "      <td>1.066826</td>\n",
       "      <td>73.27</td>\n",
       "      <td>2010-07-17 20:30:00</td>\n",
       "      <td>2010-07-19 22:00:00</td>\n",
       "    </tr>\n",
       "    <tr>\n",
       "      <th>8</th>\n",
       "      <td>Minnesota</td>\n",
       "      <td>MRO</td>\n",
       "      <td>East North Central</td>\n",
       "      <td>severe weather</td>\n",
       "      <td>3960.0</td>\n",
       "      <td>33.586173</td>\n",
       "      <td>34.515286</td>\n",
       "      <td>31.861839</td>\n",
       "      <td>1.090559</td>\n",
       "      <td>73.27</td>\n",
       "      <td>2005-06-08 04:00:00</td>\n",
       "      <td>2005-06-10 22:00:00</td>\n",
       "    </tr>\n",
       "    <tr>\n",
       "      <th>9</th>\n",
       "      <td>Minnesota</td>\n",
       "      <td>MRO</td>\n",
       "      <td>East North Central</td>\n",
       "      <td>intentional attack</td>\n",
       "      <td>155.0</td>\n",
       "      <td>32.936916</td>\n",
       "      <td>34.947243</td>\n",
       "      <td>32.071962</td>\n",
       "      <td>1.092027</td>\n",
       "      <td>73.27</td>\n",
       "      <td>2015-03-16 07:31:00</td>\n",
       "      <td>2015-03-16 10:06:00</td>\n",
       "    </tr>\n",
       "    <tr>\n",
       "      <th>10</th>\n",
       "      <td>Minnesota</td>\n",
       "      <td>MRO</td>\n",
       "      <td>East North Central</td>\n",
       "      <td>severe weather</td>\n",
       "      <td>3621.0</td>\n",
       "      <td>30.754553</td>\n",
       "      <td>34.515140</td>\n",
       "      <td>34.702296</td>\n",
       "      <td>1.084366</td>\n",
       "      <td>73.27</td>\n",
       "      <td>2013-06-21 17:39:00</td>\n",
       "      <td>2013-06-24 06:00:00</td>\n",
       "    </tr>\n",
       "  </tbody>\n",
       "</table>\n",
       "</div>"
      ],
      "text/plain": [
       "   U.S._STATE NERC.REGION      CLIMATE.REGION      CAUSE.CATEGORY  \\\n",
       "1   Minnesota         MRO  East North Central      severe weather   \n",
       "2   Minnesota         MRO  East North Central  intentional attack   \n",
       "3   Minnesota         MRO  East North Central      severe weather   \n",
       "4   Minnesota         MRO  East North Central      severe weather   \n",
       "5   Minnesota         MRO  East North Central      severe weather   \n",
       "6   Minnesota         MRO  East North Central      severe weather   \n",
       "7   Minnesota         MRO  East North Central      severe weather   \n",
       "8   Minnesota         MRO  East North Central      severe weather   \n",
       "9   Minnesota         MRO  East North Central  intentional attack   \n",
       "10  Minnesota         MRO  East North Central      severe weather   \n",
       "\n",
       "    OUTAGE.DURATION  RES.PERCEN  COM.PERCEN  IND.PERCEN PC.REALGSP.REL  \\\n",
       "1            3060.0   35.549073   32.225029   32.202431       1.077376   \n",
       "2               1.0   30.032487   34.210389   35.727564       1.089792   \n",
       "3            3000.0   28.097672   34.501015   37.365983       1.066826   \n",
       "4            2550.0   31.994099   33.543330   34.439329       1.071476   \n",
       "5            1740.0   33.982576   36.205850   29.779498       1.092027   \n",
       "6            1860.0   31.192784   33.235842   35.538160       1.066826   \n",
       "7            2970.0   34.314656   32.954501   32.701651       1.066826   \n",
       "8            3960.0   33.586173   34.515286   31.861839       1.090559   \n",
       "9             155.0   32.936916   34.947243   32.071962       1.092027   \n",
       "10           3621.0   30.754553   34.515140   34.702296       1.084366   \n",
       "\n",
       "   POPPCT_URBAN        OUTAGE.START  OUTAGE.RESTORATION  \n",
       "1         73.27 2011-07-01 17:00:00 2011-07-03 20:00:00  \n",
       "2         73.27 2014-05-11 18:38:00 2014-05-11 18:39:00  \n",
       "3         73.27 2010-10-26 20:00:00 2010-10-28 22:00:00  \n",
       "4         73.27 2012-06-19 04:30:00 2012-06-20 23:00:00  \n",
       "5         73.27 2015-07-18 02:00:00 2015-07-19 07:00:00  \n",
       "6         73.27 2010-11-13 15:00:00 2010-11-14 22:00:00  \n",
       "7         73.27 2010-07-17 20:30:00 2010-07-19 22:00:00  \n",
       "8         73.27 2005-06-08 04:00:00 2005-06-10 22:00:00  \n",
       "9         73.27 2015-03-16 07:31:00 2015-03-16 10:06:00  \n",
       "10        73.27 2013-06-21 17:39:00 2013-06-24 06:00:00  "
      ]
     },
     "execution_count": 266,
     "metadata": {},
     "output_type": "execute_result"
    }
   ],
   "source": [
    "df.head(10)"
   ]
  },
  {
   "cell_type": "markdown",
   "metadata": {},
   "source": [
    "## Step 6: Baseline Model"
   ]
  },
  {
   "cell_type": "code",
   "execution_count": 267,
   "metadata": {
    "ExecuteTime": {
     "end_time": "2019-10-31T23:36:28.662099Z",
     "start_time": "2019-10-31T23:36:28.660016Z"
    }
   },
   "outputs": [],
   "source": [
    "# TODO"
   ]
  },
  {
   "cell_type": "markdown",
   "metadata": {},
   "source": [
    "## Step 7: Final Model"
   ]
  },
  {
   "cell_type": "code",
   "execution_count": 268,
   "metadata": {
    "ExecuteTime": {
     "end_time": "2019-10-31T23:36:28.662099Z",
     "start_time": "2019-10-31T23:36:28.660016Z"
    }
   },
   "outputs": [],
   "source": [
    "# TODO"
   ]
  },
  {
   "cell_type": "markdown",
   "metadata": {},
   "source": [
    "## Step 8: Fairness Analysis"
   ]
  },
  {
   "cell_type": "code",
   "execution_count": 269,
   "metadata": {
    "ExecuteTime": {
     "end_time": "2019-10-31T23:36:28.666489Z",
     "start_time": "2019-10-31T23:36:28.664381Z"
    }
   },
   "outputs": [],
   "source": [
    "# TODO"
   ]
  }
 ],
 "metadata": {
  "kernelspec": {
   "display_name": "Python 3 (ipykernel)",
   "language": "python",
   "name": "python3"
  },
  "language_info": {
   "codemirror_mode": {
    "name": "ipython",
    "version": 3
   },
   "file_extension": ".py",
   "mimetype": "text/x-python",
   "name": "python",
   "nbconvert_exporter": "python",
   "pygments_lexer": "ipython3",
   "version": "3.12.10"
  }
 },
 "nbformat": 4,
 "nbformat_minor": 4
}
