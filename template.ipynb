{
 "cells": [
  {
   "cell_type": "markdown",
   "metadata": {},
   "source": [
    "# Power Outage Durations\n",
    "\n",
    "**Name(s)**: Aki Baidya and Dhruv Sehgal\n",
    "\n",
    "**Website Link**: https://aki-baidya.github.io/power-outages/"
   ]
  },
  {
   "cell_type": "code",
   "execution_count": 122,
   "metadata": {
    "ExecuteTime": {
     "end_time": "2019-10-31T23:36:28.652554Z",
     "start_time": "2019-10-31T23:36:27.180520Z"
    }
   },
   "outputs": [],
   "source": [
    "import pandas as pd\n",
    "import numpy as np\n",
    "from pathlib import Path\n",
    "from scipy.stats import chi2_contingency\n",
    "\n",
    "import plotly.express as px\n",
    "pd.options.plotting.backend = 'plotly'\n",
    "\n",
    "# from dsc80_utils import * # Feel free to uncomment and use this."
   ]
  },
  {
   "cell_type": "markdown",
   "metadata": {},
   "source": [
    "## Step 1: Introduction"
   ]
  },
  {
   "cell_type": "code",
   "execution_count": 123,
   "metadata": {},
   "outputs": [
    {
     "data": {
      "text/html": [
       "<div>\n",
       "<style scoped>\n",
       "    .dataframe tbody tr th:only-of-type {\n",
       "        vertical-align: middle;\n",
       "    }\n",
       "\n",
       "    .dataframe tbody tr th {\n",
       "        vertical-align: top;\n",
       "    }\n",
       "\n",
       "    .dataframe thead th {\n",
       "        text-align: right;\n",
       "    }\n",
       "</style>\n",
       "<table border=\"1\" class=\"dataframe\">\n",
       "  <thead>\n",
       "    <tr style=\"text-align: right;\">\n",
       "      <th></th>\n",
       "      <th>YEAR</th>\n",
       "      <th>MONTH</th>\n",
       "      <th>U.S._STATE</th>\n",
       "      <th>POSTAL.CODE</th>\n",
       "      <th>NERC.REGION</th>\n",
       "      <th>CLIMATE.REGION</th>\n",
       "      <th>ANOMALY.LEVEL</th>\n",
       "      <th>CLIMATE.CATEGORY</th>\n",
       "      <th>OUTAGE.START.DATE</th>\n",
       "      <th>OUTAGE.START.TIME</th>\n",
       "      <th>OUTAGE.RESTORATION.DATE</th>\n",
       "      <th>OUTAGE.RESTORATION.TIME</th>\n",
       "      <th>CAUSE.CATEGORY</th>\n",
       "      <th>CAUSE.CATEGORY.DETAIL</th>\n",
       "      <th>HURRICANE.NAMES</th>\n",
       "      <th>OUTAGE.DURATION</th>\n",
       "      <th>DEMAND.LOSS.MW</th>\n",
       "      <th>CUSTOMERS.AFFECTED</th>\n",
       "      <th>RES.PRICE</th>\n",
       "      <th>COM.PRICE</th>\n",
       "      <th>IND.PRICE</th>\n",
       "      <th>TOTAL.PRICE</th>\n",
       "      <th>RES.SALES</th>\n",
       "      <th>COM.SALES</th>\n",
       "      <th>IND.SALES</th>\n",
       "      <th>TOTAL.SALES</th>\n",
       "      <th>RES.PERCEN</th>\n",
       "      <th>COM.PERCEN</th>\n",
       "      <th>IND.PERCEN</th>\n",
       "      <th>RES.CUSTOMERS</th>\n",
       "      <th>COM.CUSTOMERS</th>\n",
       "      <th>IND.CUSTOMERS</th>\n",
       "      <th>TOTAL.CUSTOMERS</th>\n",
       "      <th>RES.CUST.PCT</th>\n",
       "      <th>COM.CUST.PCT</th>\n",
       "      <th>IND.CUST.PCT</th>\n",
       "      <th>PC.REALGSP.STATE</th>\n",
       "      <th>PC.REALGSP.USA</th>\n",
       "      <th>PC.REALGSP.REL</th>\n",
       "      <th>PC.REALGSP.CHANGE</th>\n",
       "      <th>UTIL.REALGSP</th>\n",
       "      <th>TOTAL.REALGSP</th>\n",
       "      <th>UTIL.CONTRI</th>\n",
       "      <th>PI.UTIL.OFUSA</th>\n",
       "      <th>POPULATION</th>\n",
       "      <th>POPPCT_URBAN</th>\n",
       "      <th>POPPCT_UC</th>\n",
       "      <th>POPDEN_URBAN</th>\n",
       "      <th>POPDEN_UC</th>\n",
       "      <th>POPDEN_RURAL</th>\n",
       "      <th>AREAPCT_URBAN</th>\n",
       "      <th>AREAPCT_UC</th>\n",
       "      <th>PCT_LAND</th>\n",
       "      <th>PCT_WATER_TOT</th>\n",
       "      <th>PCT_WATER_INLAND</th>\n",
       "    </tr>\n",
       "  </thead>\n",
       "  <tbody>\n",
       "    <tr>\n",
       "      <th>1</th>\n",
       "      <td>2011.0</td>\n",
       "      <td>7.0</td>\n",
       "      <td>Minnesota</td>\n",
       "      <td>MN</td>\n",
       "      <td>MRO</td>\n",
       "      <td>East North Central</td>\n",
       "      <td>-0.3</td>\n",
       "      <td>normal</td>\n",
       "      <td>2011-07-01 00:00:00</td>\n",
       "      <td>17:00:00</td>\n",
       "      <td>2011-07-03 00:00:00</td>\n",
       "      <td>20:00:00</td>\n",
       "      <td>severe weather</td>\n",
       "      <td>NaN</td>\n",
       "      <td>NaN</td>\n",
       "      <td>3060</td>\n",
       "      <td>NaN</td>\n",
       "      <td>70000.0</td>\n",
       "      <td>11.6</td>\n",
       "      <td>9.18</td>\n",
       "      <td>6.81</td>\n",
       "      <td>9.28</td>\n",
       "      <td>2332915</td>\n",
       "      <td>2114774</td>\n",
       "      <td>2113291</td>\n",
       "      <td>6562520</td>\n",
       "      <td>35.549073</td>\n",
       "      <td>32.225029</td>\n",
       "      <td>32.202431</td>\n",
       "      <td>2308736.0</td>\n",
       "      <td>276286.0</td>\n",
       "      <td>10673.0</td>\n",
       "      <td>2595696.0</td>\n",
       "      <td>88.944776</td>\n",
       "      <td>10.644005</td>\n",
       "      <td>0.411181</td>\n",
       "      <td>51268</td>\n",
       "      <td>47586</td>\n",
       "      <td>1.077376</td>\n",
       "      <td>1.6</td>\n",
       "      <td>4802</td>\n",
       "      <td>274182</td>\n",
       "      <td>1.751391</td>\n",
       "      <td>2.2</td>\n",
       "      <td>5348119.0</td>\n",
       "      <td>73.27</td>\n",
       "      <td>15.28</td>\n",
       "      <td>2279</td>\n",
       "      <td>1700.5</td>\n",
       "      <td>18.2</td>\n",
       "      <td>2.14</td>\n",
       "      <td>0.6</td>\n",
       "      <td>91.592666</td>\n",
       "      <td>8.407334</td>\n",
       "      <td>5.478743</td>\n",
       "    </tr>\n",
       "    <tr>\n",
       "      <th>2</th>\n",
       "      <td>2014.0</td>\n",
       "      <td>5.0</td>\n",
       "      <td>Minnesota</td>\n",
       "      <td>MN</td>\n",
       "      <td>MRO</td>\n",
       "      <td>East North Central</td>\n",
       "      <td>-0.1</td>\n",
       "      <td>normal</td>\n",
       "      <td>2014-05-11 00:00:00</td>\n",
       "      <td>18:38:00</td>\n",
       "      <td>2014-05-11 00:00:00</td>\n",
       "      <td>18:39:00</td>\n",
       "      <td>intentional attack</td>\n",
       "      <td>vandalism</td>\n",
       "      <td>NaN</td>\n",
       "      <td>1</td>\n",
       "      <td>NaN</td>\n",
       "      <td>NaN</td>\n",
       "      <td>12.12</td>\n",
       "      <td>9.71</td>\n",
       "      <td>6.49</td>\n",
       "      <td>9.28</td>\n",
       "      <td>1586986</td>\n",
       "      <td>1807756</td>\n",
       "      <td>1887927</td>\n",
       "      <td>5284231</td>\n",
       "      <td>30.032487</td>\n",
       "      <td>34.210389</td>\n",
       "      <td>35.727564</td>\n",
       "      <td>2345860.0</td>\n",
       "      <td>284978.0</td>\n",
       "      <td>9898.0</td>\n",
       "      <td>2640737.0</td>\n",
       "      <td>88.833534</td>\n",
       "      <td>10.791609</td>\n",
       "      <td>0.37482</td>\n",
       "      <td>53499</td>\n",
       "      <td>49091</td>\n",
       "      <td>1.089792</td>\n",
       "      <td>1.9</td>\n",
       "      <td>5226</td>\n",
       "      <td>291955</td>\n",
       "      <td>1.790002</td>\n",
       "      <td>2.2</td>\n",
       "      <td>5457125.0</td>\n",
       "      <td>73.27</td>\n",
       "      <td>15.28</td>\n",
       "      <td>2279</td>\n",
       "      <td>1700.5</td>\n",
       "      <td>18.2</td>\n",
       "      <td>2.14</td>\n",
       "      <td>0.6</td>\n",
       "      <td>91.592666</td>\n",
       "      <td>8.407334</td>\n",
       "      <td>5.478743</td>\n",
       "    </tr>\n",
       "    <tr>\n",
       "      <th>3</th>\n",
       "      <td>2010.0</td>\n",
       "      <td>10.0</td>\n",
       "      <td>Minnesota</td>\n",
       "      <td>MN</td>\n",
       "      <td>MRO</td>\n",
       "      <td>East North Central</td>\n",
       "      <td>-1.5</td>\n",
       "      <td>cold</td>\n",
       "      <td>2010-10-26 00:00:00</td>\n",
       "      <td>20:00:00</td>\n",
       "      <td>2010-10-28 00:00:00</td>\n",
       "      <td>22:00:00</td>\n",
       "      <td>severe weather</td>\n",
       "      <td>heavy wind</td>\n",
       "      <td>NaN</td>\n",
       "      <td>3000</td>\n",
       "      <td>NaN</td>\n",
       "      <td>70000.0</td>\n",
       "      <td>10.87</td>\n",
       "      <td>8.19</td>\n",
       "      <td>6.07</td>\n",
       "      <td>8.15</td>\n",
       "      <td>1467293</td>\n",
       "      <td>1801683</td>\n",
       "      <td>1951295</td>\n",
       "      <td>5222116</td>\n",
       "      <td>28.097672</td>\n",
       "      <td>34.501015</td>\n",
       "      <td>37.365983</td>\n",
       "      <td>2300291.0</td>\n",
       "      <td>276463.0</td>\n",
       "      <td>10150.0</td>\n",
       "      <td>2586905.0</td>\n",
       "      <td>88.920583</td>\n",
       "      <td>10.687018</td>\n",
       "      <td>0.392361</td>\n",
       "      <td>50447</td>\n",
       "      <td>47287</td>\n",
       "      <td>1.066826</td>\n",
       "      <td>2.7</td>\n",
       "      <td>4571</td>\n",
       "      <td>267895</td>\n",
       "      <td>1.706266</td>\n",
       "      <td>2.1</td>\n",
       "      <td>5310903.0</td>\n",
       "      <td>73.27</td>\n",
       "      <td>15.28</td>\n",
       "      <td>2279</td>\n",
       "      <td>1700.5</td>\n",
       "      <td>18.2</td>\n",
       "      <td>2.14</td>\n",
       "      <td>0.6</td>\n",
       "      <td>91.592666</td>\n",
       "      <td>8.407334</td>\n",
       "      <td>5.478743</td>\n",
       "    </tr>\n",
       "    <tr>\n",
       "      <th>4</th>\n",
       "      <td>2012.0</td>\n",
       "      <td>6.0</td>\n",
       "      <td>Minnesota</td>\n",
       "      <td>MN</td>\n",
       "      <td>MRO</td>\n",
       "      <td>East North Central</td>\n",
       "      <td>-0.1</td>\n",
       "      <td>normal</td>\n",
       "      <td>2012-06-19 00:00:00</td>\n",
       "      <td>04:30:00</td>\n",
       "      <td>2012-06-20 00:00:00</td>\n",
       "      <td>23:00:00</td>\n",
       "      <td>severe weather</td>\n",
       "      <td>thunderstorm</td>\n",
       "      <td>NaN</td>\n",
       "      <td>2550</td>\n",
       "      <td>NaN</td>\n",
       "      <td>68200.0</td>\n",
       "      <td>11.79</td>\n",
       "      <td>9.25</td>\n",
       "      <td>6.71</td>\n",
       "      <td>9.19</td>\n",
       "      <td>1851519</td>\n",
       "      <td>1941174</td>\n",
       "      <td>1993026</td>\n",
       "      <td>5787064</td>\n",
       "      <td>31.994099</td>\n",
       "      <td>33.54333</td>\n",
       "      <td>34.439329</td>\n",
       "      <td>2317336.0</td>\n",
       "      <td>278466.0</td>\n",
       "      <td>11010.0</td>\n",
       "      <td>2606813.0</td>\n",
       "      <td>88.895368</td>\n",
       "      <td>10.682239</td>\n",
       "      <td>0.422355</td>\n",
       "      <td>51598</td>\n",
       "      <td>48156</td>\n",
       "      <td>1.071476</td>\n",
       "      <td>0.6</td>\n",
       "      <td>5364</td>\n",
       "      <td>277627</td>\n",
       "      <td>1.932089</td>\n",
       "      <td>2.2</td>\n",
       "      <td>5380443.0</td>\n",
       "      <td>73.27</td>\n",
       "      <td>15.28</td>\n",
       "      <td>2279</td>\n",
       "      <td>1700.5</td>\n",
       "      <td>18.2</td>\n",
       "      <td>2.14</td>\n",
       "      <td>0.6</td>\n",
       "      <td>91.592666</td>\n",
       "      <td>8.407334</td>\n",
       "      <td>5.478743</td>\n",
       "    </tr>\n",
       "    <tr>\n",
       "      <th>5</th>\n",
       "      <td>2015.0</td>\n",
       "      <td>7.0</td>\n",
       "      <td>Minnesota</td>\n",
       "      <td>MN</td>\n",
       "      <td>MRO</td>\n",
       "      <td>East North Central</td>\n",
       "      <td>1.2</td>\n",
       "      <td>warm</td>\n",
       "      <td>2015-07-18 00:00:00</td>\n",
       "      <td>02:00:00</td>\n",
       "      <td>2015-07-19 00:00:00</td>\n",
       "      <td>07:00:00</td>\n",
       "      <td>severe weather</td>\n",
       "      <td>NaN</td>\n",
       "      <td>NaN</td>\n",
       "      <td>1740</td>\n",
       "      <td>250</td>\n",
       "      <td>250000.0</td>\n",
       "      <td>13.07</td>\n",
       "      <td>10.16</td>\n",
       "      <td>7.74</td>\n",
       "      <td>10.43</td>\n",
       "      <td>2028875</td>\n",
       "      <td>2161612</td>\n",
       "      <td>1777937</td>\n",
       "      <td>5970339</td>\n",
       "      <td>33.982576</td>\n",
       "      <td>36.20585</td>\n",
       "      <td>29.779498</td>\n",
       "      <td>2374674.0</td>\n",
       "      <td>289044.0</td>\n",
       "      <td>9812.0</td>\n",
       "      <td>2673531.0</td>\n",
       "      <td>88.821637</td>\n",
       "      <td>10.81132</td>\n",
       "      <td>0.367005</td>\n",
       "      <td>54431</td>\n",
       "      <td>49844</td>\n",
       "      <td>1.092027</td>\n",
       "      <td>1.7</td>\n",
       "      <td>4873</td>\n",
       "      <td>292023</td>\n",
       "      <td>1.668704</td>\n",
       "      <td>2.2</td>\n",
       "      <td>5489594.0</td>\n",
       "      <td>73.27</td>\n",
       "      <td>15.28</td>\n",
       "      <td>2279</td>\n",
       "      <td>1700.5</td>\n",
       "      <td>18.2</td>\n",
       "      <td>2.14</td>\n",
       "      <td>0.6</td>\n",
       "      <td>91.592666</td>\n",
       "      <td>8.407334</td>\n",
       "      <td>5.478743</td>\n",
       "    </tr>\n",
       "  </tbody>\n",
       "</table>\n",
       "</div>"
      ],
      "text/plain": [
       "     YEAR  MONTH U.S._STATE POSTAL.CODE NERC.REGION      CLIMATE.REGION  \\\n",
       "1  2011.0    7.0  Minnesota          MN         MRO  East North Central   \n",
       "2  2014.0    5.0  Minnesota          MN         MRO  East North Central   \n",
       "3  2010.0   10.0  Minnesota          MN         MRO  East North Central   \n",
       "4  2012.0    6.0  Minnesota          MN         MRO  East North Central   \n",
       "5  2015.0    7.0  Minnesota          MN         MRO  East North Central   \n",
       "\n",
       "  ANOMALY.LEVEL CLIMATE.CATEGORY    OUTAGE.START.DATE OUTAGE.START.TIME  \\\n",
       "1          -0.3           normal  2011-07-01 00:00:00          17:00:00   \n",
       "2          -0.1           normal  2014-05-11 00:00:00          18:38:00   \n",
       "3          -1.5             cold  2010-10-26 00:00:00          20:00:00   \n",
       "4          -0.1           normal  2012-06-19 00:00:00          04:30:00   \n",
       "5           1.2             warm  2015-07-18 00:00:00          02:00:00   \n",
       "\n",
       "  OUTAGE.RESTORATION.DATE OUTAGE.RESTORATION.TIME      CAUSE.CATEGORY  \\\n",
       "1     2011-07-03 00:00:00                20:00:00      severe weather   \n",
       "2     2014-05-11 00:00:00                18:39:00  intentional attack   \n",
       "3     2010-10-28 00:00:00                22:00:00      severe weather   \n",
       "4     2012-06-20 00:00:00                23:00:00      severe weather   \n",
       "5     2015-07-19 00:00:00                07:00:00      severe weather   \n",
       "\n",
       "  CAUSE.CATEGORY.DETAIL HURRICANE.NAMES OUTAGE.DURATION DEMAND.LOSS.MW  \\\n",
       "1                   NaN             NaN            3060            NaN   \n",
       "2             vandalism             NaN               1            NaN   \n",
       "3            heavy wind             NaN            3000            NaN   \n",
       "4          thunderstorm             NaN            2550            NaN   \n",
       "5                   NaN             NaN            1740            250   \n",
       "\n",
       "   CUSTOMERS.AFFECTED RES.PRICE COM.PRICE IND.PRICE TOTAL.PRICE RES.SALES  \\\n",
       "1             70000.0      11.6      9.18      6.81        9.28   2332915   \n",
       "2                 NaN     12.12      9.71      6.49        9.28   1586986   \n",
       "3             70000.0     10.87      8.19      6.07        8.15   1467293   \n",
       "4             68200.0     11.79      9.25      6.71        9.19   1851519   \n",
       "5            250000.0     13.07     10.16      7.74       10.43   2028875   \n",
       "\n",
       "  COM.SALES IND.SALES TOTAL.SALES RES.PERCEN COM.PERCEN IND.PERCEN  \\\n",
       "1   2114774   2113291     6562520  35.549073  32.225029  32.202431   \n",
       "2   1807756   1887927     5284231  30.032487  34.210389  35.727564   \n",
       "3   1801683   1951295     5222116  28.097672  34.501015  37.365983   \n",
       "4   1941174   1993026     5787064  31.994099   33.54333  34.439329   \n",
       "5   2161612   1777937     5970339  33.982576   36.20585  29.779498   \n",
       "\n",
       "   RES.CUSTOMERS  COM.CUSTOMERS  IND.CUSTOMERS  TOTAL.CUSTOMERS RES.CUST.PCT  \\\n",
       "1      2308736.0       276286.0        10673.0        2595696.0    88.944776   \n",
       "2      2345860.0       284978.0         9898.0        2640737.0    88.833534   \n",
       "3      2300291.0       276463.0        10150.0        2586905.0    88.920583   \n",
       "4      2317336.0       278466.0        11010.0        2606813.0    88.895368   \n",
       "5      2374674.0       289044.0         9812.0        2673531.0    88.821637   \n",
       "\n",
       "  COM.CUST.PCT IND.CUST.PCT PC.REALGSP.STATE PC.REALGSP.USA PC.REALGSP.REL  \\\n",
       "1    10.644005     0.411181            51268          47586       1.077376   \n",
       "2    10.791609      0.37482            53499          49091       1.089792   \n",
       "3    10.687018     0.392361            50447          47287       1.066826   \n",
       "4    10.682239     0.422355            51598          48156       1.071476   \n",
       "5     10.81132     0.367005            54431          49844       1.092027   \n",
       "\n",
       "  PC.REALGSP.CHANGE UTIL.REALGSP TOTAL.REALGSP UTIL.CONTRI PI.UTIL.OFUSA  \\\n",
       "1               1.6         4802        274182    1.751391           2.2   \n",
       "2               1.9         5226        291955    1.790002           2.2   \n",
       "3               2.7         4571        267895    1.706266           2.1   \n",
       "4               0.6         5364        277627    1.932089           2.2   \n",
       "5               1.7         4873        292023    1.668704           2.2   \n",
       "\n",
       "   POPULATION POPPCT_URBAN POPPCT_UC POPDEN_URBAN POPDEN_UC POPDEN_RURAL  \\\n",
       "1   5348119.0        73.27     15.28         2279    1700.5         18.2   \n",
       "2   5457125.0        73.27     15.28         2279    1700.5         18.2   \n",
       "3   5310903.0        73.27     15.28         2279    1700.5         18.2   \n",
       "4   5380443.0        73.27     15.28         2279    1700.5         18.2   \n",
       "5   5489594.0        73.27     15.28         2279    1700.5         18.2   \n",
       "\n",
       "  AREAPCT_URBAN AREAPCT_UC   PCT_LAND PCT_WATER_TOT PCT_WATER_INLAND  \n",
       "1          2.14        0.6  91.592666      8.407334         5.478743  \n",
       "2          2.14        0.6  91.592666      8.407334         5.478743  \n",
       "3          2.14        0.6  91.592666      8.407334         5.478743  \n",
       "4          2.14        0.6  91.592666      8.407334         5.478743  \n",
       "5          2.14        0.6  91.592666      8.407334         5.478743  "
      ]
     },
     "metadata": {},
     "output_type": "display_data"
    }
   ],
   "source": [
    "pd.set_option('display.max_columns', None) # to see all columns\n",
    "\n",
    "# loading in the dataset\n",
    "# we first changed the extension from .xlsx.xls to .xlsx\n",
    "try:\n",
    "    unclean_df = pd.read_excel('outage.xlsx', header=5) # omitting the rows above since they are not part of the data\n",
    "    unclean_df = unclean_df.drop(0) # to remove the row that talks about the format of some data columns\n",
    "    unclean_df = unclean_df.drop(columns=unclean_df.columns[:2]) # removing the 'variables' and 'OBS' columns\n",
    "\n",
    "except FileNotFoundError:\n",
    "    print('Error: \\'outage.xlsx\\' not found.')\n",
    "display(unclean_df.head())"
   ]
  },
  {
   "cell_type": "markdown",
   "metadata": {},
   "source": [
    "## Step 2: Data Cleaning and Exploratory Data Analysis"
   ]
  },
  {
   "cell_type": "code",
   "execution_count": 124,
   "metadata": {},
   "outputs": [
    {
     "data": {
      "text/html": [
       "<div>\n",
       "<style scoped>\n",
       "    .dataframe tbody tr th:only-of-type {\n",
       "        vertical-align: middle;\n",
       "    }\n",
       "\n",
       "    .dataframe tbody tr th {\n",
       "        vertical-align: top;\n",
       "    }\n",
       "\n",
       "    .dataframe thead th {\n",
       "        text-align: right;\n",
       "    }\n",
       "</style>\n",
       "<table border=\"1\" class=\"dataframe\">\n",
       "  <thead>\n",
       "    <tr style=\"text-align: right;\">\n",
       "      <th></th>\n",
       "      <th>U.S._STATE</th>\n",
       "      <th>NERC.REGION</th>\n",
       "      <th>CLIMATE.REGION</th>\n",
       "      <th>OUTAGE.START.DATE</th>\n",
       "      <th>OUTAGE.START.TIME</th>\n",
       "      <th>OUTAGE.RESTORATION.DATE</th>\n",
       "      <th>OUTAGE.RESTORATION.TIME</th>\n",
       "      <th>CAUSE.CATEGORY</th>\n",
       "      <th>OUTAGE.DURATION</th>\n",
       "      <th>RES.PERCEN</th>\n",
       "      <th>COM.PERCEN</th>\n",
       "      <th>IND.PERCEN</th>\n",
       "      <th>PC.REALGSP.REL</th>\n",
       "      <th>POPPCT_URBAN</th>\n",
       "    </tr>\n",
       "  </thead>\n",
       "  <tbody>\n",
       "    <tr>\n",
       "      <th>1</th>\n",
       "      <td>Minnesota</td>\n",
       "      <td>MRO</td>\n",
       "      <td>East North Central</td>\n",
       "      <td>2011-07-01 00:00:00</td>\n",
       "      <td>17:00:00</td>\n",
       "      <td>2011-07-03 00:00:00</td>\n",
       "      <td>20:00:00</td>\n",
       "      <td>severe weather</td>\n",
       "      <td>3060</td>\n",
       "      <td>35.549073</td>\n",
       "      <td>32.225029</td>\n",
       "      <td>32.202431</td>\n",
       "      <td>1.077376</td>\n",
       "      <td>73.27</td>\n",
       "    </tr>\n",
       "    <tr>\n",
       "      <th>2</th>\n",
       "      <td>Minnesota</td>\n",
       "      <td>MRO</td>\n",
       "      <td>East North Central</td>\n",
       "      <td>2014-05-11 00:00:00</td>\n",
       "      <td>18:38:00</td>\n",
       "      <td>2014-05-11 00:00:00</td>\n",
       "      <td>18:39:00</td>\n",
       "      <td>intentional attack</td>\n",
       "      <td>1</td>\n",
       "      <td>30.032487</td>\n",
       "      <td>34.210389</td>\n",
       "      <td>35.727564</td>\n",
       "      <td>1.089792</td>\n",
       "      <td>73.27</td>\n",
       "    </tr>\n",
       "    <tr>\n",
       "      <th>3</th>\n",
       "      <td>Minnesota</td>\n",
       "      <td>MRO</td>\n",
       "      <td>East North Central</td>\n",
       "      <td>2010-10-26 00:00:00</td>\n",
       "      <td>20:00:00</td>\n",
       "      <td>2010-10-28 00:00:00</td>\n",
       "      <td>22:00:00</td>\n",
       "      <td>severe weather</td>\n",
       "      <td>3000</td>\n",
       "      <td>28.097672</td>\n",
       "      <td>34.501015</td>\n",
       "      <td>37.365983</td>\n",
       "      <td>1.066826</td>\n",
       "      <td>73.27</td>\n",
       "    </tr>\n",
       "    <tr>\n",
       "      <th>4</th>\n",
       "      <td>Minnesota</td>\n",
       "      <td>MRO</td>\n",
       "      <td>East North Central</td>\n",
       "      <td>2012-06-19 00:00:00</td>\n",
       "      <td>04:30:00</td>\n",
       "      <td>2012-06-20 00:00:00</td>\n",
       "      <td>23:00:00</td>\n",
       "      <td>severe weather</td>\n",
       "      <td>2550</td>\n",
       "      <td>31.994099</td>\n",
       "      <td>33.54333</td>\n",
       "      <td>34.439329</td>\n",
       "      <td>1.071476</td>\n",
       "      <td>73.27</td>\n",
       "    </tr>\n",
       "    <tr>\n",
       "      <th>5</th>\n",
       "      <td>Minnesota</td>\n",
       "      <td>MRO</td>\n",
       "      <td>East North Central</td>\n",
       "      <td>2015-07-18 00:00:00</td>\n",
       "      <td>02:00:00</td>\n",
       "      <td>2015-07-19 00:00:00</td>\n",
       "      <td>07:00:00</td>\n",
       "      <td>severe weather</td>\n",
       "      <td>1740</td>\n",
       "      <td>33.982576</td>\n",
       "      <td>36.20585</td>\n",
       "      <td>29.779498</td>\n",
       "      <td>1.092027</td>\n",
       "      <td>73.27</td>\n",
       "    </tr>\n",
       "  </tbody>\n",
       "</table>\n",
       "</div>"
      ],
      "text/plain": [
       "  U.S._STATE NERC.REGION      CLIMATE.REGION    OUTAGE.START.DATE  \\\n",
       "1  Minnesota         MRO  East North Central  2011-07-01 00:00:00   \n",
       "2  Minnesota         MRO  East North Central  2014-05-11 00:00:00   \n",
       "3  Minnesota         MRO  East North Central  2010-10-26 00:00:00   \n",
       "4  Minnesota         MRO  East North Central  2012-06-19 00:00:00   \n",
       "5  Minnesota         MRO  East North Central  2015-07-18 00:00:00   \n",
       "\n",
       "  OUTAGE.START.TIME OUTAGE.RESTORATION.DATE OUTAGE.RESTORATION.TIME  \\\n",
       "1          17:00:00     2011-07-03 00:00:00                20:00:00   \n",
       "2          18:38:00     2014-05-11 00:00:00                18:39:00   \n",
       "3          20:00:00     2010-10-28 00:00:00                22:00:00   \n",
       "4          04:30:00     2012-06-20 00:00:00                23:00:00   \n",
       "5          02:00:00     2015-07-19 00:00:00                07:00:00   \n",
       "\n",
       "       CAUSE.CATEGORY OUTAGE.DURATION RES.PERCEN COM.PERCEN IND.PERCEN  \\\n",
       "1      severe weather            3060  35.549073  32.225029  32.202431   \n",
       "2  intentional attack               1  30.032487  34.210389  35.727564   \n",
       "3      severe weather            3000  28.097672  34.501015  37.365983   \n",
       "4      severe weather            2550  31.994099   33.54333  34.439329   \n",
       "5      severe weather            1740  33.982576   36.20585  29.779498   \n",
       "\n",
       "  PC.REALGSP.REL POPPCT_URBAN  \n",
       "1       1.077376        73.27  \n",
       "2       1.089792        73.27  \n",
       "3       1.066826        73.27  \n",
       "4       1.071476        73.27  \n",
       "5       1.092027        73.27  "
      ]
     },
     "metadata": {},
     "output_type": "display_data"
    }
   ],
   "source": [
    "df = unclean_df[['U.S._STATE', 'NERC.REGION', 'CLIMATE.REGION', 'OUTAGE.START.DATE', 'OUTAGE.START.TIME', 'OUTAGE.RESTORATION.DATE', 'OUTAGE.RESTORATION.TIME', 'CAUSE.CATEGORY', 'OUTAGE.DURATION', 'RES.PERCEN', 'COM.PERCEN', 'IND.PERCEN', 'PC.REALGSP.REL', 'POPPCT_URBAN']]\n",
    "display(df.head())"
   ]
  },
  {
   "cell_type": "code",
   "execution_count": 125,
   "metadata": {},
   "outputs": [
    {
     "name": "stderr",
     "output_type": "stream",
     "text": [
      "/var/folders/jk/ll2fwx_55klc6t5gz7x_24440000gn/T/ipykernel_63617/1239864593.py:1: SettingWithCopyWarning:\n",
      "\n",
      "\n",
      "A value is trying to be set on a copy of a slice from a DataFrame.\n",
      "Try using .loc[row_indexer,col_indexer] = value instead\n",
      "\n",
      "See the caveats in the documentation: https://pandas.pydata.org/pandas-docs/stable/user_guide/indexing.html#returning-a-view-versus-a-copy\n",
      "\n"
     ]
    }
   ],
   "source": [
    "df['OUTAGE.DURATION'] = df['OUTAGE.DURATION'].apply(lambda x: np.nan if x == 0 else x)\n",
    "df = df[df['OUTAGE.DURATION'].notna()]"
   ]
  },
  {
   "cell_type": "code",
   "execution_count": 126,
   "metadata": {},
   "outputs": [
    {
     "data": {
      "text/html": [
       "<div>\n",
       "<style scoped>\n",
       "    .dataframe tbody tr th:only-of-type {\n",
       "        vertical-align: middle;\n",
       "    }\n",
       "\n",
       "    .dataframe tbody tr th {\n",
       "        vertical-align: top;\n",
       "    }\n",
       "\n",
       "    .dataframe thead th {\n",
       "        text-align: right;\n",
       "    }\n",
       "</style>\n",
       "<table border=\"1\" class=\"dataframe\">\n",
       "  <thead>\n",
       "    <tr style=\"text-align: right;\">\n",
       "      <th></th>\n",
       "      <th>YEAR</th>\n",
       "      <th>MONTH</th>\n",
       "      <th>U.S._STATE</th>\n",
       "      <th>POSTAL.CODE</th>\n",
       "      <th>NERC.REGION</th>\n",
       "      <th>CLIMATE.REGION</th>\n",
       "      <th>ANOMALY.LEVEL</th>\n",
       "      <th>CLIMATE.CATEGORY</th>\n",
       "      <th>OUTAGE.START.DATE</th>\n",
       "      <th>OUTAGE.START.TIME</th>\n",
       "      <th>OUTAGE.RESTORATION.DATE</th>\n",
       "      <th>OUTAGE.RESTORATION.TIME</th>\n",
       "      <th>CAUSE.CATEGORY</th>\n",
       "      <th>CAUSE.CATEGORY.DETAIL</th>\n",
       "      <th>HURRICANE.NAMES</th>\n",
       "      <th>OUTAGE.DURATION</th>\n",
       "      <th>DEMAND.LOSS.MW</th>\n",
       "      <th>CUSTOMERS.AFFECTED</th>\n",
       "      <th>RES.PRICE</th>\n",
       "      <th>COM.PRICE</th>\n",
       "      <th>IND.PRICE</th>\n",
       "      <th>TOTAL.PRICE</th>\n",
       "      <th>RES.SALES</th>\n",
       "      <th>COM.SALES</th>\n",
       "      <th>IND.SALES</th>\n",
       "      <th>TOTAL.SALES</th>\n",
       "      <th>RES.PERCEN</th>\n",
       "      <th>COM.PERCEN</th>\n",
       "      <th>IND.PERCEN</th>\n",
       "      <th>RES.CUSTOMERS</th>\n",
       "      <th>COM.CUSTOMERS</th>\n",
       "      <th>IND.CUSTOMERS</th>\n",
       "      <th>TOTAL.CUSTOMERS</th>\n",
       "      <th>RES.CUST.PCT</th>\n",
       "      <th>COM.CUST.PCT</th>\n",
       "      <th>IND.CUST.PCT</th>\n",
       "      <th>PC.REALGSP.STATE</th>\n",
       "      <th>PC.REALGSP.USA</th>\n",
       "      <th>PC.REALGSP.REL</th>\n",
       "      <th>PC.REALGSP.CHANGE</th>\n",
       "      <th>UTIL.REALGSP</th>\n",
       "      <th>TOTAL.REALGSP</th>\n",
       "      <th>UTIL.CONTRI</th>\n",
       "      <th>PI.UTIL.OFUSA</th>\n",
       "      <th>POPULATION</th>\n",
       "      <th>POPPCT_URBAN</th>\n",
       "      <th>POPPCT_UC</th>\n",
       "      <th>POPDEN_URBAN</th>\n",
       "      <th>POPDEN_UC</th>\n",
       "      <th>POPDEN_RURAL</th>\n",
       "      <th>AREAPCT_URBAN</th>\n",
       "      <th>AREAPCT_UC</th>\n",
       "      <th>PCT_LAND</th>\n",
       "      <th>PCT_WATER_TOT</th>\n",
       "      <th>PCT_WATER_INLAND</th>\n",
       "    </tr>\n",
       "  </thead>\n",
       "  <tbody>\n",
       "    <tr>\n",
       "      <th>23</th>\n",
       "      <td>2015.0</td>\n",
       "      <td>7.0</td>\n",
       "      <td>Tennessee</td>\n",
       "      <td>TN</td>\n",
       "      <td>SERC</td>\n",
       "      <td>Central</td>\n",
       "      <td>1.2</td>\n",
       "      <td>warm</td>\n",
       "      <td>2015-07-30 00:00:00</td>\n",
       "      <td>13:00:00</td>\n",
       "      <td>NaN</td>\n",
       "      <td>NaN</td>\n",
       "      <td>intentional attack</td>\n",
       "      <td>vandalism</td>\n",
       "      <td>NaN</td>\n",
       "      <td>NaN</td>\n",
       "      <td>0</td>\n",
       "      <td>0.0</td>\n",
       "      <td>10.31</td>\n",
       "      <td>10.27</td>\n",
       "      <td>7.31</td>\n",
       "      <td>9.7</td>\n",
       "      <td>4285049</td>\n",
       "      <td>3322562</td>\n",
       "      <td>1891937</td>\n",
       "      <td>9499547</td>\n",
       "      <td>45.10793</td>\n",
       "      <td>34.976005</td>\n",
       "      <td>19.916076</td>\n",
       "      <td>2783058.0</td>\n",
       "      <td>476405.0</td>\n",
       "      <td>1245.0</td>\n",
       "      <td>3260708.0</td>\n",
       "      <td>85.351341</td>\n",
       "      <td>14.610477</td>\n",
       "      <td>0.038182</td>\n",
       "      <td>42457</td>\n",
       "      <td>49844</td>\n",
       "      <td>0.851798</td>\n",
       "      <td>1.2</td>\n",
       "      <td>1692</td>\n",
       "      <td>282752</td>\n",
       "      <td>0.598404</td>\n",
       "      <td>0.4</td>\n",
       "      <td>6600299.0</td>\n",
       "      <td>66.39</td>\n",
       "      <td>12.02</td>\n",
       "      <td>1450.3</td>\n",
       "      <td>1076.2</td>\n",
       "      <td>55.6</td>\n",
       "      <td>7.05</td>\n",
       "      <td>1.72</td>\n",
       "      <td>97.843109</td>\n",
       "      <td>2.156891</td>\n",
       "      <td>2.156891</td>\n",
       "    </tr>\n",
       "    <tr>\n",
       "      <th>37</th>\n",
       "      <td>2016.0</td>\n",
       "      <td>7.0</td>\n",
       "      <td>Tennessee</td>\n",
       "      <td>TN</td>\n",
       "      <td>SERC</td>\n",
       "      <td>Central</td>\n",
       "      <td>-0.3</td>\n",
       "      <td>normal</td>\n",
       "      <td>2016-07-13 00:00:00</td>\n",
       "      <td>15:00:00</td>\n",
       "      <td>NaN</td>\n",
       "      <td>NaN</td>\n",
       "      <td>system operability disruption</td>\n",
       "      <td>public appeal</td>\n",
       "      <td>NaN</td>\n",
       "      <td>NaN</td>\n",
       "      <td>NaN</td>\n",
       "      <td>NaN</td>\n",
       "      <td>NaN</td>\n",
       "      <td>NaN</td>\n",
       "      <td>NaN</td>\n",
       "      <td>NaN</td>\n",
       "      <td>NaN</td>\n",
       "      <td>NaN</td>\n",
       "      <td>NaN</td>\n",
       "      <td>NaN</td>\n",
       "      <td>NaN</td>\n",
       "      <td>NaN</td>\n",
       "      <td>NaN</td>\n",
       "      <td>2812287.0</td>\n",
       "      <td>480032.0</td>\n",
       "      <td>1193.0</td>\n",
       "      <td>3293512.0</td>\n",
       "      <td>85.388698</td>\n",
       "      <td>14.57508</td>\n",
       "      <td>0.036223</td>\n",
       "      <td>43720</td>\n",
       "      <td>50660</td>\n",
       "      <td>0.863008</td>\n",
       "      <td>3</td>\n",
       "      <td>1813</td>\n",
       "      <td>290712</td>\n",
       "      <td>0.623641</td>\n",
       "      <td>0.5</td>\n",
       "      <td>6649404.0</td>\n",
       "      <td>66.39</td>\n",
       "      <td>12.02</td>\n",
       "      <td>1450.3</td>\n",
       "      <td>1076.2</td>\n",
       "      <td>55.6</td>\n",
       "      <td>7.05</td>\n",
       "      <td>1.72</td>\n",
       "      <td>97.843109</td>\n",
       "      <td>2.156891</td>\n",
       "      <td>2.156891</td>\n",
       "    </tr>\n",
       "    <tr>\n",
       "      <th>48</th>\n",
       "      <td>2016.0</td>\n",
       "      <td>4.0</td>\n",
       "      <td>Tennessee</td>\n",
       "      <td>TN</td>\n",
       "      <td>SERC</td>\n",
       "      <td>Central</td>\n",
       "      <td>1.1</td>\n",
       "      <td>warm</td>\n",
       "      <td>2016-04-27 00:00:00</td>\n",
       "      <td>13:36:00</td>\n",
       "      <td>NaN</td>\n",
       "      <td>NaN</td>\n",
       "      <td>intentional attack</td>\n",
       "      <td>vandalism</td>\n",
       "      <td>NaN</td>\n",
       "      <td>NaN</td>\n",
       "      <td>0</td>\n",
       "      <td>0.0</td>\n",
       "      <td>10.22</td>\n",
       "      <td>9.64</td>\n",
       "      <td>5.39</td>\n",
       "      <td>8.8</td>\n",
       "      <td>2517024</td>\n",
       "      <td>2577433</td>\n",
       "      <td>1681946</td>\n",
       "      <td>6776403</td>\n",
       "      <td>37.143954</td>\n",
       "      <td>38.035415</td>\n",
       "      <td>24.820631</td>\n",
       "      <td>2812287.0</td>\n",
       "      <td>480032.0</td>\n",
       "      <td>1193.0</td>\n",
       "      <td>3293512.0</td>\n",
       "      <td>85.388698</td>\n",
       "      <td>14.57508</td>\n",
       "      <td>0.036223</td>\n",
       "      <td>43720</td>\n",
       "      <td>50660</td>\n",
       "      <td>0.863008</td>\n",
       "      <td>3</td>\n",
       "      <td>1813</td>\n",
       "      <td>290712</td>\n",
       "      <td>0.623641</td>\n",
       "      <td>0.5</td>\n",
       "      <td>6649404.0</td>\n",
       "      <td>66.39</td>\n",
       "      <td>12.02</td>\n",
       "      <td>1450.3</td>\n",
       "      <td>1076.2</td>\n",
       "      <td>55.6</td>\n",
       "      <td>7.05</td>\n",
       "      <td>1.72</td>\n",
       "      <td>97.843109</td>\n",
       "      <td>2.156891</td>\n",
       "      <td>2.156891</td>\n",
       "    </tr>\n",
       "    <tr>\n",
       "      <th>50</th>\n",
       "      <td>2014.0</td>\n",
       "      <td>6.0</td>\n",
       "      <td>Wisconsin</td>\n",
       "      <td>WI</td>\n",
       "      <td>MRO</td>\n",
       "      <td>East North Central</td>\n",
       "      <td>0</td>\n",
       "      <td>normal</td>\n",
       "      <td>2014-06-27 00:00:00</td>\n",
       "      <td>13:21:00</td>\n",
       "      <td>NaN</td>\n",
       "      <td>NaN</td>\n",
       "      <td>fuel supply emergency</td>\n",
       "      <td>Coal</td>\n",
       "      <td>NaN</td>\n",
       "      <td>NaN</td>\n",
       "      <td>NaN</td>\n",
       "      <td>NaN</td>\n",
       "      <td>14.38</td>\n",
       "      <td>11.31</td>\n",
       "      <td>7.81</td>\n",
       "      <td>10.98</td>\n",
       "      <td>1706907</td>\n",
       "      <td>2012702</td>\n",
       "      <td>2037837</td>\n",
       "      <td>5757447</td>\n",
       "      <td>29.646942</td>\n",
       "      <td>34.958238</td>\n",
       "      <td>35.394803</td>\n",
       "      <td>2631430.0</td>\n",
       "      <td>345907.0</td>\n",
       "      <td>5465.0</td>\n",
       "      <td>2982802.0</td>\n",
       "      <td>88.22007</td>\n",
       "      <td>11.596713</td>\n",
       "      <td>0.183217</td>\n",
       "      <td>46676</td>\n",
       "      <td>49091</td>\n",
       "      <td>0.950806</td>\n",
       "      <td>1.9</td>\n",
       "      <td>4680</td>\n",
       "      <td>268742</td>\n",
       "      <td>1.741447</td>\n",
       "      <td>1.9</td>\n",
       "      <td>5759432.0</td>\n",
       "      <td>70.15</td>\n",
       "      <td>14.35</td>\n",
       "      <td>2123.3</td>\n",
       "      <td>1671.5</td>\n",
       "      <td>32.5</td>\n",
       "      <td>3.47</td>\n",
       "      <td>0.9</td>\n",
       "      <td>82.689019</td>\n",
       "      <td>17.312508</td>\n",
       "      <td>3.049041</td>\n",
       "    </tr>\n",
       "    <tr>\n",
       "      <th>183</th>\n",
       "      <td>2007.0</td>\n",
       "      <td>9.0</td>\n",
       "      <td>Texas</td>\n",
       "      <td>TX</td>\n",
       "      <td>WECC</td>\n",
       "      <td>South</td>\n",
       "      <td>-0.9</td>\n",
       "      <td>cold</td>\n",
       "      <td>2007-09-06 00:00:00</td>\n",
       "      <td>20:00:00</td>\n",
       "      <td>NaN</td>\n",
       "      <td>NaN</td>\n",
       "      <td>fuel supply emergency</td>\n",
       "      <td>NaN</td>\n",
       "      <td>NaN</td>\n",
       "      <td>NaN</td>\n",
       "      <td>NaN</td>\n",
       "      <td>NaN</td>\n",
       "      <td>12.44</td>\n",
       "      <td>9.88</td>\n",
       "      <td>7.76</td>\n",
       "      <td>10.3</td>\n",
       "      <td>13316662</td>\n",
       "      <td>10376502</td>\n",
       "      <td>9494213</td>\n",
       "      <td>33193019</td>\n",
       "      <td>40.118864</td>\n",
       "      <td>31.261097</td>\n",
       "      <td>28.603042</td>\n",
       "      <td>9166849.0</td>\n",
       "      <td>1413358.0</td>\n",
       "      <td>168586.0</td>\n",
       "      <td>10748834.0</td>\n",
       "      <td>85.282264</td>\n",
       "      <td>13.148942</td>\n",
       "      <td>1.568412</td>\n",
       "      <td>49068</td>\n",
       "      <td>49126</td>\n",
       "      <td>0.998819</td>\n",
       "      <td>2.5</td>\n",
       "      <td>27695</td>\n",
       "      <td>1169399</td>\n",
       "      <td>2.368311</td>\n",
       "      <td>10.9</td>\n",
       "      <td>23831983.0</td>\n",
       "      <td>84.7</td>\n",
       "      <td>9.35</td>\n",
       "      <td>2435.3</td>\n",
       "      <td>1539.9</td>\n",
       "      <td>15.2</td>\n",
       "      <td>3.35</td>\n",
       "      <td>0.58</td>\n",
       "      <td>97.258336</td>\n",
       "      <td>2.742036</td>\n",
       "      <td>2.090873</td>\n",
       "    </tr>\n",
       "    <tr>\n",
       "      <th>193</th>\n",
       "      <td>2014.0</td>\n",
       "      <td>4.0</td>\n",
       "      <td>Texas</td>\n",
       "      <td>TX</td>\n",
       "      <td>TRE</td>\n",
       "      <td>South</td>\n",
       "      <td>-0.2</td>\n",
       "      <td>normal</td>\n",
       "      <td>2014-04-03 00:00:00</td>\n",
       "      <td>00:00:00</td>\n",
       "      <td>NaN</td>\n",
       "      <td>NaN</td>\n",
       "      <td>fuel supply emergency</td>\n",
       "      <td>Coal</td>\n",
       "      <td>NaN</td>\n",
       "      <td>NaN</td>\n",
       "      <td>NaN</td>\n",
       "      <td>NaN</td>\n",
       "      <td>12.06</td>\n",
       "      <td>8.21</td>\n",
       "      <td>5.86</td>\n",
       "      <td>8.55</td>\n",
       "      <td>8199586</td>\n",
       "      <td>10173132</td>\n",
       "      <td>9461319</td>\n",
       "      <td>27846934</td>\n",
       "      <td>29.445202</td>\n",
       "      <td>36.532323</td>\n",
       "      <td>33.976161</td>\n",
       "      <td>10138874.0</td>\n",
       "      <td>1432478.0</td>\n",
       "      <td>101641.0</td>\n",
       "      <td>11672996.0</td>\n",
       "      <td>86.857513</td>\n",
       "      <td>12.271725</td>\n",
       "      <td>0.870736</td>\n",
       "      <td>52742</td>\n",
       "      <td>49091</td>\n",
       "      <td>1.074372</td>\n",
       "      <td>2</td>\n",
       "      <td>28121</td>\n",
       "      <td>1421759</td>\n",
       "      <td>1.977902</td>\n",
       "      <td>10.9</td>\n",
       "      <td>26979078.0</td>\n",
       "      <td>84.7</td>\n",
       "      <td>9.35</td>\n",
       "      <td>2435.3</td>\n",
       "      <td>1539.9</td>\n",
       "      <td>15.2</td>\n",
       "      <td>3.35</td>\n",
       "      <td>0.58</td>\n",
       "      <td>97.258336</td>\n",
       "      <td>2.742036</td>\n",
       "      <td>2.090873</td>\n",
       "    </tr>\n",
       "    <tr>\n",
       "      <th>233</th>\n",
       "      <td>2014.0</td>\n",
       "      <td>6.0</td>\n",
       "      <td>Texas</td>\n",
       "      <td>TX</td>\n",
       "      <td>TRE</td>\n",
       "      <td>South</td>\n",
       "      <td>0</td>\n",
       "      <td>normal</td>\n",
       "      <td>2014-06-06 00:00:00</td>\n",
       "      <td>13:00:00</td>\n",
       "      <td>NaN</td>\n",
       "      <td>NaN</td>\n",
       "      <td>fuel supply emergency</td>\n",
       "      <td>Coal</td>\n",
       "      <td>NaN</td>\n",
       "      <td>NaN</td>\n",
       "      <td>NaN</td>\n",
       "      <td>NaN</td>\n",
       "      <td>12.17</td>\n",
       "      <td>8.26</td>\n",
       "      <td>6.34</td>\n",
       "      <td>9.2</td>\n",
       "      <td>12861137</td>\n",
       "      <td>12571521</td>\n",
       "      <td>9260108</td>\n",
       "      <td>34707247</td>\n",
       "      <td>37.056056</td>\n",
       "      <td>36.221602</td>\n",
       "      <td>26.680618</td>\n",
       "      <td>10138874.0</td>\n",
       "      <td>1432478.0</td>\n",
       "      <td>101641.0</td>\n",
       "      <td>11672996.0</td>\n",
       "      <td>86.857513</td>\n",
       "      <td>12.271725</td>\n",
       "      <td>0.870736</td>\n",
       "      <td>52742</td>\n",
       "      <td>49091</td>\n",
       "      <td>1.074372</td>\n",
       "      <td>2</td>\n",
       "      <td>28121</td>\n",
       "      <td>1421759</td>\n",
       "      <td>1.977902</td>\n",
       "      <td>10.9</td>\n",
       "      <td>26979078.0</td>\n",
       "      <td>84.7</td>\n",
       "      <td>9.35</td>\n",
       "      <td>2435.3</td>\n",
       "      <td>1539.9</td>\n",
       "      <td>15.2</td>\n",
       "      <td>3.35</td>\n",
       "      <td>0.58</td>\n",
       "      <td>97.258336</td>\n",
       "      <td>2.742036</td>\n",
       "      <td>2.090873</td>\n",
       "    </tr>\n",
       "    <tr>\n",
       "      <th>240</th>\n",
       "      <td>2000.0</td>\n",
       "      <td>NaN</td>\n",
       "      <td>Texas</td>\n",
       "      <td>TX</td>\n",
       "      <td>FRCC</td>\n",
       "      <td>South</td>\n",
       "      <td>NaN</td>\n",
       "      <td>NaN</td>\n",
       "      <td>NaN</td>\n",
       "      <td>NaN</td>\n",
       "      <td>NaN</td>\n",
       "      <td>NaN</td>\n",
       "      <td>equipment failure</td>\n",
       "      <td>transformer outage</td>\n",
       "      <td>NaN</td>\n",
       "      <td>NaN</td>\n",
       "      <td>46</td>\n",
       "      <td>43000.0</td>\n",
       "      <td>NaN</td>\n",
       "      <td>NaN</td>\n",
       "      <td>NaN</td>\n",
       "      <td>NaN</td>\n",
       "      <td>NaN</td>\n",
       "      <td>NaN</td>\n",
       "      <td>NaN</td>\n",
       "      <td>NaN</td>\n",
       "      <td>NaN</td>\n",
       "      <td>NaN</td>\n",
       "      <td>NaN</td>\n",
       "      <td>8023266.0</td>\n",
       "      <td>1093414.0</td>\n",
       "      <td>61280.0</td>\n",
       "      <td>9299829.0</td>\n",
       "      <td>86.273264</td>\n",
       "      <td>11.757356</td>\n",
       "      <td>0.658937</td>\n",
       "      <td>45102</td>\n",
       "      <td>44745</td>\n",
       "      <td>1.007979</td>\n",
       "      <td>1.7</td>\n",
       "      <td>30908</td>\n",
       "      <td>944631</td>\n",
       "      <td>3.271965</td>\n",
       "      <td>10.3</td>\n",
       "      <td>20944499.0</td>\n",
       "      <td>84.7</td>\n",
       "      <td>9.35</td>\n",
       "      <td>2435.3</td>\n",
       "      <td>1539.9</td>\n",
       "      <td>15.2</td>\n",
       "      <td>3.35</td>\n",
       "      <td>0.58</td>\n",
       "      <td>97.258336</td>\n",
       "      <td>2.742036</td>\n",
       "      <td>2.090873</td>\n",
       "    </tr>\n",
       "    <tr>\n",
       "      <th>283</th>\n",
       "      <td>2015.0</td>\n",
       "      <td>12.0</td>\n",
       "      <td>Texas</td>\n",
       "      <td>TX</td>\n",
       "      <td>TRE</td>\n",
       "      <td>South</td>\n",
       "      <td>2.3</td>\n",
       "      <td>warm</td>\n",
       "      <td>2015-12-26 00:00:00</td>\n",
       "      <td>19:30:00</td>\n",
       "      <td>NaN</td>\n",
       "      <td>NaN</td>\n",
       "      <td>severe weather</td>\n",
       "      <td>NaN</td>\n",
       "      <td>NaN</td>\n",
       "      <td>NaN</td>\n",
       "      <td>NaN</td>\n",
       "      <td>70000.0</td>\n",
       "      <td>11.33</td>\n",
       "      <td>7.59</td>\n",
       "      <td>5.28</td>\n",
       "      <td>8.2</td>\n",
       "      <td>9873550</td>\n",
       "      <td>10401668</td>\n",
       "      <td>8456633</td>\n",
       "      <td>28745852</td>\n",
       "      <td>34.347738</td>\n",
       "      <td>36.184935</td>\n",
       "      <td>29.41862</td>\n",
       "      <td>10318006.0</td>\n",
       "      <td>1425780.0</td>\n",
       "      <td>105936.0</td>\n",
       "      <td>11849725.0</td>\n",
       "      <td>87.073801</td>\n",
       "      <td>12.032178</td>\n",
       "      <td>0.893995</td>\n",
       "      <td>53707</td>\n",
       "      <td>49844</td>\n",
       "      <td>1.077502</td>\n",
       "      <td>1.8</td>\n",
       "      <td>31256</td>\n",
       "      <td>1488049</td>\n",
       "      <td>2.100468</td>\n",
       "      <td>11</td>\n",
       "      <td>27469114.0</td>\n",
       "      <td>84.7</td>\n",
       "      <td>9.35</td>\n",
       "      <td>2435.3</td>\n",
       "      <td>1539.9</td>\n",
       "      <td>15.2</td>\n",
       "      <td>3.35</td>\n",
       "      <td>0.58</td>\n",
       "      <td>97.258336</td>\n",
       "      <td>2.742036</td>\n",
       "      <td>2.090873</td>\n",
       "    </tr>\n",
       "    <tr>\n",
       "      <th>302</th>\n",
       "      <td>2000.0</td>\n",
       "      <td>8.0</td>\n",
       "      <td>Indiana</td>\n",
       "      <td>IN</td>\n",
       "      <td>ECAR</td>\n",
       "      <td>Central</td>\n",
       "      <td>-0.5</td>\n",
       "      <td>cold</td>\n",
       "      <td>2000-08-28 00:00:00</td>\n",
       "      <td>23:00:00</td>\n",
       "      <td>NaN</td>\n",
       "      <td>NaN</td>\n",
       "      <td>equipment failure</td>\n",
       "      <td>line fault</td>\n",
       "      <td>NaN</td>\n",
       "      <td>NaN</td>\n",
       "      <td>15</td>\n",
       "      <td>124000.0</td>\n",
       "      <td>6.97</td>\n",
       "      <td>6.02</td>\n",
       "      <td>3.94</td>\n",
       "      <td>5.39</td>\n",
       "      <td>2873955</td>\n",
       "      <td>1992006</td>\n",
       "      <td>4165333</td>\n",
       "      <td>9080103</td>\n",
       "      <td>31.651128</td>\n",
       "      <td>21.938143</td>\n",
       "      <td>45.873191</td>\n",
       "      <td>2545743.0</td>\n",
       "      <td>290737.0</td>\n",
       "      <td>19058.0</td>\n",
       "      <td>2865343.0</td>\n",
       "      <td>88.846013</td>\n",
       "      <td>10.146674</td>\n",
       "      <td>0.665121</td>\n",
       "      <td>41302</td>\n",
       "      <td>44745</td>\n",
       "      <td>0.923053</td>\n",
       "      <td>2.3</td>\n",
       "      <td>6964</td>\n",
       "      <td>251606</td>\n",
       "      <td>2.76782</td>\n",
       "      <td>2.3</td>\n",
       "      <td>6091866.0</td>\n",
       "      <td>72.44</td>\n",
       "      <td>13.27</td>\n",
       "      <td>1860</td>\n",
       "      <td>1646.9</td>\n",
       "      <td>53.7</td>\n",
       "      <td>7.05</td>\n",
       "      <td>1.46</td>\n",
       "      <td>98.369028</td>\n",
       "      <td>1.628226</td>\n",
       "      <td>0.991214</td>\n",
       "    </tr>\n",
       "  </tbody>\n",
       "</table>\n",
       "</div>"
      ],
      "text/plain": [
       "       YEAR  MONTH U.S._STATE POSTAL.CODE NERC.REGION      CLIMATE.REGION  \\\n",
       "23   2015.0    7.0  Tennessee          TN        SERC             Central   \n",
       "37   2016.0    7.0  Tennessee          TN        SERC             Central   \n",
       "48   2016.0    4.0  Tennessee          TN        SERC             Central   \n",
       "50   2014.0    6.0  Wisconsin          WI         MRO  East North Central   \n",
       "183  2007.0    9.0      Texas          TX        WECC               South   \n",
       "193  2014.0    4.0      Texas          TX         TRE               South   \n",
       "233  2014.0    6.0      Texas          TX         TRE               South   \n",
       "240  2000.0    NaN      Texas          TX        FRCC               South   \n",
       "283  2015.0   12.0      Texas          TX         TRE               South   \n",
       "302  2000.0    8.0    Indiana          IN        ECAR             Central   \n",
       "\n",
       "    ANOMALY.LEVEL CLIMATE.CATEGORY    OUTAGE.START.DATE OUTAGE.START.TIME  \\\n",
       "23            1.2             warm  2015-07-30 00:00:00          13:00:00   \n",
       "37           -0.3           normal  2016-07-13 00:00:00          15:00:00   \n",
       "48            1.1             warm  2016-04-27 00:00:00          13:36:00   \n",
       "50              0           normal  2014-06-27 00:00:00          13:21:00   \n",
       "183          -0.9             cold  2007-09-06 00:00:00          20:00:00   \n",
       "193          -0.2           normal  2014-04-03 00:00:00          00:00:00   \n",
       "233             0           normal  2014-06-06 00:00:00          13:00:00   \n",
       "240           NaN              NaN                  NaN               NaN   \n",
       "283           2.3             warm  2015-12-26 00:00:00          19:30:00   \n",
       "302          -0.5             cold  2000-08-28 00:00:00          23:00:00   \n",
       "\n",
       "    OUTAGE.RESTORATION.DATE OUTAGE.RESTORATION.TIME  \\\n",
       "23                      NaN                     NaN   \n",
       "37                      NaN                     NaN   \n",
       "48                      NaN                     NaN   \n",
       "50                      NaN                     NaN   \n",
       "183                     NaN                     NaN   \n",
       "193                     NaN                     NaN   \n",
       "233                     NaN                     NaN   \n",
       "240                     NaN                     NaN   \n",
       "283                     NaN                     NaN   \n",
       "302                     NaN                     NaN   \n",
       "\n",
       "                    CAUSE.CATEGORY CAUSE.CATEGORY.DETAIL HURRICANE.NAMES  \\\n",
       "23              intentional attack             vandalism             NaN   \n",
       "37   system operability disruption         public appeal             NaN   \n",
       "48              intentional attack             vandalism             NaN   \n",
       "50           fuel supply emergency                  Coal             NaN   \n",
       "183          fuel supply emergency                   NaN             NaN   \n",
       "193          fuel supply emergency                  Coal             NaN   \n",
       "233          fuel supply emergency                  Coal             NaN   \n",
       "240              equipment failure    transformer outage             NaN   \n",
       "283                 severe weather                   NaN             NaN   \n",
       "302              equipment failure            line fault             NaN   \n",
       "\n",
       "    OUTAGE.DURATION DEMAND.LOSS.MW  CUSTOMERS.AFFECTED RES.PRICE COM.PRICE  \\\n",
       "23              NaN              0                 0.0     10.31     10.27   \n",
       "37              NaN            NaN                 NaN       NaN       NaN   \n",
       "48              NaN              0                 0.0     10.22      9.64   \n",
       "50              NaN            NaN                 NaN     14.38     11.31   \n",
       "183             NaN            NaN                 NaN     12.44      9.88   \n",
       "193             NaN            NaN                 NaN     12.06      8.21   \n",
       "233             NaN            NaN                 NaN     12.17      8.26   \n",
       "240             NaN             46             43000.0       NaN       NaN   \n",
       "283             NaN            NaN             70000.0     11.33      7.59   \n",
       "302             NaN             15            124000.0      6.97      6.02   \n",
       "\n",
       "    IND.PRICE TOTAL.PRICE RES.SALES COM.SALES IND.SALES TOTAL.SALES  \\\n",
       "23       7.31         9.7   4285049   3322562   1891937     9499547   \n",
       "37        NaN         NaN       NaN       NaN       NaN         NaN   \n",
       "48       5.39         8.8   2517024   2577433   1681946     6776403   \n",
       "50       7.81       10.98   1706907   2012702   2037837     5757447   \n",
       "183      7.76        10.3  13316662  10376502   9494213    33193019   \n",
       "193      5.86        8.55   8199586  10173132   9461319    27846934   \n",
       "233      6.34         9.2  12861137  12571521   9260108    34707247   \n",
       "240       NaN         NaN       NaN       NaN       NaN         NaN   \n",
       "283      5.28         8.2   9873550  10401668   8456633    28745852   \n",
       "302      3.94        5.39   2873955   1992006   4165333     9080103   \n",
       "\n",
       "    RES.PERCEN COM.PERCEN IND.PERCEN  RES.CUSTOMERS  COM.CUSTOMERS  \\\n",
       "23    45.10793  34.976005  19.916076      2783058.0       476405.0   \n",
       "37         NaN        NaN        NaN      2812287.0       480032.0   \n",
       "48   37.143954  38.035415  24.820631      2812287.0       480032.0   \n",
       "50   29.646942  34.958238  35.394803      2631430.0       345907.0   \n",
       "183  40.118864  31.261097  28.603042      9166849.0      1413358.0   \n",
       "193  29.445202  36.532323  33.976161     10138874.0      1432478.0   \n",
       "233  37.056056  36.221602  26.680618     10138874.0      1432478.0   \n",
       "240        NaN        NaN        NaN      8023266.0      1093414.0   \n",
       "283  34.347738  36.184935   29.41862     10318006.0      1425780.0   \n",
       "302  31.651128  21.938143  45.873191      2545743.0       290737.0   \n",
       "\n",
       "     IND.CUSTOMERS  TOTAL.CUSTOMERS RES.CUST.PCT COM.CUST.PCT IND.CUST.PCT  \\\n",
       "23          1245.0        3260708.0    85.351341    14.610477     0.038182   \n",
       "37          1193.0        3293512.0    85.388698     14.57508     0.036223   \n",
       "48          1193.0        3293512.0    85.388698     14.57508     0.036223   \n",
       "50          5465.0        2982802.0     88.22007    11.596713     0.183217   \n",
       "183       168586.0       10748834.0    85.282264    13.148942     1.568412   \n",
       "193       101641.0       11672996.0    86.857513    12.271725     0.870736   \n",
       "233       101641.0       11672996.0    86.857513    12.271725     0.870736   \n",
       "240        61280.0        9299829.0    86.273264    11.757356     0.658937   \n",
       "283       105936.0       11849725.0    87.073801    12.032178     0.893995   \n",
       "302        19058.0        2865343.0    88.846013    10.146674     0.665121   \n",
       "\n",
       "    PC.REALGSP.STATE PC.REALGSP.USA PC.REALGSP.REL PC.REALGSP.CHANGE  \\\n",
       "23             42457          49844       0.851798               1.2   \n",
       "37             43720          50660       0.863008                 3   \n",
       "48             43720          50660       0.863008                 3   \n",
       "50             46676          49091       0.950806               1.9   \n",
       "183            49068          49126       0.998819               2.5   \n",
       "193            52742          49091       1.074372                 2   \n",
       "233            52742          49091       1.074372                 2   \n",
       "240            45102          44745       1.007979               1.7   \n",
       "283            53707          49844       1.077502               1.8   \n",
       "302            41302          44745       0.923053               2.3   \n",
       "\n",
       "    UTIL.REALGSP TOTAL.REALGSP UTIL.CONTRI PI.UTIL.OFUSA  POPULATION  \\\n",
       "23          1692        282752    0.598404           0.4   6600299.0   \n",
       "37          1813        290712    0.623641           0.5   6649404.0   \n",
       "48          1813        290712    0.623641           0.5   6649404.0   \n",
       "50          4680        268742    1.741447           1.9   5759432.0   \n",
       "183        27695       1169399    2.368311          10.9  23831983.0   \n",
       "193        28121       1421759    1.977902          10.9  26979078.0   \n",
       "233        28121       1421759    1.977902          10.9  26979078.0   \n",
       "240        30908        944631    3.271965          10.3  20944499.0   \n",
       "283        31256       1488049    2.100468            11  27469114.0   \n",
       "302         6964        251606     2.76782           2.3   6091866.0   \n",
       "\n",
       "    POPPCT_URBAN POPPCT_UC POPDEN_URBAN POPDEN_UC POPDEN_RURAL AREAPCT_URBAN  \\\n",
       "23         66.39     12.02       1450.3    1076.2         55.6          7.05   \n",
       "37         66.39     12.02       1450.3    1076.2         55.6          7.05   \n",
       "48         66.39     12.02       1450.3    1076.2         55.6          7.05   \n",
       "50         70.15     14.35       2123.3    1671.5         32.5          3.47   \n",
       "183         84.7      9.35       2435.3    1539.9         15.2          3.35   \n",
       "193         84.7      9.35       2435.3    1539.9         15.2          3.35   \n",
       "233         84.7      9.35       2435.3    1539.9         15.2          3.35   \n",
       "240         84.7      9.35       2435.3    1539.9         15.2          3.35   \n",
       "283         84.7      9.35       2435.3    1539.9         15.2          3.35   \n",
       "302        72.44     13.27         1860    1646.9         53.7          7.05   \n",
       "\n",
       "    AREAPCT_UC   PCT_LAND PCT_WATER_TOT PCT_WATER_INLAND  \n",
       "23        1.72  97.843109      2.156891         2.156891  \n",
       "37        1.72  97.843109      2.156891         2.156891  \n",
       "48        1.72  97.843109      2.156891         2.156891  \n",
       "50         0.9  82.689019     17.312508         3.049041  \n",
       "183       0.58  97.258336      2.742036         2.090873  \n",
       "193       0.58  97.258336      2.742036         2.090873  \n",
       "233       0.58  97.258336      2.742036         2.090873  \n",
       "240       0.58  97.258336      2.742036         2.090873  \n",
       "283       0.58  97.258336      2.742036         2.090873  \n",
       "302       1.46  98.369028      1.628226         0.991214  "
      ]
     },
     "execution_count": 126,
     "metadata": {},
     "output_type": "execute_result"
    }
   ],
   "source": [
    "unclean_df[unclean_df['OUTAGE.DURATION'].isna()].head(10)"
   ]
  },
  {
   "cell_type": "code",
   "execution_count": 127,
   "metadata": {
    "ExecuteTime": {
     "end_time": "2019-10-31T23:36:28.657068Z",
     "start_time": "2019-10-31T23:36:28.654650Z"
    }
   },
   "outputs": [
    {
     "data": {
      "text/plain": [
       "np.int64(0)"
      ]
     },
     "execution_count": 127,
     "metadata": {},
     "output_type": "execute_result"
    }
   ],
   "source": [
    "df['NERC.REGION'].isna().sum()\n",
    "# there are no missing values in 'NERC.REGION'"
   ]
  },
  {
   "cell_type": "code",
   "execution_count": 128,
   "metadata": {},
   "outputs": [
    {
     "data": {
      "text/html": [
       "<div>\n",
       "<style scoped>\n",
       "    .dataframe tbody tr th:only-of-type {\n",
       "        vertical-align: middle;\n",
       "    }\n",
       "\n",
       "    .dataframe tbody tr th {\n",
       "        vertical-align: top;\n",
       "    }\n",
       "\n",
       "    .dataframe thead th {\n",
       "        text-align: right;\n",
       "    }\n",
       "</style>\n",
       "<table border=\"1\" class=\"dataframe\">\n",
       "  <thead>\n",
       "    <tr style=\"text-align: right;\">\n",
       "      <th></th>\n",
       "      <th>U.S._STATE</th>\n",
       "      <th>NERC.REGION</th>\n",
       "      <th>CLIMATE.REGION</th>\n",
       "      <th>OUTAGE.START.DATE</th>\n",
       "      <th>OUTAGE.START.TIME</th>\n",
       "      <th>OUTAGE.RESTORATION.DATE</th>\n",
       "      <th>OUTAGE.RESTORATION.TIME</th>\n",
       "      <th>CAUSE.CATEGORY</th>\n",
       "      <th>OUTAGE.DURATION</th>\n",
       "      <th>RES.PERCEN</th>\n",
       "      <th>COM.PERCEN</th>\n",
       "      <th>IND.PERCEN</th>\n",
       "      <th>PC.REALGSP.REL</th>\n",
       "      <th>POPPCT_URBAN</th>\n",
       "    </tr>\n",
       "  </thead>\n",
       "  <tbody>\n",
       "    <tr>\n",
       "      <th>1516</th>\n",
       "      <td>Hawaii</td>\n",
       "      <td>HI</td>\n",
       "      <td>NaN</td>\n",
       "      <td>2008-12-26 00:00:00</td>\n",
       "      <td>18:13:00</td>\n",
       "      <td>2008-12-27 00:00:00</td>\n",
       "      <td>17:00:00</td>\n",
       "      <td>severe weather</td>\n",
       "      <td>1367.0</td>\n",
       "      <td>30.359526</td>\n",
       "      <td>32.964011</td>\n",
       "      <td>36.676462</td>\n",
       "      <td>1.04471</td>\n",
       "      <td>91.93</td>\n",
       "    </tr>\n",
       "    <tr>\n",
       "      <th>1517</th>\n",
       "      <td>Hawaii</td>\n",
       "      <td>PR</td>\n",
       "      <td>NaN</td>\n",
       "      <td>2011-05-02 00:00:00</td>\n",
       "      <td>17:06:00</td>\n",
       "      <td>2011-05-02 00:00:00</td>\n",
       "      <td>20:00:00</td>\n",
       "      <td>severe weather</td>\n",
       "      <td>174.0</td>\n",
       "      <td>29.256472</td>\n",
       "      <td>34.293692</td>\n",
       "      <td>36.449836</td>\n",
       "      <td>1.032026</td>\n",
       "      <td>91.93</td>\n",
       "    </tr>\n",
       "    <tr>\n",
       "      <th>1518</th>\n",
       "      <td>Hawaii</td>\n",
       "      <td>HECO</td>\n",
       "      <td>NaN</td>\n",
       "      <td>2006-10-15 00:00:00</td>\n",
       "      <td>07:09:00</td>\n",
       "      <td>2006-10-15 00:00:00</td>\n",
       "      <td>16:12:00</td>\n",
       "      <td>severe weather</td>\n",
       "      <td>543.0</td>\n",
       "      <td>29.754528</td>\n",
       "      <td>33.325929</td>\n",
       "      <td>36.919435</td>\n",
       "      <td>1.029626</td>\n",
       "      <td>91.93</td>\n",
       "    </tr>\n",
       "    <tr>\n",
       "      <th>1519</th>\n",
       "      <td>Hawaii</td>\n",
       "      <td>HECO</td>\n",
       "      <td>NaN</td>\n",
       "      <td>2006-06-01 00:00:00</td>\n",
       "      <td>14:12:00</td>\n",
       "      <td>2006-06-01 00:00:00</td>\n",
       "      <td>18:09:00</td>\n",
       "      <td>system operability disruption</td>\n",
       "      <td>237.0</td>\n",
       "      <td>29.775679</td>\n",
       "      <td>33.478432</td>\n",
       "      <td>36.745777</td>\n",
       "      <td>1.029626</td>\n",
       "      <td>91.93</td>\n",
       "    </tr>\n",
       "    <tr>\n",
       "      <th>1520</th>\n",
       "      <td>Hawaii</td>\n",
       "      <td>HECO</td>\n",
       "      <td>NaN</td>\n",
       "      <td>2006-10-15 00:00:00</td>\n",
       "      <td>07:09:00</td>\n",
       "      <td>2006-10-16 00:00:00</td>\n",
       "      <td>14:55:00</td>\n",
       "      <td>severe weather</td>\n",
       "      <td>1906.0</td>\n",
       "      <td>29.754528</td>\n",
       "      <td>33.325929</td>\n",
       "      <td>36.919435</td>\n",
       "      <td>1.029626</td>\n",
       "      <td>91.93</td>\n",
       "    </tr>\n",
       "  </tbody>\n",
       "</table>\n",
       "</div>"
      ],
      "text/plain": [
       "     U.S._STATE NERC.REGION CLIMATE.REGION    OUTAGE.START.DATE  \\\n",
       "1516     Hawaii          HI            NaN  2008-12-26 00:00:00   \n",
       "1517     Hawaii          PR            NaN  2011-05-02 00:00:00   \n",
       "1518     Hawaii        HECO            NaN  2006-10-15 00:00:00   \n",
       "1519     Hawaii        HECO            NaN  2006-06-01 00:00:00   \n",
       "1520     Hawaii        HECO            NaN  2006-10-15 00:00:00   \n",
       "\n",
       "     OUTAGE.START.TIME OUTAGE.RESTORATION.DATE OUTAGE.RESTORATION.TIME  \\\n",
       "1516          18:13:00     2008-12-27 00:00:00                17:00:00   \n",
       "1517          17:06:00     2011-05-02 00:00:00                20:00:00   \n",
       "1518          07:09:00     2006-10-15 00:00:00                16:12:00   \n",
       "1519          14:12:00     2006-06-01 00:00:00                18:09:00   \n",
       "1520          07:09:00     2006-10-16 00:00:00                14:55:00   \n",
       "\n",
       "                     CAUSE.CATEGORY  OUTAGE.DURATION RES.PERCEN COM.PERCEN  \\\n",
       "1516                 severe weather           1367.0  30.359526  32.964011   \n",
       "1517                 severe weather            174.0  29.256472  34.293692   \n",
       "1518                 severe weather            543.0  29.754528  33.325929   \n",
       "1519  system operability disruption            237.0  29.775679  33.478432   \n",
       "1520                 severe weather           1906.0  29.754528  33.325929   \n",
       "\n",
       "     IND.PERCEN PC.REALGSP.REL POPPCT_URBAN  \n",
       "1516  36.676462        1.04471        91.93  \n",
       "1517  36.449836       1.032026        91.93  \n",
       "1518  36.919435       1.029626        91.93  \n",
       "1519  36.745777       1.029626        91.93  \n",
       "1520  36.919435       1.029626        91.93  "
      ]
     },
     "execution_count": 128,
     "metadata": {},
     "output_type": "execute_result"
    }
   ],
   "source": [
    "df[df['CLIMATE.REGION'].isna()] # 5 rows with null values"
   ]
  },
  {
   "cell_type": "code",
   "execution_count": 129,
   "metadata": {},
   "outputs": [
    {
     "data": {
      "text/html": [
       "<div>\n",
       "<style scoped>\n",
       "    .dataframe tbody tr th:only-of-type {\n",
       "        vertical-align: middle;\n",
       "    }\n",
       "\n",
       "    .dataframe tbody tr th {\n",
       "        vertical-align: top;\n",
       "    }\n",
       "\n",
       "    .dataframe thead th {\n",
       "        text-align: right;\n",
       "    }\n",
       "</style>\n",
       "<table border=\"1\" class=\"dataframe\">\n",
       "  <thead>\n",
       "    <tr style=\"text-align: right;\">\n",
       "      <th></th>\n",
       "      <th>U.S._STATE</th>\n",
       "      <th>NERC.REGION</th>\n",
       "      <th>CLIMATE.REGION</th>\n",
       "      <th>OUTAGE.START.DATE</th>\n",
       "      <th>OUTAGE.START.TIME</th>\n",
       "      <th>OUTAGE.RESTORATION.DATE</th>\n",
       "      <th>OUTAGE.RESTORATION.TIME</th>\n",
       "      <th>CAUSE.CATEGORY</th>\n",
       "      <th>OUTAGE.DURATION</th>\n",
       "      <th>RES.PERCEN</th>\n",
       "      <th>COM.PERCEN</th>\n",
       "      <th>IND.PERCEN</th>\n",
       "      <th>PC.REALGSP.REL</th>\n",
       "      <th>POPPCT_URBAN</th>\n",
       "    </tr>\n",
       "  </thead>\n",
       "  <tbody>\n",
       "    <tr>\n",
       "      <th>1516</th>\n",
       "      <td>Hawaii</td>\n",
       "      <td>HI</td>\n",
       "      <td>NaN</td>\n",
       "      <td>2008-12-26 00:00:00</td>\n",
       "      <td>18:13:00</td>\n",
       "      <td>2008-12-27 00:00:00</td>\n",
       "      <td>17:00:00</td>\n",
       "      <td>severe weather</td>\n",
       "      <td>1367.0</td>\n",
       "      <td>30.359526</td>\n",
       "      <td>32.964011</td>\n",
       "      <td>36.676462</td>\n",
       "      <td>1.04471</td>\n",
       "      <td>91.93</td>\n",
       "    </tr>\n",
       "    <tr>\n",
       "      <th>1517</th>\n",
       "      <td>Hawaii</td>\n",
       "      <td>PR</td>\n",
       "      <td>NaN</td>\n",
       "      <td>2011-05-02 00:00:00</td>\n",
       "      <td>17:06:00</td>\n",
       "      <td>2011-05-02 00:00:00</td>\n",
       "      <td>20:00:00</td>\n",
       "      <td>severe weather</td>\n",
       "      <td>174.0</td>\n",
       "      <td>29.256472</td>\n",
       "      <td>34.293692</td>\n",
       "      <td>36.449836</td>\n",
       "      <td>1.032026</td>\n",
       "      <td>91.93</td>\n",
       "    </tr>\n",
       "    <tr>\n",
       "      <th>1518</th>\n",
       "      <td>Hawaii</td>\n",
       "      <td>HECO</td>\n",
       "      <td>NaN</td>\n",
       "      <td>2006-10-15 00:00:00</td>\n",
       "      <td>07:09:00</td>\n",
       "      <td>2006-10-15 00:00:00</td>\n",
       "      <td>16:12:00</td>\n",
       "      <td>severe weather</td>\n",
       "      <td>543.0</td>\n",
       "      <td>29.754528</td>\n",
       "      <td>33.325929</td>\n",
       "      <td>36.919435</td>\n",
       "      <td>1.029626</td>\n",
       "      <td>91.93</td>\n",
       "    </tr>\n",
       "    <tr>\n",
       "      <th>1519</th>\n",
       "      <td>Hawaii</td>\n",
       "      <td>HECO</td>\n",
       "      <td>NaN</td>\n",
       "      <td>2006-06-01 00:00:00</td>\n",
       "      <td>14:12:00</td>\n",
       "      <td>2006-06-01 00:00:00</td>\n",
       "      <td>18:09:00</td>\n",
       "      <td>system operability disruption</td>\n",
       "      <td>237.0</td>\n",
       "      <td>29.775679</td>\n",
       "      <td>33.478432</td>\n",
       "      <td>36.745777</td>\n",
       "      <td>1.029626</td>\n",
       "      <td>91.93</td>\n",
       "    </tr>\n",
       "    <tr>\n",
       "      <th>1520</th>\n",
       "      <td>Hawaii</td>\n",
       "      <td>HECO</td>\n",
       "      <td>NaN</td>\n",
       "      <td>2006-10-15 00:00:00</td>\n",
       "      <td>07:09:00</td>\n",
       "      <td>2006-10-16 00:00:00</td>\n",
       "      <td>14:55:00</td>\n",
       "      <td>severe weather</td>\n",
       "      <td>1906.0</td>\n",
       "      <td>29.754528</td>\n",
       "      <td>33.325929</td>\n",
       "      <td>36.919435</td>\n",
       "      <td>1.029626</td>\n",
       "      <td>91.93</td>\n",
       "    </tr>\n",
       "  </tbody>\n",
       "</table>\n",
       "</div>"
      ],
      "text/plain": [
       "     U.S._STATE NERC.REGION CLIMATE.REGION    OUTAGE.START.DATE  \\\n",
       "1516     Hawaii          HI            NaN  2008-12-26 00:00:00   \n",
       "1517     Hawaii          PR            NaN  2011-05-02 00:00:00   \n",
       "1518     Hawaii        HECO            NaN  2006-10-15 00:00:00   \n",
       "1519     Hawaii        HECO            NaN  2006-06-01 00:00:00   \n",
       "1520     Hawaii        HECO            NaN  2006-10-15 00:00:00   \n",
       "\n",
       "     OUTAGE.START.TIME OUTAGE.RESTORATION.DATE OUTAGE.RESTORATION.TIME  \\\n",
       "1516          18:13:00     2008-12-27 00:00:00                17:00:00   \n",
       "1517          17:06:00     2011-05-02 00:00:00                20:00:00   \n",
       "1518          07:09:00     2006-10-15 00:00:00                16:12:00   \n",
       "1519          14:12:00     2006-06-01 00:00:00                18:09:00   \n",
       "1520          07:09:00     2006-10-16 00:00:00                14:55:00   \n",
       "\n",
       "                     CAUSE.CATEGORY  OUTAGE.DURATION RES.PERCEN COM.PERCEN  \\\n",
       "1516                 severe weather           1367.0  30.359526  32.964011   \n",
       "1517                 severe weather            174.0  29.256472  34.293692   \n",
       "1518                 severe weather            543.0  29.754528  33.325929   \n",
       "1519  system operability disruption            237.0  29.775679  33.478432   \n",
       "1520                 severe weather           1906.0  29.754528  33.325929   \n",
       "\n",
       "     IND.PERCEN PC.REALGSP.REL POPPCT_URBAN  \n",
       "1516  36.676462        1.04471        91.93  \n",
       "1517  36.449836       1.032026        91.93  \n",
       "1518  36.919435       1.029626        91.93  \n",
       "1519  36.745777       1.029626        91.93  \n",
       "1520  36.919435       1.029626        91.93  "
      ]
     },
     "execution_count": 129,
     "metadata": {},
     "output_type": "execute_result"
    }
   ],
   "source": [
    "df[df['U.S._STATE'] == 'Hawaii']\n",
    "# Hawaii does not have a 'CLIMATE.REGION'"
   ]
  },
  {
   "cell_type": "code",
   "execution_count": 130,
   "metadata": {},
   "outputs": [],
   "source": [
    "pd.set_option('display.max_rows', None)"
   ]
  },
  {
   "cell_type": "code",
   "execution_count": 131,
   "metadata": {},
   "outputs": [
    {
     "data": {
      "text/plain": [
       "np.int64(0)"
      ]
     },
     "execution_count": 131,
     "metadata": {},
     "output_type": "execute_result"
    }
   ],
   "source": [
    "df['CAUSE.CATEGORY'].isna().sum()\n",
    "# all power outages have a valid cause"
   ]
  },
  {
   "cell_type": "code",
   "execution_count": 132,
   "metadata": {},
   "outputs": [
    {
     "data": {
      "text/html": [
       "<div>\n",
       "<style scoped>\n",
       "    .dataframe tbody tr th:only-of-type {\n",
       "        vertical-align: middle;\n",
       "    }\n",
       "\n",
       "    .dataframe tbody tr th {\n",
       "        vertical-align: top;\n",
       "    }\n",
       "\n",
       "    .dataframe thead th {\n",
       "        text-align: right;\n",
       "    }\n",
       "</style>\n",
       "<table border=\"1\" class=\"dataframe\">\n",
       "  <thead>\n",
       "    <tr style=\"text-align: right;\">\n",
       "      <th></th>\n",
       "      <th>U.S._STATE</th>\n",
       "      <th>NERC.REGION</th>\n",
       "      <th>CLIMATE.REGION</th>\n",
       "      <th>OUTAGE.START.DATE</th>\n",
       "      <th>OUTAGE.START.TIME</th>\n",
       "      <th>OUTAGE.RESTORATION.DATE</th>\n",
       "      <th>OUTAGE.RESTORATION.TIME</th>\n",
       "      <th>CAUSE.CATEGORY</th>\n",
       "      <th>OUTAGE.DURATION</th>\n",
       "      <th>RES.PERCEN</th>\n",
       "      <th>COM.PERCEN</th>\n",
       "      <th>IND.PERCEN</th>\n",
       "      <th>PC.REALGSP.REL</th>\n",
       "      <th>POPPCT_URBAN</th>\n",
       "    </tr>\n",
       "  </thead>\n",
       "  <tbody>\n",
       "    <tr>\n",
       "      <th>104</th>\n",
       "      <td>Michigan</td>\n",
       "      <td>RFC</td>\n",
       "      <td>East North Central</td>\n",
       "      <td>2016-07-08 00:00:00</td>\n",
       "      <td>19:00:00</td>\n",
       "      <td>2016-07-09 00:00:00</td>\n",
       "      <td>00:00:00</td>\n",
       "      <td>severe weather</td>\n",
       "      <td>300.0</td>\n",
       "      <td>NaN</td>\n",
       "      <td>NaN</td>\n",
       "      <td>NaN</td>\n",
       "      <td>0.85531</td>\n",
       "      <td>74.57</td>\n",
       "    </tr>\n",
       "    <tr>\n",
       "      <th>172</th>\n",
       "      <td>Texas</td>\n",
       "      <td>TRE</td>\n",
       "      <td>South</td>\n",
       "      <td>2016-07-05 00:00:00</td>\n",
       "      <td>02:45:00</td>\n",
       "      <td>2016-07-06 00:00:00</td>\n",
       "      <td>03:00:00</td>\n",
       "      <td>severe weather</td>\n",
       "      <td>1455.0</td>\n",
       "      <td>NaN</td>\n",
       "      <td>NaN</td>\n",
       "      <td>NaN</td>\n",
       "      <td>1.048243</td>\n",
       "      <td>84.7</td>\n",
       "    </tr>\n",
       "    <tr>\n",
       "      <th>219</th>\n",
       "      <td>Texas</td>\n",
       "      <td>TRE</td>\n",
       "      <td>South</td>\n",
       "      <td>2016-07-09 00:00:00</td>\n",
       "      <td>17:45:00</td>\n",
       "      <td>2016-07-11 00:00:00</td>\n",
       "      <td>14:00:00</td>\n",
       "      <td>severe weather</td>\n",
       "      <td>2655.0</td>\n",
       "      <td>NaN</td>\n",
       "      <td>NaN</td>\n",
       "      <td>NaN</td>\n",
       "      <td>1.048243</td>\n",
       "      <td>84.7</td>\n",
       "    </tr>\n",
       "    <tr>\n",
       "      <th>418</th>\n",
       "      <td>Washington</td>\n",
       "      <td>WECC</td>\n",
       "      <td>Northwest</td>\n",
       "      <td>2016-07-13 00:00:00</td>\n",
       "      <td>13:00:00</td>\n",
       "      <td>2016-07-13 00:00:00</td>\n",
       "      <td>13:01:00</td>\n",
       "      <td>intentional attack</td>\n",
       "      <td>1.0</td>\n",
       "      <td>NaN</td>\n",
       "      <td>NaN</td>\n",
       "      <td>NaN</td>\n",
       "      <td>1.140861</td>\n",
       "      <td>84.05</td>\n",
       "    </tr>\n",
       "    <tr>\n",
       "      <th>606</th>\n",
       "      <td>Pennsylvania</td>\n",
       "      <td>RFC</td>\n",
       "      <td>Northeast</td>\n",
       "      <td>2016-07-23 00:00:00</td>\n",
       "      <td>15:15:00</td>\n",
       "      <td>2016-07-23 00:00:00</td>\n",
       "      <td>19:53:00</td>\n",
       "      <td>system operability disruption</td>\n",
       "      <td>278.0</td>\n",
       "      <td>NaN</td>\n",
       "      <td>NaN</td>\n",
       "      <td>NaN</td>\n",
       "      <td>1.006277</td>\n",
       "      <td>78.66</td>\n",
       "    </tr>\n",
       "    <tr>\n",
       "      <th>744</th>\n",
       "      <td>North Carolina</td>\n",
       "      <td>SERC</td>\n",
       "      <td>Southeast</td>\n",
       "      <td>2016-07-08 00:00:00</td>\n",
       "      <td>20:50:00</td>\n",
       "      <td>2016-07-09 00:00:00</td>\n",
       "      <td>19:25:00</td>\n",
       "      <td>severe weather</td>\n",
       "      <td>1355.0</td>\n",
       "      <td>NaN</td>\n",
       "      <td>NaN</td>\n",
       "      <td>NaN</td>\n",
       "      <td>0.872365</td>\n",
       "      <td>66.09</td>\n",
       "    </tr>\n",
       "    <tr>\n",
       "      <th>763</th>\n",
       "      <td>North Carolina</td>\n",
       "      <td>SERC</td>\n",
       "      <td>Southeast</td>\n",
       "      <td>2016-07-07 00:00:00</td>\n",
       "      <td>05:53:00</td>\n",
       "      <td>2016-07-07 00:00:00</td>\n",
       "      <td>08:40:00</td>\n",
       "      <td>intentional attack</td>\n",
       "      <td>167.0</td>\n",
       "      <td>NaN</td>\n",
       "      <td>NaN</td>\n",
       "      <td>NaN</td>\n",
       "      <td>0.872365</td>\n",
       "      <td>66.09</td>\n",
       "    </tr>\n",
       "    <tr>\n",
       "      <th>828</th>\n",
       "      <td>Oregon</td>\n",
       "      <td>WECC</td>\n",
       "      <td>Northwest</td>\n",
       "      <td>2016-07-02 00:00:00</td>\n",
       "      <td>04:00:00</td>\n",
       "      <td>2016-07-04 00:00:00</td>\n",
       "      <td>00:40:00</td>\n",
       "      <td>intentional attack</td>\n",
       "      <td>2680.0</td>\n",
       "      <td>NaN</td>\n",
       "      <td>NaN</td>\n",
       "      <td>NaN</td>\n",
       "      <td>1.001796</td>\n",
       "      <td>81.03</td>\n",
       "    </tr>\n",
       "    <tr>\n",
       "      <th>901</th>\n",
       "      <td>Delaware</td>\n",
       "      <td>RFC</td>\n",
       "      <td>Northeast</td>\n",
       "      <td>2016-07-21 00:00:00</td>\n",
       "      <td>06:18:00</td>\n",
       "      <td>2016-07-21 00:00:00</td>\n",
       "      <td>14:45:00</td>\n",
       "      <td>intentional attack</td>\n",
       "      <td>507.0</td>\n",
       "      <td>NaN</td>\n",
       "      <td>NaN</td>\n",
       "      <td>NaN</td>\n",
       "      <td>1.254994</td>\n",
       "      <td>83.3</td>\n",
       "    </tr>\n",
       "    <tr>\n",
       "      <th>1420</th>\n",
       "      <td>Oklahoma</td>\n",
       "      <td>SPP</td>\n",
       "      <td>South</td>\n",
       "      <td>2016-07-14 00:00:00</td>\n",
       "      <td>14:44:00</td>\n",
       "      <td>2016-07-15 00:00:00</td>\n",
       "      <td>04:00:00</td>\n",
       "      <td>severe weather</td>\n",
       "      <td>796.0</td>\n",
       "      <td>NaN</td>\n",
       "      <td>NaN</td>\n",
       "      <td>NaN</td>\n",
       "      <td>0.876786</td>\n",
       "      <td>66.24</td>\n",
       "    </tr>\n",
       "    <tr>\n",
       "      <th>1521</th>\n",
       "      <td>Idaho</td>\n",
       "      <td>WECC</td>\n",
       "      <td>Northwest</td>\n",
       "      <td>2016-07-19 00:00:00</td>\n",
       "      <td>15:45:00</td>\n",
       "      <td>2016-07-19 00:00:00</td>\n",
       "      <td>19:29:00</td>\n",
       "      <td>system operability disruption</td>\n",
       "      <td>224.0</td>\n",
       "      <td>NaN</td>\n",
       "      <td>NaN</td>\n",
       "      <td>NaN</td>\n",
       "      <td>0.715673</td>\n",
       "      <td>70.58</td>\n",
       "    </tr>\n",
       "    <tr>\n",
       "      <th>1529</th>\n",
       "      <td>Idaho</td>\n",
       "      <td>WECC</td>\n",
       "      <td>Northwest</td>\n",
       "      <td>2016-07-19 00:00:00</td>\n",
       "      <td>15:45:00</td>\n",
       "      <td>2016-07-19 00:00:00</td>\n",
       "      <td>19:25:00</td>\n",
       "      <td>system operability disruption</td>\n",
       "      <td>220.0</td>\n",
       "      <td>NaN</td>\n",
       "      <td>NaN</td>\n",
       "      <td>NaN</td>\n",
       "      <td>0.715673</td>\n",
       "      <td>70.58</td>\n",
       "    </tr>\n",
       "  </tbody>\n",
       "</table>\n",
       "</div>"
      ],
      "text/plain": [
       "          U.S._STATE NERC.REGION      CLIMATE.REGION    OUTAGE.START.DATE  \\\n",
       "104         Michigan         RFC  East North Central  2016-07-08 00:00:00   \n",
       "172            Texas         TRE               South  2016-07-05 00:00:00   \n",
       "219            Texas         TRE               South  2016-07-09 00:00:00   \n",
       "418       Washington        WECC           Northwest  2016-07-13 00:00:00   \n",
       "606     Pennsylvania         RFC           Northeast  2016-07-23 00:00:00   \n",
       "744   North Carolina        SERC           Southeast  2016-07-08 00:00:00   \n",
       "763   North Carolina        SERC           Southeast  2016-07-07 00:00:00   \n",
       "828           Oregon        WECC           Northwest  2016-07-02 00:00:00   \n",
       "901         Delaware         RFC           Northeast  2016-07-21 00:00:00   \n",
       "1420        Oklahoma         SPP               South  2016-07-14 00:00:00   \n",
       "1521           Idaho        WECC           Northwest  2016-07-19 00:00:00   \n",
       "1529           Idaho        WECC           Northwest  2016-07-19 00:00:00   \n",
       "\n",
       "     OUTAGE.START.TIME OUTAGE.RESTORATION.DATE OUTAGE.RESTORATION.TIME  \\\n",
       "104           19:00:00     2016-07-09 00:00:00                00:00:00   \n",
       "172           02:45:00     2016-07-06 00:00:00                03:00:00   \n",
       "219           17:45:00     2016-07-11 00:00:00                14:00:00   \n",
       "418           13:00:00     2016-07-13 00:00:00                13:01:00   \n",
       "606           15:15:00     2016-07-23 00:00:00                19:53:00   \n",
       "744           20:50:00     2016-07-09 00:00:00                19:25:00   \n",
       "763           05:53:00     2016-07-07 00:00:00                08:40:00   \n",
       "828           04:00:00     2016-07-04 00:00:00                00:40:00   \n",
       "901           06:18:00     2016-07-21 00:00:00                14:45:00   \n",
       "1420          14:44:00     2016-07-15 00:00:00                04:00:00   \n",
       "1521          15:45:00     2016-07-19 00:00:00                19:29:00   \n",
       "1529          15:45:00     2016-07-19 00:00:00                19:25:00   \n",
       "\n",
       "                     CAUSE.CATEGORY  OUTAGE.DURATION RES.PERCEN COM.PERCEN  \\\n",
       "104                  severe weather            300.0        NaN        NaN   \n",
       "172                  severe weather           1455.0        NaN        NaN   \n",
       "219                  severe weather           2655.0        NaN        NaN   \n",
       "418              intentional attack              1.0        NaN        NaN   \n",
       "606   system operability disruption            278.0        NaN        NaN   \n",
       "744                  severe weather           1355.0        NaN        NaN   \n",
       "763              intentional attack            167.0        NaN        NaN   \n",
       "828              intentional attack           2680.0        NaN        NaN   \n",
       "901              intentional attack            507.0        NaN        NaN   \n",
       "1420                 severe weather            796.0        NaN        NaN   \n",
       "1521  system operability disruption            224.0        NaN        NaN   \n",
       "1529  system operability disruption            220.0        NaN        NaN   \n",
       "\n",
       "     IND.PERCEN PC.REALGSP.REL POPPCT_URBAN  \n",
       "104         NaN        0.85531        74.57  \n",
       "172         NaN       1.048243         84.7  \n",
       "219         NaN       1.048243         84.7  \n",
       "418         NaN       1.140861        84.05  \n",
       "606         NaN       1.006277        78.66  \n",
       "744         NaN       0.872365        66.09  \n",
       "763         NaN       0.872365        66.09  \n",
       "828         NaN       1.001796        81.03  \n",
       "901         NaN       1.254994         83.3  \n",
       "1420        NaN       0.876786        66.24  \n",
       "1521        NaN       0.715673        70.58  \n",
       "1529        NaN       0.715673        70.58  "
      ]
     },
     "execution_count": 132,
     "metadata": {},
     "output_type": "execute_result"
    }
   ],
   "source": [
    "df[df['RES.PERCEN'].isna()]"
   ]
  },
  {
   "cell_type": "code",
   "execution_count": 133,
   "metadata": {},
   "outputs": [
    {
     "data": {
      "text/plain": [
       "True"
      ]
     },
     "execution_count": 133,
     "metadata": {},
     "output_type": "execute_result"
    }
   ],
   "source": [
    "df[df['COM.PERCEN'].isna()].equals(df[df['RES.PERCEN'].isna()])"
   ]
  },
  {
   "cell_type": "code",
   "execution_count": 134,
   "metadata": {},
   "outputs": [
    {
     "data": {
      "text/plain": [
       "True"
      ]
     },
     "execution_count": 134,
     "metadata": {},
     "output_type": "execute_result"
    }
   ],
   "source": [
    "df[df['IND.PERCEN'].isna()].equals(df[df['RES.PERCEN'].isna()])\n",
    "# NaN values for percentages are across the same rows"
   ]
  },
  {
   "cell_type": "code",
   "execution_count": 135,
   "metadata": {},
   "outputs": [
    {
     "name": "stderr",
     "output_type": "stream",
     "text": [
      "/var/folders/jk/ll2fwx_55klc6t5gz7x_24440000gn/T/ipykernel_63617/1602715756.py:2: FutureWarning:\n",
      "\n",
      "Downcasting object dtype arrays on .fillna, .ffill, .bfill is deprecated and will change in a future version. Call result.infer_objects(copy=False) instead. To opt-in to the future behavior, set `pd.set_option('future.no_silent_downcasting', True)`\n",
      "\n",
      "/var/folders/jk/ll2fwx_55klc6t5gz7x_24440000gn/T/ipykernel_63617/1602715756.py:3: FutureWarning:\n",
      "\n",
      "Downcasting object dtype arrays on .fillna, .ffill, .bfill is deprecated and will change in a future version. Call result.infer_objects(copy=False) instead. To opt-in to the future behavior, set `pd.set_option('future.no_silent_downcasting', True)`\n",
      "\n",
      "/var/folders/jk/ll2fwx_55klc6t5gz7x_24440000gn/T/ipykernel_63617/1602715756.py:4: FutureWarning:\n",
      "\n",
      "Downcasting object dtype arrays on .fillna, .ffill, .bfill is deprecated and will change in a future version. Call result.infer_objects(copy=False) instead. To opt-in to the future behavior, set `pd.set_option('future.no_silent_downcasting', True)`\n",
      "\n"
     ]
    },
    {
     "data": {
      "text/html": [
       "<div>\n",
       "<style scoped>\n",
       "    .dataframe tbody tr th:only-of-type {\n",
       "        vertical-align: middle;\n",
       "    }\n",
       "\n",
       "    .dataframe tbody tr th {\n",
       "        vertical-align: top;\n",
       "    }\n",
       "\n",
       "    .dataframe thead th {\n",
       "        text-align: right;\n",
       "    }\n",
       "</style>\n",
       "<table border=\"1\" class=\"dataframe\">\n",
       "  <thead>\n",
       "    <tr style=\"text-align: right;\">\n",
       "      <th></th>\n",
       "      <th>U.S._STATE</th>\n",
       "      <th>NERC.REGION</th>\n",
       "      <th>CLIMATE.REGION</th>\n",
       "      <th>OUTAGE.START.DATE</th>\n",
       "      <th>OUTAGE.START.TIME</th>\n",
       "      <th>OUTAGE.RESTORATION.DATE</th>\n",
       "      <th>OUTAGE.RESTORATION.TIME</th>\n",
       "      <th>CAUSE.CATEGORY</th>\n",
       "      <th>OUTAGE.DURATION</th>\n",
       "      <th>RES.PERCEN</th>\n",
       "      <th>COM.PERCEN</th>\n",
       "      <th>IND.PERCEN</th>\n",
       "      <th>PC.REALGSP.REL</th>\n",
       "      <th>POPPCT_URBAN</th>\n",
       "    </tr>\n",
       "  </thead>\n",
       "  <tbody>\n",
       "    <tr>\n",
       "      <th>1</th>\n",
       "      <td>Minnesota</td>\n",
       "      <td>MRO</td>\n",
       "      <td>East North Central</td>\n",
       "      <td>2011-07-01 00:00:00</td>\n",
       "      <td>17:00:00</td>\n",
       "      <td>2011-07-03 00:00:00</td>\n",
       "      <td>20:00:00</td>\n",
       "      <td>severe weather</td>\n",
       "      <td>3060.0</td>\n",
       "      <td>35.549073</td>\n",
       "      <td>32.225029</td>\n",
       "      <td>32.202431</td>\n",
       "      <td>1.077376</td>\n",
       "      <td>73.27</td>\n",
       "    </tr>\n",
       "    <tr>\n",
       "      <th>2</th>\n",
       "      <td>Minnesota</td>\n",
       "      <td>MRO</td>\n",
       "      <td>East North Central</td>\n",
       "      <td>2014-05-11 00:00:00</td>\n",
       "      <td>18:38:00</td>\n",
       "      <td>2014-05-11 00:00:00</td>\n",
       "      <td>18:39:00</td>\n",
       "      <td>intentional attack</td>\n",
       "      <td>1.0</td>\n",
       "      <td>30.032487</td>\n",
       "      <td>34.210389</td>\n",
       "      <td>35.727564</td>\n",
       "      <td>1.089792</td>\n",
       "      <td>73.27</td>\n",
       "    </tr>\n",
       "    <tr>\n",
       "      <th>3</th>\n",
       "      <td>Minnesota</td>\n",
       "      <td>MRO</td>\n",
       "      <td>East North Central</td>\n",
       "      <td>2010-10-26 00:00:00</td>\n",
       "      <td>20:00:00</td>\n",
       "      <td>2010-10-28 00:00:00</td>\n",
       "      <td>22:00:00</td>\n",
       "      <td>severe weather</td>\n",
       "      <td>3000.0</td>\n",
       "      <td>28.097672</td>\n",
       "      <td>34.501015</td>\n",
       "      <td>37.365983</td>\n",
       "      <td>1.066826</td>\n",
       "      <td>73.27</td>\n",
       "    </tr>\n",
       "    <tr>\n",
       "      <th>4</th>\n",
       "      <td>Minnesota</td>\n",
       "      <td>MRO</td>\n",
       "      <td>East North Central</td>\n",
       "      <td>2012-06-19 00:00:00</td>\n",
       "      <td>04:30:00</td>\n",
       "      <td>2012-06-20 00:00:00</td>\n",
       "      <td>23:00:00</td>\n",
       "      <td>severe weather</td>\n",
       "      <td>2550.0</td>\n",
       "      <td>31.994099</td>\n",
       "      <td>33.543330</td>\n",
       "      <td>34.439329</td>\n",
       "      <td>1.071476</td>\n",
       "      <td>73.27</td>\n",
       "    </tr>\n",
       "    <tr>\n",
       "      <th>5</th>\n",
       "      <td>Minnesota</td>\n",
       "      <td>MRO</td>\n",
       "      <td>East North Central</td>\n",
       "      <td>2015-07-18 00:00:00</td>\n",
       "      <td>02:00:00</td>\n",
       "      <td>2015-07-19 00:00:00</td>\n",
       "      <td>07:00:00</td>\n",
       "      <td>severe weather</td>\n",
       "      <td>1740.0</td>\n",
       "      <td>33.982576</td>\n",
       "      <td>36.205850</td>\n",
       "      <td>29.779498</td>\n",
       "      <td>1.092027</td>\n",
       "      <td>73.27</td>\n",
       "    </tr>\n",
       "    <tr>\n",
       "      <th>6</th>\n",
       "      <td>Minnesota</td>\n",
       "      <td>MRO</td>\n",
       "      <td>East North Central</td>\n",
       "      <td>2010-11-13 00:00:00</td>\n",
       "      <td>15:00:00</td>\n",
       "      <td>2010-11-14 00:00:00</td>\n",
       "      <td>22:00:00</td>\n",
       "      <td>severe weather</td>\n",
       "      <td>1860.0</td>\n",
       "      <td>31.192784</td>\n",
       "      <td>33.235842</td>\n",
       "      <td>35.538160</td>\n",
       "      <td>1.066826</td>\n",
       "      <td>73.27</td>\n",
       "    </tr>\n",
       "    <tr>\n",
       "      <th>7</th>\n",
       "      <td>Minnesota</td>\n",
       "      <td>MRO</td>\n",
       "      <td>East North Central</td>\n",
       "      <td>2010-07-17 00:00:00</td>\n",
       "      <td>20:30:00</td>\n",
       "      <td>2010-07-19 00:00:00</td>\n",
       "      <td>22:00:00</td>\n",
       "      <td>severe weather</td>\n",
       "      <td>2970.0</td>\n",
       "      <td>34.314656</td>\n",
       "      <td>32.954501</td>\n",
       "      <td>32.701651</td>\n",
       "      <td>1.066826</td>\n",
       "      <td>73.27</td>\n",
       "    </tr>\n",
       "    <tr>\n",
       "      <th>8</th>\n",
       "      <td>Minnesota</td>\n",
       "      <td>MRO</td>\n",
       "      <td>East North Central</td>\n",
       "      <td>2005-06-08 00:00:00</td>\n",
       "      <td>04:00:00</td>\n",
       "      <td>2005-06-10 00:00:00</td>\n",
       "      <td>22:00:00</td>\n",
       "      <td>severe weather</td>\n",
       "      <td>3960.0</td>\n",
       "      <td>33.586173</td>\n",
       "      <td>34.515286</td>\n",
       "      <td>31.861839</td>\n",
       "      <td>1.090559</td>\n",
       "      <td>73.27</td>\n",
       "    </tr>\n",
       "    <tr>\n",
       "      <th>9</th>\n",
       "      <td>Minnesota</td>\n",
       "      <td>MRO</td>\n",
       "      <td>East North Central</td>\n",
       "      <td>2015-03-16 00:00:00</td>\n",
       "      <td>07:31:00</td>\n",
       "      <td>2015-03-16 00:00:00</td>\n",
       "      <td>10:06:00</td>\n",
       "      <td>intentional attack</td>\n",
       "      <td>155.0</td>\n",
       "      <td>32.936916</td>\n",
       "      <td>34.947243</td>\n",
       "      <td>32.071962</td>\n",
       "      <td>1.092027</td>\n",
       "      <td>73.27</td>\n",
       "    </tr>\n",
       "    <tr>\n",
       "      <th>10</th>\n",
       "      <td>Minnesota</td>\n",
       "      <td>MRO</td>\n",
       "      <td>East North Central</td>\n",
       "      <td>2013-06-21 00:00:00</td>\n",
       "      <td>17:39:00</td>\n",
       "      <td>2013-06-24 00:00:00</td>\n",
       "      <td>06:00:00</td>\n",
       "      <td>severe weather</td>\n",
       "      <td>3621.0</td>\n",
       "      <td>30.754553</td>\n",
       "      <td>34.515140</td>\n",
       "      <td>34.702296</td>\n",
       "      <td>1.084366</td>\n",
       "      <td>73.27</td>\n",
       "    </tr>\n",
       "    <tr>\n",
       "      <th>11</th>\n",
       "      <td>Minnesota</td>\n",
       "      <td>MRO</td>\n",
       "      <td>East North Central</td>\n",
       "      <td>2013-06-21 00:00:00</td>\n",
       "      <td>03:00:00</td>\n",
       "      <td>2013-06-26 00:00:00</td>\n",
       "      <td>12:00:00</td>\n",
       "      <td>severe weather</td>\n",
       "      <td>7740.0</td>\n",
       "      <td>30.754553</td>\n",
       "      <td>34.515140</td>\n",
       "      <td>34.702296</td>\n",
       "      <td>1.084366</td>\n",
       "      <td>73.27</td>\n",
       "    </tr>\n",
       "    <tr>\n",
       "      <th>12</th>\n",
       "      <td>Minnesota</td>\n",
       "      <td>MRO</td>\n",
       "      <td>East North Central</td>\n",
       "      <td>2005-09-21 00:00:00</td>\n",
       "      <td>19:00:00</td>\n",
       "      <td>2005-09-27 00:00:00</td>\n",
       "      <td>23:00:00</td>\n",
       "      <td>severe weather</td>\n",
       "      <td>8880.0</td>\n",
       "      <td>31.076535</td>\n",
       "      <td>34.042257</td>\n",
       "      <td>34.844026</td>\n",
       "      <td>1.090559</td>\n",
       "      <td>73.27</td>\n",
       "    </tr>\n",
       "    <tr>\n",
       "      <th>14</th>\n",
       "      <td>Minnesota</td>\n",
       "      <td>MRO</td>\n",
       "      <td>East North Central</td>\n",
       "      <td>2011-05-11 00:00:00</td>\n",
       "      <td>15:55:00</td>\n",
       "      <td>2011-05-12 00:00:00</td>\n",
       "      <td>13:57:00</td>\n",
       "      <td>intentional attack</td>\n",
       "      <td>1322.0</td>\n",
       "      <td>29.805110</td>\n",
       "      <td>33.648370</td>\n",
       "      <td>36.517827</td>\n",
       "      <td>1.077376</td>\n",
       "      <td>73.27</td>\n",
       "    </tr>\n",
       "    <tr>\n",
       "      <th>15</th>\n",
       "      <td>Minnesota</td>\n",
       "      <td>MRO</td>\n",
       "      <td>East North Central</td>\n",
       "      <td>2014-06-15 00:00:00</td>\n",
       "      <td>00:00:00</td>\n",
       "      <td>2014-06-15 00:00:00</td>\n",
       "      <td>01:00:00</td>\n",
       "      <td>severe weather</td>\n",
       "      <td>60.0</td>\n",
       "      <td>31.454898</td>\n",
       "      <td>34.729039</td>\n",
       "      <td>33.783501</td>\n",
       "      <td>1.089792</td>\n",
       "      <td>73.27</td>\n",
       "    </tr>\n",
       "    <tr>\n",
       "      <th>16</th>\n",
       "      <td>Tennessee</td>\n",
       "      <td>SERC</td>\n",
       "      <td>Central</td>\n",
       "      <td>2015-06-07 00:00:00</td>\n",
       "      <td>13:54:00</td>\n",
       "      <td>2015-06-07 00:00:00</td>\n",
       "      <td>14:13:00</td>\n",
       "      <td>system operability disruption</td>\n",
       "      <td>19.0</td>\n",
       "      <td>41.177865</td>\n",
       "      <td>36.251911</td>\n",
       "      <td>22.570224</td>\n",
       "      <td>0.851798</td>\n",
       "      <td>66.39</td>\n",
       "    </tr>\n",
       "  </tbody>\n",
       "</table>\n",
       "</div>"
      ],
      "text/plain": [
       "   U.S._STATE NERC.REGION      CLIMATE.REGION    OUTAGE.START.DATE  \\\n",
       "1   Minnesota         MRO  East North Central  2011-07-01 00:00:00   \n",
       "2   Minnesota         MRO  East North Central  2014-05-11 00:00:00   \n",
       "3   Minnesota         MRO  East North Central  2010-10-26 00:00:00   \n",
       "4   Minnesota         MRO  East North Central  2012-06-19 00:00:00   \n",
       "5   Minnesota         MRO  East North Central  2015-07-18 00:00:00   \n",
       "6   Minnesota         MRO  East North Central  2010-11-13 00:00:00   \n",
       "7   Minnesota         MRO  East North Central  2010-07-17 00:00:00   \n",
       "8   Minnesota         MRO  East North Central  2005-06-08 00:00:00   \n",
       "9   Minnesota         MRO  East North Central  2015-03-16 00:00:00   \n",
       "10  Minnesota         MRO  East North Central  2013-06-21 00:00:00   \n",
       "11  Minnesota         MRO  East North Central  2013-06-21 00:00:00   \n",
       "12  Minnesota         MRO  East North Central  2005-09-21 00:00:00   \n",
       "14  Minnesota         MRO  East North Central  2011-05-11 00:00:00   \n",
       "15  Minnesota         MRO  East North Central  2014-06-15 00:00:00   \n",
       "16  Tennessee        SERC             Central  2015-06-07 00:00:00   \n",
       "\n",
       "   OUTAGE.START.TIME OUTAGE.RESTORATION.DATE OUTAGE.RESTORATION.TIME  \\\n",
       "1           17:00:00     2011-07-03 00:00:00                20:00:00   \n",
       "2           18:38:00     2014-05-11 00:00:00                18:39:00   \n",
       "3           20:00:00     2010-10-28 00:00:00                22:00:00   \n",
       "4           04:30:00     2012-06-20 00:00:00                23:00:00   \n",
       "5           02:00:00     2015-07-19 00:00:00                07:00:00   \n",
       "6           15:00:00     2010-11-14 00:00:00                22:00:00   \n",
       "7           20:30:00     2010-07-19 00:00:00                22:00:00   \n",
       "8           04:00:00     2005-06-10 00:00:00                22:00:00   \n",
       "9           07:31:00     2015-03-16 00:00:00                10:06:00   \n",
       "10          17:39:00     2013-06-24 00:00:00                06:00:00   \n",
       "11          03:00:00     2013-06-26 00:00:00                12:00:00   \n",
       "12          19:00:00     2005-09-27 00:00:00                23:00:00   \n",
       "14          15:55:00     2011-05-12 00:00:00                13:57:00   \n",
       "15          00:00:00     2014-06-15 00:00:00                01:00:00   \n",
       "16          13:54:00     2015-06-07 00:00:00                14:13:00   \n",
       "\n",
       "                   CAUSE.CATEGORY  OUTAGE.DURATION  RES.PERCEN  COM.PERCEN  \\\n",
       "1                  severe weather           3060.0   35.549073   32.225029   \n",
       "2              intentional attack              1.0   30.032487   34.210389   \n",
       "3                  severe weather           3000.0   28.097672   34.501015   \n",
       "4                  severe weather           2550.0   31.994099   33.543330   \n",
       "5                  severe weather           1740.0   33.982576   36.205850   \n",
       "6                  severe weather           1860.0   31.192784   33.235842   \n",
       "7                  severe weather           2970.0   34.314656   32.954501   \n",
       "8                  severe weather           3960.0   33.586173   34.515286   \n",
       "9              intentional attack            155.0   32.936916   34.947243   \n",
       "10                 severe weather           3621.0   30.754553   34.515140   \n",
       "11                 severe weather           7740.0   30.754553   34.515140   \n",
       "12                 severe weather           8880.0   31.076535   34.042257   \n",
       "14             intentional attack           1322.0   29.805110   33.648370   \n",
       "15                 severe weather             60.0   31.454898   34.729039   \n",
       "16  system operability disruption             19.0   41.177865   36.251911   \n",
       "\n",
       "    IND.PERCEN PC.REALGSP.REL POPPCT_URBAN  \n",
       "1    32.202431       1.077376        73.27  \n",
       "2    35.727564       1.089792        73.27  \n",
       "3    37.365983       1.066826        73.27  \n",
       "4    34.439329       1.071476        73.27  \n",
       "5    29.779498       1.092027        73.27  \n",
       "6    35.538160       1.066826        73.27  \n",
       "7    32.701651       1.066826        73.27  \n",
       "8    31.861839       1.090559        73.27  \n",
       "9    32.071962       1.092027        73.27  \n",
       "10   34.702296       1.084366        73.27  \n",
       "11   34.702296       1.084366        73.27  \n",
       "12   34.844026       1.090559        73.27  \n",
       "14   36.517827       1.077376        73.27  \n",
       "15   33.783501       1.089792        73.27  \n",
       "16   22.570224       0.851798        66.39  "
      ]
     },
     "metadata": {},
     "output_type": "display_data"
    }
   ],
   "source": [
    "# imputing 'PERCEN' columns using the \n",
    "df['RES.PERCEN'] = df['RES.PERCEN'].fillna(df['RES.PERCEN'].mean())\n",
    "df['COM.PERCEN'] = df['COM.PERCEN'].fillna(df['COM.PERCEN'].mean())\n",
    "df['IND.PERCEN'] = df['IND.PERCEN'].fillna(df['IND.PERCEN'].mean())\n",
    "display(df.head(15))"
   ]
  },
  {
   "cell_type": "code",
   "execution_count": 136,
   "metadata": {},
   "outputs": [
    {
     "data": {
      "text/plain": [
       "np.int64(0)"
      ]
     },
     "execution_count": 136,
     "metadata": {},
     "output_type": "execute_result"
    }
   ],
   "source": [
    "df['PC.REALGSP.REL'].isna().sum()\n",
    "# no null values"
   ]
  },
  {
   "cell_type": "code",
   "execution_count": 137,
   "metadata": {},
   "outputs": [
    {
     "data": {
      "text/plain": [
       "np.int64(0)"
      ]
     },
     "execution_count": 137,
     "metadata": {},
     "output_type": "execute_result"
    }
   ],
   "source": [
    "df['POPPCT_URBAN'].isna().sum()\n",
    "# no null values again"
   ]
  },
  {
   "cell_type": "code",
   "execution_count": 138,
   "metadata": {},
   "outputs": [],
   "source": [
    "# converting to pd.Timestamp\n",
    "outage_start_date_str = pd.to_datetime(df['OUTAGE.START.DATE']).astype(str)\n",
    "outage_start_time_str = pd.to_datetime(df['OUTAGE.START.TIME'], format='%H:%M:%S').dt.time.astype(str)\n",
    "outage_start = pd.to_datetime(outage_start_date_str + ' ' + outage_start_time_str)\n",
    "\n",
    "outage_restoration_date_str = pd.to_datetime(df['OUTAGE.RESTORATION.DATE']).astype(str)\n",
    "outage_restoration_time_str = pd.to_datetime(df['OUTAGE.RESTORATION.TIME'], format='%H:%M:%S').dt.time.astype(str)\n",
    "outage_restoration = pd.to_datetime(outage_restoration_date_str + ' ' + outage_restoration_time_str)\n",
    "\n",
    "df['OUTAGE.START'] = outage_start\n",
    "df['OUTAGE.RESTORATION'] = outage_restoration\n",
    "df = df.drop(columns=['OUTAGE.START.DATE', 'OUTAGE.START.TIME', 'OUTAGE.RESTORATION.DATE', 'OUTAGE.RESTORATION.TIME'])"
   ]
  },
  {
   "cell_type": "code",
   "execution_count": 139,
   "metadata": {},
   "outputs": [
    {
     "data": {
      "text/html": [
       "<div>\n",
       "<style scoped>\n",
       "    .dataframe tbody tr th:only-of-type {\n",
       "        vertical-align: middle;\n",
       "    }\n",
       "\n",
       "    .dataframe tbody tr th {\n",
       "        vertical-align: top;\n",
       "    }\n",
       "\n",
       "    .dataframe thead th {\n",
       "        text-align: right;\n",
       "    }\n",
       "</style>\n",
       "<table border=\"1\" class=\"dataframe\">\n",
       "  <thead>\n",
       "    <tr style=\"text-align: right;\">\n",
       "      <th></th>\n",
       "      <th>U.S._STATE</th>\n",
       "      <th>NERC.REGION</th>\n",
       "      <th>CLIMATE.REGION</th>\n",
       "      <th>CAUSE.CATEGORY</th>\n",
       "      <th>OUTAGE.DURATION</th>\n",
       "      <th>RES.PERCEN</th>\n",
       "      <th>COM.PERCEN</th>\n",
       "      <th>IND.PERCEN</th>\n",
       "      <th>PC.REALGSP.REL</th>\n",
       "      <th>POPPCT_URBAN</th>\n",
       "      <th>OUTAGE.START</th>\n",
       "      <th>OUTAGE.RESTORATION</th>\n",
       "    </tr>\n",
       "  </thead>\n",
       "  <tbody>\n",
       "    <tr>\n",
       "      <th>1</th>\n",
       "      <td>Minnesota</td>\n",
       "      <td>MRO</td>\n",
       "      <td>East North Central</td>\n",
       "      <td>severe weather</td>\n",
       "      <td>3060.0</td>\n",
       "      <td>35.549073</td>\n",
       "      <td>32.225029</td>\n",
       "      <td>32.202431</td>\n",
       "      <td>1.077376</td>\n",
       "      <td>73.27</td>\n",
       "      <td>2011-07-01 17:00:00</td>\n",
       "      <td>2011-07-03 20:00:00</td>\n",
       "    </tr>\n",
       "    <tr>\n",
       "      <th>2</th>\n",
       "      <td>Minnesota</td>\n",
       "      <td>MRO</td>\n",
       "      <td>East North Central</td>\n",
       "      <td>intentional attack</td>\n",
       "      <td>1.0</td>\n",
       "      <td>30.032487</td>\n",
       "      <td>34.210389</td>\n",
       "      <td>35.727564</td>\n",
       "      <td>1.089792</td>\n",
       "      <td>73.27</td>\n",
       "      <td>2014-05-11 18:38:00</td>\n",
       "      <td>2014-05-11 18:39:00</td>\n",
       "    </tr>\n",
       "    <tr>\n",
       "      <th>3</th>\n",
       "      <td>Minnesota</td>\n",
       "      <td>MRO</td>\n",
       "      <td>East North Central</td>\n",
       "      <td>severe weather</td>\n",
       "      <td>3000.0</td>\n",
       "      <td>28.097672</td>\n",
       "      <td>34.501015</td>\n",
       "      <td>37.365983</td>\n",
       "      <td>1.066826</td>\n",
       "      <td>73.27</td>\n",
       "      <td>2010-10-26 20:00:00</td>\n",
       "      <td>2010-10-28 22:00:00</td>\n",
       "    </tr>\n",
       "    <tr>\n",
       "      <th>4</th>\n",
       "      <td>Minnesota</td>\n",
       "      <td>MRO</td>\n",
       "      <td>East North Central</td>\n",
       "      <td>severe weather</td>\n",
       "      <td>2550.0</td>\n",
       "      <td>31.994099</td>\n",
       "      <td>33.543330</td>\n",
       "      <td>34.439329</td>\n",
       "      <td>1.071476</td>\n",
       "      <td>73.27</td>\n",
       "      <td>2012-06-19 04:30:00</td>\n",
       "      <td>2012-06-20 23:00:00</td>\n",
       "    </tr>\n",
       "    <tr>\n",
       "      <th>5</th>\n",
       "      <td>Minnesota</td>\n",
       "      <td>MRO</td>\n",
       "      <td>East North Central</td>\n",
       "      <td>severe weather</td>\n",
       "      <td>1740.0</td>\n",
       "      <td>33.982576</td>\n",
       "      <td>36.205850</td>\n",
       "      <td>29.779498</td>\n",
       "      <td>1.092027</td>\n",
       "      <td>73.27</td>\n",
       "      <td>2015-07-18 02:00:00</td>\n",
       "      <td>2015-07-19 07:00:00</td>\n",
       "    </tr>\n",
       "  </tbody>\n",
       "</table>\n",
       "</div>"
      ],
      "text/plain": [
       "  U.S._STATE NERC.REGION      CLIMATE.REGION      CAUSE.CATEGORY  \\\n",
       "1  Minnesota         MRO  East North Central      severe weather   \n",
       "2  Minnesota         MRO  East North Central  intentional attack   \n",
       "3  Minnesota         MRO  East North Central      severe weather   \n",
       "4  Minnesota         MRO  East North Central      severe weather   \n",
       "5  Minnesota         MRO  East North Central      severe weather   \n",
       "\n",
       "   OUTAGE.DURATION  RES.PERCEN  COM.PERCEN  IND.PERCEN PC.REALGSP.REL  \\\n",
       "1           3060.0   35.549073   32.225029   32.202431       1.077376   \n",
       "2              1.0   30.032487   34.210389   35.727564       1.089792   \n",
       "3           3000.0   28.097672   34.501015   37.365983       1.066826   \n",
       "4           2550.0   31.994099   33.543330   34.439329       1.071476   \n",
       "5           1740.0   33.982576   36.205850   29.779498       1.092027   \n",
       "\n",
       "  POPPCT_URBAN        OUTAGE.START  OUTAGE.RESTORATION  \n",
       "1        73.27 2011-07-01 17:00:00 2011-07-03 20:00:00  \n",
       "2        73.27 2014-05-11 18:38:00 2014-05-11 18:39:00  \n",
       "3        73.27 2010-10-26 20:00:00 2010-10-28 22:00:00  \n",
       "4        73.27 2012-06-19 04:30:00 2012-06-20 23:00:00  \n",
       "5        73.27 2015-07-18 02:00:00 2015-07-19 07:00:00  "
      ]
     },
     "metadata": {},
     "output_type": "display_data"
    }
   ],
   "source": [
    "display(df.head()) # head of the cleaned dataframe"
   ]
  },
  {
   "cell_type": "code",
   "execution_count": 140,
   "metadata": {},
   "outputs": [],
   "source": [
    "# I don't know what to do for no climate region for Hawaii and the NaN PERCEN values."
   ]
  },
  {
   "cell_type": "markdown",
   "metadata": {},
   "source": [
    "### Univariate Analysis"
   ]
  },
  {
   "cell_type": "code",
   "execution_count": 191,
   "metadata": {},
   "outputs": [
    {
     "data": {
      "application/vnd.plotly.v1+json": {
       "config": {
        "plotlyServerURL": "https://plot.ly"
       },
       "data": [
        {
         "domain": {
          "x": [
           0,
           1
          ],
          "y": [
           0,
           1
          ]
         },
         "hovertemplate": "CAUSE.CATEGORY=%{label}<br>count=%{value}<extra></extra>",
         "labels": [
          "severe weather",
          "intentional attack",
          "system operability disruption",
          "public appeal",
          "equipment failure",
          "islanding",
          "fuel supply emergency"
         ],
         "legendgroup": "",
         "name": "",
         "showlegend": true,
         "type": "pie",
         "values": [
          741,
          332,
          120,
          69,
          54,
          44,
          38
         ]
        }
       ],
       "layout": {
        "legend": {
         "tracegroupgap": 0
        },
        "margin": {
         "t": 60
        },
        "template": {
         "data": {
          "bar": [
           {
            "error_x": {
             "color": "#2a3f5f"
            },
            "error_y": {
             "color": "#2a3f5f"
            },
            "marker": {
             "line": {
              "color": "#E5ECF6",
              "width": 0.5
             },
             "pattern": {
              "fillmode": "overlay",
              "size": 10,
              "solidity": 0.2
             }
            },
            "type": "bar"
           }
          ],
          "barpolar": [
           {
            "marker": {
             "line": {
              "color": "#E5ECF6",
              "width": 0.5
             },
             "pattern": {
              "fillmode": "overlay",
              "size": 10,
              "solidity": 0.2
             }
            },
            "type": "barpolar"
           }
          ],
          "carpet": [
           {
            "aaxis": {
             "endlinecolor": "#2a3f5f",
             "gridcolor": "white",
             "linecolor": "white",
             "minorgridcolor": "white",
             "startlinecolor": "#2a3f5f"
            },
            "baxis": {
             "endlinecolor": "#2a3f5f",
             "gridcolor": "white",
             "linecolor": "white",
             "minorgridcolor": "white",
             "startlinecolor": "#2a3f5f"
            },
            "type": "carpet"
           }
          ],
          "choropleth": [
           {
            "colorbar": {
             "outlinewidth": 0,
             "ticks": ""
            },
            "type": "choropleth"
           }
          ],
          "contour": [
           {
            "colorbar": {
             "outlinewidth": 0,
             "ticks": ""
            },
            "colorscale": [
             [
              0,
              "#0d0887"
             ],
             [
              0.1111111111111111,
              "#46039f"
             ],
             [
              0.2222222222222222,
              "#7201a8"
             ],
             [
              0.3333333333333333,
              "#9c179e"
             ],
             [
              0.4444444444444444,
              "#bd3786"
             ],
             [
              0.5555555555555556,
              "#d8576b"
             ],
             [
              0.6666666666666666,
              "#ed7953"
             ],
             [
              0.7777777777777778,
              "#fb9f3a"
             ],
             [
              0.8888888888888888,
              "#fdca26"
             ],
             [
              1,
              "#f0f921"
             ]
            ],
            "type": "contour"
           }
          ],
          "contourcarpet": [
           {
            "colorbar": {
             "outlinewidth": 0,
             "ticks": ""
            },
            "type": "contourcarpet"
           }
          ],
          "heatmap": [
           {
            "colorbar": {
             "outlinewidth": 0,
             "ticks": ""
            },
            "colorscale": [
             [
              0,
              "#0d0887"
             ],
             [
              0.1111111111111111,
              "#46039f"
             ],
             [
              0.2222222222222222,
              "#7201a8"
             ],
             [
              0.3333333333333333,
              "#9c179e"
             ],
             [
              0.4444444444444444,
              "#bd3786"
             ],
             [
              0.5555555555555556,
              "#d8576b"
             ],
             [
              0.6666666666666666,
              "#ed7953"
             ],
             [
              0.7777777777777778,
              "#fb9f3a"
             ],
             [
              0.8888888888888888,
              "#fdca26"
             ],
             [
              1,
              "#f0f921"
             ]
            ],
            "type": "heatmap"
           }
          ],
          "heatmapgl": [
           {
            "colorbar": {
             "outlinewidth": 0,
             "ticks": ""
            },
            "colorscale": [
             [
              0,
              "#0d0887"
             ],
             [
              0.1111111111111111,
              "#46039f"
             ],
             [
              0.2222222222222222,
              "#7201a8"
             ],
             [
              0.3333333333333333,
              "#9c179e"
             ],
             [
              0.4444444444444444,
              "#bd3786"
             ],
             [
              0.5555555555555556,
              "#d8576b"
             ],
             [
              0.6666666666666666,
              "#ed7953"
             ],
             [
              0.7777777777777778,
              "#fb9f3a"
             ],
             [
              0.8888888888888888,
              "#fdca26"
             ],
             [
              1,
              "#f0f921"
             ]
            ],
            "type": "heatmapgl"
           }
          ],
          "histogram": [
           {
            "marker": {
             "pattern": {
              "fillmode": "overlay",
              "size": 10,
              "solidity": 0.2
             }
            },
            "type": "histogram"
           }
          ],
          "histogram2d": [
           {
            "colorbar": {
             "outlinewidth": 0,
             "ticks": ""
            },
            "colorscale": [
             [
              0,
              "#0d0887"
             ],
             [
              0.1111111111111111,
              "#46039f"
             ],
             [
              0.2222222222222222,
              "#7201a8"
             ],
             [
              0.3333333333333333,
              "#9c179e"
             ],
             [
              0.4444444444444444,
              "#bd3786"
             ],
             [
              0.5555555555555556,
              "#d8576b"
             ],
             [
              0.6666666666666666,
              "#ed7953"
             ],
             [
              0.7777777777777778,
              "#fb9f3a"
             ],
             [
              0.8888888888888888,
              "#fdca26"
             ],
             [
              1,
              "#f0f921"
             ]
            ],
            "type": "histogram2d"
           }
          ],
          "histogram2dcontour": [
           {
            "colorbar": {
             "outlinewidth": 0,
             "ticks": ""
            },
            "colorscale": [
             [
              0,
              "#0d0887"
             ],
             [
              0.1111111111111111,
              "#46039f"
             ],
             [
              0.2222222222222222,
              "#7201a8"
             ],
             [
              0.3333333333333333,
              "#9c179e"
             ],
             [
              0.4444444444444444,
              "#bd3786"
             ],
             [
              0.5555555555555556,
              "#d8576b"
             ],
             [
              0.6666666666666666,
              "#ed7953"
             ],
             [
              0.7777777777777778,
              "#fb9f3a"
             ],
             [
              0.8888888888888888,
              "#fdca26"
             ],
             [
              1,
              "#f0f921"
             ]
            ],
            "type": "histogram2dcontour"
           }
          ],
          "mesh3d": [
           {
            "colorbar": {
             "outlinewidth": 0,
             "ticks": ""
            },
            "type": "mesh3d"
           }
          ],
          "parcoords": [
           {
            "line": {
             "colorbar": {
              "outlinewidth": 0,
              "ticks": ""
             }
            },
            "type": "parcoords"
           }
          ],
          "pie": [
           {
            "automargin": true,
            "type": "pie"
           }
          ],
          "scatter": [
           {
            "fillpattern": {
             "fillmode": "overlay",
             "size": 10,
             "solidity": 0.2
            },
            "type": "scatter"
           }
          ],
          "scatter3d": [
           {
            "line": {
             "colorbar": {
              "outlinewidth": 0,
              "ticks": ""
             }
            },
            "marker": {
             "colorbar": {
              "outlinewidth": 0,
              "ticks": ""
             }
            },
            "type": "scatter3d"
           }
          ],
          "scattercarpet": [
           {
            "marker": {
             "colorbar": {
              "outlinewidth": 0,
              "ticks": ""
             }
            },
            "type": "scattercarpet"
           }
          ],
          "scattergeo": [
           {
            "marker": {
             "colorbar": {
              "outlinewidth": 0,
              "ticks": ""
             }
            },
            "type": "scattergeo"
           }
          ],
          "scattergl": [
           {
            "marker": {
             "colorbar": {
              "outlinewidth": 0,
              "ticks": ""
             }
            },
            "type": "scattergl"
           }
          ],
          "scattermapbox": [
           {
            "marker": {
             "colorbar": {
              "outlinewidth": 0,
              "ticks": ""
             }
            },
            "type": "scattermapbox"
           }
          ],
          "scatterpolar": [
           {
            "marker": {
             "colorbar": {
              "outlinewidth": 0,
              "ticks": ""
             }
            },
            "type": "scatterpolar"
           }
          ],
          "scatterpolargl": [
           {
            "marker": {
             "colorbar": {
              "outlinewidth": 0,
              "ticks": ""
             }
            },
            "type": "scatterpolargl"
           }
          ],
          "scatterternary": [
           {
            "marker": {
             "colorbar": {
              "outlinewidth": 0,
              "ticks": ""
             }
            },
            "type": "scatterternary"
           }
          ],
          "surface": [
           {
            "colorbar": {
             "outlinewidth": 0,
             "ticks": ""
            },
            "colorscale": [
             [
              0,
              "#0d0887"
             ],
             [
              0.1111111111111111,
              "#46039f"
             ],
             [
              0.2222222222222222,
              "#7201a8"
             ],
             [
              0.3333333333333333,
              "#9c179e"
             ],
             [
              0.4444444444444444,
              "#bd3786"
             ],
             [
              0.5555555555555556,
              "#d8576b"
             ],
             [
              0.6666666666666666,
              "#ed7953"
             ],
             [
              0.7777777777777778,
              "#fb9f3a"
             ],
             [
              0.8888888888888888,
              "#fdca26"
             ],
             [
              1,
              "#f0f921"
             ]
            ],
            "type": "surface"
           }
          ],
          "table": [
           {
            "cells": {
             "fill": {
              "color": "#EBF0F8"
             },
             "line": {
              "color": "white"
             }
            },
            "header": {
             "fill": {
              "color": "#C8D4E3"
             },
             "line": {
              "color": "white"
             }
            },
            "type": "table"
           }
          ]
         },
         "layout": {
          "annotationdefaults": {
           "arrowcolor": "#2a3f5f",
           "arrowhead": 0,
           "arrowwidth": 1
          },
          "autotypenumbers": "strict",
          "coloraxis": {
           "colorbar": {
            "outlinewidth": 0,
            "ticks": ""
           }
          },
          "colorscale": {
           "diverging": [
            [
             0,
             "#8e0152"
            ],
            [
             0.1,
             "#c51b7d"
            ],
            [
             0.2,
             "#de77ae"
            ],
            [
             0.3,
             "#f1b6da"
            ],
            [
             0.4,
             "#fde0ef"
            ],
            [
             0.5,
             "#f7f7f7"
            ],
            [
             0.6,
             "#e6f5d0"
            ],
            [
             0.7,
             "#b8e186"
            ],
            [
             0.8,
             "#7fbc41"
            ],
            [
             0.9,
             "#4d9221"
            ],
            [
             1,
             "#276419"
            ]
           ],
           "sequential": [
            [
             0,
             "#0d0887"
            ],
            [
             0.1111111111111111,
             "#46039f"
            ],
            [
             0.2222222222222222,
             "#7201a8"
            ],
            [
             0.3333333333333333,
             "#9c179e"
            ],
            [
             0.4444444444444444,
             "#bd3786"
            ],
            [
             0.5555555555555556,
             "#d8576b"
            ],
            [
             0.6666666666666666,
             "#ed7953"
            ],
            [
             0.7777777777777778,
             "#fb9f3a"
            ],
            [
             0.8888888888888888,
             "#fdca26"
            ],
            [
             1,
             "#f0f921"
            ]
           ],
           "sequentialminus": [
            [
             0,
             "#0d0887"
            ],
            [
             0.1111111111111111,
             "#46039f"
            ],
            [
             0.2222222222222222,
             "#7201a8"
            ],
            [
             0.3333333333333333,
             "#9c179e"
            ],
            [
             0.4444444444444444,
             "#bd3786"
            ],
            [
             0.5555555555555556,
             "#d8576b"
            ],
            [
             0.6666666666666666,
             "#ed7953"
            ],
            [
             0.7777777777777778,
             "#fb9f3a"
            ],
            [
             0.8888888888888888,
             "#fdca26"
            ],
            [
             1,
             "#f0f921"
            ]
           ]
          },
          "colorway": [
           "#636efa",
           "#EF553B",
           "#00cc96",
           "#ab63fa",
           "#FFA15A",
           "#19d3f3",
           "#FF6692",
           "#B6E880",
           "#FF97FF",
           "#FECB52"
          ],
          "font": {
           "color": "#2a3f5f"
          },
          "geo": {
           "bgcolor": "white",
           "lakecolor": "white",
           "landcolor": "#E5ECF6",
           "showlakes": true,
           "showland": true,
           "subunitcolor": "white"
          },
          "hoverlabel": {
           "align": "left"
          },
          "hovermode": "closest",
          "mapbox": {
           "style": "light"
          },
          "paper_bgcolor": "white",
          "plot_bgcolor": "#E5ECF6",
          "polar": {
           "angularaxis": {
            "gridcolor": "white",
            "linecolor": "white",
            "ticks": ""
           },
           "bgcolor": "#E5ECF6",
           "radialaxis": {
            "gridcolor": "white",
            "linecolor": "white",
            "ticks": ""
           }
          },
          "scene": {
           "xaxis": {
            "backgroundcolor": "#E5ECF6",
            "gridcolor": "white",
            "gridwidth": 2,
            "linecolor": "white",
            "showbackground": true,
            "ticks": "",
            "zerolinecolor": "white"
           },
           "yaxis": {
            "backgroundcolor": "#E5ECF6",
            "gridcolor": "white",
            "gridwidth": 2,
            "linecolor": "white",
            "showbackground": true,
            "ticks": "",
            "zerolinecolor": "white"
           },
           "zaxis": {
            "backgroundcolor": "#E5ECF6",
            "gridcolor": "white",
            "gridwidth": 2,
            "linecolor": "white",
            "showbackground": true,
            "ticks": "",
            "zerolinecolor": "white"
           }
          },
          "shapedefaults": {
           "line": {
            "color": "#2a3f5f"
           }
          },
          "ternary": {
           "aaxis": {
            "gridcolor": "white",
            "linecolor": "white",
            "ticks": ""
           },
           "baxis": {
            "gridcolor": "white",
            "linecolor": "white",
            "ticks": ""
           },
           "bgcolor": "#E5ECF6",
           "caxis": {
            "gridcolor": "white",
            "linecolor": "white",
            "ticks": ""
           }
          },
          "title": {
           "x": 0.05
          },
          "xaxis": {
           "automargin": true,
           "gridcolor": "white",
           "linecolor": "white",
           "ticks": "",
           "title": {
            "standoff": 15
           },
           "zerolinecolor": "white",
           "zerolinewidth": 2
          },
          "yaxis": {
           "automargin": true,
           "gridcolor": "white",
           "linecolor": "white",
           "ticks": "",
           "title": {
            "standoff": 15
           },
           "zerolinecolor": "white",
           "zerolinewidth": 2
          }
         }
        }
       }
      }
     },
     "metadata": {},
     "output_type": "display_data"
    }
   ],
   "source": [
    "cause_counts = pd.DataFrame(df['CAUSE.CATEGORY'].value_counts().reset_index())\n",
    "pie_fig = px.pie(cause_counts, values='count', names='CAUSE.CATEGORY')\n",
    "pie_fig.show()\n",
    "# This plot shows that the most common cause of power outages is severe weather, and the least common is fuel supply emergency\n",
    "\n",
    "# -- Exporting plotly figure as HTML --\n",
    "pie_fig.write_html('assets/pie-chart.html', include_plotlyjs='cdn')\n"
   ]
  },
  {
   "cell_type": "code",
   "execution_count": 202,
   "metadata": {},
   "outputs": [
    {
     "data": {
      "application/vnd.plotly.v1+json": {
       "config": {
        "plotlyServerURL": "https://plot.ly"
       },
       "data": [
        {
         "alignmentgroup": "True",
         "bingroup": "x",
         "hovertemplate": "State=%{x}<br>count=%{y}<extra></extra>",
         "legendgroup": "",
         "marker": {
          "color": "#636efa",
          "pattern": {
           "shape": ""
          }
         },
         "name": "",
         "offsetgroup": "",
         "orientation": "v",
         "showlegend": false,
         "type": "histogram",
         "x": [
          "Minnesota",
          "Minnesota",
          "Minnesota",
          "Minnesota",
          "Minnesota",
          "Minnesota",
          "Minnesota",
          "Minnesota",
          "Minnesota",
          "Minnesota",
          "Minnesota",
          "Minnesota",
          "Minnesota",
          "Minnesota",
          "Tennessee",
          "Tennessee",
          "Tennessee",
          "Tennessee",
          "Tennessee",
          "Tennessee",
          "Tennessee",
          "Tennessee",
          "Tennessee",
          "Tennessee",
          "Tennessee",
          "Tennessee",
          "Tennessee",
          "Tennessee",
          "Tennessee",
          "Tennessee",
          "Tennessee",
          "Tennessee",
          "Tennessee",
          "Tennessee",
          "Tennessee",
          "Tennessee",
          "Tennessee",
          "Tennessee",
          "Tennessee",
          "Tennessee",
          "Tennessee",
          "Tennessee",
          "Tennessee",
          "Wisconsin",
          "Wisconsin",
          "Wisconsin",
          "Wisconsin",
          "Wisconsin",
          "Wisconsin",
          "Wisconsin",
          "Wisconsin",
          "Wisconsin",
          "Wisconsin",
          "Wisconsin",
          "Wisconsin",
          "Wisconsin",
          "Wisconsin",
          "Wisconsin",
          "Wisconsin",
          "Wisconsin",
          "Wisconsin",
          "Wisconsin",
          "West Virginia",
          "West Virginia",
          "West Virginia",
          "West Virginia",
          "Michigan",
          "Michigan",
          "Michigan",
          "Michigan",
          "Michigan",
          "Michigan",
          "Michigan",
          "Michigan",
          "Michigan",
          "Michigan",
          "Michigan",
          "Michigan",
          "Michigan",
          "Michigan",
          "Michigan",
          "Michigan",
          "Michigan",
          "Michigan",
          "Michigan",
          "Michigan",
          "Michigan",
          "Michigan",
          "Michigan",
          "Michigan",
          "Michigan",
          "Michigan",
          "Michigan",
          "Michigan",
          "Michigan",
          "Michigan",
          "Michigan",
          "Michigan",
          "Michigan",
          "Michigan",
          "Michigan",
          "Michigan",
          "Michigan",
          "Michigan",
          "Michigan",
          "Michigan",
          "Michigan",
          "Michigan",
          "Michigan",
          "Michigan",
          "Michigan",
          "Michigan",
          "Michigan",
          "Michigan",
          "Michigan",
          "Michigan",
          "Michigan",
          "Michigan",
          "Michigan",
          "Michigan",
          "Michigan",
          "Michigan",
          "Michigan",
          "Michigan",
          "Michigan",
          "Michigan",
          "Michigan",
          "Michigan",
          "Michigan",
          "Michigan",
          "Michigan",
          "Michigan",
          "Michigan",
          "Michigan",
          "Michigan",
          "Michigan",
          "Michigan",
          "Michigan",
          "Michigan",
          "Michigan",
          "Michigan",
          "Michigan",
          "Michigan",
          "Michigan",
          "Michigan",
          "Michigan",
          "Michigan",
          "Michigan",
          "Michigan",
          "Michigan",
          "Michigan",
          "Michigan",
          "Michigan",
          "Michigan",
          "Michigan",
          "Michigan",
          "Michigan",
          "Michigan",
          "Michigan",
          "Michigan",
          "Michigan",
          "Texas",
          "Texas",
          "Texas",
          "Texas",
          "Texas",
          "Texas",
          "Texas",
          "Texas",
          "Texas",
          "Texas",
          "Texas",
          "Texas",
          "Texas",
          "Texas",
          "Texas",
          "Texas",
          "Texas",
          "Texas",
          "Texas",
          "Texas",
          "Texas",
          "Texas",
          "Texas",
          "Texas",
          "Texas",
          "Texas",
          "Texas",
          "Texas",
          "Texas",
          "Texas",
          "Texas",
          "Texas",
          "Texas",
          "Texas",
          "Texas",
          "Texas",
          "Texas",
          "Texas",
          "Texas",
          "Texas",
          "Texas",
          "Texas",
          "Texas",
          "Texas",
          "Texas",
          "Texas",
          "Texas",
          "Texas",
          "Texas",
          "Texas",
          "Texas",
          "Texas",
          "Texas",
          "Texas",
          "Texas",
          "Texas",
          "Texas",
          "Texas",
          "Texas",
          "Texas",
          "Texas",
          "Texas",
          "Texas",
          "Texas",
          "Texas",
          "Texas",
          "Texas",
          "Texas",
          "Texas",
          "Texas",
          "Texas",
          "Texas",
          "Texas",
          "Texas",
          "Texas",
          "Texas",
          "Texas",
          "Texas",
          "Texas",
          "Texas",
          "Texas",
          "Texas",
          "Texas",
          "Texas",
          "Texas",
          "Texas",
          "Texas",
          "Texas",
          "Texas",
          "Texas",
          "Texas",
          "Texas",
          "Texas",
          "Texas",
          "Texas",
          "Texas",
          "Texas",
          "Texas",
          "Texas",
          "Texas",
          "Texas",
          "Texas",
          "Texas",
          "Texas",
          "Texas",
          "Texas",
          "Texas",
          "Texas",
          "Texas",
          "Texas",
          "Texas",
          "Texas",
          "Texas",
          "Texas",
          "Texas",
          "Texas",
          "Texas",
          "Texas",
          "Texas",
          "Texas",
          "Texas",
          "Indiana",
          "Indiana",
          "Indiana",
          "Indiana",
          "Indiana",
          "Indiana",
          "Indiana",
          "Indiana",
          "Indiana",
          "Indiana",
          "Indiana",
          "Indiana",
          "Indiana",
          "Indiana",
          "Indiana",
          "Indiana",
          "Indiana",
          "Indiana",
          "Indiana",
          "Indiana",
          "Indiana",
          "Indiana",
          "Indiana",
          "Indiana",
          "Indiana",
          "Indiana",
          "Indiana",
          "Indiana",
          "Indiana",
          "Indiana",
          "Indiana",
          "Indiana",
          "Indiana",
          "Indiana",
          "Indiana",
          "Indiana",
          "Indiana",
          "Indiana",
          "Indiana",
          "Alabama",
          "Alabama",
          "Alabama",
          "Alabama",
          "Alabama",
          "Mississippi",
          "Mississippi",
          "Mississippi",
          "Mississippi",
          "Illinois",
          "Illinois",
          "Illinois",
          "Illinois",
          "Illinois",
          "Illinois",
          "Illinois",
          "Illinois",
          "Illinois",
          "Illinois",
          "Illinois",
          "Illinois",
          "Illinois",
          "Illinois",
          "Illinois",
          "Illinois",
          "Illinois",
          "Illinois",
          "Illinois",
          "Illinois",
          "Illinois",
          "Illinois",
          "Illinois",
          "Illinois",
          "Illinois",
          "Illinois",
          "Illinois",
          "Illinois",
          "Illinois",
          "Illinois",
          "Illinois",
          "Illinois",
          "Illinois",
          "Illinois",
          "Illinois",
          "Illinois",
          "Illinois",
          "Illinois",
          "Illinois",
          "Illinois",
          "Illinois",
          "Illinois",
          "Illinois",
          "Washington",
          "Washington",
          "Washington",
          "Washington",
          "Washington",
          "Washington",
          "Washington",
          "Washington",
          "Washington",
          "Washington",
          "Washington",
          "Washington",
          "Washington",
          "Washington",
          "Washington",
          "Washington",
          "Washington",
          "Washington",
          "Washington",
          "Washington",
          "Washington",
          "Washington",
          "Washington",
          "Washington",
          "Washington",
          "Washington",
          "Washington",
          "Washington",
          "Washington",
          "Washington",
          "Washington",
          "Washington",
          "Washington",
          "Washington",
          "Washington",
          "Washington",
          "Washington",
          "Washington",
          "Washington",
          "Washington",
          "Washington",
          "Washington",
          "Washington",
          "Washington",
          "Washington",
          "Washington",
          "Washington",
          "Washington",
          "Washington",
          "Washington",
          "Washington",
          "Washington",
          "Washington",
          "Washington",
          "Washington",
          "Washington",
          "Washington",
          "Washington",
          "Washington",
          "Washington",
          "Washington",
          "Washington",
          "Washington",
          "Washington",
          "Washington",
          "Washington",
          "Washington",
          "Washington",
          "Washington",
          "Washington",
          "Washington",
          "Washington",
          "Washington",
          "Arizona",
          "Arizona",
          "Arizona",
          "Arizona",
          "Arizona",
          "Arizona",
          "Arizona",
          "Arizona",
          "Arizona",
          "Arizona",
          "Arizona",
          "Arizona",
          "Arizona",
          "Arizona",
          "Arizona",
          "Arizona",
          "Arizona",
          "Arizona",
          "Arizona",
          "Arizona",
          "Arizona",
          "Arizona",
          "Arizona",
          "Arizona",
          "Arizona",
          "Maryland",
          "Maryland",
          "Maryland",
          "Maryland",
          "Maryland",
          "Maryland",
          "Maryland",
          "Maryland",
          "Maryland",
          "Maryland",
          "Maryland",
          "Maryland",
          "Maryland",
          "Maryland",
          "Maryland",
          "Maryland",
          "Maryland",
          "Maryland",
          "Maryland",
          "Maryland",
          "Maryland",
          "Maryland",
          "Maryland",
          "Maryland",
          "Maryland",
          "Maryland",
          "Maryland",
          "Maryland",
          "Maryland",
          "Maryland",
          "Maryland",
          "Maryland",
          "Maryland",
          "Maryland",
          "Maryland",
          "Maryland",
          "Maryland",
          "Maryland",
          "Maryland",
          "Maryland",
          "Maryland",
          "Maryland",
          "Maryland",
          "Maryland",
          "Maryland",
          "Maryland",
          "Maryland",
          "Maryland",
          "Maryland",
          "Maryland",
          "Maryland",
          "Maryland",
          "Pennsylvania",
          "Pennsylvania",
          "Pennsylvania",
          "Pennsylvania",
          "Pennsylvania",
          "Pennsylvania",
          "Pennsylvania",
          "Pennsylvania",
          "Pennsylvania",
          "Pennsylvania",
          "Pennsylvania",
          "Pennsylvania",
          "Pennsylvania",
          "Pennsylvania",
          "Pennsylvania",
          "Pennsylvania",
          "Pennsylvania",
          "Pennsylvania",
          "Pennsylvania",
          "Pennsylvania",
          "Pennsylvania",
          "Pennsylvania",
          "Pennsylvania",
          "Pennsylvania",
          "Pennsylvania",
          "Pennsylvania",
          "Pennsylvania",
          "Pennsylvania",
          "Pennsylvania",
          "Pennsylvania",
          "Pennsylvania",
          "Pennsylvania",
          "Pennsylvania",
          "Pennsylvania",
          "Pennsylvania",
          "Pennsylvania",
          "Pennsylvania",
          "Pennsylvania",
          "Pennsylvania",
          "Pennsylvania",
          "Pennsylvania",
          "Pennsylvania",
          "Pennsylvania",
          "Pennsylvania",
          "Pennsylvania",
          "Pennsylvania",
          "Pennsylvania",
          "Pennsylvania",
          "Pennsylvania",
          "Pennsylvania",
          "Pennsylvania",
          "Pennsylvania",
          "Pennsylvania",
          "Pennsylvania",
          "Pennsylvania",
          "Pennsylvania",
          "Pennsylvania",
          "Kentucky",
          "Kentucky",
          "Kentucky",
          "Kentucky",
          "Kentucky",
          "Kentucky",
          "Kentucky",
          "Kentucky",
          "Kentucky",
          "Kentucky",
          "Kentucky",
          "Kentucky",
          "Kentucky",
          "Utah",
          "Utah",
          "Utah",
          "Utah",
          "Utah",
          "Utah",
          "Utah",
          "Utah",
          "Utah",
          "Utah",
          "Utah",
          "Utah",
          "Utah",
          "Utah",
          "Utah",
          "Utah",
          "Utah",
          "Utah",
          "Utah",
          "Utah",
          "Utah",
          "Utah",
          "Utah",
          "Utah",
          "Utah",
          "Utah",
          "Utah",
          "Utah",
          "Utah",
          "Utah",
          "Utah",
          "Utah",
          "Utah",
          "Utah",
          "Utah",
          "Utah",
          "Utah",
          "Utah",
          "Utah",
          "Ohio",
          "Ohio",
          "Ohio",
          "Ohio",
          "Ohio",
          "Ohio",
          "Ohio",
          "Ohio",
          "Ohio",
          "Ohio",
          "Ohio",
          "Ohio",
          "Ohio",
          "Ohio",
          "Ohio",
          "Ohio",
          "Ohio",
          "Ohio",
          "Ohio",
          "Ohio",
          "Ohio",
          "Ohio",
          "Ohio",
          "Ohio",
          "Ohio",
          "Ohio",
          "Ohio",
          "Ohio",
          "Ohio",
          "Ohio",
          "Ohio",
          "Ohio",
          "Ohio",
          "Ohio",
          "Ohio",
          "Ohio",
          "Ohio",
          "North Carolina",
          "North Carolina",
          "North Carolina",
          "North Carolina",
          "North Carolina",
          "North Carolina",
          "North Carolina",
          "North Carolina",
          "North Carolina",
          "North Carolina",
          "North Carolina",
          "North Carolina",
          "North Carolina",
          "North Carolina",
          "North Carolina",
          "North Carolina",
          "North Carolina",
          "North Carolina",
          "North Carolina",
          "North Carolina",
          "North Carolina",
          "North Carolina",
          "North Carolina",
          "North Carolina",
          "North Carolina",
          "North Carolina",
          "North Carolina",
          "North Carolina",
          "North Carolina",
          "North Carolina",
          "North Carolina",
          "North Carolina",
          "North Carolina",
          "North Carolina",
          "North Carolina",
          "North Carolina",
          "North Carolina",
          "North Carolina",
          "New Jersey",
          "New Jersey",
          "New Jersey",
          "New Jersey",
          "New Jersey",
          "New Jersey",
          "New Jersey",
          "New Jersey",
          "New Jersey",
          "New Jersey",
          "New Jersey",
          "New Jersey",
          "New Jersey",
          "New Jersey",
          "New Jersey",
          "New Jersey",
          "New Jersey",
          "New Jersey",
          "New Jersey",
          "New Jersey",
          "New Jersey",
          "New Jersey",
          "New Jersey",
          "New Jersey",
          "New Jersey",
          "New Jersey",
          "New Jersey",
          "South Carolina",
          "South Carolina",
          "South Carolina",
          "South Carolina",
          "South Carolina",
          "South Carolina",
          "South Carolina",
          "South Carolina",
          "Oregon",
          "Oregon",
          "Oregon",
          "Oregon",
          "Oregon",
          "Oregon",
          "Oregon",
          "Oregon",
          "Oregon",
          "Oregon",
          "Oregon",
          "Oregon",
          "Oregon",
          "Oregon",
          "Oregon",
          "Oregon",
          "Oregon",
          "Oregon",
          "Oregon",
          "Oregon",
          "Oregon",
          "Oregon",
          "Oregon",
          "District of Columbia",
          "District of Columbia",
          "District of Columbia",
          "District of Columbia",
          "District of Columbia",
          "District of Columbia",
          "District of Columbia",
          "District of Columbia",
          "District of Columbia",
          "District of Columbia",
          "Missouri",
          "Missouri",
          "Missouri",
          "Missouri",
          "Missouri",
          "Missouri",
          "Missouri",
          "Missouri",
          "Missouri",
          "Missouri",
          "Missouri",
          "Missouri",
          "Missouri",
          "Missouri",
          "Delaware",
          "Delaware",
          "Delaware",
          "Delaware",
          "Delaware",
          "Delaware",
          "Delaware",
          "Delaware",
          "Delaware",
          "Delaware",
          "Delaware",
          "Delaware",
          "Delaware",
          "Delaware",
          "Delaware",
          "Delaware",
          "Delaware",
          "Delaware",
          "Delaware",
          "Delaware",
          "Delaware",
          "Delaware",
          "Delaware",
          "Delaware",
          "Delaware",
          "Delaware",
          "Delaware",
          "Delaware",
          "Delaware",
          "Iowa",
          "Iowa",
          "Iowa",
          "Iowa",
          "Iowa",
          "Iowa",
          "Iowa",
          "Iowa",
          "Montana",
          "Montana",
          "Montana",
          "New York",
          "New York",
          "New York",
          "New York",
          "New York",
          "New York",
          "New York",
          "New York",
          "New York",
          "New York",
          "New York",
          "New York",
          "New York",
          "New York",
          "New York",
          "New York",
          "New York",
          "New York",
          "New York",
          "New York",
          "New York",
          "New York",
          "New York",
          "New York",
          "New York",
          "New York",
          "New York",
          "New York",
          "New York",
          "New York",
          "New York",
          "New York",
          "New York",
          "New York",
          "New York",
          "New York",
          "New York",
          "New York",
          "New York",
          "New York",
          "New York",
          "New York",
          "New York",
          "New York",
          "New York",
          "New York",
          "New York",
          "New York",
          "New York",
          "New York",
          "New York",
          "New York",
          "New York",
          "New York",
          "New York",
          "New York",
          "New York",
          "New York",
          "New York",
          "New York",
          "New York",
          "New York",
          "New York",
          "New York",
          "New York",
          "New York",
          "Louisiana",
          "Louisiana",
          "Louisiana",
          "Louisiana",
          "Louisiana",
          "Louisiana",
          "Louisiana",
          "Louisiana",
          "Louisiana",
          "Louisiana",
          "Louisiana",
          "Louisiana",
          "Louisiana",
          "Louisiana",
          "Louisiana",
          "Louisiana",
          "Louisiana",
          "Louisiana",
          "Louisiana",
          "Louisiana",
          "Louisiana",
          "Louisiana",
          "Louisiana",
          "Louisiana",
          "Louisiana",
          "Louisiana",
          "Louisiana",
          "Louisiana",
          "Louisiana",
          "Louisiana",
          "Louisiana",
          "Louisiana",
          "Louisiana",
          "Louisiana",
          "Louisiana",
          "Louisiana",
          "Louisiana",
          "Louisiana",
          "Florida",
          "Florida",
          "Florida",
          "Florida",
          "Florida",
          "Florida",
          "Florida",
          "Florida",
          "Florida",
          "Florida",
          "Florida",
          "Florida",
          "Florida",
          "Florida",
          "Florida",
          "Florida",
          "Florida",
          "Florida",
          "Florida",
          "Florida",
          "Florida",
          "Florida",
          "Florida",
          "Florida",
          "Florida",
          "Florida",
          "Florida",
          "Florida",
          "Florida",
          "Florida",
          "Florida",
          "Florida",
          "Florida",
          "Florida",
          "Florida",
          "Florida",
          "Florida",
          "Florida",
          "Florida",
          "Florida",
          "Florida",
          "Florida",
          "Florida",
          "Florida",
          "Florida",
          "California",
          "California",
          "California",
          "California",
          "California",
          "California",
          "California",
          "California",
          "California",
          "California",
          "California",
          "California",
          "California",
          "California",
          "California",
          "California",
          "California",
          "California",
          "California",
          "California",
          "California",
          "California",
          "California",
          "California",
          "California",
          "California",
          "California",
          "California",
          "California",
          "California",
          "California",
          "California",
          "California",
          "California",
          "California",
          "California",
          "California",
          "California",
          "California",
          "California",
          "California",
          "California",
          "California",
          "California",
          "California",
          "California",
          "California",
          "California",
          "California",
          "California",
          "California",
          "California",
          "California",
          "California",
          "California",
          "California",
          "California",
          "California",
          "California",
          "California",
          "California",
          "California",
          "California",
          "California",
          "California",
          "California",
          "California",
          "California",
          "California",
          "California",
          "California",
          "California",
          "California",
          "California",
          "California",
          "California",
          "California",
          "California",
          "California",
          "California",
          "California",
          "California",
          "California",
          "California",
          "California",
          "California",
          "California",
          "California",
          "California",
          "California",
          "California",
          "California",
          "California",
          "California",
          "California",
          "California",
          "California",
          "California",
          "California",
          "California",
          "California",
          "California",
          "California",
          "California",
          "California",
          "California",
          "California",
          "California",
          "California",
          "California",
          "California",
          "California",
          "California",
          "California",
          "California",
          "California",
          "California",
          "California",
          "California",
          "California",
          "California",
          "California",
          "California",
          "California",
          "California",
          "California",
          "California",
          "California",
          "California",
          "California",
          "California",
          "California",
          "California",
          "California",
          "California",
          "California",
          "California",
          "California",
          "California",
          "California",
          "California",
          "California",
          "California",
          "California",
          "California",
          "California",
          "California",
          "California",
          "California",
          "California",
          "California",
          "California",
          "California",
          "California",
          "California",
          "California",
          "California",
          "California",
          "California",
          "California",
          "California",
          "California",
          "California",
          "California",
          "California",
          "California",
          "California",
          "California",
          "California",
          "California",
          "California",
          "California",
          "California",
          "California",
          "California",
          "California",
          "California",
          "California",
          "California",
          "California",
          "California",
          "California",
          "California",
          "California",
          "California",
          "California",
          "California",
          "California",
          "California",
          "California",
          "California",
          "California",
          "California",
          "California",
          "California",
          "California",
          "California",
          "Arkansas",
          "Arkansas",
          "Arkansas",
          "Arkansas",
          "Arkansas",
          "Arkansas",
          "Arkansas",
          "Arkansas",
          "Arkansas",
          "Arkansas",
          "Arkansas",
          "Arkansas",
          "Arkansas",
          "Arkansas",
          "Arkansas",
          "Arkansas",
          "Arkansas",
          "Arkansas",
          "Arkansas",
          "Arkansas",
          "Arkansas",
          "Arkansas",
          "Arkansas",
          "Arkansas",
          "Arkansas",
          "Virginia",
          "Virginia",
          "Virginia",
          "Virginia",
          "Virginia",
          "Virginia",
          "Virginia",
          "Virginia",
          "Virginia",
          "Virginia",
          "Virginia",
          "Virginia",
          "Virginia",
          "Virginia",
          "Virginia",
          "Virginia",
          "Virginia",
          "Virginia",
          "Virginia",
          "Virginia",
          "Virginia",
          "Virginia",
          "Virginia",
          "Virginia",
          "Virginia",
          "Virginia",
          "Virginia",
          "Virginia",
          "Virginia",
          "Virginia",
          "Virginia",
          "Virginia",
          "Virginia",
          "Virginia",
          "Virginia",
          "Nebraska",
          "Nebraska",
          "Nebraska",
          "Nebraska",
          "Wyoming",
          "Wyoming",
          "Wyoming",
          "Wyoming",
          "New Mexico",
          "New Mexico",
          "New Mexico",
          "New Mexico",
          "New Mexico",
          "New Mexico",
          "New Mexico",
          "Vermont",
          "Vermont",
          "Vermont",
          "Vermont",
          "Vermont",
          "Vermont",
          "Vermont",
          "Vermont",
          "Vermont",
          "Georgia",
          "Georgia",
          "Georgia",
          "Georgia",
          "Georgia",
          "Georgia",
          "Georgia",
          "Georgia",
          "Georgia",
          "Georgia",
          "Georgia",
          "Georgia",
          "Georgia",
          "Georgia",
          "Georgia",
          "Georgia",
          "Georgia",
          "Connecticut",
          "Connecticut",
          "Connecticut",
          "Connecticut",
          "Connecticut",
          "Connecticut",
          "Connecticut",
          "Connecticut",
          "Connecticut",
          "Connecticut",
          "Connecticut",
          "Connecticut",
          "Connecticut",
          "Connecticut",
          "Connecticut",
          "Connecticut",
          "Oklahoma",
          "Oklahoma",
          "Oklahoma",
          "Oklahoma",
          "Oklahoma",
          "Oklahoma",
          "Oklahoma",
          "Oklahoma",
          "Oklahoma",
          "Oklahoma",
          "Oklahoma",
          "Oklahoma",
          "Oklahoma",
          "Oklahoma",
          "Oklahoma",
          "Oklahoma",
          "Oklahoma",
          "Oklahoma",
          "Oklahoma",
          "Oklahoma",
          "Oklahoma",
          "Massachusetts",
          "Massachusetts",
          "Massachusetts",
          "Massachusetts",
          "Massachusetts",
          "Massachusetts",
          "Massachusetts",
          "Massachusetts",
          "Massachusetts",
          "Massachusetts",
          "Massachusetts",
          "Massachusetts",
          "Massachusetts",
          "Massachusetts",
          "Massachusetts",
          "Massachusetts",
          "Maine",
          "Maine",
          "Maine",
          "Maine",
          "Maine",
          "Maine",
          "Maine",
          "Maine",
          "Maine",
          "Maine",
          "Maine",
          "Maine",
          "Maine",
          "Maine",
          "Maine",
          "New Hampshire",
          "New Hampshire",
          "New Hampshire",
          "New Hampshire",
          "New Hampshire",
          "New Hampshire",
          "New Hampshire",
          "New Hampshire",
          "New Hampshire",
          "New Hampshire",
          "New Hampshire",
          "New Hampshire",
          "Nevada",
          "Nevada",
          "Nevada",
          "Nevada",
          "Nevada",
          "Nevada",
          "Nevada",
          "Colorado",
          "Colorado",
          "Colorado",
          "Colorado",
          "Colorado",
          "Colorado",
          "Colorado",
          "Colorado",
          "Colorado",
          "Colorado",
          "Colorado",
          "Colorado",
          "Colorado",
          "Colorado",
          "Kansas",
          "Kansas",
          "Kansas",
          "Kansas",
          "Kansas",
          "Kansas",
          "Kansas",
          "Hawaii",
          "Hawaii",
          "Hawaii",
          "Hawaii",
          "Hawaii",
          "Idaho",
          "Idaho",
          "Idaho",
          "Idaho",
          "Idaho",
          "Idaho",
          "North Dakota",
          "South Dakota",
          "South Dakota"
         ],
         "xaxis": "x",
         "yaxis": "y"
        }
       ],
       "layout": {
        "barmode": "relative",
        "legend": {
         "tracegroupgap": 0
        },
        "template": {
         "data": {
          "bar": [
           {
            "error_x": {
             "color": "#2a3f5f"
            },
            "error_y": {
             "color": "#2a3f5f"
            },
            "marker": {
             "line": {
              "color": "#E5ECF6",
              "width": 0.5
             },
             "pattern": {
              "fillmode": "overlay",
              "size": 10,
              "solidity": 0.2
             }
            },
            "type": "bar"
           }
          ],
          "barpolar": [
           {
            "marker": {
             "line": {
              "color": "#E5ECF6",
              "width": 0.5
             },
             "pattern": {
              "fillmode": "overlay",
              "size": 10,
              "solidity": 0.2
             }
            },
            "type": "barpolar"
           }
          ],
          "carpet": [
           {
            "aaxis": {
             "endlinecolor": "#2a3f5f",
             "gridcolor": "white",
             "linecolor": "white",
             "minorgridcolor": "white",
             "startlinecolor": "#2a3f5f"
            },
            "baxis": {
             "endlinecolor": "#2a3f5f",
             "gridcolor": "white",
             "linecolor": "white",
             "minorgridcolor": "white",
             "startlinecolor": "#2a3f5f"
            },
            "type": "carpet"
           }
          ],
          "choropleth": [
           {
            "colorbar": {
             "outlinewidth": 0,
             "ticks": ""
            },
            "type": "choropleth"
           }
          ],
          "contour": [
           {
            "colorbar": {
             "outlinewidth": 0,
             "ticks": ""
            },
            "colorscale": [
             [
              0,
              "#0d0887"
             ],
             [
              0.1111111111111111,
              "#46039f"
             ],
             [
              0.2222222222222222,
              "#7201a8"
             ],
             [
              0.3333333333333333,
              "#9c179e"
             ],
             [
              0.4444444444444444,
              "#bd3786"
             ],
             [
              0.5555555555555556,
              "#d8576b"
             ],
             [
              0.6666666666666666,
              "#ed7953"
             ],
             [
              0.7777777777777778,
              "#fb9f3a"
             ],
             [
              0.8888888888888888,
              "#fdca26"
             ],
             [
              1,
              "#f0f921"
             ]
            ],
            "type": "contour"
           }
          ],
          "contourcarpet": [
           {
            "colorbar": {
             "outlinewidth": 0,
             "ticks": ""
            },
            "type": "contourcarpet"
           }
          ],
          "heatmap": [
           {
            "colorbar": {
             "outlinewidth": 0,
             "ticks": ""
            },
            "colorscale": [
             [
              0,
              "#0d0887"
             ],
             [
              0.1111111111111111,
              "#46039f"
             ],
             [
              0.2222222222222222,
              "#7201a8"
             ],
             [
              0.3333333333333333,
              "#9c179e"
             ],
             [
              0.4444444444444444,
              "#bd3786"
             ],
             [
              0.5555555555555556,
              "#d8576b"
             ],
             [
              0.6666666666666666,
              "#ed7953"
             ],
             [
              0.7777777777777778,
              "#fb9f3a"
             ],
             [
              0.8888888888888888,
              "#fdca26"
             ],
             [
              1,
              "#f0f921"
             ]
            ],
            "type": "heatmap"
           }
          ],
          "heatmapgl": [
           {
            "colorbar": {
             "outlinewidth": 0,
             "ticks": ""
            },
            "colorscale": [
             [
              0,
              "#0d0887"
             ],
             [
              0.1111111111111111,
              "#46039f"
             ],
             [
              0.2222222222222222,
              "#7201a8"
             ],
             [
              0.3333333333333333,
              "#9c179e"
             ],
             [
              0.4444444444444444,
              "#bd3786"
             ],
             [
              0.5555555555555556,
              "#d8576b"
             ],
             [
              0.6666666666666666,
              "#ed7953"
             ],
             [
              0.7777777777777778,
              "#fb9f3a"
             ],
             [
              0.8888888888888888,
              "#fdca26"
             ],
             [
              1,
              "#f0f921"
             ]
            ],
            "type": "heatmapgl"
           }
          ],
          "histogram": [
           {
            "marker": {
             "pattern": {
              "fillmode": "overlay",
              "size": 10,
              "solidity": 0.2
             }
            },
            "type": "histogram"
           }
          ],
          "histogram2d": [
           {
            "colorbar": {
             "outlinewidth": 0,
             "ticks": ""
            },
            "colorscale": [
             [
              0,
              "#0d0887"
             ],
             [
              0.1111111111111111,
              "#46039f"
             ],
             [
              0.2222222222222222,
              "#7201a8"
             ],
             [
              0.3333333333333333,
              "#9c179e"
             ],
             [
              0.4444444444444444,
              "#bd3786"
             ],
             [
              0.5555555555555556,
              "#d8576b"
             ],
             [
              0.6666666666666666,
              "#ed7953"
             ],
             [
              0.7777777777777778,
              "#fb9f3a"
             ],
             [
              0.8888888888888888,
              "#fdca26"
             ],
             [
              1,
              "#f0f921"
             ]
            ],
            "type": "histogram2d"
           }
          ],
          "histogram2dcontour": [
           {
            "colorbar": {
             "outlinewidth": 0,
             "ticks": ""
            },
            "colorscale": [
             [
              0,
              "#0d0887"
             ],
             [
              0.1111111111111111,
              "#46039f"
             ],
             [
              0.2222222222222222,
              "#7201a8"
             ],
             [
              0.3333333333333333,
              "#9c179e"
             ],
             [
              0.4444444444444444,
              "#bd3786"
             ],
             [
              0.5555555555555556,
              "#d8576b"
             ],
             [
              0.6666666666666666,
              "#ed7953"
             ],
             [
              0.7777777777777778,
              "#fb9f3a"
             ],
             [
              0.8888888888888888,
              "#fdca26"
             ],
             [
              1,
              "#f0f921"
             ]
            ],
            "type": "histogram2dcontour"
           }
          ],
          "mesh3d": [
           {
            "colorbar": {
             "outlinewidth": 0,
             "ticks": ""
            },
            "type": "mesh3d"
           }
          ],
          "parcoords": [
           {
            "line": {
             "colorbar": {
              "outlinewidth": 0,
              "ticks": ""
             }
            },
            "type": "parcoords"
           }
          ],
          "pie": [
           {
            "automargin": true,
            "type": "pie"
           }
          ],
          "scatter": [
           {
            "fillpattern": {
             "fillmode": "overlay",
             "size": 10,
             "solidity": 0.2
            },
            "type": "scatter"
           }
          ],
          "scatter3d": [
           {
            "line": {
             "colorbar": {
              "outlinewidth": 0,
              "ticks": ""
             }
            },
            "marker": {
             "colorbar": {
              "outlinewidth": 0,
              "ticks": ""
             }
            },
            "type": "scatter3d"
           }
          ],
          "scattercarpet": [
           {
            "marker": {
             "colorbar": {
              "outlinewidth": 0,
              "ticks": ""
             }
            },
            "type": "scattercarpet"
           }
          ],
          "scattergeo": [
           {
            "marker": {
             "colorbar": {
              "outlinewidth": 0,
              "ticks": ""
             }
            },
            "type": "scattergeo"
           }
          ],
          "scattergl": [
           {
            "marker": {
             "colorbar": {
              "outlinewidth": 0,
              "ticks": ""
             }
            },
            "type": "scattergl"
           }
          ],
          "scattermapbox": [
           {
            "marker": {
             "colorbar": {
              "outlinewidth": 0,
              "ticks": ""
             }
            },
            "type": "scattermapbox"
           }
          ],
          "scatterpolar": [
           {
            "marker": {
             "colorbar": {
              "outlinewidth": 0,
              "ticks": ""
             }
            },
            "type": "scatterpolar"
           }
          ],
          "scatterpolargl": [
           {
            "marker": {
             "colorbar": {
              "outlinewidth": 0,
              "ticks": ""
             }
            },
            "type": "scatterpolargl"
           }
          ],
          "scatterternary": [
           {
            "marker": {
             "colorbar": {
              "outlinewidth": 0,
              "ticks": ""
             }
            },
            "type": "scatterternary"
           }
          ],
          "surface": [
           {
            "colorbar": {
             "outlinewidth": 0,
             "ticks": ""
            },
            "colorscale": [
             [
              0,
              "#0d0887"
             ],
             [
              0.1111111111111111,
              "#46039f"
             ],
             [
              0.2222222222222222,
              "#7201a8"
             ],
             [
              0.3333333333333333,
              "#9c179e"
             ],
             [
              0.4444444444444444,
              "#bd3786"
             ],
             [
              0.5555555555555556,
              "#d8576b"
             ],
             [
              0.6666666666666666,
              "#ed7953"
             ],
             [
              0.7777777777777778,
              "#fb9f3a"
             ],
             [
              0.8888888888888888,
              "#fdca26"
             ],
             [
              1,
              "#f0f921"
             ]
            ],
            "type": "surface"
           }
          ],
          "table": [
           {
            "cells": {
             "fill": {
              "color": "#EBF0F8"
             },
             "line": {
              "color": "white"
             }
            },
            "header": {
             "fill": {
              "color": "#C8D4E3"
             },
             "line": {
              "color": "white"
             }
            },
            "type": "table"
           }
          ]
         },
         "layout": {
          "annotationdefaults": {
           "arrowcolor": "#2a3f5f",
           "arrowhead": 0,
           "arrowwidth": 1
          },
          "autotypenumbers": "strict",
          "coloraxis": {
           "colorbar": {
            "outlinewidth": 0,
            "ticks": ""
           }
          },
          "colorscale": {
           "diverging": [
            [
             0,
             "#8e0152"
            ],
            [
             0.1,
             "#c51b7d"
            ],
            [
             0.2,
             "#de77ae"
            ],
            [
             0.3,
             "#f1b6da"
            ],
            [
             0.4,
             "#fde0ef"
            ],
            [
             0.5,
             "#f7f7f7"
            ],
            [
             0.6,
             "#e6f5d0"
            ],
            [
             0.7,
             "#b8e186"
            ],
            [
             0.8,
             "#7fbc41"
            ],
            [
             0.9,
             "#4d9221"
            ],
            [
             1,
             "#276419"
            ]
           ],
           "sequential": [
            [
             0,
             "#0d0887"
            ],
            [
             0.1111111111111111,
             "#46039f"
            ],
            [
             0.2222222222222222,
             "#7201a8"
            ],
            [
             0.3333333333333333,
             "#9c179e"
            ],
            [
             0.4444444444444444,
             "#bd3786"
            ],
            [
             0.5555555555555556,
             "#d8576b"
            ],
            [
             0.6666666666666666,
             "#ed7953"
            ],
            [
             0.7777777777777778,
             "#fb9f3a"
            ],
            [
             0.8888888888888888,
             "#fdca26"
            ],
            [
             1,
             "#f0f921"
            ]
           ],
           "sequentialminus": [
            [
             0,
             "#0d0887"
            ],
            [
             0.1111111111111111,
             "#46039f"
            ],
            [
             0.2222222222222222,
             "#7201a8"
            ],
            [
             0.3333333333333333,
             "#9c179e"
            ],
            [
             0.4444444444444444,
             "#bd3786"
            ],
            [
             0.5555555555555556,
             "#d8576b"
            ],
            [
             0.6666666666666666,
             "#ed7953"
            ],
            [
             0.7777777777777778,
             "#fb9f3a"
            ],
            [
             0.8888888888888888,
             "#fdca26"
            ],
            [
             1,
             "#f0f921"
            ]
           ]
          },
          "colorway": [
           "#636efa",
           "#EF553B",
           "#00cc96",
           "#ab63fa",
           "#FFA15A",
           "#19d3f3",
           "#FF6692",
           "#B6E880",
           "#FF97FF",
           "#FECB52"
          ],
          "font": {
           "color": "#2a3f5f"
          },
          "geo": {
           "bgcolor": "white",
           "lakecolor": "white",
           "landcolor": "#E5ECF6",
           "showlakes": true,
           "showland": true,
           "subunitcolor": "white"
          },
          "hoverlabel": {
           "align": "left"
          },
          "hovermode": "closest",
          "mapbox": {
           "style": "light"
          },
          "paper_bgcolor": "white",
          "plot_bgcolor": "#E5ECF6",
          "polar": {
           "angularaxis": {
            "gridcolor": "white",
            "linecolor": "white",
            "ticks": ""
           },
           "bgcolor": "#E5ECF6",
           "radialaxis": {
            "gridcolor": "white",
            "linecolor": "white",
            "ticks": ""
           }
          },
          "scene": {
           "xaxis": {
            "backgroundcolor": "#E5ECF6",
            "gridcolor": "white",
            "gridwidth": 2,
            "linecolor": "white",
            "showbackground": true,
            "ticks": "",
            "zerolinecolor": "white"
           },
           "yaxis": {
            "backgroundcolor": "#E5ECF6",
            "gridcolor": "white",
            "gridwidth": 2,
            "linecolor": "white",
            "showbackground": true,
            "ticks": "",
            "zerolinecolor": "white"
           },
           "zaxis": {
            "backgroundcolor": "#E5ECF6",
            "gridcolor": "white",
            "gridwidth": 2,
            "linecolor": "white",
            "showbackground": true,
            "ticks": "",
            "zerolinecolor": "white"
           }
          },
          "shapedefaults": {
           "line": {
            "color": "#2a3f5f"
           }
          },
          "ternary": {
           "aaxis": {
            "gridcolor": "white",
            "linecolor": "white",
            "ticks": ""
           },
           "baxis": {
            "gridcolor": "white",
            "linecolor": "white",
            "ticks": ""
           },
           "bgcolor": "#E5ECF6",
           "caxis": {
            "gridcolor": "white",
            "linecolor": "white",
            "ticks": ""
           }
          },
          "title": {
           "x": 0.05
          },
          "xaxis": {
           "automargin": true,
           "gridcolor": "white",
           "linecolor": "white",
           "ticks": "",
           "title": {
            "standoff": 15
           },
           "zerolinecolor": "white",
           "zerolinewidth": 2
          },
          "yaxis": {
           "automargin": true,
           "gridcolor": "white",
           "linecolor": "white",
           "ticks": "",
           "title": {
            "standoff": 15
           },
           "zerolinecolor": "white",
           "zerolinewidth": 2
          }
         }
        },
        "title": {
         "text": "Number of Power Outages By State"
        },
        "xaxis": {
         "anchor": "y",
         "domain": [
          0,
          1
         ],
         "tickangle": -45,
         "title": {
          "text": "State"
         }
        },
        "yaxis": {
         "anchor": "x",
         "domain": [
          0,
          1
         ],
         "title": {
          "text": "Number of Power Outages"
         }
        }
       }
      }
     },
     "metadata": {},
     "output_type": "display_data"
    }
   ],
   "source": [
    "hist_fig = px.histogram(df, x='U.S._STATE', title='Number of Power Outages By State', labels={'U.S._STATE': 'State'})\n",
    "hist_fig.update_layout(yaxis_title=\"Number of Power Outages\")\n",
    "hist_fig.update_xaxes(tickangle=-45)\n",
    "hist_fig.show()\n",
    "\n",
    "hist_fig.write_html('assets/num_outages.html', include_plotlyjs='cdn')"
   ]
  },
  {
   "cell_type": "markdown",
   "metadata": {},
   "source": [
    "### Bivariate Analysis"
   ]
  },
  {
   "cell_type": "code",
   "execution_count": 214,
   "metadata": {},
   "outputs": [
    {
     "data": {
      "application/vnd.plotly.v1+json": {
       "config": {
        "plotlyServerURL": "https://plot.ly"
       },
       "data": [
        {
         "alignmentgroup": "True",
         "hovertemplate": "CLIMATE.REGION=%{x}<br>OUTAGE.DURATION=%{y}<extra></extra>",
         "legendgroup": "",
         "marker": {
          "color": "#636efa",
          "pattern": {
           "shape": ""
          }
         },
         "name": "",
         "offsetgroup": "",
         "orientation": "v",
         "showlegend": false,
         "textposition": "auto",
         "type": "bar",
         "x": [
          "East North Central",
          "Northeast",
          "Central",
          "South",
          "Southeast",
          "West",
          "Southwest",
          "Northwest",
          "West North Central"
         ],
         "xaxis": "x",
         "y": [
          5391.39705882353,
          3330.517799352751,
          2882.212290502793,
          2872.453703703704,
          2247.6554054054054,
          1636.313725490196,
          1621.4117647058824,
          1536.362745098039,
          796.0714285714286
         ],
         "yaxis": "y"
        }
       ],
       "layout": {
        "barmode": "relative",
        "legend": {
         "tracegroupgap": 0
        },
        "template": {
         "data": {
          "bar": [
           {
            "error_x": {
             "color": "#2a3f5f"
            },
            "error_y": {
             "color": "#2a3f5f"
            },
            "marker": {
             "line": {
              "color": "#E5ECF6",
              "width": 0.5
             },
             "pattern": {
              "fillmode": "overlay",
              "size": 10,
              "solidity": 0.2
             }
            },
            "type": "bar"
           }
          ],
          "barpolar": [
           {
            "marker": {
             "line": {
              "color": "#E5ECF6",
              "width": 0.5
             },
             "pattern": {
              "fillmode": "overlay",
              "size": 10,
              "solidity": 0.2
             }
            },
            "type": "barpolar"
           }
          ],
          "carpet": [
           {
            "aaxis": {
             "endlinecolor": "#2a3f5f",
             "gridcolor": "white",
             "linecolor": "white",
             "minorgridcolor": "white",
             "startlinecolor": "#2a3f5f"
            },
            "baxis": {
             "endlinecolor": "#2a3f5f",
             "gridcolor": "white",
             "linecolor": "white",
             "minorgridcolor": "white",
             "startlinecolor": "#2a3f5f"
            },
            "type": "carpet"
           }
          ],
          "choropleth": [
           {
            "colorbar": {
             "outlinewidth": 0,
             "ticks": ""
            },
            "type": "choropleth"
           }
          ],
          "contour": [
           {
            "colorbar": {
             "outlinewidth": 0,
             "ticks": ""
            },
            "colorscale": [
             [
              0,
              "#0d0887"
             ],
             [
              0.1111111111111111,
              "#46039f"
             ],
             [
              0.2222222222222222,
              "#7201a8"
             ],
             [
              0.3333333333333333,
              "#9c179e"
             ],
             [
              0.4444444444444444,
              "#bd3786"
             ],
             [
              0.5555555555555556,
              "#d8576b"
             ],
             [
              0.6666666666666666,
              "#ed7953"
             ],
             [
              0.7777777777777778,
              "#fb9f3a"
             ],
             [
              0.8888888888888888,
              "#fdca26"
             ],
             [
              1,
              "#f0f921"
             ]
            ],
            "type": "contour"
           }
          ],
          "contourcarpet": [
           {
            "colorbar": {
             "outlinewidth": 0,
             "ticks": ""
            },
            "type": "contourcarpet"
           }
          ],
          "heatmap": [
           {
            "colorbar": {
             "outlinewidth": 0,
             "ticks": ""
            },
            "colorscale": [
             [
              0,
              "#0d0887"
             ],
             [
              0.1111111111111111,
              "#46039f"
             ],
             [
              0.2222222222222222,
              "#7201a8"
             ],
             [
              0.3333333333333333,
              "#9c179e"
             ],
             [
              0.4444444444444444,
              "#bd3786"
             ],
             [
              0.5555555555555556,
              "#d8576b"
             ],
             [
              0.6666666666666666,
              "#ed7953"
             ],
             [
              0.7777777777777778,
              "#fb9f3a"
             ],
             [
              0.8888888888888888,
              "#fdca26"
             ],
             [
              1,
              "#f0f921"
             ]
            ],
            "type": "heatmap"
           }
          ],
          "heatmapgl": [
           {
            "colorbar": {
             "outlinewidth": 0,
             "ticks": ""
            },
            "colorscale": [
             [
              0,
              "#0d0887"
             ],
             [
              0.1111111111111111,
              "#46039f"
             ],
             [
              0.2222222222222222,
              "#7201a8"
             ],
             [
              0.3333333333333333,
              "#9c179e"
             ],
             [
              0.4444444444444444,
              "#bd3786"
             ],
             [
              0.5555555555555556,
              "#d8576b"
             ],
             [
              0.6666666666666666,
              "#ed7953"
             ],
             [
              0.7777777777777778,
              "#fb9f3a"
             ],
             [
              0.8888888888888888,
              "#fdca26"
             ],
             [
              1,
              "#f0f921"
             ]
            ],
            "type": "heatmapgl"
           }
          ],
          "histogram": [
           {
            "marker": {
             "pattern": {
              "fillmode": "overlay",
              "size": 10,
              "solidity": 0.2
             }
            },
            "type": "histogram"
           }
          ],
          "histogram2d": [
           {
            "colorbar": {
             "outlinewidth": 0,
             "ticks": ""
            },
            "colorscale": [
             [
              0,
              "#0d0887"
             ],
             [
              0.1111111111111111,
              "#46039f"
             ],
             [
              0.2222222222222222,
              "#7201a8"
             ],
             [
              0.3333333333333333,
              "#9c179e"
             ],
             [
              0.4444444444444444,
              "#bd3786"
             ],
             [
              0.5555555555555556,
              "#d8576b"
             ],
             [
              0.6666666666666666,
              "#ed7953"
             ],
             [
              0.7777777777777778,
              "#fb9f3a"
             ],
             [
              0.8888888888888888,
              "#fdca26"
             ],
             [
              1,
              "#f0f921"
             ]
            ],
            "type": "histogram2d"
           }
          ],
          "histogram2dcontour": [
           {
            "colorbar": {
             "outlinewidth": 0,
             "ticks": ""
            },
            "colorscale": [
             [
              0,
              "#0d0887"
             ],
             [
              0.1111111111111111,
              "#46039f"
             ],
             [
              0.2222222222222222,
              "#7201a8"
             ],
             [
              0.3333333333333333,
              "#9c179e"
             ],
             [
              0.4444444444444444,
              "#bd3786"
             ],
             [
              0.5555555555555556,
              "#d8576b"
             ],
             [
              0.6666666666666666,
              "#ed7953"
             ],
             [
              0.7777777777777778,
              "#fb9f3a"
             ],
             [
              0.8888888888888888,
              "#fdca26"
             ],
             [
              1,
              "#f0f921"
             ]
            ],
            "type": "histogram2dcontour"
           }
          ],
          "mesh3d": [
           {
            "colorbar": {
             "outlinewidth": 0,
             "ticks": ""
            },
            "type": "mesh3d"
           }
          ],
          "parcoords": [
           {
            "line": {
             "colorbar": {
              "outlinewidth": 0,
              "ticks": ""
             }
            },
            "type": "parcoords"
           }
          ],
          "pie": [
           {
            "automargin": true,
            "type": "pie"
           }
          ],
          "scatter": [
           {
            "fillpattern": {
             "fillmode": "overlay",
             "size": 10,
             "solidity": 0.2
            },
            "type": "scatter"
           }
          ],
          "scatter3d": [
           {
            "line": {
             "colorbar": {
              "outlinewidth": 0,
              "ticks": ""
             }
            },
            "marker": {
             "colorbar": {
              "outlinewidth": 0,
              "ticks": ""
             }
            },
            "type": "scatter3d"
           }
          ],
          "scattercarpet": [
           {
            "marker": {
             "colorbar": {
              "outlinewidth": 0,
              "ticks": ""
             }
            },
            "type": "scattercarpet"
           }
          ],
          "scattergeo": [
           {
            "marker": {
             "colorbar": {
              "outlinewidth": 0,
              "ticks": ""
             }
            },
            "type": "scattergeo"
           }
          ],
          "scattergl": [
           {
            "marker": {
             "colorbar": {
              "outlinewidth": 0,
              "ticks": ""
             }
            },
            "type": "scattergl"
           }
          ],
          "scattermapbox": [
           {
            "marker": {
             "colorbar": {
              "outlinewidth": 0,
              "ticks": ""
             }
            },
            "type": "scattermapbox"
           }
          ],
          "scatterpolar": [
           {
            "marker": {
             "colorbar": {
              "outlinewidth": 0,
              "ticks": ""
             }
            },
            "type": "scatterpolar"
           }
          ],
          "scatterpolargl": [
           {
            "marker": {
             "colorbar": {
              "outlinewidth": 0,
              "ticks": ""
             }
            },
            "type": "scatterpolargl"
           }
          ],
          "scatterternary": [
           {
            "marker": {
             "colorbar": {
              "outlinewidth": 0,
              "ticks": ""
             }
            },
            "type": "scatterternary"
           }
          ],
          "surface": [
           {
            "colorbar": {
             "outlinewidth": 0,
             "ticks": ""
            },
            "colorscale": [
             [
              0,
              "#0d0887"
             ],
             [
              0.1111111111111111,
              "#46039f"
             ],
             [
              0.2222222222222222,
              "#7201a8"
             ],
             [
              0.3333333333333333,
              "#9c179e"
             ],
             [
              0.4444444444444444,
              "#bd3786"
             ],
             [
              0.5555555555555556,
              "#d8576b"
             ],
             [
              0.6666666666666666,
              "#ed7953"
             ],
             [
              0.7777777777777778,
              "#fb9f3a"
             ],
             [
              0.8888888888888888,
              "#fdca26"
             ],
             [
              1,
              "#f0f921"
             ]
            ],
            "type": "surface"
           }
          ],
          "table": [
           {
            "cells": {
             "fill": {
              "color": "#EBF0F8"
             },
             "line": {
              "color": "white"
             }
            },
            "header": {
             "fill": {
              "color": "#C8D4E3"
             },
             "line": {
              "color": "white"
             }
            },
            "type": "table"
           }
          ]
         },
         "layout": {
          "annotationdefaults": {
           "arrowcolor": "#2a3f5f",
           "arrowhead": 0,
           "arrowwidth": 1
          },
          "autotypenumbers": "strict",
          "coloraxis": {
           "colorbar": {
            "outlinewidth": 0,
            "ticks": ""
           }
          },
          "colorscale": {
           "diverging": [
            [
             0,
             "#8e0152"
            ],
            [
             0.1,
             "#c51b7d"
            ],
            [
             0.2,
             "#de77ae"
            ],
            [
             0.3,
             "#f1b6da"
            ],
            [
             0.4,
             "#fde0ef"
            ],
            [
             0.5,
             "#f7f7f7"
            ],
            [
             0.6,
             "#e6f5d0"
            ],
            [
             0.7,
             "#b8e186"
            ],
            [
             0.8,
             "#7fbc41"
            ],
            [
             0.9,
             "#4d9221"
            ],
            [
             1,
             "#276419"
            ]
           ],
           "sequential": [
            [
             0,
             "#0d0887"
            ],
            [
             0.1111111111111111,
             "#46039f"
            ],
            [
             0.2222222222222222,
             "#7201a8"
            ],
            [
             0.3333333333333333,
             "#9c179e"
            ],
            [
             0.4444444444444444,
             "#bd3786"
            ],
            [
             0.5555555555555556,
             "#d8576b"
            ],
            [
             0.6666666666666666,
             "#ed7953"
            ],
            [
             0.7777777777777778,
             "#fb9f3a"
            ],
            [
             0.8888888888888888,
             "#fdca26"
            ],
            [
             1,
             "#f0f921"
            ]
           ],
           "sequentialminus": [
            [
             0,
             "#0d0887"
            ],
            [
             0.1111111111111111,
             "#46039f"
            ],
            [
             0.2222222222222222,
             "#7201a8"
            ],
            [
             0.3333333333333333,
             "#9c179e"
            ],
            [
             0.4444444444444444,
             "#bd3786"
            ],
            [
             0.5555555555555556,
             "#d8576b"
            ],
            [
             0.6666666666666666,
             "#ed7953"
            ],
            [
             0.7777777777777778,
             "#fb9f3a"
            ],
            [
             0.8888888888888888,
             "#fdca26"
            ],
            [
             1,
             "#f0f921"
            ]
           ]
          },
          "colorway": [
           "#636efa",
           "#EF553B",
           "#00cc96",
           "#ab63fa",
           "#FFA15A",
           "#19d3f3",
           "#FF6692",
           "#B6E880",
           "#FF97FF",
           "#FECB52"
          ],
          "font": {
           "color": "#2a3f5f"
          },
          "geo": {
           "bgcolor": "white",
           "lakecolor": "white",
           "landcolor": "#E5ECF6",
           "showlakes": true,
           "showland": true,
           "subunitcolor": "white"
          },
          "hoverlabel": {
           "align": "left"
          },
          "hovermode": "closest",
          "mapbox": {
           "style": "light"
          },
          "paper_bgcolor": "white",
          "plot_bgcolor": "#E5ECF6",
          "polar": {
           "angularaxis": {
            "gridcolor": "white",
            "linecolor": "white",
            "ticks": ""
           },
           "bgcolor": "#E5ECF6",
           "radialaxis": {
            "gridcolor": "white",
            "linecolor": "white",
            "ticks": ""
           }
          },
          "scene": {
           "xaxis": {
            "backgroundcolor": "#E5ECF6",
            "gridcolor": "white",
            "gridwidth": 2,
            "linecolor": "white",
            "showbackground": true,
            "ticks": "",
            "zerolinecolor": "white"
           },
           "yaxis": {
            "backgroundcolor": "#E5ECF6",
            "gridcolor": "white",
            "gridwidth": 2,
            "linecolor": "white",
            "showbackground": true,
            "ticks": "",
            "zerolinecolor": "white"
           },
           "zaxis": {
            "backgroundcolor": "#E5ECF6",
            "gridcolor": "white",
            "gridwidth": 2,
            "linecolor": "white",
            "showbackground": true,
            "ticks": "",
            "zerolinecolor": "white"
           }
          },
          "shapedefaults": {
           "line": {
            "color": "#2a3f5f"
           }
          },
          "ternary": {
           "aaxis": {
            "gridcolor": "white",
            "linecolor": "white",
            "ticks": ""
           },
           "baxis": {
            "gridcolor": "white",
            "linecolor": "white",
            "ticks": ""
           },
           "bgcolor": "#E5ECF6",
           "caxis": {
            "gridcolor": "white",
            "linecolor": "white",
            "ticks": ""
           }
          },
          "title": {
           "x": 0.05
          },
          "xaxis": {
           "automargin": true,
           "gridcolor": "white",
           "linecolor": "white",
           "ticks": "",
           "title": {
            "standoff": 15
           },
           "zerolinecolor": "white",
           "zerolinewidth": 2
          },
          "yaxis": {
           "automargin": true,
           "gridcolor": "white",
           "linecolor": "white",
           "ticks": "",
           "title": {
            "standoff": 15
           },
           "zerolinecolor": "white",
           "zerolinewidth": 2
          }
         }
        },
        "title": {
         "text": "Mean Outage Duration By Climate Region"
        },
        "xaxis": {
         "anchor": "y",
         "domain": [
          0,
          1
         ],
         "tickangle": -45,
         "title": {
          "text": "Climate Region"
         }
        },
        "yaxis": {
         "anchor": "x",
         "domain": [
          0,
          1
         ],
         "title": {
          "text": "Mean Outage Duration"
         }
        }
       }
      }
     },
     "metadata": {},
     "output_type": "display_data"
    }
   ],
   "source": [
    "avg_dur_fig = px.bar(df.groupby('CLIMATE.REGION')['OUTAGE.DURATION'].mean().sort_values(ascending=False), y='OUTAGE.DURATION', title='Mean Outage Duration By Climate Region')\n",
    "avg_dur_fig.update_layout(xaxis_title=\"Climate Region\", yaxis_title=\"Mean Outage Duration (Minutes)\")\n",
    "avg_dur_fig.update_xaxes(tickangle=-45)\n",
    "avg_dur_fig.show()\n",
    "\n",
    "# this bar plot shows that the 'CLIMATE.REGION' in which power takes the longest to restore on average is 'East North Central'. The minimum is at 'West North Central'.\n",
    "\n",
    "avg_dur_fig.write_html('assets/avg_dur_fig.html', include_plotlyjs='cdn')"
   ]
  },
  {
   "cell_type": "code",
   "execution_count": 144,
   "metadata": {},
   "outputs": [
    {
     "data": {
      "application/vnd.plotly.v1+json": {
       "config": {
        "plotlyServerURL": "https://plot.ly"
       },
       "data": [
        {
         "alignmentgroup": "True",
         "hovertemplate": "CLIMATE.REGION=%{x}<br>OUTAGE.DURATION=%{y}<extra></extra>",
         "legendgroup": "",
         "marker": {
          "color": "#636efa",
          "pattern": {
           "shape": ""
          }
         },
         "name": "",
         "offsetgroup": "",
         "orientation": "v",
         "showlegend": false,
         "textposition": "auto",
         "type": "bar",
         "x": [
          "Northeast",
          "South",
          "West",
          "Central",
          "Southeast",
          "East North Central",
          "Northwest",
          "Southwest",
          "West North Central"
         ],
         "xaxis": "x",
         "y": [
          309,
          216,
          204,
          179,
          148,
          136,
          102,
          85,
          14
         ],
         "yaxis": "y"
        }
       ],
       "layout": {
        "barmode": "relative",
        "legend": {
         "tracegroupgap": 0
        },
        "margin": {
         "t": 60
        },
        "template": {
         "data": {
          "bar": [
           {
            "error_x": {
             "color": "#2a3f5f"
            },
            "error_y": {
             "color": "#2a3f5f"
            },
            "marker": {
             "line": {
              "color": "#E5ECF6",
              "width": 0.5
             },
             "pattern": {
              "fillmode": "overlay",
              "size": 10,
              "solidity": 0.2
             }
            },
            "type": "bar"
           }
          ],
          "barpolar": [
           {
            "marker": {
             "line": {
              "color": "#E5ECF6",
              "width": 0.5
             },
             "pattern": {
              "fillmode": "overlay",
              "size": 10,
              "solidity": 0.2
             }
            },
            "type": "barpolar"
           }
          ],
          "carpet": [
           {
            "aaxis": {
             "endlinecolor": "#2a3f5f",
             "gridcolor": "white",
             "linecolor": "white",
             "minorgridcolor": "white",
             "startlinecolor": "#2a3f5f"
            },
            "baxis": {
             "endlinecolor": "#2a3f5f",
             "gridcolor": "white",
             "linecolor": "white",
             "minorgridcolor": "white",
             "startlinecolor": "#2a3f5f"
            },
            "type": "carpet"
           }
          ],
          "choropleth": [
           {
            "colorbar": {
             "outlinewidth": 0,
             "ticks": ""
            },
            "type": "choropleth"
           }
          ],
          "contour": [
           {
            "colorbar": {
             "outlinewidth": 0,
             "ticks": ""
            },
            "colorscale": [
             [
              0,
              "#0d0887"
             ],
             [
              0.1111111111111111,
              "#46039f"
             ],
             [
              0.2222222222222222,
              "#7201a8"
             ],
             [
              0.3333333333333333,
              "#9c179e"
             ],
             [
              0.4444444444444444,
              "#bd3786"
             ],
             [
              0.5555555555555556,
              "#d8576b"
             ],
             [
              0.6666666666666666,
              "#ed7953"
             ],
             [
              0.7777777777777778,
              "#fb9f3a"
             ],
             [
              0.8888888888888888,
              "#fdca26"
             ],
             [
              1,
              "#f0f921"
             ]
            ],
            "type": "contour"
           }
          ],
          "contourcarpet": [
           {
            "colorbar": {
             "outlinewidth": 0,
             "ticks": ""
            },
            "type": "contourcarpet"
           }
          ],
          "heatmap": [
           {
            "colorbar": {
             "outlinewidth": 0,
             "ticks": ""
            },
            "colorscale": [
             [
              0,
              "#0d0887"
             ],
             [
              0.1111111111111111,
              "#46039f"
             ],
             [
              0.2222222222222222,
              "#7201a8"
             ],
             [
              0.3333333333333333,
              "#9c179e"
             ],
             [
              0.4444444444444444,
              "#bd3786"
             ],
             [
              0.5555555555555556,
              "#d8576b"
             ],
             [
              0.6666666666666666,
              "#ed7953"
             ],
             [
              0.7777777777777778,
              "#fb9f3a"
             ],
             [
              0.8888888888888888,
              "#fdca26"
             ],
             [
              1,
              "#f0f921"
             ]
            ],
            "type": "heatmap"
           }
          ],
          "heatmapgl": [
           {
            "colorbar": {
             "outlinewidth": 0,
             "ticks": ""
            },
            "colorscale": [
             [
              0,
              "#0d0887"
             ],
             [
              0.1111111111111111,
              "#46039f"
             ],
             [
              0.2222222222222222,
              "#7201a8"
             ],
             [
              0.3333333333333333,
              "#9c179e"
             ],
             [
              0.4444444444444444,
              "#bd3786"
             ],
             [
              0.5555555555555556,
              "#d8576b"
             ],
             [
              0.6666666666666666,
              "#ed7953"
             ],
             [
              0.7777777777777778,
              "#fb9f3a"
             ],
             [
              0.8888888888888888,
              "#fdca26"
             ],
             [
              1,
              "#f0f921"
             ]
            ],
            "type": "heatmapgl"
           }
          ],
          "histogram": [
           {
            "marker": {
             "pattern": {
              "fillmode": "overlay",
              "size": 10,
              "solidity": 0.2
             }
            },
            "type": "histogram"
           }
          ],
          "histogram2d": [
           {
            "colorbar": {
             "outlinewidth": 0,
             "ticks": ""
            },
            "colorscale": [
             [
              0,
              "#0d0887"
             ],
             [
              0.1111111111111111,
              "#46039f"
             ],
             [
              0.2222222222222222,
              "#7201a8"
             ],
             [
              0.3333333333333333,
              "#9c179e"
             ],
             [
              0.4444444444444444,
              "#bd3786"
             ],
             [
              0.5555555555555556,
              "#d8576b"
             ],
             [
              0.6666666666666666,
              "#ed7953"
             ],
             [
              0.7777777777777778,
              "#fb9f3a"
             ],
             [
              0.8888888888888888,
              "#fdca26"
             ],
             [
              1,
              "#f0f921"
             ]
            ],
            "type": "histogram2d"
           }
          ],
          "histogram2dcontour": [
           {
            "colorbar": {
             "outlinewidth": 0,
             "ticks": ""
            },
            "colorscale": [
             [
              0,
              "#0d0887"
             ],
             [
              0.1111111111111111,
              "#46039f"
             ],
             [
              0.2222222222222222,
              "#7201a8"
             ],
             [
              0.3333333333333333,
              "#9c179e"
             ],
             [
              0.4444444444444444,
              "#bd3786"
             ],
             [
              0.5555555555555556,
              "#d8576b"
             ],
             [
              0.6666666666666666,
              "#ed7953"
             ],
             [
              0.7777777777777778,
              "#fb9f3a"
             ],
             [
              0.8888888888888888,
              "#fdca26"
             ],
             [
              1,
              "#f0f921"
             ]
            ],
            "type": "histogram2dcontour"
           }
          ],
          "mesh3d": [
           {
            "colorbar": {
             "outlinewidth": 0,
             "ticks": ""
            },
            "type": "mesh3d"
           }
          ],
          "parcoords": [
           {
            "line": {
             "colorbar": {
              "outlinewidth": 0,
              "ticks": ""
             }
            },
            "type": "parcoords"
           }
          ],
          "pie": [
           {
            "automargin": true,
            "type": "pie"
           }
          ],
          "scatter": [
           {
            "fillpattern": {
             "fillmode": "overlay",
             "size": 10,
             "solidity": 0.2
            },
            "type": "scatter"
           }
          ],
          "scatter3d": [
           {
            "line": {
             "colorbar": {
              "outlinewidth": 0,
              "ticks": ""
             }
            },
            "marker": {
             "colorbar": {
              "outlinewidth": 0,
              "ticks": ""
             }
            },
            "type": "scatter3d"
           }
          ],
          "scattercarpet": [
           {
            "marker": {
             "colorbar": {
              "outlinewidth": 0,
              "ticks": ""
             }
            },
            "type": "scattercarpet"
           }
          ],
          "scattergeo": [
           {
            "marker": {
             "colorbar": {
              "outlinewidth": 0,
              "ticks": ""
             }
            },
            "type": "scattergeo"
           }
          ],
          "scattergl": [
           {
            "marker": {
             "colorbar": {
              "outlinewidth": 0,
              "ticks": ""
             }
            },
            "type": "scattergl"
           }
          ],
          "scattermapbox": [
           {
            "marker": {
             "colorbar": {
              "outlinewidth": 0,
              "ticks": ""
             }
            },
            "type": "scattermapbox"
           }
          ],
          "scatterpolar": [
           {
            "marker": {
             "colorbar": {
              "outlinewidth": 0,
              "ticks": ""
             }
            },
            "type": "scatterpolar"
           }
          ],
          "scatterpolargl": [
           {
            "marker": {
             "colorbar": {
              "outlinewidth": 0,
              "ticks": ""
             }
            },
            "type": "scatterpolargl"
           }
          ],
          "scatterternary": [
           {
            "marker": {
             "colorbar": {
              "outlinewidth": 0,
              "ticks": ""
             }
            },
            "type": "scatterternary"
           }
          ],
          "surface": [
           {
            "colorbar": {
             "outlinewidth": 0,
             "ticks": ""
            },
            "colorscale": [
             [
              0,
              "#0d0887"
             ],
             [
              0.1111111111111111,
              "#46039f"
             ],
             [
              0.2222222222222222,
              "#7201a8"
             ],
             [
              0.3333333333333333,
              "#9c179e"
             ],
             [
              0.4444444444444444,
              "#bd3786"
             ],
             [
              0.5555555555555556,
              "#d8576b"
             ],
             [
              0.6666666666666666,
              "#ed7953"
             ],
             [
              0.7777777777777778,
              "#fb9f3a"
             ],
             [
              0.8888888888888888,
              "#fdca26"
             ],
             [
              1,
              "#f0f921"
             ]
            ],
            "type": "surface"
           }
          ],
          "table": [
           {
            "cells": {
             "fill": {
              "color": "#EBF0F8"
             },
             "line": {
              "color": "white"
             }
            },
            "header": {
             "fill": {
              "color": "#C8D4E3"
             },
             "line": {
              "color": "white"
             }
            },
            "type": "table"
           }
          ]
         },
         "layout": {
          "annotationdefaults": {
           "arrowcolor": "#2a3f5f",
           "arrowhead": 0,
           "arrowwidth": 1
          },
          "autotypenumbers": "strict",
          "coloraxis": {
           "colorbar": {
            "outlinewidth": 0,
            "ticks": ""
           }
          },
          "colorscale": {
           "diverging": [
            [
             0,
             "#8e0152"
            ],
            [
             0.1,
             "#c51b7d"
            ],
            [
             0.2,
             "#de77ae"
            ],
            [
             0.3,
             "#f1b6da"
            ],
            [
             0.4,
             "#fde0ef"
            ],
            [
             0.5,
             "#f7f7f7"
            ],
            [
             0.6,
             "#e6f5d0"
            ],
            [
             0.7,
             "#b8e186"
            ],
            [
             0.8,
             "#7fbc41"
            ],
            [
             0.9,
             "#4d9221"
            ],
            [
             1,
             "#276419"
            ]
           ],
           "sequential": [
            [
             0,
             "#0d0887"
            ],
            [
             0.1111111111111111,
             "#46039f"
            ],
            [
             0.2222222222222222,
             "#7201a8"
            ],
            [
             0.3333333333333333,
             "#9c179e"
            ],
            [
             0.4444444444444444,
             "#bd3786"
            ],
            [
             0.5555555555555556,
             "#d8576b"
            ],
            [
             0.6666666666666666,
             "#ed7953"
            ],
            [
             0.7777777777777778,
             "#fb9f3a"
            ],
            [
             0.8888888888888888,
             "#fdca26"
            ],
            [
             1,
             "#f0f921"
            ]
           ],
           "sequentialminus": [
            [
             0,
             "#0d0887"
            ],
            [
             0.1111111111111111,
             "#46039f"
            ],
            [
             0.2222222222222222,
             "#7201a8"
            ],
            [
             0.3333333333333333,
             "#9c179e"
            ],
            [
             0.4444444444444444,
             "#bd3786"
            ],
            [
             0.5555555555555556,
             "#d8576b"
            ],
            [
             0.6666666666666666,
             "#ed7953"
            ],
            [
             0.7777777777777778,
             "#fb9f3a"
            ],
            [
             0.8888888888888888,
             "#fdca26"
            ],
            [
             1,
             "#f0f921"
            ]
           ]
          },
          "colorway": [
           "#636efa",
           "#EF553B",
           "#00cc96",
           "#ab63fa",
           "#FFA15A",
           "#19d3f3",
           "#FF6692",
           "#B6E880",
           "#FF97FF",
           "#FECB52"
          ],
          "font": {
           "color": "#2a3f5f"
          },
          "geo": {
           "bgcolor": "white",
           "lakecolor": "white",
           "landcolor": "#E5ECF6",
           "showlakes": true,
           "showland": true,
           "subunitcolor": "white"
          },
          "hoverlabel": {
           "align": "left"
          },
          "hovermode": "closest",
          "mapbox": {
           "style": "light"
          },
          "paper_bgcolor": "white",
          "plot_bgcolor": "#E5ECF6",
          "polar": {
           "angularaxis": {
            "gridcolor": "white",
            "linecolor": "white",
            "ticks": ""
           },
           "bgcolor": "#E5ECF6",
           "radialaxis": {
            "gridcolor": "white",
            "linecolor": "white",
            "ticks": ""
           }
          },
          "scene": {
           "xaxis": {
            "backgroundcolor": "#E5ECF6",
            "gridcolor": "white",
            "gridwidth": 2,
            "linecolor": "white",
            "showbackground": true,
            "ticks": "",
            "zerolinecolor": "white"
           },
           "yaxis": {
            "backgroundcolor": "#E5ECF6",
            "gridcolor": "white",
            "gridwidth": 2,
            "linecolor": "white",
            "showbackground": true,
            "ticks": "",
            "zerolinecolor": "white"
           },
           "zaxis": {
            "backgroundcolor": "#E5ECF6",
            "gridcolor": "white",
            "gridwidth": 2,
            "linecolor": "white",
            "showbackground": true,
            "ticks": "",
            "zerolinecolor": "white"
           }
          },
          "shapedefaults": {
           "line": {
            "color": "#2a3f5f"
           }
          },
          "ternary": {
           "aaxis": {
            "gridcolor": "white",
            "linecolor": "white",
            "ticks": ""
           },
           "baxis": {
            "gridcolor": "white",
            "linecolor": "white",
            "ticks": ""
           },
           "bgcolor": "#E5ECF6",
           "caxis": {
            "gridcolor": "white",
            "linecolor": "white",
            "ticks": ""
           }
          },
          "title": {
           "x": 0.05
          },
          "xaxis": {
           "automargin": true,
           "gridcolor": "white",
           "linecolor": "white",
           "ticks": "",
           "title": {
            "standoff": 15
           },
           "zerolinecolor": "white",
           "zerolinewidth": 2
          },
          "yaxis": {
           "automargin": true,
           "gridcolor": "white",
           "linecolor": "white",
           "ticks": "",
           "title": {
            "standoff": 15
           },
           "zerolinecolor": "white",
           "zerolinewidth": 2
          }
         }
        },
        "xaxis": {
         "anchor": "y",
         "domain": [
          0,
          1
         ],
         "title": {
          "text": "CLIMATE.REGION"
         }
        },
        "yaxis": {
         "anchor": "x",
         "domain": [
          0,
          1
         ],
         "title": {
          "text": "OUTAGE.DURATION"
         }
        }
       }
      }
     },
     "metadata": {},
     "output_type": "display_data"
    }
   ],
   "source": [
    "px.bar(df.groupby('CLIMATE.REGION')['OUTAGE.DURATION'].count().sort_values(ascending=False), y='OUTAGE.DURATION')\n",
    "# this bar plot shows that the 'CLIMATE.REGION' in which power outages happen the most frequently is different, becoming 'Northeast' this time. Both have the minimum at 'West North Central'."
   ]
  },
  {
   "cell_type": "code",
   "execution_count": null,
   "metadata": {},
   "outputs": [],
   "source": []
  },
  {
   "cell_type": "markdown",
   "metadata": {},
   "source": [
    "### Interesting Aggregates"
   ]
  },
  {
   "cell_type": "code",
   "execution_count": 145,
   "metadata": {},
   "outputs": [],
   "source": [
    "# Funciton to calculate the average time of day of a pd.Timestamp series, without including the date\n",
    "def avg_time(series):\n",
    "    mean_seconds = (series.dt.hour * 3600 + series.dt.minute * 60 + series.dt.second).mean()\n",
    "    return pd.to_datetime(mean_seconds, unit='s').time()"
   ]
  },
  {
   "cell_type": "code",
   "execution_count": 146,
   "metadata": {},
   "outputs": [
    {
     "data": {
      "text/html": [
       "<div>\n",
       "<style scoped>\n",
       "    .dataframe tbody tr th:only-of-type {\n",
       "        vertical-align: middle;\n",
       "    }\n",
       "\n",
       "    .dataframe tbody tr th {\n",
       "        vertical-align: top;\n",
       "    }\n",
       "\n",
       "    .dataframe thead th {\n",
       "        text-align: right;\n",
       "    }\n",
       "</style>\n",
       "<table border=\"1\" class=\"dataframe\">\n",
       "  <thead>\n",
       "    <tr style=\"text-align: right;\">\n",
       "      <th>CLIMATE.REGION</th>\n",
       "      <th>Central</th>\n",
       "      <th>East North Central</th>\n",
       "      <th>Northeast</th>\n",
       "      <th>Northwest</th>\n",
       "      <th>South</th>\n",
       "      <th>Southeast</th>\n",
       "      <th>Southwest</th>\n",
       "      <th>West</th>\n",
       "      <th>West North Central</th>\n",
       "    </tr>\n",
       "    <tr>\n",
       "      <th>CAUSE.CATEGORY</th>\n",
       "      <th></th>\n",
       "      <th></th>\n",
       "      <th></th>\n",
       "      <th></th>\n",
       "      <th></th>\n",
       "      <th></th>\n",
       "      <th></th>\n",
       "      <th></th>\n",
       "      <th></th>\n",
       "    </tr>\n",
       "  </thead>\n",
       "  <tbody>\n",
       "    <tr>\n",
       "      <th>equipment failure</th>\n",
       "      <td>13:00:48</td>\n",
       "      <td>08:35:00</td>\n",
       "      <td>11:15:45</td>\n",
       "      <td>16:47:00</td>\n",
       "      <td>10:46:00</td>\n",
       "      <td>16:50:15</td>\n",
       "      <td>15:39:36</td>\n",
       "      <td>12:00:20</td>\n",
       "      <td>09:46:00</td>\n",
       "    </tr>\n",
       "    <tr>\n",
       "      <th>fuel supply emergency</th>\n",
       "      <td>08:36:15</td>\n",
       "      <td>07:50:15</td>\n",
       "      <td>12:04:08.571428</td>\n",
       "      <td>01:48:00</td>\n",
       "      <td>09:52:30</td>\n",
       "      <td>NaN</td>\n",
       "      <td>09:14:00</td>\n",
       "      <td>13:17:18</td>\n",
       "      <td>NaN</td>\n",
       "    </tr>\n",
       "    <tr>\n",
       "      <th>intentional attack</th>\n",
       "      <td>11:23:35</td>\n",
       "      <td>12:19:22.105263</td>\n",
       "      <td>10:26:53.195876</td>\n",
       "      <td>12:21:12.923076</td>\n",
       "      <td>10:55:33.333333</td>\n",
       "      <td>12:05:40</td>\n",
       "      <td>11:15:06.101694</td>\n",
       "      <td>10:32:22</td>\n",
       "      <td>12:51:00</td>\n",
       "    </tr>\n",
       "    <tr>\n",
       "      <th>islanding</th>\n",
       "      <td>18:19:00</td>\n",
       "      <td>12:01:00</td>\n",
       "      <td>22:44:00</td>\n",
       "      <td>16:03:20</td>\n",
       "      <td>18:13:30</td>\n",
       "      <td>NaN</td>\n",
       "      <td>09:22:00</td>\n",
       "      <td>12:26:42.857142</td>\n",
       "      <td>14:50:12</td>\n",
       "    </tr>\n",
       "    <tr>\n",
       "      <th>public appeal</th>\n",
       "      <td>14:00:00</td>\n",
       "      <td>14:07:00</td>\n",
       "      <td>13:00:00</td>\n",
       "      <td>14:02:00</td>\n",
       "      <td>13:36:15.714285</td>\n",
       "      <td>15:00:00</td>\n",
       "      <td>10:00:00</td>\n",
       "      <td>14:08:06.666666</td>\n",
       "      <td>08:10:30</td>\n",
       "    </tr>\n",
       "    <tr>\n",
       "      <th>severe weather</th>\n",
       "      <td>13:11:27.022900</td>\n",
       "      <td>13:32:09.230769</td>\n",
       "      <td>13:30:53.142857</td>\n",
       "      <td>09:33:52.800000</td>\n",
       "      <td>12:26:10.754716</td>\n",
       "      <td>13:36:49.043478</td>\n",
       "      <td>09:15:06</td>\n",
       "      <td>11:46:49.253731</td>\n",
       "      <td>17:20:00</td>\n",
       "    </tr>\n",
       "    <tr>\n",
       "      <th>system operability disruption</th>\n",
       "      <td>15:16:30</td>\n",
       "      <td>11:54:20</td>\n",
       "      <td>15:21:38.571428</td>\n",
       "      <td>15:28:00</td>\n",
       "      <td>13:27:18.461538</td>\n",
       "      <td>12:11:44</td>\n",
       "      <td>14:02:45</td>\n",
       "      <td>12:54:09.230769</td>\n",
       "      <td>NaN</td>\n",
       "    </tr>\n",
       "  </tbody>\n",
       "</table>\n",
       "</div>"
      ],
      "text/plain": [
       "CLIMATE.REGION                         Central East North Central  \\\n",
       "CAUSE.CATEGORY                                                      \n",
       "equipment failure                     13:00:48           08:35:00   \n",
       "fuel supply emergency                 08:36:15           07:50:15   \n",
       "intentional attack                    11:23:35    12:19:22.105263   \n",
       "islanding                             18:19:00           12:01:00   \n",
       "public appeal                         14:00:00           14:07:00   \n",
       "severe weather                 13:11:27.022900    13:32:09.230769   \n",
       "system operability disruption         15:16:30           11:54:20   \n",
       "\n",
       "CLIMATE.REGION                       Northeast        Northwest  \\\n",
       "CAUSE.CATEGORY                                                    \n",
       "equipment failure                     11:15:45         16:47:00   \n",
       "fuel supply emergency          12:04:08.571428         01:48:00   \n",
       "intentional attack             10:26:53.195876  12:21:12.923076   \n",
       "islanding                             22:44:00         16:03:20   \n",
       "public appeal                         13:00:00         14:02:00   \n",
       "severe weather                 13:30:53.142857  09:33:52.800000   \n",
       "system operability disruption  15:21:38.571428         15:28:00   \n",
       "\n",
       "CLIMATE.REGION                           South        Southeast  \\\n",
       "CAUSE.CATEGORY                                                    \n",
       "equipment failure                     10:46:00         16:50:15   \n",
       "fuel supply emergency                 09:52:30              NaN   \n",
       "intentional attack             10:55:33.333333         12:05:40   \n",
       "islanding                             18:13:30              NaN   \n",
       "public appeal                  13:36:15.714285         15:00:00   \n",
       "severe weather                 12:26:10.754716  13:36:49.043478   \n",
       "system operability disruption  13:27:18.461538         12:11:44   \n",
       "\n",
       "CLIMATE.REGION                       Southwest             West  \\\n",
       "CAUSE.CATEGORY                                                    \n",
       "equipment failure                     15:39:36         12:00:20   \n",
       "fuel supply emergency                 09:14:00         13:17:18   \n",
       "intentional attack             11:15:06.101694         10:32:22   \n",
       "islanding                             09:22:00  12:26:42.857142   \n",
       "public appeal                         10:00:00  14:08:06.666666   \n",
       "severe weather                        09:15:06  11:46:49.253731   \n",
       "system operability disruption         14:02:45  12:54:09.230769   \n",
       "\n",
       "CLIMATE.REGION                West North Central  \n",
       "CAUSE.CATEGORY                                    \n",
       "equipment failure                       09:46:00  \n",
       "fuel supply emergency                        NaN  \n",
       "intentional attack                      12:51:00  \n",
       "islanding                               14:50:12  \n",
       "public appeal                           08:10:30  \n",
       "severe weather                          17:20:00  \n",
       "system operability disruption                NaN  "
      ]
     },
     "execution_count": 146,
     "metadata": {},
     "output_type": "execute_result"
    }
   ],
   "source": [
    "df.groupby('U.S._STATE')['OUTAGE.START'].agg(avg_time)\n",
    "pd.pivot_table(df, values='OUTAGE.START', index='CAUSE.CATEGORY', columns=['CLIMATE.REGION'], aggfunc=avg_time)"
   ]
  },
  {
   "cell_type": "markdown",
   "metadata": {},
   "source": [
    "## Step 3: Assessment of Missingness"
   ]
  },
  {
   "cell_type": "code",
   "execution_count": 147,
   "metadata": {},
   "outputs": [
    {
     "data": {
      "text/html": [
       "<div>\n",
       "<style scoped>\n",
       "    .dataframe tbody tr th:only-of-type {\n",
       "        vertical-align: middle;\n",
       "    }\n",
       "\n",
       "    .dataframe tbody tr th {\n",
       "        vertical-align: top;\n",
       "    }\n",
       "\n",
       "    .dataframe thead th {\n",
       "        text-align: right;\n",
       "    }\n",
       "</style>\n",
       "<table border=\"1\" class=\"dataframe\">\n",
       "  <thead>\n",
       "    <tr style=\"text-align: right;\">\n",
       "      <th></th>\n",
       "      <th>U.S._STATE</th>\n",
       "      <th>NERC.REGION</th>\n",
       "      <th>CLIMATE.REGION</th>\n",
       "      <th>CAUSE.CATEGORY</th>\n",
       "      <th>OUTAGE.DURATION</th>\n",
       "      <th>RES.PERCEN</th>\n",
       "      <th>COM.PERCEN</th>\n",
       "      <th>IND.PERCEN</th>\n",
       "      <th>PC.REALGSP.REL</th>\n",
       "      <th>POPPCT_URBAN</th>\n",
       "      <th>OUTAGE.START</th>\n",
       "      <th>OUTAGE.RESTORATION</th>\n",
       "    </tr>\n",
       "  </thead>\n",
       "  <tbody>\n",
       "    <tr>\n",
       "      <th>1</th>\n",
       "      <td>Minnesota</td>\n",
       "      <td>MRO</td>\n",
       "      <td>East North Central</td>\n",
       "      <td>severe weather</td>\n",
       "      <td>3060.0</td>\n",
       "      <td>35.549073</td>\n",
       "      <td>32.225029</td>\n",
       "      <td>32.202431</td>\n",
       "      <td>1.077376</td>\n",
       "      <td>73.27</td>\n",
       "      <td>2011-07-01 17:00:00</td>\n",
       "      <td>2011-07-03 20:00:00</td>\n",
       "    </tr>\n",
       "    <tr>\n",
       "      <th>2</th>\n",
       "      <td>Minnesota</td>\n",
       "      <td>MRO</td>\n",
       "      <td>East North Central</td>\n",
       "      <td>intentional attack</td>\n",
       "      <td>1.0</td>\n",
       "      <td>30.032487</td>\n",
       "      <td>34.210389</td>\n",
       "      <td>35.727564</td>\n",
       "      <td>1.089792</td>\n",
       "      <td>73.27</td>\n",
       "      <td>2014-05-11 18:38:00</td>\n",
       "      <td>2014-05-11 18:39:00</td>\n",
       "    </tr>\n",
       "    <tr>\n",
       "      <th>3</th>\n",
       "      <td>Minnesota</td>\n",
       "      <td>MRO</td>\n",
       "      <td>East North Central</td>\n",
       "      <td>severe weather</td>\n",
       "      <td>3000.0</td>\n",
       "      <td>28.097672</td>\n",
       "      <td>34.501015</td>\n",
       "      <td>37.365983</td>\n",
       "      <td>1.066826</td>\n",
       "      <td>73.27</td>\n",
       "      <td>2010-10-26 20:00:00</td>\n",
       "      <td>2010-10-28 22:00:00</td>\n",
       "    </tr>\n",
       "    <tr>\n",
       "      <th>4</th>\n",
       "      <td>Minnesota</td>\n",
       "      <td>MRO</td>\n",
       "      <td>East North Central</td>\n",
       "      <td>severe weather</td>\n",
       "      <td>2550.0</td>\n",
       "      <td>31.994099</td>\n",
       "      <td>33.543330</td>\n",
       "      <td>34.439329</td>\n",
       "      <td>1.071476</td>\n",
       "      <td>73.27</td>\n",
       "      <td>2012-06-19 04:30:00</td>\n",
       "      <td>2012-06-20 23:00:00</td>\n",
       "    </tr>\n",
       "    <tr>\n",
       "      <th>5</th>\n",
       "      <td>Minnesota</td>\n",
       "      <td>MRO</td>\n",
       "      <td>East North Central</td>\n",
       "      <td>severe weather</td>\n",
       "      <td>1740.0</td>\n",
       "      <td>33.982576</td>\n",
       "      <td>36.205850</td>\n",
       "      <td>29.779498</td>\n",
       "      <td>1.092027</td>\n",
       "      <td>73.27</td>\n",
       "      <td>2015-07-18 02:00:00</td>\n",
       "      <td>2015-07-19 07:00:00</td>\n",
       "    </tr>\n",
       "  </tbody>\n",
       "</table>\n",
       "</div>"
      ],
      "text/plain": [
       "  U.S._STATE NERC.REGION      CLIMATE.REGION      CAUSE.CATEGORY  \\\n",
       "1  Minnesota         MRO  East North Central      severe weather   \n",
       "2  Minnesota         MRO  East North Central  intentional attack   \n",
       "3  Minnesota         MRO  East North Central      severe weather   \n",
       "4  Minnesota         MRO  East North Central      severe weather   \n",
       "5  Minnesota         MRO  East North Central      severe weather   \n",
       "\n",
       "   OUTAGE.DURATION  RES.PERCEN  COM.PERCEN  IND.PERCEN PC.REALGSP.REL  \\\n",
       "1           3060.0   35.549073   32.225029   32.202431       1.077376   \n",
       "2              1.0   30.032487   34.210389   35.727564       1.089792   \n",
       "3           3000.0   28.097672   34.501015   37.365983       1.066826   \n",
       "4           2550.0   31.994099   33.543330   34.439329       1.071476   \n",
       "5           1740.0   33.982576   36.205850   29.779498       1.092027   \n",
       "\n",
       "  POPPCT_URBAN        OUTAGE.START  OUTAGE.RESTORATION  \n",
       "1        73.27 2011-07-01 17:00:00 2011-07-03 20:00:00  \n",
       "2        73.27 2014-05-11 18:38:00 2014-05-11 18:39:00  \n",
       "3        73.27 2010-10-26 20:00:00 2010-10-28 22:00:00  \n",
       "4        73.27 2012-06-19 04:30:00 2012-06-20 23:00:00  \n",
       "5        73.27 2015-07-18 02:00:00 2015-07-19 07:00:00  "
      ]
     },
     "execution_count": 147,
     "metadata": {},
     "output_type": "execute_result"
    }
   ],
   "source": [
    "df.head()"
   ]
  },
  {
   "cell_type": "code",
   "execution_count": 148,
   "metadata": {},
   "outputs": [
    {
     "data": {
      "text/plain": [
       "U.S._STATE            False\n",
       "NERC.REGION           False\n",
       "CLIMATE.REGION         True\n",
       "CAUSE.CATEGORY        False\n",
       "OUTAGE.DURATION       False\n",
       "RES.PERCEN            False\n",
       "COM.PERCEN            False\n",
       "IND.PERCEN            False\n",
       "PC.REALGSP.REL        False\n",
       "POPPCT_URBAN          False\n",
       "OUTAGE.START          False\n",
       "OUTAGE.RESTORATION    False\n",
       "dtype: bool"
      ]
     },
     "execution_count": 148,
     "metadata": {},
     "output_type": "execute_result"
    }
   ],
   "source": [
    "df.isnull().any()"
   ]
  },
  {
   "cell_type": "code",
   "execution_count": 149,
   "metadata": {},
   "outputs": [
    {
     "data": {
      "text/html": [
       "<div>\n",
       "<style scoped>\n",
       "    .dataframe tbody tr th:only-of-type {\n",
       "        vertical-align: middle;\n",
       "    }\n",
       "\n",
       "    .dataframe tbody tr th {\n",
       "        vertical-align: top;\n",
       "    }\n",
       "\n",
       "    .dataframe thead th {\n",
       "        text-align: right;\n",
       "    }\n",
       "</style>\n",
       "<table border=\"1\" class=\"dataframe\">\n",
       "  <thead>\n",
       "    <tr style=\"text-align: right;\">\n",
       "      <th></th>\n",
       "      <th>U.S._STATE</th>\n",
       "      <th>NERC.REGION</th>\n",
       "      <th>CLIMATE.REGION</th>\n",
       "      <th>CAUSE.CATEGORY</th>\n",
       "      <th>OUTAGE.DURATION</th>\n",
       "      <th>RES.PERCEN</th>\n",
       "      <th>COM.PERCEN</th>\n",
       "      <th>IND.PERCEN</th>\n",
       "      <th>PC.REALGSP.REL</th>\n",
       "      <th>POPPCT_URBAN</th>\n",
       "      <th>OUTAGE.START</th>\n",
       "      <th>OUTAGE.RESTORATION</th>\n",
       "    </tr>\n",
       "  </thead>\n",
       "  <tbody>\n",
       "    <tr>\n",
       "      <th>1516</th>\n",
       "      <td>Hawaii</td>\n",
       "      <td>HI</td>\n",
       "      <td>NaN</td>\n",
       "      <td>severe weather</td>\n",
       "      <td>1367.0</td>\n",
       "      <td>30.359526</td>\n",
       "      <td>32.964011</td>\n",
       "      <td>36.676462</td>\n",
       "      <td>1.04471</td>\n",
       "      <td>91.93</td>\n",
       "      <td>2008-12-26 18:13:00</td>\n",
       "      <td>2008-12-27 17:00:00</td>\n",
       "    </tr>\n",
       "    <tr>\n",
       "      <th>1517</th>\n",
       "      <td>Hawaii</td>\n",
       "      <td>PR</td>\n",
       "      <td>NaN</td>\n",
       "      <td>severe weather</td>\n",
       "      <td>174.0</td>\n",
       "      <td>29.256472</td>\n",
       "      <td>34.293692</td>\n",
       "      <td>36.449836</td>\n",
       "      <td>1.032026</td>\n",
       "      <td>91.93</td>\n",
       "      <td>2011-05-02 17:06:00</td>\n",
       "      <td>2011-05-02 20:00:00</td>\n",
       "    </tr>\n",
       "    <tr>\n",
       "      <th>1518</th>\n",
       "      <td>Hawaii</td>\n",
       "      <td>HECO</td>\n",
       "      <td>NaN</td>\n",
       "      <td>severe weather</td>\n",
       "      <td>543.0</td>\n",
       "      <td>29.754528</td>\n",
       "      <td>33.325929</td>\n",
       "      <td>36.919435</td>\n",
       "      <td>1.029626</td>\n",
       "      <td>91.93</td>\n",
       "      <td>2006-10-15 07:09:00</td>\n",
       "      <td>2006-10-15 16:12:00</td>\n",
       "    </tr>\n",
       "    <tr>\n",
       "      <th>1519</th>\n",
       "      <td>Hawaii</td>\n",
       "      <td>HECO</td>\n",
       "      <td>NaN</td>\n",
       "      <td>system operability disruption</td>\n",
       "      <td>237.0</td>\n",
       "      <td>29.775679</td>\n",
       "      <td>33.478432</td>\n",
       "      <td>36.745777</td>\n",
       "      <td>1.029626</td>\n",
       "      <td>91.93</td>\n",
       "      <td>2006-06-01 14:12:00</td>\n",
       "      <td>2006-06-01 18:09:00</td>\n",
       "    </tr>\n",
       "    <tr>\n",
       "      <th>1520</th>\n",
       "      <td>Hawaii</td>\n",
       "      <td>HECO</td>\n",
       "      <td>NaN</td>\n",
       "      <td>severe weather</td>\n",
       "      <td>1906.0</td>\n",
       "      <td>29.754528</td>\n",
       "      <td>33.325929</td>\n",
       "      <td>36.919435</td>\n",
       "      <td>1.029626</td>\n",
       "      <td>91.93</td>\n",
       "      <td>2006-10-15 07:09:00</td>\n",
       "      <td>2006-10-16 14:55:00</td>\n",
       "    </tr>\n",
       "  </tbody>\n",
       "</table>\n",
       "</div>"
      ],
      "text/plain": [
       "     U.S._STATE NERC.REGION CLIMATE.REGION                 CAUSE.CATEGORY  \\\n",
       "1516     Hawaii          HI            NaN                 severe weather   \n",
       "1517     Hawaii          PR            NaN                 severe weather   \n",
       "1518     Hawaii        HECO            NaN                 severe weather   \n",
       "1519     Hawaii        HECO            NaN  system operability disruption   \n",
       "1520     Hawaii        HECO            NaN                 severe weather   \n",
       "\n",
       "      OUTAGE.DURATION  RES.PERCEN  COM.PERCEN  IND.PERCEN PC.REALGSP.REL  \\\n",
       "1516           1367.0   30.359526   32.964011   36.676462        1.04471   \n",
       "1517            174.0   29.256472   34.293692   36.449836       1.032026   \n",
       "1518            543.0   29.754528   33.325929   36.919435       1.029626   \n",
       "1519            237.0   29.775679   33.478432   36.745777       1.029626   \n",
       "1520           1906.0   29.754528   33.325929   36.919435       1.029626   \n",
       "\n",
       "     POPPCT_URBAN        OUTAGE.START  OUTAGE.RESTORATION  \n",
       "1516        91.93 2008-12-26 18:13:00 2008-12-27 17:00:00  \n",
       "1517        91.93 2011-05-02 17:06:00 2011-05-02 20:00:00  \n",
       "1518        91.93 2006-10-15 07:09:00 2006-10-15 16:12:00  \n",
       "1519        91.93 2006-06-01 14:12:00 2006-06-01 18:09:00  \n",
       "1520        91.93 2006-10-15 07:09:00 2006-10-16 14:55:00  "
      ]
     },
     "execution_count": 149,
     "metadata": {},
     "output_type": "execute_result"
    }
   ],
   "source": [
    "df[df['CLIMATE.REGION'].isna()]"
   ]
  },
  {
   "cell_type": "markdown",
   "metadata": {},
   "source": [
    "In our cleaned dataset, the only column with missing values is `'CLIMATE.REGION'`. Since the only rows for which values are missing are for `'U.S._STATE' == Hawaii`, this missingness depends on the `'U.S._STATE'` column, making it MAR. Before imputing missing values in `'RES.PERCEN'`, `'COM.PERCEN'`, and `'IND.PERCEN'`, the missing values did not seem to depend on themselves, and hence we cannot be sure if the missingness mechanism is NMAR."
   ]
  },
  {
   "cell_type": "code",
   "execution_count": 150,
   "metadata": {},
   "outputs": [
    {
     "data": {
      "text/plain": [
       "np.float64(0.9100899100899101)"
      ]
     },
     "execution_count": 150,
     "metadata": {},
     "output_type": "execute_result"
    }
   ],
   "source": [
    "# doesn't matter on GSP\n",
    "observed = np.abs(df[df['CLIMATE.REGION'].notna()]['PC.REALGSP.REL'].mean() - df[df['CLIMATE.REGION'].isna()]['PC.REALGSP.REL'].mean())\n",
    "\n",
    "sim_df = df[['CLIMATE.REGION', 'PC.REALGSP.REL']]\n",
    "sims = []\n",
    "for _ in range(1000):\n",
    "    sim_df = sim_df.assign(CLIMATE_REGION_SHUFFLED = np.random.permutation(sim_df['CLIMATE.REGION']))\n",
    "    sim_stat = np.abs(sim_df[sim_df['CLIMATE_REGION_SHUFFLED'].notna()]['PC.REALGSP.REL'].mean() - sim_df[sim_df['CLIMATE_REGION_SHUFFLED'].isna()]['PC.REALGSP.REL'].mean())\n",
    "    sims.append(sim_stat)\n",
    "\n",
    "p_value = np.mean(sims >= observed)\n",
    "p_value"
   ]
  },
  {
   "cell_type": "code",
   "execution_count": 151,
   "metadata": {},
   "outputs": [
    {
     "data": {
      "application/vnd.plotly.v1+json": {
       "config": {
        "plotlyServerURL": "https://plot.ly"
       },
       "data": [
        {
         "alignmentgroup": "True",
         "hovertemplate": "PC.REALGSP.REL=%{x}<br>CLIMATE_REGION_MISSINGNESS=%{y}<extra></extra>",
         "legendgroup": "",
         "marker": {
          "color": "#636efa",
          "pattern": {
           "shape": ""
          }
         },
         "name": "",
         "offsetgroup": "",
         "orientation": "h",
         "showlegend": false,
         "textposition": "auto",
         "type": "bar",
         "x": [
          1.0236866119729047,
          1.033123078721078
         ],
         "xaxis": "x",
         "y": [
          false,
          true
         ],
         "yaxis": "y"
        }
       ],
       "layout": {
        "barmode": "relative",
        "legend": {
         "tracegroupgap": 0
        },
        "margin": {
         "t": 60
        },
        "template": {
         "data": {
          "bar": [
           {
            "error_x": {
             "color": "#2a3f5f"
            },
            "error_y": {
             "color": "#2a3f5f"
            },
            "marker": {
             "line": {
              "color": "#E5ECF6",
              "width": 0.5
             },
             "pattern": {
              "fillmode": "overlay",
              "size": 10,
              "solidity": 0.2
             }
            },
            "type": "bar"
           }
          ],
          "barpolar": [
           {
            "marker": {
             "line": {
              "color": "#E5ECF6",
              "width": 0.5
             },
             "pattern": {
              "fillmode": "overlay",
              "size": 10,
              "solidity": 0.2
             }
            },
            "type": "barpolar"
           }
          ],
          "carpet": [
           {
            "aaxis": {
             "endlinecolor": "#2a3f5f",
             "gridcolor": "white",
             "linecolor": "white",
             "minorgridcolor": "white",
             "startlinecolor": "#2a3f5f"
            },
            "baxis": {
             "endlinecolor": "#2a3f5f",
             "gridcolor": "white",
             "linecolor": "white",
             "minorgridcolor": "white",
             "startlinecolor": "#2a3f5f"
            },
            "type": "carpet"
           }
          ],
          "choropleth": [
           {
            "colorbar": {
             "outlinewidth": 0,
             "ticks": ""
            },
            "type": "choropleth"
           }
          ],
          "contour": [
           {
            "colorbar": {
             "outlinewidth": 0,
             "ticks": ""
            },
            "colorscale": [
             [
              0,
              "#0d0887"
             ],
             [
              0.1111111111111111,
              "#46039f"
             ],
             [
              0.2222222222222222,
              "#7201a8"
             ],
             [
              0.3333333333333333,
              "#9c179e"
             ],
             [
              0.4444444444444444,
              "#bd3786"
             ],
             [
              0.5555555555555556,
              "#d8576b"
             ],
             [
              0.6666666666666666,
              "#ed7953"
             ],
             [
              0.7777777777777778,
              "#fb9f3a"
             ],
             [
              0.8888888888888888,
              "#fdca26"
             ],
             [
              1,
              "#f0f921"
             ]
            ],
            "type": "contour"
           }
          ],
          "contourcarpet": [
           {
            "colorbar": {
             "outlinewidth": 0,
             "ticks": ""
            },
            "type": "contourcarpet"
           }
          ],
          "heatmap": [
           {
            "colorbar": {
             "outlinewidth": 0,
             "ticks": ""
            },
            "colorscale": [
             [
              0,
              "#0d0887"
             ],
             [
              0.1111111111111111,
              "#46039f"
             ],
             [
              0.2222222222222222,
              "#7201a8"
             ],
             [
              0.3333333333333333,
              "#9c179e"
             ],
             [
              0.4444444444444444,
              "#bd3786"
             ],
             [
              0.5555555555555556,
              "#d8576b"
             ],
             [
              0.6666666666666666,
              "#ed7953"
             ],
             [
              0.7777777777777778,
              "#fb9f3a"
             ],
             [
              0.8888888888888888,
              "#fdca26"
             ],
             [
              1,
              "#f0f921"
             ]
            ],
            "type": "heatmap"
           }
          ],
          "heatmapgl": [
           {
            "colorbar": {
             "outlinewidth": 0,
             "ticks": ""
            },
            "colorscale": [
             [
              0,
              "#0d0887"
             ],
             [
              0.1111111111111111,
              "#46039f"
             ],
             [
              0.2222222222222222,
              "#7201a8"
             ],
             [
              0.3333333333333333,
              "#9c179e"
             ],
             [
              0.4444444444444444,
              "#bd3786"
             ],
             [
              0.5555555555555556,
              "#d8576b"
             ],
             [
              0.6666666666666666,
              "#ed7953"
             ],
             [
              0.7777777777777778,
              "#fb9f3a"
             ],
             [
              0.8888888888888888,
              "#fdca26"
             ],
             [
              1,
              "#f0f921"
             ]
            ],
            "type": "heatmapgl"
           }
          ],
          "histogram": [
           {
            "marker": {
             "pattern": {
              "fillmode": "overlay",
              "size": 10,
              "solidity": 0.2
             }
            },
            "type": "histogram"
           }
          ],
          "histogram2d": [
           {
            "colorbar": {
             "outlinewidth": 0,
             "ticks": ""
            },
            "colorscale": [
             [
              0,
              "#0d0887"
             ],
             [
              0.1111111111111111,
              "#46039f"
             ],
             [
              0.2222222222222222,
              "#7201a8"
             ],
             [
              0.3333333333333333,
              "#9c179e"
             ],
             [
              0.4444444444444444,
              "#bd3786"
             ],
             [
              0.5555555555555556,
              "#d8576b"
             ],
             [
              0.6666666666666666,
              "#ed7953"
             ],
             [
              0.7777777777777778,
              "#fb9f3a"
             ],
             [
              0.8888888888888888,
              "#fdca26"
             ],
             [
              1,
              "#f0f921"
             ]
            ],
            "type": "histogram2d"
           }
          ],
          "histogram2dcontour": [
           {
            "colorbar": {
             "outlinewidth": 0,
             "ticks": ""
            },
            "colorscale": [
             [
              0,
              "#0d0887"
             ],
             [
              0.1111111111111111,
              "#46039f"
             ],
             [
              0.2222222222222222,
              "#7201a8"
             ],
             [
              0.3333333333333333,
              "#9c179e"
             ],
             [
              0.4444444444444444,
              "#bd3786"
             ],
             [
              0.5555555555555556,
              "#d8576b"
             ],
             [
              0.6666666666666666,
              "#ed7953"
             ],
             [
              0.7777777777777778,
              "#fb9f3a"
             ],
             [
              0.8888888888888888,
              "#fdca26"
             ],
             [
              1,
              "#f0f921"
             ]
            ],
            "type": "histogram2dcontour"
           }
          ],
          "mesh3d": [
           {
            "colorbar": {
             "outlinewidth": 0,
             "ticks": ""
            },
            "type": "mesh3d"
           }
          ],
          "parcoords": [
           {
            "line": {
             "colorbar": {
              "outlinewidth": 0,
              "ticks": ""
             }
            },
            "type": "parcoords"
           }
          ],
          "pie": [
           {
            "automargin": true,
            "type": "pie"
           }
          ],
          "scatter": [
           {
            "fillpattern": {
             "fillmode": "overlay",
             "size": 10,
             "solidity": 0.2
            },
            "type": "scatter"
           }
          ],
          "scatter3d": [
           {
            "line": {
             "colorbar": {
              "outlinewidth": 0,
              "ticks": ""
             }
            },
            "marker": {
             "colorbar": {
              "outlinewidth": 0,
              "ticks": ""
             }
            },
            "type": "scatter3d"
           }
          ],
          "scattercarpet": [
           {
            "marker": {
             "colorbar": {
              "outlinewidth": 0,
              "ticks": ""
             }
            },
            "type": "scattercarpet"
           }
          ],
          "scattergeo": [
           {
            "marker": {
             "colorbar": {
              "outlinewidth": 0,
              "ticks": ""
             }
            },
            "type": "scattergeo"
           }
          ],
          "scattergl": [
           {
            "marker": {
             "colorbar": {
              "outlinewidth": 0,
              "ticks": ""
             }
            },
            "type": "scattergl"
           }
          ],
          "scattermapbox": [
           {
            "marker": {
             "colorbar": {
              "outlinewidth": 0,
              "ticks": ""
             }
            },
            "type": "scattermapbox"
           }
          ],
          "scatterpolar": [
           {
            "marker": {
             "colorbar": {
              "outlinewidth": 0,
              "ticks": ""
             }
            },
            "type": "scatterpolar"
           }
          ],
          "scatterpolargl": [
           {
            "marker": {
             "colorbar": {
              "outlinewidth": 0,
              "ticks": ""
             }
            },
            "type": "scatterpolargl"
           }
          ],
          "scatterternary": [
           {
            "marker": {
             "colorbar": {
              "outlinewidth": 0,
              "ticks": ""
             }
            },
            "type": "scatterternary"
           }
          ],
          "surface": [
           {
            "colorbar": {
             "outlinewidth": 0,
             "ticks": ""
            },
            "colorscale": [
             [
              0,
              "#0d0887"
             ],
             [
              0.1111111111111111,
              "#46039f"
             ],
             [
              0.2222222222222222,
              "#7201a8"
             ],
             [
              0.3333333333333333,
              "#9c179e"
             ],
             [
              0.4444444444444444,
              "#bd3786"
             ],
             [
              0.5555555555555556,
              "#d8576b"
             ],
             [
              0.6666666666666666,
              "#ed7953"
             ],
             [
              0.7777777777777778,
              "#fb9f3a"
             ],
             [
              0.8888888888888888,
              "#fdca26"
             ],
             [
              1,
              "#f0f921"
             ]
            ],
            "type": "surface"
           }
          ],
          "table": [
           {
            "cells": {
             "fill": {
              "color": "#EBF0F8"
             },
             "line": {
              "color": "white"
             }
            },
            "header": {
             "fill": {
              "color": "#C8D4E3"
             },
             "line": {
              "color": "white"
             }
            },
            "type": "table"
           }
          ]
         },
         "layout": {
          "annotationdefaults": {
           "arrowcolor": "#2a3f5f",
           "arrowhead": 0,
           "arrowwidth": 1
          },
          "autotypenumbers": "strict",
          "coloraxis": {
           "colorbar": {
            "outlinewidth": 0,
            "ticks": ""
           }
          },
          "colorscale": {
           "diverging": [
            [
             0,
             "#8e0152"
            ],
            [
             0.1,
             "#c51b7d"
            ],
            [
             0.2,
             "#de77ae"
            ],
            [
             0.3,
             "#f1b6da"
            ],
            [
             0.4,
             "#fde0ef"
            ],
            [
             0.5,
             "#f7f7f7"
            ],
            [
             0.6,
             "#e6f5d0"
            ],
            [
             0.7,
             "#b8e186"
            ],
            [
             0.8,
             "#7fbc41"
            ],
            [
             0.9,
             "#4d9221"
            ],
            [
             1,
             "#276419"
            ]
           ],
           "sequential": [
            [
             0,
             "#0d0887"
            ],
            [
             0.1111111111111111,
             "#46039f"
            ],
            [
             0.2222222222222222,
             "#7201a8"
            ],
            [
             0.3333333333333333,
             "#9c179e"
            ],
            [
             0.4444444444444444,
             "#bd3786"
            ],
            [
             0.5555555555555556,
             "#d8576b"
            ],
            [
             0.6666666666666666,
             "#ed7953"
            ],
            [
             0.7777777777777778,
             "#fb9f3a"
            ],
            [
             0.8888888888888888,
             "#fdca26"
            ],
            [
             1,
             "#f0f921"
            ]
           ],
           "sequentialminus": [
            [
             0,
             "#0d0887"
            ],
            [
             0.1111111111111111,
             "#46039f"
            ],
            [
             0.2222222222222222,
             "#7201a8"
            ],
            [
             0.3333333333333333,
             "#9c179e"
            ],
            [
             0.4444444444444444,
             "#bd3786"
            ],
            [
             0.5555555555555556,
             "#d8576b"
            ],
            [
             0.6666666666666666,
             "#ed7953"
            ],
            [
             0.7777777777777778,
             "#fb9f3a"
            ],
            [
             0.8888888888888888,
             "#fdca26"
            ],
            [
             1,
             "#f0f921"
            ]
           ]
          },
          "colorway": [
           "#636efa",
           "#EF553B",
           "#00cc96",
           "#ab63fa",
           "#FFA15A",
           "#19d3f3",
           "#FF6692",
           "#B6E880",
           "#FF97FF",
           "#FECB52"
          ],
          "font": {
           "color": "#2a3f5f"
          },
          "geo": {
           "bgcolor": "white",
           "lakecolor": "white",
           "landcolor": "#E5ECF6",
           "showlakes": true,
           "showland": true,
           "subunitcolor": "white"
          },
          "hoverlabel": {
           "align": "left"
          },
          "hovermode": "closest",
          "mapbox": {
           "style": "light"
          },
          "paper_bgcolor": "white",
          "plot_bgcolor": "#E5ECF6",
          "polar": {
           "angularaxis": {
            "gridcolor": "white",
            "linecolor": "white",
            "ticks": ""
           },
           "bgcolor": "#E5ECF6",
           "radialaxis": {
            "gridcolor": "white",
            "linecolor": "white",
            "ticks": ""
           }
          },
          "scene": {
           "xaxis": {
            "backgroundcolor": "#E5ECF6",
            "gridcolor": "white",
            "gridwidth": 2,
            "linecolor": "white",
            "showbackground": true,
            "ticks": "",
            "zerolinecolor": "white"
           },
           "yaxis": {
            "backgroundcolor": "#E5ECF6",
            "gridcolor": "white",
            "gridwidth": 2,
            "linecolor": "white",
            "showbackground": true,
            "ticks": "",
            "zerolinecolor": "white"
           },
           "zaxis": {
            "backgroundcolor": "#E5ECF6",
            "gridcolor": "white",
            "gridwidth": 2,
            "linecolor": "white",
            "showbackground": true,
            "ticks": "",
            "zerolinecolor": "white"
           }
          },
          "shapedefaults": {
           "line": {
            "color": "#2a3f5f"
           }
          },
          "ternary": {
           "aaxis": {
            "gridcolor": "white",
            "linecolor": "white",
            "ticks": ""
           },
           "baxis": {
            "gridcolor": "white",
            "linecolor": "white",
            "ticks": ""
           },
           "bgcolor": "#E5ECF6",
           "caxis": {
            "gridcolor": "white",
            "linecolor": "white",
            "ticks": ""
           }
          },
          "title": {
           "x": 0.05
          },
          "xaxis": {
           "automargin": true,
           "gridcolor": "white",
           "linecolor": "white",
           "ticks": "",
           "title": {
            "standoff": 15
           },
           "zerolinecolor": "white",
           "zerolinewidth": 2
          },
          "yaxis": {
           "automargin": true,
           "gridcolor": "white",
           "linecolor": "white",
           "ticks": "",
           "title": {
            "standoff": 15
           },
           "zerolinecolor": "white",
           "zerolinewidth": 2
          }
         }
        },
        "xaxis": {
         "anchor": "y",
         "domain": [
          0,
          1
         ],
         "title": {
          "text": "PC.REALGSP.REL"
         }
        },
        "yaxis": {
         "anchor": "x",
         "domain": [
          0,
          1
         ],
         "title": {
          "text": "CLIMATE_REGION_MISSINGNESS"
         }
        }
       }
      }
     },
     "metadata": {},
     "output_type": "display_data"
    }
   ],
   "source": [
    "sim_df = sim_df.assign(CLIMATE_REGION_MISSINGNESS = sim_df['CLIMATE.REGION'].isna())\n",
    "px.bar(sim_df.groupby('CLIMATE_REGION_MISSINGNESS')['PC.REALGSP.REL'].mean().reset_index(), orientation='h', y='CLIMATE_REGION_MISSINGNESS', x='PC.REALGSP.REL')"
   ]
  },
  {
   "cell_type": "code",
   "execution_count": 152,
   "metadata": {},
   "outputs": [
    {
     "data": {
      "text/plain": [
       "np.float64(0.000999000999000999)"
      ]
     },
     "execution_count": 152,
     "metadata": {},
     "output_type": "execute_result"
    }
   ],
   "source": [
    "# p_value comes out super small, hence these columns are related on missingness\n",
    "\n",
    "chi_df = df[['NERC.REGION', 'CLIMATE.REGION']].assign(MISSING_CLIMATE_REGION = df['CLIMATE.REGION'].isnull().astype(int))\n",
    "observed_table = pd.crosstab(chi_df['MISSING_CLIMATE_REGION'], chi_df['NERC.REGION'])\n",
    "observed_stat = chi2_contingency(observed_table)[0]\n",
    "observed_stat\n",
    "\n",
    "chi_stats = []\n",
    "for _ in range(1000):\n",
    "    shuffled = np.random.permutation(chi_df['MISSING_CLIMATE_REGION'])\n",
    "    chi_table = pd.crosstab(shuffled, chi_df['NERC.REGION'])\n",
    "    chi_stat = chi2_contingency(chi_table)[0]\n",
    "    chi_stats.append(chi_stat)\n",
    "\n",
    "p_value = np.mean(chi_stats >= observed_stat)\n",
    "p_value"
   ]
  },
  {
   "cell_type": "code",
   "execution_count": 187,
   "metadata": {},
   "outputs": [
    {
     "data": {
      "application/vnd.plotly.v1+json": {
       "config": {
        "plotlyServerURL": "https://plot.ly"
       },
       "data": [
        {
         "alignmentgroup": "True",
         "bingroup": "x",
         "hovertemplate": "variable=Simulated Chi<br>value=%{x}<br>count=%{y}<extra></extra>",
         "legendgroup": "Simulated Chi",
         "marker": {
          "color": "#636efa",
          "pattern": {
           "shape": ""
          }
         },
         "name": "Simulated Chi",
         "offsetgroup": "Simulated Chi",
         "orientation": "v",
         "showlegend": true,
         "type": "histogram",
         "x": [
          2.1732267002261256,
          2.1942724955741677,
          4.152155571320187,
          6.527721822774955,
          4.916804193764001,
          2.6245204056854723,
          7.22976282923701,
          7.035082842403696,
          7.660010739348315,
          3.9878385288171216,
          4.886197345010135,
          16.00272574127358,
          2.096113590708689,
          8.848032231078681,
          7.250808624585053,
          3.5272276743755686,
          12.485877890595203,
          12.45222540261057,
          16.00272574127358,
          3.3476072074955696,
          7.681056534696358,
          7.681056534696358,
          15.0042884063173,
          5.418952612484002,
          2.1732267002261256,
          94.23862775185674,
          2.701633515202909,
          6.993337943305905,
          4.0906560081737044,
          2.1942724955741677,
          9.470778819026291,
          5.303711340113905,
          4.357790530033351,
          4.3788363253813944,
          7.22976282923701,
          2.8192003925187863,
          7.473215649967816,
          6.042101566300937,
          6.575166955768823,
          13.585972418177228,
          2.096113590708689,
          6.734825423780785,
          6.986267871431173,
          10.307187008689759,
          9.924253833482647,
          282.8979301171057,
          8.789398762099617,
          9.472960128023301,
          6.527721822774955,
          293.3318996898283,
          8.142998086919263,
          4.890545797507218,
          15.291409544063352,
          4.486556283652697,
          4.755896552686723,
          8.749873326213203,
          6.527721822774955,
          3.3265614121475275,
          8.800879700022168,
          10.765461539026262,
          6.604834932292391,
          6.403985591600276,
          8.583763803386454,
          2.701633515202909,
          7.203875380933789,
          6.2801223168956515,
          11.09863769531182,
          9.924253833482647,
          7.250808624585053,
          9.714273776832128,
          6.993337943305905,
          11.287571956614297,
          6.305826686734797,
          2.1942724955741677,
          4.657737647821245,
          4.680562386296971,
          3.249448302630091,
          3.7328626330887325,
          8.767925983863883,
          4.680562386296971,
          4.486556283652697,
          3.5272276743755686,
          4.3788363253813944,
          9.099895131338306,
          7.681056534696358,
          39.897386680202715,
          3.3265614121475275,
          8.820005610853483,
          7.250808624585053,
          8.419446760883387,
          12.32264817797287,
          2.6245204056854723,
          12.791697956284878,
          11.024348361064673,
          2.1732267002261256,
          2.1732267002261256,
          4.250314476185666,
          6.909154761913737,
          4.890545797507218,
          8.376808329528208,
          4.916804193764001,
          2.1732267002261256,
          7.9938574252631875,
          3.5272276743755686,
          3.5272276743755686,
          4.250314476185666,
          9.044374657828007,
          23.542121546582777,
          4.657737647821245,
          12.327306752463972,
          7.152649719719575,
          19.383545222455314,
          8.789398762099617,
          16.751516912922824,
          4.250314476185666,
          101.61889440975645,
          13.56291449741825,
          11.390389435970878,
          4.40944317413526,
          7.250808624585053,
          9.703586968712266,
          13.56291449741825,
          8.770919121561244,
          7.681056534696358,
          6.604834932292392,
          2.6245204056854723,
          6.993337943305905,
          20.758387076064622,
          3.3476072074955696,
          2.1732267002261256,
          2.6034746103374298,
          9.761172248007899,
          11.565351328359775,
          4.152155571320187,
          8.820005610853483,
          9.96553314601844,
          8.583763803386454,
          6.986267871431173,
          2.096113590708689,
          5.401870244979385,
          2.8192003925187863,
          12.327306752463972,
          13.56291449741825,
          8.770919121561244,
          9.812432681697606,
          6.909154761913737,
          4.678783443169285,
          5.650291941036311,
          8.180610377568655,
          7.229762829237011,
          2.701633515202909,
          4.755896552686723,
          7.152649719719573,
          10.826961102172746,
          6.993337943305905,
          11.362503757134723,
          4.40944317413526,
          10.475488741494885,
          118.08640767804911,
          4.916804193764001,
          3.5272276743755686,
          14.974994911148023,
          10.242680591808911,
          2.096113590708689,
          15.442731514716442,
          3.5272276743755686,
          18.694065592854987,
          8.800879700022168,
          98.63590943290832,
          2.096113590708689,
          3.9878385288171216,
          10.4889176243091,
          6.527721822774955,
          5.811072359742646,
          7.4352147094861,
          4.3788363253813944,
          12.607906726742108,
          4.250314476185666,
          9.63998444258498,
          5.875578776623493,
          6.993337943305905,
          9.296332798840666,
          9.714273776832128,
          9.947081926518102,
          2.096113590708689,
          9.924253833482647,
          16.62188745737066,
          7.250808624585053,
          2.6245204056854723,
          10.981070817995942,
          6.527721822774955,
          2.6245204056854723,
          10.001366943000084,
          12.806898596468233,
          6.2801223168956515,
          9.63998444258498,
          4.250314476185666,
          10.178421255070411,
          12.083811794658136,
          4.357790530033351,
          4.755896552686723,
          2.6245204056854723,
          10.001366943000084,
          3.7328626330887325,
          4.678783443169285,
          4.0906560081737044,
          8.789398762099617,
          4.250314476185666,
          8.888496539195394,
          18.280804245793117,
          8.376808329528208,
          9.735319572180172,
          5.303711340113905,
          9.022782021820868,
          9.472960128023301,
          5.875578776623493,
          8.398400965535346,
          12.421618553856703,
          4.388397378787219,
          5.418952612484002,
          6.909154761913737,
          4.678783443169285,
          2.096113590708689,
          9.812432681697608,
          6.1449190456575185,
          21.497172482362444,
          2.701633515202909,
          6.305826686734797,
          4.680562386296971,
          11.201455174668403,
          17.98288297243426,
          2.6245204056854723,
          27.935601973478384,
          25.142948709807538,
          8.154906007729508,
          3.7328626330887325,
          10.183323733985134,
          8.885062881414338,
          6.909154761913737,
          8.398400965535345,
          8.789398762099617,
          24.614541894830758,
          3.3265614121475275,
          15.293590853060362,
          12.05810742481899,
          36.908391168623545,
          13.181481558279469,
          15.03146159729011,
          9.099895131338306,
          5.875578776623493,
          11.605998714940561,
          6.506676027426913,
          6.993337943305905,
          2.701633515202909,
          5.303711340113905,
          99.80056287890463,
          7.647544988100767,
          12.607906726742108,
          7.9938574252631875,
          5.3808244496313415,
          8.770919121561244,
          8.52226424023997,
          2.1732267002261256,
          7.035082842403696,
          3.7328626330887325,
          7.660010739348315,
          8.770919121561244,
          6.940460382493949,
          19.131559109864558,
          4.357790530033351,
          9.703586968712266,
          19.218851479724727,
          8.583763803386454,
          3.9878385288171216,
          5.772761297266911,
          7.891039945906604,
          10.001366943000084,
          6.042101566300937,
          2.1942724955741677,
          3.3476072074955696,
          9.924253833482647,
          2.1732267002261256,
          2.8192003925187863,
          3.249448302630091,
          8.329482875464745,
          8.142998086919263,
          4.755896552686723,
          8.142998086919263,
          4.680562386296971,
          9.322154029573484,
          2.1732267002261256,
          3.7328626330887325,
          9.089345879887508,
          4.40944317413526,
          6.604834932292391,
          10.706828070047195,
          56.63599100151924,
          3.5272276743755686,
          4.40944317413526,
          4.152155571320187,
          8.888496539195394,
          14.37869015858437,
          3.9878385288171216,
          5.772761297266911,
          4.40944317413526,
          3.5272276743755686,
          5.418952612484002,
          7.647544988100767,
          8.767925983863883,
          16.85322678592297,
          6.673325860634301,
          11.127165840421256,
          2.1942724955741677,
          8.767925983863883,
          4.916804193764001,
          9.296332798840666,
          4.40944317413526,
          7.731728169492936,
          4.3788363253813944,
          5.186144462798027,
          2.096113590708689,
          4.486556283652697,
          13.806409455224088,
          25.256912030392286,
          4.486556283652697,
          4.886197345010135,
          5.186144462798027,
          15.460615167622041,
          6.909154761913737,
          12.421618553856703,
          4.0906560081737044,
          5.121885126059528,
          2.1942724955741677,
          9.86398972736448,
          3.3265614121475275,
          11.563212156437798,
          3.7328626330887325,
          2.096113590708689,
          6.506676027426914,
          26.50626683293919,
          7.704554978520126,
          7.681056534696358,
          4.890545797507218,
          5.909231264608125,
          6.301168112243694,
          7.731728169492936,
          10.765461539026262,
          5.772761297266911,
          8.398400965535346,
          2.8192003925187863,
          9.939828776179295,
          2.8192003925187863,
          12.05810742481899,
          12.055629980483898,
          12.761091107531009,
          6.734825423780785,
          10.938284259493178,
          7.647544988100767,
          9.322154029573484,
          281.1130073486559,
          7.250808624585053,
          3.3476072074955696,
          15.503401726124807,
          11.319717198631958,
          8.376808329528208,
          4.680562386296971,
          7.758169644213794,
          2.1942724955741677,
          9.472960128023301,
          9.089345879887508,
          4.152155571320187,
          2.6034746103374298,
          14.37869015858437,
          5.909231264608125,
          6.734825423780785,
          6.04388050942862,
          97.7462998414208,
          3.3476072074955696,
          2.1942724955741677,
          12.607906726742108,
          9.494005923371342,
          2.1732267002261256,
          12.05810742481899,
          4.250314476185666,
          9.553493358125795,
          4.357790530033351,
          6.527721822774955,
          3.5272276743755686,
          16.593860479463462,
          20.270508186021683,
          6.734825423780785,
          9.86398972736448,
          30.5333315247333,
          3.5272276743755686,
          10.4889176243091,
          6.527721822774955,
          10.307187008689759,
          7.152649719719573,
          18.00365680000265,
          281.23057422597185,
          35.07451248781219,
          6.993337943305905,
          6.570508381277719,
          10.473709798367201,
          9.96553314601844,
          7.22976282923701,
          3.3476072074955696,
          17.127469533871714,
          9.022782021820868,
          97.71569299266693,
          4.3788363253813944,
          10.473709798367201,
          10.826961102172746,
          10.23487341505247,
          17.752397430816334,
          9.63998444258498,
          2.1732267002261256,
          15.293590853060362,
          9.761172248007899,
          14.301304723605282,
          3.249448302630091,
          4.357790530033351,
          9.947081926518102,
          13.199534215930147,
          18.143427030157515,
          7.22976282923701,
          5.772761297266911,
          2.8192003925187863,
          9.553493358125795,
          4.886197345010135,
          25.277957825740334,
          288.2238065151506,
          4.152155571320187,
          4.250314476185666,
          7.647544988100767,
          4.3788363253813944,
          4.0906560081737044,
          11.127165840421256,
          6.909154761913737,
          17.239834171756126,
          5.3808244496313415,
          4.250314476185666,
          10.209028103824277,
          2.701633515202909,
          2.1732267002261256,
          2.096113590708689,
          6.734825423780785,
          16.593860479463462,
          14.565845476759163,
          4.916804193764001,
          3.249448302630091,
          3.3476072074955696,
          8.376808329528208,
          104.88512562814071,
          10.66264405966968,
          10.183323733985134,
          4.3788363253813944,
          12.788264298503822,
          11.857258084126876,
          8.419446760883387,
          6.993337943305905,
          9.322154029573484,
          4.678783443169285,
          5.3808244496313415,
          15.698134393332522,
          11.201455174668403,
          2.8192003925187863,
          10.981070817995942,
          8.789398762099617,
          5.772761297266911,
          6.940460382493949,
          4.40944317413526,
          9.903208038134606,
          3.5272276743755686,
          5.650291941036311,
          4.152155571320187,
          2.1942724955741677,
          5.418952612484002,
          2.701633515202909,
          280.6056463290272,
          12.190279225304394,
          20.11728405990978,
          5.909231264608125,
          7.152649719719573,
          8.142998086919263,
          17.239834171756126,
          6.734825423780785,
          4.3788363253813944,
          6.263181069621076,
          10.307187008689755,
          7.152649719719573,
          5.303711340113905,
          6.506676027426914,
          14.578871993704052,
          8.583763803386454,
          9.494005923371342,
          4.678783443169285,
          7.035082842403696,
          12.05810742481899,
          7.22976282923701,
          10.737434918801064,
          12.550384307476051,
          4.916804193764001,
          6.263181069621076,
          8.770919121561244,
          4.152155571320187,
          4.657737647821245,
          4.755896552686723,
          17.060905675805078,
          6.570508381277719,
          2.8192003925187863,
          8.334385354379465,
          9.939828776179295,
          6.993337943305905,
          10.209028103824277,
          16.62188745737066,
          5.418952612484002,
          4.486556283652697,
          5.303711340113905,
          12.05810742481899,
          4.3788363253813944,
          10.209169045213322,
          2.6245204056854723,
          8.424105335374492,
          9.934926297264575,
          10.178421255070411,
          5.401870244979385,
          2.1942724955741677,
          6.673325860634301,
          2.1732267002261256,
          2.096113590708689,
          5.418952612484002,
          11.098637695311819,
          10.706828070047195,
          21.650396608474345,
          14.668662956115742,
          3.3476072074955696,
          4.678783443169285,
          5.909231264608125,
          8.903697179378751,
          4.0906560081737044,
          7.4352147094861,
          21.823356466310642,
          3.3476072074955696,
          7.250808624585053,
          4.486556283652697,
          4.678783443169285,
          2.1732267002261256,
          4.250314476185666,
          4.3788363253813944,
          6.734825423780785,
          3.249448302630091,
          20.784091445903773,
          8.848032231078681,
          2.096113590708689,
          8.356656066437555,
          10.66730263416078,
          6.971067231247816,
          7.704554978520126,
          12.190279225304394,
          10.242680591808913,
          7.203875380933789,
          8.356656066437555,
          2.1732267002261256,
          2.1942724955741677,
          3.3476072074955696,
          98.63590943290832,
          2.1942724955741677,
          4.886197345010135,
          4.678783443169285,
          6.940460382493949,
          4.250314476185666,
          8.142998086919263,
          8.142998086919263,
          4.916804193764001,
          4.0906560081737044,
          13.904568360089568,
          3.249448302630091,
          6.527721822774955,
          11.03259606088591,
          10.001366943000084,
          10.4889176243091,
          6.993337943305905,
          9.395847018505863,
          5.186144462798027,
          7.378903490893087,
          9.63998444258498,
          99.3315131005926,
          3.249448302630091,
          5.909231264608125,
          10.178421255070411,
          2.6245204056854723,
          2.1732267002261256,
          8.848032231078681,
          2.8192003925187863,
          6.506676027426913,
          2.6245204056854723,
          10.765461539026262,
          3.5272276743755686,
          6.986267871431173,
          12.190279225304394,
          6.940460382493949,
          4.3788363253813944,
          2.1942724955741677,
          4.657737647821245,
          4.680562386296971,
          6.263181069621076,
          2.1942724955741677,
          5.832118155090688,
          2.1732267002261256,
          19.218851479724727,
          8.583763803386454,
          4.678783443169285,
          8.458248629084089,
          6.042101566300937,
          15.560757177696921,
          15.676541757325383,
          5.3808244496313415,
          4.890545797507218,
          4.680562386296971,
          8.789398762099617,
          6.506676027426913,
          4.152155571320187,
          284.2563457613226,
          11.631703084779708,
          20.386624328943807,
          3.3265614121475275,
          4.250314476185666,
          8.329482875464745,
          5.875578776623493,
          15.760459501216356,
          8.770919121561244,
          4.40944317413526,
          10.242680591808913,
          8.770919121561244,
          2.701633515202909,
          5.303711340113905,
          7.473215649967816,
          4.886197345010135,
          8.770919121561244,
          6.305826686734797,
          18.70596977424436,
          10.981070817995942,
          3.249448302630091,
          12.190279225304394,
          8.419446760883387,
          4.657737647821245,
          10.475488741494885,
          281.3287331308373,
          19.234376589221142,
          2.8192003925187863,
          4.3788363253813944,
          2.6245204056854723,
          9.96553314601844,
          4.486556283652697,
          5.832118155090688,
          7.378903490893087,
          6.301168112243694,
          4.3788363253813944,
          9.278280141189986,
          6.549462585929677,
          3.3265614121475275,
          8.583763803386454,
          10.478368372858306,
          9.494005923371342,
          17.703812466408337,
          2.1732267002261256,
          284.38511151494197,
          11.557413750532561,
          7.416515781542477,
          4.755896552686723,
          8.820005610853483,
          5.121885126059528,
          2.1732267002261256,
          3.249448302630091,
          98.59312287440558,
          4.0906560081737044,
          8.583763803386454,
          11.03259606088591,
          5.3808244496313415,
          6.403985591600276,
          4.388397378787219,
          5.121885126059528,
          7.378903490893087,
          23.573028155853397,
          8.142998086919263,
          3.3476072074955696,
          4.152155571320187,
          4.388397378787219,
          4.357790530033351,
          5.772761297266911,
          6.909154761913737,
          10.711730548961917,
          5.650291941036311,
          9.470778819026291,
          9.553493358125795,
          33.60837688532396,
          4.357790530033351,
          6.506676027426914,
          2.096113590708689,
          4.3788363253813944,
          4.250314476185666,
          2.701633515202909,
          7.4352147094861,
          4.755896552686723,
          2.8192003925187863,
          10.209169045213322,
          17.15317390371086,
          3.3476072074955696,
          8.885062881414338,
          5.401870244979385,
          6.263181069621076,
          2.701633515202909,
          4.388397378787219,
          10.981070817995942,
          6.993337943305905,
          6.1449190456575185,
          6.570508381277719,
          6.604834932292391,
          13.211442136740393,
          18.08104187729974,
          9.947081926518102,
          8.770919121561244,
          7.250808624585053,
          11.319717198631958,
          18.08104187729974,
          9.395847018505863,
          6.940460382493949,
          6.04388050942862,
          7.758169644213794,
          11.024348361064673,
          2.096113590708689,
          7.035082842403696,
          17.181764823034126,
          8.458248629084089,
          8.820005610853483,
          4.388397378787219,
          18.976407913477384,
          4.357790530033351,
          284.0250064327702,
          6.993337943305905,
          7.250808624585053,
          9.63998444258498,
          4.0906560081737044,
          8.789398762099617,
          2.6034746103374298,
          3.5272276743755686,
          24.90955140354644,
          7.22976282923701,
          10.178421255070411,
          9.089345879887508,
          2.1942724955741677,
          4.152155571320187,
          4.916804193764001,
          6.993337943305905,
          2.096113590708689,
          7.250808624585053,
          5.875578776623493,
          3.249448302630091,
          4.250314476185666,
          11.024348361064673,
          4.916804193764001,
          3.249448302630091,
          15.534904501869189,
          7.152649719719573,
          6.570508381277719,
          11.627044510288604,
          3.249448302630091,
          4.680562386296971,
          11.60599871494056,
          6.986267871431173,
          13.250515972720748,
          4.657737647821245,
          6.993337943305905,
          7.203875380933789,
          7.416515781542477,
          4.916804193764001,
          8.770919121561244,
          8.356656066437555,
          6.570508381277719,
          8.355431149727508,
          15.264335515086547,
          5.401870244979385,
          6.940460382493949,
          4.40944317413526,
          3.7328626330887325,
          20.019996849877593,
          2.6245204056854723,
          8.789398762099617,
          16.85322678592297,
          10.641598264321637,
          4.886197345010135,
          7.681056534696358,
          6.604834932292391,
          6.2801223168956515,
          8.419446760883387,
          8.098143546912436,
          7.681056534696358,
          10.307187008689755,
          5.909231264608125,
          5.772761297266911,
          4.3788363253813944,
          7.9938574252631875,
          5.418952612484002,
          12.421618553856703,
          6.527721822774955,
          4.40944317413526,
          3.3476072074955696,
          2.1942724955741677,
          2.701633515202909,
          4.886197345010135,
          4.0906560081737044,
          7.152649719719573,
          5.303711340113905,
          6.993337943305905,
          9.001736226472826,
          7.75036246745735,
          4.3788363253813944,
          10.66264405966968,
          12.761091107531009,
          2.6034746103374298,
          19.648234102756778,
          3.7328626330887325,
          2.096113590708689,
          6.734825423780785,
          4.486556283652697,
          2.1942724955741677,
          11.201455174668403,
          5.418952612484002,
          24.635587690178802,
          7.704554978520126,
          4.250314476185666,
          7.250808624585053,
          6.04388050942862,
          8.789398762099617,
          4.916804193764001,
          7.4352147094861,
          2.1942724955741677,
          9.553493358125795,
          4.357790530033351,
          9.089345879887508,
          3.249448302630091,
          9.044374657828005,
          12.968769997413116,
          23.98961399788614,
          4.357790530033351,
          6.305826686734797,
          12.048553557171708,
          3.249448302630091,
          7.416515781542477,
          6.909154761913737,
          6.1449190456575185,
          10.209169045213322,
          5.121885126059528,
          4.152155571320187,
          2.701633515202909,
          10.765461539026262,
          3.3265614121475275,
          2.701633515202909,
          9.099895131338306,
          7.731728169492936,
          12.607906726742108,
          7.152649719719573,
          11.350595836324477,
          4.657737647821245,
          9.73531957218017,
          3.9878385288171216,
          7.229762829237011,
          4.250314476185666,
          13.904568360089568,
          8.36008972421861,
          2.1942724955741677,
          4.152155571320187,
          3.3476072074955696,
          5.401870244979385,
          9.089345879887508,
          14.553167623864905,
          3.3476072074955696,
          9.494005923371342,
          11.287571956614297,
          2.6034746103374298,
          5.186144462798027,
          8.770919121561244,
          3.7328626330887325,
          4.486556283652697,
          10.957960216862567,
          12.421618553856703,
          11.661371061303276,
          8.398400965535345,
          4.152155571320187,
          5.401870244979385,
          5.811072359742646,
          2.1732267002261256,
          4.886197345010135,
          8.36008972421861,
          5.401870244979385,
          8.583763803386454,
          10.183323733985132,
          9.494005923371342,
          4.886197345010135,
          4.486556283652697,
          9.934926297264575,
          3.7328626330887325,
          2.096113590708689,
          3.7328626330887325,
          5.811072359742646,
          9.924253833482647,
          6.993337943305905,
          2.6034746103374298,
          12.45222540261057,
          4.250314476185666,
          2.096113590708689,
          8.154906007729508,
          2.8192003925187863,
          3.5272276743755686,
          7.152649719719573,
          2.1942724955741677,
          3.3476072074955696,
          9.86398972736448,
          6.549462585929677,
          102.7327036857914,
          3.249448302630091,
          12.765993586445731,
          8.52226424023997,
          10.237054724049479,
          8.356656066437555,
          15.821997668037145,
          93.5365867453947,
          4.890545797507218,
          9.470778819026291,
          4.0906560081737044,
          3.3476072074955696,
          8.770919121561244,
          281.1130073486559,
          102.08207141900763,
          6.673325860634301,
          2.8192003925187863,
          2.1942724955741677,
          10.4889176243091,
          8.398400965535346,
          12.704081117111652,
          6.263181069621076,
          2.6245204056854723,
          12.788264298503819,
          7.152649719719573,
          2.8192003925187863,
          13.181481558279469,
          7.152649719719573,
          7.152649719719573,
          6.986267871431173,
          4.152155571320187,
          23.98961399788614,
          14.37869015858437,
          9.494005923371342,
          9.470778819026291,
          9.395847018505863,
          7.035082842403696,
          13.181481558279469,
          10.209028103824277,
          2.8192003925187863,
          4.152155571320187,
          3.3476072074955696,
          4.3788363253813944,
          8.857889690441528,
          9.939828776179295,
          10.242680591808911,
          13.45493709454623,
          11.09863769531182,
          3.3265614121475275,
          7.378903490893087,
          8.376808329528208,
          11.627044510288604,
          16.025148381517823,
          5.875578776623493,
          18.238017687290352,
          5.418952612484002,
          5.875578776623493,
          4.250314476185666,
          5.401870244979385,
          4.40944317413526,
          28.684393145127633,
          4.152155571320187,
          4.678783443169285,
          9.812432681697608,
          15.264335515086547,
          4.886197345010135,
          12.788264298503819,
          9.099895131338306,
          3.7328626330887325,
          5.401870244979385,
          13.578800369250857,
          9.740126452659856,
          5.303711340113905,
          2.1942724955741677,
          2.6245204056854723,
          25.81492320507551,
          6.1449190456575185,
          23.893593907260637,
          4.250314476185666,
          5.3808244496313415
         ],
         "xaxis": "x",
         "yaxis": "y"
        }
       ],
       "layout": {
        "annotations": [
         {
          "showarrow": false,
          "text": "Observed Test Statistic",
          "x": 1398,
          "xanchor": "right",
          "xref": "x",
          "y": 1,
          "yanchor": "top",
          "yref": "y domain"
         }
        ],
        "barmode": "relative",
        "legend": {
         "title": {
          "text": "variable"
         },
         "tracegroupgap": 0
        },
        "margin": {
         "t": 60
        },
        "shapes": [
         {
          "line": {
           "color": "green",
           "dash": "dash",
           "width": 3
          },
          "type": "line",
          "x0": 1398,
          "x1": 1398,
          "xref": "x",
          "y0": 0,
          "y1": 1,
          "yref": "y domain"
         }
        ],
        "template": {
         "data": {
          "bar": [
           {
            "error_x": {
             "color": "#2a3f5f"
            },
            "error_y": {
             "color": "#2a3f5f"
            },
            "marker": {
             "line": {
              "color": "#E5ECF6",
              "width": 0.5
             },
             "pattern": {
              "fillmode": "overlay",
              "size": 10,
              "solidity": 0.2
             }
            },
            "type": "bar"
           }
          ],
          "barpolar": [
           {
            "marker": {
             "line": {
              "color": "#E5ECF6",
              "width": 0.5
             },
             "pattern": {
              "fillmode": "overlay",
              "size": 10,
              "solidity": 0.2
             }
            },
            "type": "barpolar"
           }
          ],
          "carpet": [
           {
            "aaxis": {
             "endlinecolor": "#2a3f5f",
             "gridcolor": "white",
             "linecolor": "white",
             "minorgridcolor": "white",
             "startlinecolor": "#2a3f5f"
            },
            "baxis": {
             "endlinecolor": "#2a3f5f",
             "gridcolor": "white",
             "linecolor": "white",
             "minorgridcolor": "white",
             "startlinecolor": "#2a3f5f"
            },
            "type": "carpet"
           }
          ],
          "choropleth": [
           {
            "colorbar": {
             "outlinewidth": 0,
             "ticks": ""
            },
            "type": "choropleth"
           }
          ],
          "contour": [
           {
            "colorbar": {
             "outlinewidth": 0,
             "ticks": ""
            },
            "colorscale": [
             [
              0,
              "#0d0887"
             ],
             [
              0.1111111111111111,
              "#46039f"
             ],
             [
              0.2222222222222222,
              "#7201a8"
             ],
             [
              0.3333333333333333,
              "#9c179e"
             ],
             [
              0.4444444444444444,
              "#bd3786"
             ],
             [
              0.5555555555555556,
              "#d8576b"
             ],
             [
              0.6666666666666666,
              "#ed7953"
             ],
             [
              0.7777777777777778,
              "#fb9f3a"
             ],
             [
              0.8888888888888888,
              "#fdca26"
             ],
             [
              1,
              "#f0f921"
             ]
            ],
            "type": "contour"
           }
          ],
          "contourcarpet": [
           {
            "colorbar": {
             "outlinewidth": 0,
             "ticks": ""
            },
            "type": "contourcarpet"
           }
          ],
          "heatmap": [
           {
            "colorbar": {
             "outlinewidth": 0,
             "ticks": ""
            },
            "colorscale": [
             [
              0,
              "#0d0887"
             ],
             [
              0.1111111111111111,
              "#46039f"
             ],
             [
              0.2222222222222222,
              "#7201a8"
             ],
             [
              0.3333333333333333,
              "#9c179e"
             ],
             [
              0.4444444444444444,
              "#bd3786"
             ],
             [
              0.5555555555555556,
              "#d8576b"
             ],
             [
              0.6666666666666666,
              "#ed7953"
             ],
             [
              0.7777777777777778,
              "#fb9f3a"
             ],
             [
              0.8888888888888888,
              "#fdca26"
             ],
             [
              1,
              "#f0f921"
             ]
            ],
            "type": "heatmap"
           }
          ],
          "heatmapgl": [
           {
            "colorbar": {
             "outlinewidth": 0,
             "ticks": ""
            },
            "colorscale": [
             [
              0,
              "#0d0887"
             ],
             [
              0.1111111111111111,
              "#46039f"
             ],
             [
              0.2222222222222222,
              "#7201a8"
             ],
             [
              0.3333333333333333,
              "#9c179e"
             ],
             [
              0.4444444444444444,
              "#bd3786"
             ],
             [
              0.5555555555555556,
              "#d8576b"
             ],
             [
              0.6666666666666666,
              "#ed7953"
             ],
             [
              0.7777777777777778,
              "#fb9f3a"
             ],
             [
              0.8888888888888888,
              "#fdca26"
             ],
             [
              1,
              "#f0f921"
             ]
            ],
            "type": "heatmapgl"
           }
          ],
          "histogram": [
           {
            "marker": {
             "pattern": {
              "fillmode": "overlay",
              "size": 10,
              "solidity": 0.2
             }
            },
            "type": "histogram"
           }
          ],
          "histogram2d": [
           {
            "colorbar": {
             "outlinewidth": 0,
             "ticks": ""
            },
            "colorscale": [
             [
              0,
              "#0d0887"
             ],
             [
              0.1111111111111111,
              "#46039f"
             ],
             [
              0.2222222222222222,
              "#7201a8"
             ],
             [
              0.3333333333333333,
              "#9c179e"
             ],
             [
              0.4444444444444444,
              "#bd3786"
             ],
             [
              0.5555555555555556,
              "#d8576b"
             ],
             [
              0.6666666666666666,
              "#ed7953"
             ],
             [
              0.7777777777777778,
              "#fb9f3a"
             ],
             [
              0.8888888888888888,
              "#fdca26"
             ],
             [
              1,
              "#f0f921"
             ]
            ],
            "type": "histogram2d"
           }
          ],
          "histogram2dcontour": [
           {
            "colorbar": {
             "outlinewidth": 0,
             "ticks": ""
            },
            "colorscale": [
             [
              0,
              "#0d0887"
             ],
             [
              0.1111111111111111,
              "#46039f"
             ],
             [
              0.2222222222222222,
              "#7201a8"
             ],
             [
              0.3333333333333333,
              "#9c179e"
             ],
             [
              0.4444444444444444,
              "#bd3786"
             ],
             [
              0.5555555555555556,
              "#d8576b"
             ],
             [
              0.6666666666666666,
              "#ed7953"
             ],
             [
              0.7777777777777778,
              "#fb9f3a"
             ],
             [
              0.8888888888888888,
              "#fdca26"
             ],
             [
              1,
              "#f0f921"
             ]
            ],
            "type": "histogram2dcontour"
           }
          ],
          "mesh3d": [
           {
            "colorbar": {
             "outlinewidth": 0,
             "ticks": ""
            },
            "type": "mesh3d"
           }
          ],
          "parcoords": [
           {
            "line": {
             "colorbar": {
              "outlinewidth": 0,
              "ticks": ""
             }
            },
            "type": "parcoords"
           }
          ],
          "pie": [
           {
            "automargin": true,
            "type": "pie"
           }
          ],
          "scatter": [
           {
            "fillpattern": {
             "fillmode": "overlay",
             "size": 10,
             "solidity": 0.2
            },
            "type": "scatter"
           }
          ],
          "scatter3d": [
           {
            "line": {
             "colorbar": {
              "outlinewidth": 0,
              "ticks": ""
             }
            },
            "marker": {
             "colorbar": {
              "outlinewidth": 0,
              "ticks": ""
             }
            },
            "type": "scatter3d"
           }
          ],
          "scattercarpet": [
           {
            "marker": {
             "colorbar": {
              "outlinewidth": 0,
              "ticks": ""
             }
            },
            "type": "scattercarpet"
           }
          ],
          "scattergeo": [
           {
            "marker": {
             "colorbar": {
              "outlinewidth": 0,
              "ticks": ""
             }
            },
            "type": "scattergeo"
           }
          ],
          "scattergl": [
           {
            "marker": {
             "colorbar": {
              "outlinewidth": 0,
              "ticks": ""
             }
            },
            "type": "scattergl"
           }
          ],
          "scattermapbox": [
           {
            "marker": {
             "colorbar": {
              "outlinewidth": 0,
              "ticks": ""
             }
            },
            "type": "scattermapbox"
           }
          ],
          "scatterpolar": [
           {
            "marker": {
             "colorbar": {
              "outlinewidth": 0,
              "ticks": ""
             }
            },
            "type": "scatterpolar"
           }
          ],
          "scatterpolargl": [
           {
            "marker": {
             "colorbar": {
              "outlinewidth": 0,
              "ticks": ""
             }
            },
            "type": "scatterpolargl"
           }
          ],
          "scatterternary": [
           {
            "marker": {
             "colorbar": {
              "outlinewidth": 0,
              "ticks": ""
             }
            },
            "type": "scatterternary"
           }
          ],
          "surface": [
           {
            "colorbar": {
             "outlinewidth": 0,
             "ticks": ""
            },
            "colorscale": [
             [
              0,
              "#0d0887"
             ],
             [
              0.1111111111111111,
              "#46039f"
             ],
             [
              0.2222222222222222,
              "#7201a8"
             ],
             [
              0.3333333333333333,
              "#9c179e"
             ],
             [
              0.4444444444444444,
              "#bd3786"
             ],
             [
              0.5555555555555556,
              "#d8576b"
             ],
             [
              0.6666666666666666,
              "#ed7953"
             ],
             [
              0.7777777777777778,
              "#fb9f3a"
             ],
             [
              0.8888888888888888,
              "#fdca26"
             ],
             [
              1,
              "#f0f921"
             ]
            ],
            "type": "surface"
           }
          ],
          "table": [
           {
            "cells": {
             "fill": {
              "color": "#EBF0F8"
             },
             "line": {
              "color": "white"
             }
            },
            "header": {
             "fill": {
              "color": "#C8D4E3"
             },
             "line": {
              "color": "white"
             }
            },
            "type": "table"
           }
          ]
         },
         "layout": {
          "annotationdefaults": {
           "arrowcolor": "#2a3f5f",
           "arrowhead": 0,
           "arrowwidth": 1
          },
          "autotypenumbers": "strict",
          "coloraxis": {
           "colorbar": {
            "outlinewidth": 0,
            "ticks": ""
           }
          },
          "colorscale": {
           "diverging": [
            [
             0,
             "#8e0152"
            ],
            [
             0.1,
             "#c51b7d"
            ],
            [
             0.2,
             "#de77ae"
            ],
            [
             0.3,
             "#f1b6da"
            ],
            [
             0.4,
             "#fde0ef"
            ],
            [
             0.5,
             "#f7f7f7"
            ],
            [
             0.6,
             "#e6f5d0"
            ],
            [
             0.7,
             "#b8e186"
            ],
            [
             0.8,
             "#7fbc41"
            ],
            [
             0.9,
             "#4d9221"
            ],
            [
             1,
             "#276419"
            ]
           ],
           "sequential": [
            [
             0,
             "#0d0887"
            ],
            [
             0.1111111111111111,
             "#46039f"
            ],
            [
             0.2222222222222222,
             "#7201a8"
            ],
            [
             0.3333333333333333,
             "#9c179e"
            ],
            [
             0.4444444444444444,
             "#bd3786"
            ],
            [
             0.5555555555555556,
             "#d8576b"
            ],
            [
             0.6666666666666666,
             "#ed7953"
            ],
            [
             0.7777777777777778,
             "#fb9f3a"
            ],
            [
             0.8888888888888888,
             "#fdca26"
            ],
            [
             1,
             "#f0f921"
            ]
           ],
           "sequentialminus": [
            [
             0,
             "#0d0887"
            ],
            [
             0.1111111111111111,
             "#46039f"
            ],
            [
             0.2222222222222222,
             "#7201a8"
            ],
            [
             0.3333333333333333,
             "#9c179e"
            ],
            [
             0.4444444444444444,
             "#bd3786"
            ],
            [
             0.5555555555555556,
             "#d8576b"
            ],
            [
             0.6666666666666666,
             "#ed7953"
            ],
            [
             0.7777777777777778,
             "#fb9f3a"
            ],
            [
             0.8888888888888888,
             "#fdca26"
            ],
            [
             1,
             "#f0f921"
            ]
           ]
          },
          "colorway": [
           "#636efa",
           "#EF553B",
           "#00cc96",
           "#ab63fa",
           "#FFA15A",
           "#19d3f3",
           "#FF6692",
           "#B6E880",
           "#FF97FF",
           "#FECB52"
          ],
          "font": {
           "color": "#2a3f5f"
          },
          "geo": {
           "bgcolor": "white",
           "lakecolor": "white",
           "landcolor": "#E5ECF6",
           "showlakes": true,
           "showland": true,
           "subunitcolor": "white"
          },
          "hoverlabel": {
           "align": "left"
          },
          "hovermode": "closest",
          "mapbox": {
           "style": "light"
          },
          "paper_bgcolor": "white",
          "plot_bgcolor": "#E5ECF6",
          "polar": {
           "angularaxis": {
            "gridcolor": "white",
            "linecolor": "white",
            "ticks": ""
           },
           "bgcolor": "#E5ECF6",
           "radialaxis": {
            "gridcolor": "white",
            "linecolor": "white",
            "ticks": ""
           }
          },
          "scene": {
           "xaxis": {
            "backgroundcolor": "#E5ECF6",
            "gridcolor": "white",
            "gridwidth": 2,
            "linecolor": "white",
            "showbackground": true,
            "ticks": "",
            "zerolinecolor": "white"
           },
           "yaxis": {
            "backgroundcolor": "#E5ECF6",
            "gridcolor": "white",
            "gridwidth": 2,
            "linecolor": "white",
            "showbackground": true,
            "ticks": "",
            "zerolinecolor": "white"
           },
           "zaxis": {
            "backgroundcolor": "#E5ECF6",
            "gridcolor": "white",
            "gridwidth": 2,
            "linecolor": "white",
            "showbackground": true,
            "ticks": "",
            "zerolinecolor": "white"
           }
          },
          "shapedefaults": {
           "line": {
            "color": "#2a3f5f"
           }
          },
          "ternary": {
           "aaxis": {
            "gridcolor": "white",
            "linecolor": "white",
            "ticks": ""
           },
           "baxis": {
            "gridcolor": "white",
            "linecolor": "white",
            "ticks": ""
           },
           "bgcolor": "#E5ECF6",
           "caxis": {
            "gridcolor": "white",
            "linecolor": "white",
            "ticks": ""
           }
          },
          "title": {
           "x": 0.05
          },
          "xaxis": {
           "automargin": true,
           "gridcolor": "white",
           "linecolor": "white",
           "ticks": "",
           "title": {
            "standoff": 15
           },
           "zerolinecolor": "white",
           "zerolinewidth": 2
          },
          "yaxis": {
           "automargin": true,
           "gridcolor": "white",
           "linecolor": "white",
           "ticks": "",
           "title": {
            "standoff": 15
           },
           "zerolinecolor": "white",
           "zerolinewidth": 2
          }
         }
        },
        "xaxis": {
         "anchor": "y",
         "domain": [
          0,
          1
         ],
         "title": {
          "text": "value"
         }
        },
        "yaxis": {
         "anchor": "x",
         "domain": [
          0,
          1
         ],
         "title": {
          "text": "count"
         }
        }
       }
      }
     },
     "metadata": {},
     "output_type": "display_data"
    }
   ],
   "source": [
    "chi_viz = pd.DataFrame({'Simulated Chi': chi_stats})\n",
    "fig = px.histogram(chi_viz)\n",
    "fig.add_vline(x=observed_stat, line_width=3, line_dash='dash', line_color='green', annotation_text='Observed Test Statistic', annotation_position='top left')\n",
    "fig.show()"
   ]
  },
  {
   "cell_type": "markdown",
   "metadata": {},
   "source": [
    "## Step 4: Hypothesis Testing"
   ]
  },
  {
   "cell_type": "markdown",
   "metadata": {},
   "source": [
    "**Null Hypothesis**: Outage Durations are equal in length regardless of whether the majority of electricity consumption in the state is residential or industrial\n",
    "**Alternate Hypothesis**: Outage Durations are longer when the majority of electricity consumption in the state is residential, as compared to industrial\n",
    "\n",
    "I define the majority to be more than 50%. Hence, we would be comparing `'OUTAGE.DURATION'` across rows with `'RES.PERCEN' > 50.0` and `'IND.PERCEN' > 50.0`.\n",
    "\n",
    "Our text statistic would be subtracting the mean `'OUTAGE.DURATION'` of industrially dominated states from the mean `'OUTAGE.DURATION'` of residentially dominated states. This would be a permutation test.\n",
    "\n",
    "Since we only have ~1500 rows, we chose a p-value of 0.05."
   ]
  },
  {
   "cell_type": "code",
   "execution_count": 181,
   "metadata": {
    "ExecuteTime": {
     "end_time": "2019-10-31T23:36:28.666489Z",
     "start_time": "2019-10-31T23:36:28.664381Z"
    }
   },
   "outputs": [
    {
     "data": {
      "text/plain": [
       "np.float64(0.025)"
      ]
     },
     "execution_count": 181,
     "metadata": {},
     "output_type": "execute_result"
    }
   ],
   "source": [
    "residential = df[df['RES.PERCEN'] > 50.0]['OUTAGE.DURATION']\n",
    "industrial = df[df['IND.PERCEN'] > 50.0]['OUTAGE.DURATION']\n",
    "observed_test_stat = residential.mean() - industrial.mean()\n",
    "\n",
    "# calculating simulated statistics,\n",
    "perm_df = df[['RES.PERCEN', 'IND.PERCEN', 'OUTAGE.DURATION']]\n",
    "perm_stats = []\n",
    "for _ in range(1000):\n",
    "    shuffled = np.random.permutation(df['OUTAGE.DURATION'])\n",
    "    perm_df = perm_df.assign(SHUFFLED_OUTAGE_DURATION = shuffled)\n",
    "    residential_sim = perm_df[perm_df['RES.PERCEN'] > 50.0]['SHUFFLED_OUTAGE_DURATION']\n",
    "    industrial_sim = perm_df[perm_df['IND.PERCEN'] > 50.0]['SHUFFLED_OUTAGE_DURATION']\n",
    "    perm_stat = residential_sim.mean() - industrial_sim.mean()\n",
    "    perm_stats.append(perm_stat)\n",
    "\n",
    "p_value = np.mean(perm_stats >= observed_test_stat)\n",
    "p_value # we reject the null, < 0.05"
   ]
  },
  {
   "cell_type": "code",
   "execution_count": 185,
   "metadata": {},
   "outputs": [
    {
     "data": {
      "application/vnd.plotly.v1+json": {
       "config": {
        "plotlyServerURL": "https://plot.ly"
       },
       "data": [
        {
         "alignmentgroup": "True",
         "bingroup": "x",
         "hovertemplate": "variable=Test Statistic<br>value=%{x}<br>count=%{y}<extra></extra>",
         "legendgroup": "Test Statistic",
         "marker": {
          "color": "#636efa",
          "pattern": {
           "shape": ""
          }
         },
         "name": "Test Statistic",
         "offsetgroup": "Test Statistic",
         "orientation": "v",
         "showlegend": true,
         "type": "histogram",
         "x": [
          -2362.2514285714283,
          -646.2028571428573,
          -298.7828571428572,
          -341.2942857142857,
          -5326.42,
          -206.10285714285737,
          1611.8514285714286,
          431.7514285714283,
          -922.2085714285718,
          -559.6342857142859,
          377.34285714285716,
          961.2057142857143,
          -4229.782857142856,
          1917.6457142857143,
          -949.1742857142858,
          1533.06,
          -582.9685714285715,
          -972.7657142857142,
          -825.2714285714283,
          1783.8857142857141,
          481.38571428571413,
          -1378.9771428571426,
          189.02285714285745,
          908.2485714285715,
          -4817.551428571429,
          754.3828571428569,
          -2312.877142857143,
          -297.82857142857165,
          -110.38000000000011,
          525.0914285714284,
          -3.2857142857142208,
          1693.7314285714283,
          -434.48571428571404,
          1436.9171428571426,
          -793.2057142857143,
          1606.9685714285713,
          -271.4885714285715,
          1229.051428571428,
          1170.3885714285714,
          -526.4742857142858,
          -352.46000000000004,
          3492.38,
          692.0457142857144,
          299.3942857142856,
          2335.6685714285713,
          -2009.4085714285716,
          902.5828571428572,
          -1074.1914285714283,
          1648.1657142857143,
          -2980.737142857143,
          153.73714285714277,
          1434.0371428571427,
          -541.6514285714284,
          832.4514285714286,
          -759.6571428571426,
          1064.557142857143,
          1364.06,
          534.9342857142856,
          372.3571428571429,
          1303.1714285714288,
          -151.82000000000016,
          1438.0371428571425,
          -1227.7485714285717,
          696.6657142857144,
          -293.8399999999999,
          731.02,
          91.89142857142883,
          1002.4114285714286,
          -391.84571428571417,
          1160.42,
          841.06,
          -3353.1571428571433,
          1173.702857142857,
          -25.45428571428556,
          2067.7285714285717,
          123.61714285714288,
          1682.425714285714,
          447.8371428571429,
          128.31142857142822,
          331.4628571428573,
          775.4085714285716,
          681.2542857142857,
          1239.6114285714284,
          -28.497142857142535,
          45.42000000000007,
          -3778.9085714285716,
          -1195.2028571428573,
          -3100.6742857142854,
          1218.0114285714287,
          -772.1199999999999,
          -614.5085714285715,
          -2550.3,
          -385.14857142857136,
          1502.6685714285713,
          280.33428571428567,
          1305.5857142857144,
          199.82571428571418,
          -20.45428571428556,
          1916.6657142857143,
          498.7142857142858,
          187.86571428571415,
          -128.17428571428582,
          1815.3914285714286,
          1747.985714285714,
          -0.0428571428574287,
          -2152.9285714285716,
          319.77142857142826,
          1860.7257142857143,
          1526.1114285714286,
          2296.034285714286,
          2255.591428571429,
          -618.7428571428572,
          3211.2314285714283,
          -2566.9114285714286,
          575.7199999999998,
          -1103.945714285714,
          674.1457142857143,
          -6349.654285714287,
          -123.03999999999996,
          -598.5,
          -7108.294285714286,
          230.2828571428572,
          -1102.594285714286,
          941.3542857142857,
          3402.777142857143,
          -165.2828571428572,
          -799.4971428571425,
          -1682.7600000000002,
          1062.6057142857144,
          1301.7685714285715,
          -657.8171428571427,
          1064.5571428571427,
          94.25714285714298,
          -667.3057142857142,
          -2238.237142857143,
          -1115.3057142857142,
          766.6400000000003,
          -759.3285714285716,
          3622.097142857143,
          -2895.962857142857,
          449.24285714285725,
          3884.511428571428,
          1091.88,
          995.3657142857143,
          1586.3600000000001,
          1946.3514285714286,
          1244.2114285714283,
          -1880.9857142857143,
          507.6628571428571,
          1208.7314285714285,
          -2.088571428571413,
          -304.39714285714285,
          151.3171428571427,
          870.7657142857142,
          303.525714285714,
          1703.1142857142859,
          -113.79714285714272,
          -6893.48857142857,
          -757.0999999999999,
          -1488.2171428571432,
          -597.2285714285717,
          371.4057142857141,
          -1162.7485714285715,
          -712.2542857142857,
          238.474285714286,
          253.83428571428567,
          -2741.3485714285716,
          392.61428571428587,
          790.6457142857143,
          -3908.2457142857147,
          233.2828571428572,
          2764.917142857143,
          -262.7885714285717,
          -1639.3085714285717,
          1118.1399999999999,
          -4717.865714285715,
          1573.7257142857143,
          -1240.0171428571425,
          -824.1371428571429,
          761.8457142857142,
          -342.8885714285716,
          1605.6485714285711,
          -1973.7600000000002,
          1107.182857142857,
          39.41142857142859,
          121.87428571428586,
          854.9685714285715,
          2726.394285714286,
          -2733.0257142857145,
          346.4114285714286,
          -52.33714285714268,
          2521.2914285714282,
          -1506.4714285714285,
          -1553.2771428571432,
          -468.7314285714283,
          1370.282857142857,
          458.65428571428583,
          -322.73714285714277,
          1158.5857142857144,
          -674.4314285714283,
          -448.0342857142857,
          789.4028571428576,
          430.92857142857133,
          709.9257142857143,
          -968.6742857142858,
          -2504.377142857143,
          1168.1085714285714,
          -1230.6,
          345.9057142857141,
          1185.8942857142856,
          -851.78,
          -1976.76,
          1116.3400000000001,
          531.6857142857143,
          -4212.04,
          -3060.28,
          1261.7857142857142,
          2140.8771428571426,
          -2082.182857142857,
          -2015.3457142857142,
          1547.1857142857143,
          3153.6285714285714,
          880.54,
          377.51428571428573,
          -7039.677142857143,
          772.5457142857144,
          -431.94285714285706,
          -839.4257142857143,
          -697.3400000000001,
          -2512.76,
          695.5257142857142,
          -1509.6228571428574,
          439.8171428571429,
          157.90285714285733,
          2198.0714285714284,
          -167.5114285714285,
          567.7457142857143,
          -203.84000000000015,
          -1611.7600000000002,
          -1167.5114285714285,
          1836.6485714285714,
          1493.1142857142859,
          1196.8085714285714,
          598.9885714285713,
          -499.4257142857141,
          -2057.4571428571426,
          1351.98,
          -506.80857142857167,
          998.3914285714286,
          467.9342857142856,
          1259.5371428571427,
          -1066.6542857142858,
          -8374.897142857142,
          -1931.2457142857147,
          1047.9628571428573,
          2346.885714285714,
          68.18857142857132,
          1131.7399999999998,
          33.16857142857134,
          -1410.554285714286,
          491.54285714285743,
          -1870.1799999999998,
          957.8885714285714,
          205.46857142857152,
          110.11428571428587,
          629.2142857142858,
          122.96857142857152,
          598.5114285714287,
          -1138.2114285714283,
          692.0485714285714,
          488.11428571428587,
          -2359.8314285714287,
          518.1285714285711,
          -1138.5857142857142,
          -4146.317142857143,
          466.02,
          186.87428571428563,
          2065.134285714286,
          -165.92285714285754,
          -278.2514285714283,
          -934.7857142857142,
          -98.40857142857158,
          -891.4971428571425,
          2269.0228571428574,
          -4522.58,
          -498.3685714285716,
          660.0628571428574,
          -1331.6371428571429,
          255.28857142857123,
          -385.5371428571425,
          -587.514285714286,
          -316.6085714285716,
          476.86571428571415,
          -1213.6314285714284,
          1794.702857142857,
          214.1085714285714,
          1856.945714285714,
          -1984.2771428571427,
          1347.3142857142857,
          -674.3485714285716,
          -3801.48,
          -1186.8314285714287,
          -251.2171428571428,
          -5786.662857142857,
          851.4285714285713,
          3398.642857142857,
          1007.474285714286,
          1953.168571428571,
          -172.5885714285714,
          1667.8885714285714,
          269.2057142857143,
          -241.0114285714285,
          -354.7285714285715,
          -145.65714285714262,
          606.5771428571427,
          978.7885714285717,
          2072.56,
          -2388.285714285714,
          -124.98571428571427,
          -1614.1057142857148,
          -165.63714285714263,
          1729.177142857143,
          469.25142857142873,
          -1373.1857142857143,
          48.894285714285616,
          211.4371428571426,
          -5465.811428571428,
          1450.3400000000001,
          785.7428571428572,
          -435.3685714285716,
          -154.80000000000018,
          -2748.08,
          836.822857142857,
          -95.92285714285754,
          -470.4000000000001,
          -723.7742857142857,
          -1446.6685714285713,
          -4498.5542857142855,
          -148.15428571428583,
          -4481.402857142857,
          920.7714285714283,
          -264.997142857143,
          10.851428571428642,
          1157.494285714286,
          958.4000000000001,
          782.0285714285712,
          -3728.4114285714286,
          -800.1428571428573,
          -701.3028571428572,
          1928.3485714285714,
          2274.0371428571425,
          4133.3,
          -1100.8571428571427,
          -537.7171428571426,
          498.05999999999995,
          -2823.8857142857146,
          -425.8714285714286,
          -1089.7685714285715,
          -1952.1571428571433,
          2169.7342857142858,
          -2104.0342857142855,
          -3359.24,
          907.297142857143,
          1091.5885714285712,
          1288.7399999999998,
          -1270.5285714285715,
          -419.9828571428575,
          -280.7199999999998,
          -473.8828571428571,
          1830.122857142857,
          545.5342857142859,
          1899.574285714286,
          -78.77714285714274,
          -3824.9228571428566,
          194.84571428571417,
          -202.8142857142857,
          -1335.0857142857144,
          -1056.3285714285716,
          -2376.2057142857147,
          -1977.454285714285,
          253.84285714285716,
          707.0714285714284,
          1304.0114285714287,
          522.3114285714282,
          820.6028571428571,
          2272.857142857143,
          715.6257142857141,
          2067.862857142857,
          1001.474285714286,
          68.4142857142856,
          -399.16571428571433,
          -1367.78,
          2432.9542857142856,
          -1251.5771428571425,
          -690.4257142857141,
          -1295.2514285714283,
          -2330.665714285715,
          787.5714285714286,
          -2068.8485714285716,
          -105.26571428571424,
          967.4514285714286,
          -484.1771428571426,
          -1718.3971428571426,
          1160.5828571428572,
          525.3800000000001,
          -2452.3514285714286,
          1097.302857142857,
          1331.1657142857143,
          -3856.2485714285717,
          -693.8942857142856,
          526.1485714285718,
          1608.4142857142856,
          -764.6999999999998,
          980.5485714285712,
          1331.04,
          1758.3485714285716,
          -77.5857142857144,
          974.0514285714287,
          1668.96,
          669.7914285714285,
          -495.525714285714,
          2073.6914285714283,
          -792.7914285714285,
          1232.5657142857144,
          -140.05999999999995,
          1257.3942857142856,
          -813.1571428571426,
          791.2571428571428,
          -1560.48,
          1092.1114285714286,
          190.23428571428576,
          566.3085714285714,
          2823.094285714286,
          695.5600000000004,
          -1066.28,
          135.42857142857156,
          -186.60571428571438,
          -1549.8057142857142,
          627.3457142857142,
          453.9257142857141,
          -3053.0142857142855,
          181.60571428571438,
          -3883.02,
          1350.68,
          1744.4485714285715,
          -3793.4657142857145,
          725.1999999999998,
          -3541.977142857143,
          592.1542857142858,
          238.99142857142851,
          1179.2485714285713,
          -1660.7657142857142,
          3418.722857142857,
          756.5571428571427,
          1673.9228571428573,
          -1465.6142857142859,
          -1992.9485714285715,
          1257.1028571428571,
          2787.6428571428573,
          2298.3714285714286,
          -963.6114285714284,
          -4929.219999999999,
          -1448.9342857142856,
          224.30857142857167,
          1341.3285714285714,
          186.72000000000003,
          -5445.288571428571,
          2416.437142857143,
          274.08285714285716,
          1346.2342857142858,
          2500.357142857143,
          790.7285714285713,
          440.6714285714286,
          -3499.6285714285714,
          -1394.2314285714285,
          1212.197142857143,
          -1196.7771428571427,
          849.4485714285715,
          -18.480000000000018,
          -50.59142857142842,
          -600.9342857142858,
          -762.7771428571427,
          -221.41142857142836,
          32.657142857142844,
          1314.2399999999998,
          -160.54285714285743,
          -3923.5485714285714,
          -1134.4285714285716,
          -2548.6085714285714,
          -540.7828571428572,
          -3366.3657142857146,
          2261.405714285714,
          27.411428571428587,
          395.32857142857165,
          424.63428571428585,
          -999.9200000000001,
          -633.0828571428574,
          -1259.8342857142857,
          -222.64857142857136,
          1529.8371428571427,
          -144.48000000000002,
          -2499.6400000000003,
          12.322857142857174,
          -25.854285714285652,
          -652.1914285714283,
          287.5742857142859,
          2082.785714285714,
          103.82000000000016,
          -639.7828571428572,
          1209.7057142857143,
          1995.4628571428573,
          -1314.5742857142855,
          -400.5,
          559.2542857142857,
          98.76000000000022,
          -1259.6371428571429,
          1787.3200000000002,
          2280.78,
          -79.09428571428589,
          -36.93714285714259,
          -51.79142857142824,
          -1054.1799999999998,
          121.28857142857123,
          2191.6685714285713,
          2632.4228571428575,
          710.4085714285713,
          724.4142857142856,
          -1610.4485714285715,
          -2055.2171428571432,
          1610.6514285714286,
          -2841.311428571428,
          -347.2828571428572,
          370.6114285714284,
          537.4000000000001,
          581.505714285714,
          1303.1257142857144,
          1699.6514285714286,
          -818.2971428571427,
          787.7028571428573,
          932.0342857142859,
          -1336.9085714285716,
          2660.1085714285714,
          4695.562857142857,
          -1184.0142857142857,
          1821.3142857142857,
          -521.8885714285716,
          2005.7942857142857,
          3399.188571428572,
          2397.7057142857143,
          218.17428571428582,
          -2419.0914285714284,
          894.9342857142856,
          23.5371428571425,
          1532.0714285714287,
          1423.0314285714287,
          1785.965714285714,
          116.04285714285743,
          1072.465714285714,
          -931.2942857142857,
          399.52,
          -70.07999999999993,
          -1674.2428571428572,
          -512.2628571428572,
          -5908.9114285714295,
          811.6914285714286,
          -6216.831428571429,
          1357.9914285714287,
          -3435.1142857142854,
          2185.025714285714,
          -3024.46,
          -532.1571428571428,
          -87.46000000000004,
          1393.1857142857143,
          1915.1742857142858,
          2621.5914285714284,
          2191.017142857143,
          -6363.688571428572,
          -320.7600000000002,
          1052.02,
          1344.8114285714282,
          -2595.777142857143,
          1390.5028571428572,
          -16.539999999999964,
          809.4257142857141,
          1111.1942857142858,
          301.4457142857143,
          -1160.3400000000001,
          614.037142857143,
          -528.5457142857142,
          1401.0085714285713,
          117.05428571428592,
          1454.0828571428572,
          1928.4314285714288,
          -14.700000000000045,
          141.42285714285754,
          671.3542857142859,
          -683.5857142857144,
          1066.5514285714285,
          888.3685714285714,
          -178.7114285714283,
          -511.25428571428574,
          -726.4228571428575,
          -2145.2657142857142,
          -837.1714285714284,
          -1104.1485714285716,
          697.6514285714284,
          1604.637142857143,
          -1227.9828571428573,
          1563.202857142857,
          1268.637142857143,
          371.3828571428569,
          2208.5485714285714,
          -126.62857142857138,
          2509.52,
          -3037.237142857143,
          -539.5485714285714,
          -904.8771428571426,
          1281.662857142857,
          905.2199999999998,
          -728.6399999999999,
          1082.1742857142858,
          -1082.6542857142858,
          680.005714285714,
          -79.78857142857169,
          -29.62285714285713,
          553.54,
          -1655.6028571428574,
          -3023.4085714285716,
          2982.394285714286,
          -158.94571428571408,
          906.2942857142857,
          1760.7199999999998,
          760.6085714285712,
          64.12857142857138,
          -1137.0285714285715,
          -2760.4714285714285,
          361.974285714286,
          1212.782857142857,
          -2196.7771428571427,
          726.262857142857,
          -385.67142857142835,
          -615.4828571428575,
          1337.722857142857,
          -192.29714285714272,
          2047.4914285714285,
          -245.79999999999995,
          -177.69714285714258,
          2471.8885714285716,
          3625.725714285714,
          62.677142857142826,
          1694.0285714285712,
          871.3285714285715,
          1529.8314285714287,
          324,
          -2210.6771428571433,
          830.6085714285714,
          753.54,
          473.07142857142844,
          -1711.0542857142857,
          -643.5085714285715,
          -503.44857142857154,
          -1527.1171428571429,
          532.7857142857142,
          -728.2571428571428,
          1251.994285714286,
          -1925.2457142857143,
          945.0371428571427,
          575.8999999999996,
          -163.65142857142837,
          3007.0057142857145,
          -531.3485714285716,
          554.4628571428573,
          3525.3742857142856,
          3594.2514285714287,
          2440.865714285714,
          -2460.6971428571433,
          -750.9000000000001,
          130.43428571428558,
          -6655.185714285713,
          781.0742857142859,
          2607.594285714286,
          -635.5685714285714,
          -3061.44,
          -681.4542857142856,
          437.19714285714304,
          -610.034285714285,
          -2143.8714285714286,
          -1025.0828571428574,
          295.40285714285756,
          -7523.482857142857,
          1782.8485714285714,
          -609.9514285714286,
          954.202857142857,
          565.1257142857144,
          -328.4914285714285,
          3164.7799999999997,
          653.2314285714285,
          1704.0628571428572,
          -477.57714285714246,
          -1173.6599999999999,
          660.525714285714,
          -639.7571428571428,
          -934.3428571428572,
          -1716.4714285714285,
          908.762857142857,
          1664.702857142857,
          920.8685714285714,
          120.23428571428576,
          61.039999999999964,
          -3067.8142857142852,
          -425.34571428571417,
          -112.7314285714283,
          612.6542857142858,
          -4486.737142857143,
          1428.12,
          -6624.40857142857,
          -1290.76,
          -95.64571428571435,
          -1863.0371428571425,
          562.6714285714286,
          2574.1828571428573,
          1458.342857142857,
          2964.6285714285714,
          -2653.311428571428,
          1442.6914285714286,
          555.8714285714286,
          752.6057142857144,
          1100.0685714285714,
          473.5942857142859,
          -2743.937142857143,
          -3443.3714285714286,
          1433.4914285714285,
          172.46285714285705,
          -3684.9057142857146,
          -1907.8942857142858,
          -258.1971428571428,
          2697.0085714285715,
          4844.0828571428565,
          784.5514285714285,
          -1080.3914285714284,
          249.0628571428574,
          -517.005714285714,
          1741.797142857143,
          -111.14285714285688,
          -2870.282857142857,
          -1939.4857142857145,
          -282.5,
          613.1857142857143,
          -741.2714285714283,
          452.34285714285716,
          308.91714285714284,
          1210.525714285714,
          896.1542857142858,
          2177.171428571429,
          1187.0657142857144,
          2553.6685714285713,
          567.3628571428569,
          311.6857142857143,
          -4006.4714285714285,
          2129.1057142857144,
          1952.8514285714286,
          -266.3971428571426,
          -1557.8571428571431,
          -1123.9971428571425,
          -2044.2399999999998,
          2080.4628571428575,
          1734.297142857143,
          1909.9285714285716,
          298.3628571428569,
          276.76571428571424,
          2067.282857142857,
          1536.642857142857,
          -622.2714285714283,
          1811.934285714286,
          624.0857142857144,
          -2584.84,
          700.1485714285714,
          -3921.9685714285715,
          -3166.7257142857147,
          204.05714285714294,
          -3699.7057142857147,
          282.2742857142857,
          -397.61428571428587,
          -116.03428571428572,
          2212.56,
          8.32857142857165,
          135.737142857143,
          -510.05999999999995,
          -1410.8085714285717,
          -316.2114285714283,
          -91.73428571428576,
          -862.7742857142857,
          1760.5771428571427,
          -2163.7542857142853,
          -569.2285714285717,
          -2113.1914285714283,
          -372.83142857142866,
          -3141.237142857143,
          886.1000000000004,
          -516.997142857143,
          1160.242857142857,
          558.9885714285713,
          -641.4914285714285,
          642.3628571428569,
          -547.9114285714284,
          386.0857142857142,
          -2186.351428571428,
          291.3971428571426,
          204.56571428571442,
          293.5514285714287,
          -2132.5257142857145,
          801.3057142857142,
          -1118.082857142857,
          -724.4228571428575,
          1045.197142857143,
          614.7314285714283,
          -2645.811428571428,
          1646.8114285714282,
          1139.3971428571429,
          -506.3942857142856,
          -858.5285714285715,
          -2330.5485714285714,
          844.6885714285718,
          527.6057142857144,
          2865.1028571428574,
          427.9171428571426,
          -2920.897142857143,
          -60.97714285714255,
          -28.94857142857154,
          1694.1885714285715,
          -19.865714285714148,
          -1195.3228571428574,
          -3257.6,
          1259.0028571428572,
          -224.49428571428575,
          -2445.4714285714285,
          1401.9771428571428,
          2509.2228571428573,
          132.9685714285713,
          881.54,
          198.4000000000001,
          19.179999999999836,
          -157.5885714285714,
          814.6885714285715,
          1241.6342857142859,
          1949.2114285714285,
          1860.8457142857142,
          -262.1199999999999,
          -385.9342857142856,
          -1511.7685714285717,
          2462.2085714285713,
          -853.1514285714284,
          1171.6085714285714,
          368.7971428571427,
          2167.0885714285714,
          1775.3828571428571,
          1772,
          -1028.5057142857145,
          2095.46,
          116.14571428571435,
          25.788571428571686,
          -482.8228571428574,
          1742.2542857142857,
          -310.8399999999999,
          344.11428571428587,
          -283.83142857142866,
          108.64285714285734,
          1933.157142857143,
          2738.1542857142854,
          -463.77142857142826,
          -786.6657142857143,
          -1039.46,
          453.02857142857147,
          418.9571428571428,
          -72.39714285714285,
          -980.4628571428573,
          2257.6942857142853,
          3474.6257142857144,
          -852.9257142857145,
          293.5,
          -1788.6399999999999,
          787.8600000000001,
          885.985714285714,
          415.17142857142835,
          642.8457142857142,
          -1631.1285714285716,
          2391.368571428571,
          -3121.2857142857147,
          396.4685714285715,
          -587.6142857142859,
          -676.525714285714,
          1341.9542857142856,
          2736.6971428571433,
          295.1942857142858,
          929.1228571428571,
          1583.5371428571427,
          -507.52857142857147,
          -7.151428571428369,
          -227.27428571428572,
          -3657.9085714285716,
          -2146.62,
          1375.4228571428573,
          -3525.9457142857145,
          -666,
          -6424.32,
          1125.1714285714286,
          -404.07714285714246,
          -342.8457142857151,
          -1329.9114285714284,
          -21.21428571428578,
          1629.1,
          856.0542857142859,
          -2734.1,
          -2535.442857142857,
          -880.6971428571428,
          123.01999999999998,
          612.2457142857143,
          -2855.6742857142854,
          -1591.437142857143,
          589.5457142857144,
          -1796.1857142857143,
          2771.405714285714,
          3799.4571428571435,
          318.7114285714283,
          520.5457142857144,
          1041.3857142857141,
          820.5342857142859,
          570.7171428571428,
          951.7942857142857,
          -359.6028571428574,
          -538.9314285714283,
          -770.3114285714282,
          -155.5,
          1489.7685714285717,
          1574.331428571429,
          -214.77428571428572,
          -208.77999999999997,
          -3286.3085714285717,
          -694.9057142857141,
          -946.3685714285716,
          -6860.614285714286,
          958.1485714285711,
          4893.782857142857,
          -626.96,
          -8085.75142857143,
          283.85142857142864,
          2050.6714285714284,
          688.8628571428571,
          -1064.6028571428574,
          534.4771428571428,
          691.6085714285715,
          -154.84571428571417,
          -451.35428571428565,
          -367.64285714285734,
          503.3000000000002,
          67.32571428571418,
          2885.52,
          2056.0200000000004,
          -953.4685714285715,
          1889.8942857142856,
          914.3285714285714,
          -161.7199999999998,
          -162.28857142857146,
          2212.7885714285717,
          749.717142857143,
          -127.12285714285736,
          243.67428571428582,
          -208.6400000000001,
          202.90285714285756,
          -531.4571428571426,
          680.7714285714283,
          2059.98,
          -5086.308571428571,
          257.98,
          -2174.8,
          539.2171428571428,
          472.5571428571425,
          2126.8314285714287,
          1282.474285714286,
          -841.6314285714284,
          881.0714285714287,
          1841.6799999999998,
          526.0085714285713,
          214.07999999999993,
          645.3285714285714,
          382.47142857142853,
          1974.197142857143,
          -590.5514285714287,
          1404.0228571428574,
          3585.1914285714283,
          417.4200000000001,
          -397.7199999999998,
          -635.994285714286,
          2484.4542857142856,
          177.2914285714287,
          -1250.8942857142858,
          304.3914285714286,
          -1573.9514285714286,
          2291.042857142857,
          2827.217142857143
         ],
         "xaxis": "x",
         "yaxis": "y"
        }
       ],
       "layout": {
        "annotations": [
         {
          "showarrow": false,
          "text": "Observed Test Statistic",
          "x": 2830.517142857143,
          "xanchor": "left",
          "xref": "x",
          "y": 1,
          "yanchor": "top",
          "yref": "y domain"
         }
        ],
        "barmode": "relative",
        "legend": {
         "title": {
          "text": "variable"
         },
         "tracegroupgap": 0
        },
        "margin": {
         "t": 60
        },
        "shapes": [
         {
          "line": {
           "color": "red",
           "dash": "dash",
           "width": 3
          },
          "type": "line",
          "x0": 2830.517142857143,
          "x1": 2830.517142857143,
          "xref": "x",
          "y0": 0,
          "y1": 1,
          "yref": "y domain"
         }
        ],
        "template": {
         "data": {
          "bar": [
           {
            "error_x": {
             "color": "#2a3f5f"
            },
            "error_y": {
             "color": "#2a3f5f"
            },
            "marker": {
             "line": {
              "color": "#E5ECF6",
              "width": 0.5
             },
             "pattern": {
              "fillmode": "overlay",
              "size": 10,
              "solidity": 0.2
             }
            },
            "type": "bar"
           }
          ],
          "barpolar": [
           {
            "marker": {
             "line": {
              "color": "#E5ECF6",
              "width": 0.5
             },
             "pattern": {
              "fillmode": "overlay",
              "size": 10,
              "solidity": 0.2
             }
            },
            "type": "barpolar"
           }
          ],
          "carpet": [
           {
            "aaxis": {
             "endlinecolor": "#2a3f5f",
             "gridcolor": "white",
             "linecolor": "white",
             "minorgridcolor": "white",
             "startlinecolor": "#2a3f5f"
            },
            "baxis": {
             "endlinecolor": "#2a3f5f",
             "gridcolor": "white",
             "linecolor": "white",
             "minorgridcolor": "white",
             "startlinecolor": "#2a3f5f"
            },
            "type": "carpet"
           }
          ],
          "choropleth": [
           {
            "colorbar": {
             "outlinewidth": 0,
             "ticks": ""
            },
            "type": "choropleth"
           }
          ],
          "contour": [
           {
            "colorbar": {
             "outlinewidth": 0,
             "ticks": ""
            },
            "colorscale": [
             [
              0,
              "#0d0887"
             ],
             [
              0.1111111111111111,
              "#46039f"
             ],
             [
              0.2222222222222222,
              "#7201a8"
             ],
             [
              0.3333333333333333,
              "#9c179e"
             ],
             [
              0.4444444444444444,
              "#bd3786"
             ],
             [
              0.5555555555555556,
              "#d8576b"
             ],
             [
              0.6666666666666666,
              "#ed7953"
             ],
             [
              0.7777777777777778,
              "#fb9f3a"
             ],
             [
              0.8888888888888888,
              "#fdca26"
             ],
             [
              1,
              "#f0f921"
             ]
            ],
            "type": "contour"
           }
          ],
          "contourcarpet": [
           {
            "colorbar": {
             "outlinewidth": 0,
             "ticks": ""
            },
            "type": "contourcarpet"
           }
          ],
          "heatmap": [
           {
            "colorbar": {
             "outlinewidth": 0,
             "ticks": ""
            },
            "colorscale": [
             [
              0,
              "#0d0887"
             ],
             [
              0.1111111111111111,
              "#46039f"
             ],
             [
              0.2222222222222222,
              "#7201a8"
             ],
             [
              0.3333333333333333,
              "#9c179e"
             ],
             [
              0.4444444444444444,
              "#bd3786"
             ],
             [
              0.5555555555555556,
              "#d8576b"
             ],
             [
              0.6666666666666666,
              "#ed7953"
             ],
             [
              0.7777777777777778,
              "#fb9f3a"
             ],
             [
              0.8888888888888888,
              "#fdca26"
             ],
             [
              1,
              "#f0f921"
             ]
            ],
            "type": "heatmap"
           }
          ],
          "heatmapgl": [
           {
            "colorbar": {
             "outlinewidth": 0,
             "ticks": ""
            },
            "colorscale": [
             [
              0,
              "#0d0887"
             ],
             [
              0.1111111111111111,
              "#46039f"
             ],
             [
              0.2222222222222222,
              "#7201a8"
             ],
             [
              0.3333333333333333,
              "#9c179e"
             ],
             [
              0.4444444444444444,
              "#bd3786"
             ],
             [
              0.5555555555555556,
              "#d8576b"
             ],
             [
              0.6666666666666666,
              "#ed7953"
             ],
             [
              0.7777777777777778,
              "#fb9f3a"
             ],
             [
              0.8888888888888888,
              "#fdca26"
             ],
             [
              1,
              "#f0f921"
             ]
            ],
            "type": "heatmapgl"
           }
          ],
          "histogram": [
           {
            "marker": {
             "pattern": {
              "fillmode": "overlay",
              "size": 10,
              "solidity": 0.2
             }
            },
            "type": "histogram"
           }
          ],
          "histogram2d": [
           {
            "colorbar": {
             "outlinewidth": 0,
             "ticks": ""
            },
            "colorscale": [
             [
              0,
              "#0d0887"
             ],
             [
              0.1111111111111111,
              "#46039f"
             ],
             [
              0.2222222222222222,
              "#7201a8"
             ],
             [
              0.3333333333333333,
              "#9c179e"
             ],
             [
              0.4444444444444444,
              "#bd3786"
             ],
             [
              0.5555555555555556,
              "#d8576b"
             ],
             [
              0.6666666666666666,
              "#ed7953"
             ],
             [
              0.7777777777777778,
              "#fb9f3a"
             ],
             [
              0.8888888888888888,
              "#fdca26"
             ],
             [
              1,
              "#f0f921"
             ]
            ],
            "type": "histogram2d"
           }
          ],
          "histogram2dcontour": [
           {
            "colorbar": {
             "outlinewidth": 0,
             "ticks": ""
            },
            "colorscale": [
             [
              0,
              "#0d0887"
             ],
             [
              0.1111111111111111,
              "#46039f"
             ],
             [
              0.2222222222222222,
              "#7201a8"
             ],
             [
              0.3333333333333333,
              "#9c179e"
             ],
             [
              0.4444444444444444,
              "#bd3786"
             ],
             [
              0.5555555555555556,
              "#d8576b"
             ],
             [
              0.6666666666666666,
              "#ed7953"
             ],
             [
              0.7777777777777778,
              "#fb9f3a"
             ],
             [
              0.8888888888888888,
              "#fdca26"
             ],
             [
              1,
              "#f0f921"
             ]
            ],
            "type": "histogram2dcontour"
           }
          ],
          "mesh3d": [
           {
            "colorbar": {
             "outlinewidth": 0,
             "ticks": ""
            },
            "type": "mesh3d"
           }
          ],
          "parcoords": [
           {
            "line": {
             "colorbar": {
              "outlinewidth": 0,
              "ticks": ""
             }
            },
            "type": "parcoords"
           }
          ],
          "pie": [
           {
            "automargin": true,
            "type": "pie"
           }
          ],
          "scatter": [
           {
            "fillpattern": {
             "fillmode": "overlay",
             "size": 10,
             "solidity": 0.2
            },
            "type": "scatter"
           }
          ],
          "scatter3d": [
           {
            "line": {
             "colorbar": {
              "outlinewidth": 0,
              "ticks": ""
             }
            },
            "marker": {
             "colorbar": {
              "outlinewidth": 0,
              "ticks": ""
             }
            },
            "type": "scatter3d"
           }
          ],
          "scattercarpet": [
           {
            "marker": {
             "colorbar": {
              "outlinewidth": 0,
              "ticks": ""
             }
            },
            "type": "scattercarpet"
           }
          ],
          "scattergeo": [
           {
            "marker": {
             "colorbar": {
              "outlinewidth": 0,
              "ticks": ""
             }
            },
            "type": "scattergeo"
           }
          ],
          "scattergl": [
           {
            "marker": {
             "colorbar": {
              "outlinewidth": 0,
              "ticks": ""
             }
            },
            "type": "scattergl"
           }
          ],
          "scattermapbox": [
           {
            "marker": {
             "colorbar": {
              "outlinewidth": 0,
              "ticks": ""
             }
            },
            "type": "scattermapbox"
           }
          ],
          "scatterpolar": [
           {
            "marker": {
             "colorbar": {
              "outlinewidth": 0,
              "ticks": ""
             }
            },
            "type": "scatterpolar"
           }
          ],
          "scatterpolargl": [
           {
            "marker": {
             "colorbar": {
              "outlinewidth": 0,
              "ticks": ""
             }
            },
            "type": "scatterpolargl"
           }
          ],
          "scatterternary": [
           {
            "marker": {
             "colorbar": {
              "outlinewidth": 0,
              "ticks": ""
             }
            },
            "type": "scatterternary"
           }
          ],
          "surface": [
           {
            "colorbar": {
             "outlinewidth": 0,
             "ticks": ""
            },
            "colorscale": [
             [
              0,
              "#0d0887"
             ],
             [
              0.1111111111111111,
              "#46039f"
             ],
             [
              0.2222222222222222,
              "#7201a8"
             ],
             [
              0.3333333333333333,
              "#9c179e"
             ],
             [
              0.4444444444444444,
              "#bd3786"
             ],
             [
              0.5555555555555556,
              "#d8576b"
             ],
             [
              0.6666666666666666,
              "#ed7953"
             ],
             [
              0.7777777777777778,
              "#fb9f3a"
             ],
             [
              0.8888888888888888,
              "#fdca26"
             ],
             [
              1,
              "#f0f921"
             ]
            ],
            "type": "surface"
           }
          ],
          "table": [
           {
            "cells": {
             "fill": {
              "color": "#EBF0F8"
             },
             "line": {
              "color": "white"
             }
            },
            "header": {
             "fill": {
              "color": "#C8D4E3"
             },
             "line": {
              "color": "white"
             }
            },
            "type": "table"
           }
          ]
         },
         "layout": {
          "annotationdefaults": {
           "arrowcolor": "#2a3f5f",
           "arrowhead": 0,
           "arrowwidth": 1
          },
          "autotypenumbers": "strict",
          "coloraxis": {
           "colorbar": {
            "outlinewidth": 0,
            "ticks": ""
           }
          },
          "colorscale": {
           "diverging": [
            [
             0,
             "#8e0152"
            ],
            [
             0.1,
             "#c51b7d"
            ],
            [
             0.2,
             "#de77ae"
            ],
            [
             0.3,
             "#f1b6da"
            ],
            [
             0.4,
             "#fde0ef"
            ],
            [
             0.5,
             "#f7f7f7"
            ],
            [
             0.6,
             "#e6f5d0"
            ],
            [
             0.7,
             "#b8e186"
            ],
            [
             0.8,
             "#7fbc41"
            ],
            [
             0.9,
             "#4d9221"
            ],
            [
             1,
             "#276419"
            ]
           ],
           "sequential": [
            [
             0,
             "#0d0887"
            ],
            [
             0.1111111111111111,
             "#46039f"
            ],
            [
             0.2222222222222222,
             "#7201a8"
            ],
            [
             0.3333333333333333,
             "#9c179e"
            ],
            [
             0.4444444444444444,
             "#bd3786"
            ],
            [
             0.5555555555555556,
             "#d8576b"
            ],
            [
             0.6666666666666666,
             "#ed7953"
            ],
            [
             0.7777777777777778,
             "#fb9f3a"
            ],
            [
             0.8888888888888888,
             "#fdca26"
            ],
            [
             1,
             "#f0f921"
            ]
           ],
           "sequentialminus": [
            [
             0,
             "#0d0887"
            ],
            [
             0.1111111111111111,
             "#46039f"
            ],
            [
             0.2222222222222222,
             "#7201a8"
            ],
            [
             0.3333333333333333,
             "#9c179e"
            ],
            [
             0.4444444444444444,
             "#bd3786"
            ],
            [
             0.5555555555555556,
             "#d8576b"
            ],
            [
             0.6666666666666666,
             "#ed7953"
            ],
            [
             0.7777777777777778,
             "#fb9f3a"
            ],
            [
             0.8888888888888888,
             "#fdca26"
            ],
            [
             1,
             "#f0f921"
            ]
           ]
          },
          "colorway": [
           "#636efa",
           "#EF553B",
           "#00cc96",
           "#ab63fa",
           "#FFA15A",
           "#19d3f3",
           "#FF6692",
           "#B6E880",
           "#FF97FF",
           "#FECB52"
          ],
          "font": {
           "color": "#2a3f5f"
          },
          "geo": {
           "bgcolor": "white",
           "lakecolor": "white",
           "landcolor": "#E5ECF6",
           "showlakes": true,
           "showland": true,
           "subunitcolor": "white"
          },
          "hoverlabel": {
           "align": "left"
          },
          "hovermode": "closest",
          "mapbox": {
           "style": "light"
          },
          "paper_bgcolor": "white",
          "plot_bgcolor": "#E5ECF6",
          "polar": {
           "angularaxis": {
            "gridcolor": "white",
            "linecolor": "white",
            "ticks": ""
           },
           "bgcolor": "#E5ECF6",
           "radialaxis": {
            "gridcolor": "white",
            "linecolor": "white",
            "ticks": ""
           }
          },
          "scene": {
           "xaxis": {
            "backgroundcolor": "#E5ECF6",
            "gridcolor": "white",
            "gridwidth": 2,
            "linecolor": "white",
            "showbackground": true,
            "ticks": "",
            "zerolinecolor": "white"
           },
           "yaxis": {
            "backgroundcolor": "#E5ECF6",
            "gridcolor": "white",
            "gridwidth": 2,
            "linecolor": "white",
            "showbackground": true,
            "ticks": "",
            "zerolinecolor": "white"
           },
           "zaxis": {
            "backgroundcolor": "#E5ECF6",
            "gridcolor": "white",
            "gridwidth": 2,
            "linecolor": "white",
            "showbackground": true,
            "ticks": "",
            "zerolinecolor": "white"
           }
          },
          "shapedefaults": {
           "line": {
            "color": "#2a3f5f"
           }
          },
          "ternary": {
           "aaxis": {
            "gridcolor": "white",
            "linecolor": "white",
            "ticks": ""
           },
           "baxis": {
            "gridcolor": "white",
            "linecolor": "white",
            "ticks": ""
           },
           "bgcolor": "#E5ECF6",
           "caxis": {
            "gridcolor": "white",
            "linecolor": "white",
            "ticks": ""
           }
          },
          "title": {
           "x": 0.05
          },
          "xaxis": {
           "automargin": true,
           "gridcolor": "white",
           "linecolor": "white",
           "ticks": "",
           "title": {
            "standoff": 15
           },
           "zerolinecolor": "white",
           "zerolinewidth": 2
          },
          "yaxis": {
           "automargin": true,
           "gridcolor": "white",
           "linecolor": "white",
           "ticks": "",
           "title": {
            "standoff": 15
           },
           "zerolinecolor": "white",
           "zerolinewidth": 2
          }
         }
        },
        "xaxis": {
         "anchor": "y",
         "domain": [
          0,
          1
         ],
         "title": {
          "text": "value"
         }
        },
        "yaxis": {
         "anchor": "x",
         "domain": [
          0,
          1
         ],
         "title": {
          "text": "count"
         }
        }
       }
      }
     },
     "metadata": {},
     "output_type": "display_data"
    }
   ],
   "source": [
    "perm_viz = pd.DataFrame({'Test Statistic': perm_stats})\n",
    "fig2 = px.histogram(perm_viz)\n",
    "fig2.add_vline(x=observed_test_stat, line_width=3, line_dash='dash', line_color='red', annotation_text='Observed Test Statistic')\n",
    "fig2.show()"
   ]
  },
  {
   "cell_type": "markdown",
   "metadata": {},
   "source": [
    "## Step 5: Framing a Prediction Problem"
   ]
  },
  {
   "cell_type": "markdown",
   "metadata": {},
   "source": [
    "We want to predict the duration of a power outage. After the analyses we performed above, we feel the most relevant features for creating a model on would be `'U.S._STATE'`, `'NERC.REGION'`, `'CAUSE.CATEGORY'`, and `'PC.REALGSP.REL'`. "
   ]
  },
  {
   "cell_type": "code",
   "execution_count": 188,
   "metadata": {
    "ExecuteTime": {
     "end_time": "2019-10-31T23:36:28.657068Z",
     "start_time": "2019-10-31T23:36:28.654650Z"
    }
   },
   "outputs": [
    {
     "data": {
      "text/html": [
       "<div>\n",
       "<style scoped>\n",
       "    .dataframe tbody tr th:only-of-type {\n",
       "        vertical-align: middle;\n",
       "    }\n",
       "\n",
       "    .dataframe tbody tr th {\n",
       "        vertical-align: top;\n",
       "    }\n",
       "\n",
       "    .dataframe thead th {\n",
       "        text-align: right;\n",
       "    }\n",
       "</style>\n",
       "<table border=\"1\" class=\"dataframe\">\n",
       "  <thead>\n",
       "    <tr style=\"text-align: right;\">\n",
       "      <th></th>\n",
       "      <th>U.S._STATE</th>\n",
       "      <th>NERC.REGION</th>\n",
       "      <th>CLIMATE.REGION</th>\n",
       "      <th>CAUSE.CATEGORY</th>\n",
       "      <th>OUTAGE.DURATION</th>\n",
       "      <th>RES.PERCEN</th>\n",
       "      <th>COM.PERCEN</th>\n",
       "      <th>IND.PERCEN</th>\n",
       "      <th>PC.REALGSP.REL</th>\n",
       "      <th>POPPCT_URBAN</th>\n",
       "      <th>OUTAGE.START</th>\n",
       "      <th>OUTAGE.RESTORATION</th>\n",
       "    </tr>\n",
       "  </thead>\n",
       "  <tbody>\n",
       "    <tr>\n",
       "      <th>1</th>\n",
       "      <td>Minnesota</td>\n",
       "      <td>MRO</td>\n",
       "      <td>East North Central</td>\n",
       "      <td>severe weather</td>\n",
       "      <td>3060.0</td>\n",
       "      <td>35.549073</td>\n",
       "      <td>32.225029</td>\n",
       "      <td>32.202431</td>\n",
       "      <td>1.077376</td>\n",
       "      <td>73.27</td>\n",
       "      <td>2011-07-01 17:00:00</td>\n",
       "      <td>2011-07-03 20:00:00</td>\n",
       "    </tr>\n",
       "    <tr>\n",
       "      <th>2</th>\n",
       "      <td>Minnesota</td>\n",
       "      <td>MRO</td>\n",
       "      <td>East North Central</td>\n",
       "      <td>intentional attack</td>\n",
       "      <td>1.0</td>\n",
       "      <td>30.032487</td>\n",
       "      <td>34.210389</td>\n",
       "      <td>35.727564</td>\n",
       "      <td>1.089792</td>\n",
       "      <td>73.27</td>\n",
       "      <td>2014-05-11 18:38:00</td>\n",
       "      <td>2014-05-11 18:39:00</td>\n",
       "    </tr>\n",
       "    <tr>\n",
       "      <th>3</th>\n",
       "      <td>Minnesota</td>\n",
       "      <td>MRO</td>\n",
       "      <td>East North Central</td>\n",
       "      <td>severe weather</td>\n",
       "      <td>3000.0</td>\n",
       "      <td>28.097672</td>\n",
       "      <td>34.501015</td>\n",
       "      <td>37.365983</td>\n",
       "      <td>1.066826</td>\n",
       "      <td>73.27</td>\n",
       "      <td>2010-10-26 20:00:00</td>\n",
       "      <td>2010-10-28 22:00:00</td>\n",
       "    </tr>\n",
       "    <tr>\n",
       "      <th>4</th>\n",
       "      <td>Minnesota</td>\n",
       "      <td>MRO</td>\n",
       "      <td>East North Central</td>\n",
       "      <td>severe weather</td>\n",
       "      <td>2550.0</td>\n",
       "      <td>31.994099</td>\n",
       "      <td>33.543330</td>\n",
       "      <td>34.439329</td>\n",
       "      <td>1.071476</td>\n",
       "      <td>73.27</td>\n",
       "      <td>2012-06-19 04:30:00</td>\n",
       "      <td>2012-06-20 23:00:00</td>\n",
       "    </tr>\n",
       "    <tr>\n",
       "      <th>5</th>\n",
       "      <td>Minnesota</td>\n",
       "      <td>MRO</td>\n",
       "      <td>East North Central</td>\n",
       "      <td>severe weather</td>\n",
       "      <td>1740.0</td>\n",
       "      <td>33.982576</td>\n",
       "      <td>36.205850</td>\n",
       "      <td>29.779498</td>\n",
       "      <td>1.092027</td>\n",
       "      <td>73.27</td>\n",
       "      <td>2015-07-18 02:00:00</td>\n",
       "      <td>2015-07-19 07:00:00</td>\n",
       "    </tr>\n",
       "    <tr>\n",
       "      <th>6</th>\n",
       "      <td>Minnesota</td>\n",
       "      <td>MRO</td>\n",
       "      <td>East North Central</td>\n",
       "      <td>severe weather</td>\n",
       "      <td>1860.0</td>\n",
       "      <td>31.192784</td>\n",
       "      <td>33.235842</td>\n",
       "      <td>35.538160</td>\n",
       "      <td>1.066826</td>\n",
       "      <td>73.27</td>\n",
       "      <td>2010-11-13 15:00:00</td>\n",
       "      <td>2010-11-14 22:00:00</td>\n",
       "    </tr>\n",
       "    <tr>\n",
       "      <th>7</th>\n",
       "      <td>Minnesota</td>\n",
       "      <td>MRO</td>\n",
       "      <td>East North Central</td>\n",
       "      <td>severe weather</td>\n",
       "      <td>2970.0</td>\n",
       "      <td>34.314656</td>\n",
       "      <td>32.954501</td>\n",
       "      <td>32.701651</td>\n",
       "      <td>1.066826</td>\n",
       "      <td>73.27</td>\n",
       "      <td>2010-07-17 20:30:00</td>\n",
       "      <td>2010-07-19 22:00:00</td>\n",
       "    </tr>\n",
       "    <tr>\n",
       "      <th>8</th>\n",
       "      <td>Minnesota</td>\n",
       "      <td>MRO</td>\n",
       "      <td>East North Central</td>\n",
       "      <td>severe weather</td>\n",
       "      <td>3960.0</td>\n",
       "      <td>33.586173</td>\n",
       "      <td>34.515286</td>\n",
       "      <td>31.861839</td>\n",
       "      <td>1.090559</td>\n",
       "      <td>73.27</td>\n",
       "      <td>2005-06-08 04:00:00</td>\n",
       "      <td>2005-06-10 22:00:00</td>\n",
       "    </tr>\n",
       "    <tr>\n",
       "      <th>9</th>\n",
       "      <td>Minnesota</td>\n",
       "      <td>MRO</td>\n",
       "      <td>East North Central</td>\n",
       "      <td>intentional attack</td>\n",
       "      <td>155.0</td>\n",
       "      <td>32.936916</td>\n",
       "      <td>34.947243</td>\n",
       "      <td>32.071962</td>\n",
       "      <td>1.092027</td>\n",
       "      <td>73.27</td>\n",
       "      <td>2015-03-16 07:31:00</td>\n",
       "      <td>2015-03-16 10:06:00</td>\n",
       "    </tr>\n",
       "    <tr>\n",
       "      <th>10</th>\n",
       "      <td>Minnesota</td>\n",
       "      <td>MRO</td>\n",
       "      <td>East North Central</td>\n",
       "      <td>severe weather</td>\n",
       "      <td>3621.0</td>\n",
       "      <td>30.754553</td>\n",
       "      <td>34.515140</td>\n",
       "      <td>34.702296</td>\n",
       "      <td>1.084366</td>\n",
       "      <td>73.27</td>\n",
       "      <td>2013-06-21 17:39:00</td>\n",
       "      <td>2013-06-24 06:00:00</td>\n",
       "    </tr>\n",
       "  </tbody>\n",
       "</table>\n",
       "</div>"
      ],
      "text/plain": [
       "   U.S._STATE NERC.REGION      CLIMATE.REGION      CAUSE.CATEGORY  \\\n",
       "1   Minnesota         MRO  East North Central      severe weather   \n",
       "2   Minnesota         MRO  East North Central  intentional attack   \n",
       "3   Minnesota         MRO  East North Central      severe weather   \n",
       "4   Minnesota         MRO  East North Central      severe weather   \n",
       "5   Minnesota         MRO  East North Central      severe weather   \n",
       "6   Minnesota         MRO  East North Central      severe weather   \n",
       "7   Minnesota         MRO  East North Central      severe weather   \n",
       "8   Minnesota         MRO  East North Central      severe weather   \n",
       "9   Minnesota         MRO  East North Central  intentional attack   \n",
       "10  Minnesota         MRO  East North Central      severe weather   \n",
       "\n",
       "    OUTAGE.DURATION  RES.PERCEN  COM.PERCEN  IND.PERCEN PC.REALGSP.REL  \\\n",
       "1            3060.0   35.549073   32.225029   32.202431       1.077376   \n",
       "2               1.0   30.032487   34.210389   35.727564       1.089792   \n",
       "3            3000.0   28.097672   34.501015   37.365983       1.066826   \n",
       "4            2550.0   31.994099   33.543330   34.439329       1.071476   \n",
       "5            1740.0   33.982576   36.205850   29.779498       1.092027   \n",
       "6            1860.0   31.192784   33.235842   35.538160       1.066826   \n",
       "7            2970.0   34.314656   32.954501   32.701651       1.066826   \n",
       "8            3960.0   33.586173   34.515286   31.861839       1.090559   \n",
       "9             155.0   32.936916   34.947243   32.071962       1.092027   \n",
       "10           3621.0   30.754553   34.515140   34.702296       1.084366   \n",
       "\n",
       "   POPPCT_URBAN        OUTAGE.START  OUTAGE.RESTORATION  \n",
       "1         73.27 2011-07-01 17:00:00 2011-07-03 20:00:00  \n",
       "2         73.27 2014-05-11 18:38:00 2014-05-11 18:39:00  \n",
       "3         73.27 2010-10-26 20:00:00 2010-10-28 22:00:00  \n",
       "4         73.27 2012-06-19 04:30:00 2012-06-20 23:00:00  \n",
       "5         73.27 2015-07-18 02:00:00 2015-07-19 07:00:00  \n",
       "6         73.27 2010-11-13 15:00:00 2010-11-14 22:00:00  \n",
       "7         73.27 2010-07-17 20:30:00 2010-07-19 22:00:00  \n",
       "8         73.27 2005-06-08 04:00:00 2005-06-10 22:00:00  \n",
       "9         73.27 2015-03-16 07:31:00 2015-03-16 10:06:00  \n",
       "10        73.27 2013-06-21 17:39:00 2013-06-24 06:00:00  "
      ]
     },
     "execution_count": 188,
     "metadata": {},
     "output_type": "execute_result"
    }
   ],
   "source": [
    "df.head(10)"
   ]
  },
  {
   "cell_type": "markdown",
   "metadata": {},
   "source": [
    "## Step 6: Baseline Model"
   ]
  },
  {
   "cell_type": "code",
   "execution_count": 156,
   "metadata": {
    "ExecuteTime": {
     "end_time": "2019-10-31T23:36:28.662099Z",
     "start_time": "2019-10-31T23:36:28.660016Z"
    }
   },
   "outputs": [],
   "source": [
    "# TODO"
   ]
  },
  {
   "cell_type": "markdown",
   "metadata": {},
   "source": [
    "## Step 7: Final Model"
   ]
  },
  {
   "cell_type": "code",
   "execution_count": 157,
   "metadata": {
    "ExecuteTime": {
     "end_time": "2019-10-31T23:36:28.662099Z",
     "start_time": "2019-10-31T23:36:28.660016Z"
    }
   },
   "outputs": [],
   "source": [
    "# TODO"
   ]
  },
  {
   "cell_type": "markdown",
   "metadata": {},
   "source": [
    "## Step 8: Fairness Analysis"
   ]
  },
  {
   "cell_type": "code",
   "execution_count": 158,
   "metadata": {
    "ExecuteTime": {
     "end_time": "2019-10-31T23:36:28.666489Z",
     "start_time": "2019-10-31T23:36:28.664381Z"
    }
   },
   "outputs": [],
   "source": [
    "# TODO"
   ]
  }
 ],
 "metadata": {
  "kernelspec": {
   "display_name": "Python 3 (ipykernel)",
   "language": "python",
   "name": "python3"
  },
  "language_info": {
   "codemirror_mode": {
    "name": "ipython",
    "version": 3
   },
   "file_extension": ".py",
   "mimetype": "text/x-python",
   "name": "python",
   "nbconvert_exporter": "python",
   "pygments_lexer": "ipython3",
   "version": "3.12.10"
  }
 },
 "nbformat": 4,
 "nbformat_minor": 4
}
